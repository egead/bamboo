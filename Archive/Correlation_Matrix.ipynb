{
 "cells": [
  {
   "cell_type": "markdown",
   "id": "7c77e070-4f87-40a8-b164-b25a8a386e2b",
   "metadata": {},
   "source": [
    "# Correlation Matrix"
   ]
  },
  {
   "cell_type": "code",
   "execution_count": 2,
   "id": "2205a6d7-7b63-4b1c-9b1f-007667ad54cf",
   "metadata": {},
   "outputs": [],
   "source": [
    "import pandas as pd\n",
    "import os \n",
    "from os import walk, mkdir\n",
    "from genericpath import exists\n",
    "import re"
   ]
  },
  {
   "cell_type": "markdown",
   "id": "e1cd6ca3-4bbc-413b-afd3-5742c6f78986",
   "metadata": {},
   "source": [
    "## Extracting the Price Columns "
   ]
  },
  {
   "cell_type": "code",
   "execution_count": 2,
   "id": "8643af04-fd51-42df-85e2-1e4011b9c28d",
   "metadata": {},
   "outputs": [],
   "source": [
    "path_resample=\"/home/ege/Desktop/project/new/Stock_Prices/\""
   ]
  },
  {
   "cell_type": "code",
   "execution_count": 3,
   "id": "ff1f0b02-0528-4840-b49e-31da2faaf237",
   "metadata": {},
   "outputs": [],
   "source": [
    "if not exists(\"/home/ege/Desktop/project/new/Stock_Prices/\"):\n",
    "    mkdir(\"/home/ege/Desktop/project/new/Stock_Prices/\")"
   ]
  },
  {
   "cell_type": "code",
   "execution_count": 4,
   "id": "288cb162-9aff-440a-9960-f77291f8e330",
   "metadata": {},
   "outputs": [],
   "source": [
    "paths = [\n",
    "    \"/home/ege/Desktop/project/new/Resampled_Data/\",\n",
    "    \"/home/ege/Desktop/project/new/Resamp_5Min/\",\n",
    "    \"/home/ege/Desktop/project/new/Resamp_10Mins/\"\n",
    "]"
   ]
  },
  {
   "cell_type": "markdown",
   "id": "2e08cb4b-19f9-4911-8a19-82089253132c",
   "metadata": {},
   "source": [
    "### For 1 Min Time Windows"
   ]
  },
  {
   "cell_type": "code",
   "execution_count": 8,
   "id": "4e23f5d0-07d8-42ca-ace5-97994ed28421",
   "metadata": {},
   "outputs": [],
   "source": [
    "\n",
    "#merge price dataframes in one dataframe and save it \n",
    "#calculate the correlation matrix"
   ]
  },
  {
   "cell_type": "code",
   "execution_count": 18,
   "id": "c825ee2b-8959-4b6e-abf7-fdb73fe4a5d7",
   "metadata": {},
   "outputs": [],
   "source": [
    "day_paths = list()\n",
    "base_path=\"/home/ege/Desktop/project/new/Resampled_Data/{}\"\n",
    "for root, dirs, files in walk(\"/home/ege/Desktop/project/new/001/\"):\n",
    "    for dirr in dirs:\n",
    "        if dirr.startswith('2'):\n",
    "            day_paths.append(dirr)"
   ]
  },
  {
   "cell_type": "code",
   "execution_count": 19,
   "id": "b6feecc4-cb26-4d2b-876e-3d86e1f7ad52",
   "metadata": {},
   "outputs": [
    {
     "data": {
      "text/plain": [
       "['20220420',\n",
       " '20220428',\n",
       " '20220422',\n",
       " '20220425',\n",
       " '20220419',\n",
       " '20220429',\n",
       " '20220421',\n",
       " '20220426',\n",
       " '20220427']"
      ]
     },
     "execution_count": 19,
     "metadata": {},
     "output_type": "execute_result"
    }
   ],
   "source": [
    "day_paths"
   ]
  },
  {
   "cell_type": "code",
   "execution_count": 20,
   "id": "30bc564a-049c-4c30-9042-5886fb2949d8",
   "metadata": {
    "collapsed": true,
    "jupyter": {
     "outputs_hidden": true
    },
    "tags": []
   },
   "outputs": [
    {
     "ename": "FileExistsError",
     "evalue": "[Errno 17] File exists: '/home/ege/Desktop/project/new/Stock_Prices/20220420/'",
     "output_type": "error",
     "traceback": [
      "\u001b[0;31m---------------------------------------------------------------------------\u001b[0m",
      "\u001b[0;31mFileExistsError\u001b[0m                           Traceback (most recent call last)",
      "Input \u001b[0;32mIn [20]\u001b[0m, in \u001b[0;36m<cell line: 1>\u001b[0;34m()\u001b[0m\n\u001b[1;32m      1\u001b[0m \u001b[38;5;28;01mfor\u001b[39;00m day \u001b[38;5;129;01min\u001b[39;00m day_paths:\n\u001b[0;32m----> 2\u001b[0m     \u001b[43mmkdir\u001b[49m\u001b[43m(\u001b[49m\u001b[43mpath_resample\u001b[49m\u001b[38;5;241;43m+\u001b[39;49m\u001b[43mday\u001b[49m\u001b[38;5;241;43m+\u001b[39;49m\u001b[38;5;124;43m\"\u001b[39;49m\u001b[38;5;124;43m/\u001b[39;49m\u001b[38;5;124;43m\"\u001b[39;49m\u001b[43m)\u001b[49m\n",
      "\u001b[0;31mFileExistsError\u001b[0m: [Errno 17] File exists: '/home/ege/Desktop/project/new/Stock_Prices/20220420/'"
     ]
    }
   ],
   "source": [
    "for day in day_paths:\n",
    "    mkdir(path_resample+day+\"/\")"
   ]
  },
  {
   "cell_type": "code",
   "execution_count": 24,
   "id": "15d687bf-e645-44ef-8fff-c629d3101557",
   "metadata": {
    "collapsed": true,
    "jupyter": {
     "outputs_hidden": true
    },
    "tags": []
   },
   "outputs": [
    {
     "name": "stdout",
     "output_type": "stream",
     "text": [
      "20220420\n",
      "/home/ege/Desktop/project/new/Resampled_Data/20220420/SSE_600740.csv\n",
      "SSE_600740.csv\n",
      "/home/ege/Desktop/project/new/Resampled_Data/20220420/SSE_600733.csv\n",
      "SSE_600733.csv\n",
      "/home/ege/Desktop/project/new/Resampled_Data/20220420/SSE_600725.csv\n",
      "SSE_600725.csv\n",
      "/home/ege/Desktop/project/new/Resampled_Data/20220420/SSE_600521.csv\n",
      "SSE_600521.csv\n",
      "/home/ege/Desktop/project/new/Resampled_Data/20220420/SSE_600606.csv\n",
      "SSE_600606.csv\n",
      "/home/ege/Desktop/project/new/Resampled_Data/20220420/SSE_600502.csv\n",
      "SSE_600502.csv\n",
      "/home/ege/Desktop/project/new/Resampled_Data/20220420/SSE_600499.csv\n",
      "SSE_600499.csv\n",
      "/home/ege/Desktop/project/new/Resampled_Data/20220420/SSE_600512.csv\n",
      "SSE_600512.csv\n",
      "/home/ege/Desktop/project/new/Resampled_Data/20220420/SSE_600397.csv\n",
      "SSE_600397.csv\n",
      "/home/ege/Desktop/project/new/Resampled_Data/20220420/SSE_600616.csv\n",
      "SSE_600616.csv\n",
      "/home/ege/Desktop/project/new/Resampled_Data/20220420/SSE_600588.csv\n",
      "SSE_600588.csv\n",
      "/home/ege/Desktop/project/new/Resampled_Data/20220420/SSE_600487.csv\n",
      "SSE_600487.csv\n",
      "/home/ege/Desktop/project/new/Resampled_Data/20220420/SSE_600425.csv\n",
      "SSE_600425.csv\n",
      "/home/ege/Desktop/project/new/Resampled_Data/20220420/SSE_600448.csv\n",
      "SSE_600448.csv\n",
      "/home/ege/Desktop/project/new/Resampled_Data/20220420/SSE_600704.csv\n",
      "SSE_600704.csv\n",
      "/home/ege/Desktop/project/new/Resampled_Data/20220420/SSE_600396.csv\n",
      "SSE_600396.csv\n",
      "/home/ege/Desktop/project/new/Resampled_Data/20220420/SSE_600533.csv\n",
      "SSE_600533.csv\n",
      "/home/ege/Desktop/project/new/Resampled_Data/20220420/SSE_600705.csv\n",
      "SSE_600705.csv\n",
      "/home/ege/Desktop/project/new/Resampled_Data/20220420/SSE_600428.csv\n",
      "SSE_600428.csv\n",
      "/home/ege/Desktop/project/new/Resampled_Data/20220420/SSE_600699.csv\n",
      "SSE_600699.csv\n",
      "/home/ege/Desktop/project/new/Resampled_Data/20220420/SSE_600675.csv\n",
      "SSE_600675.csv\n",
      "/home/ege/Desktop/project/new/Resampled_Data/20220420/SSE_600546.csv\n",
      "SSE_600546.csv\n",
      "/home/ege/Desktop/project/new/Resampled_Data/20220420/SSE_600497.csv\n",
      "SSE_600497.csv\n",
      "/home/ege/Desktop/project/new/Resampled_Data/20220420/SSE_600684.csv\n",
      "SSE_600684.csv\n",
      "/home/ege/Desktop/project/new/Resampled_Data/20220420/SSE_600163.csv\n",
      "SSE_600163.csv\n",
      "/home/ege/Desktop/project/new/Resampled_Data/20220420/SSE_600743.csv\n",
      "SSE_600743.csv\n",
      "/home/ege/Desktop/project/new/Resampled_Data/20220420/SSE_600782.csv\n",
      "SSE_600782.csv\n",
      "/home/ege/Desktop/project/new/Resampled_Data/20220420/SSE_600491.csv\n",
      "SSE_600491.csv\n",
      "/home/ege/Desktop/project/new/Resampled_Data/20220420/SSE_600489.csv\n",
      "SSE_600489.csv\n",
      "/home/ege/Desktop/project/new/Resampled_Data/20220420/SSE_600765.csv\n",
      "SSE_600765.csv\n",
      "/home/ege/Desktop/project/new/Resampled_Data/20220420/SSE_600770.csv\n",
      "SSE_600770.csv\n",
      "/home/ege/Desktop/project/new/Resampled_Data/20220420/SSE_600559.csv\n",
      "SSE_600559.csv\n",
      "/home/ege/Desktop/project/new/Resampled_Data/20220420/SSE_600208.csv\n",
      "SSE_600208.csv\n",
      "/home/ege/Desktop/project/new/Resampled_Data/20220420/SSE_600683.csv\n",
      "SSE_600683.csv\n",
      "/home/ege/Desktop/project/new/Resampled_Data/20220420/SSE_600280.csv\n",
      "SSE_600280.csv\n",
      "/home/ege/Desktop/project/new/Resampled_Data/20220420/SSE_600418.csv\n",
      "SSE_600418.csv\n",
      "/home/ege/Desktop/project/new/Resampled_Data/20220420/SSE_600649.csv\n",
      "SSE_600649.csv\n",
      "/home/ege/Desktop/project/new/Resampled_Data/20220420/SSE_600257.csv\n",
      "SSE_600257.csv\n",
      "/home/ege/Desktop/project/new/Resampled_Data/20220420/SSE_600470.csv\n",
      "SSE_600470.csv\n",
      "/home/ege/Desktop/project/new/Resampled_Data/20220420/SSE_600248.csv\n",
      "SSE_600248.csv\n",
      "/home/ege/Desktop/project/new/Resampled_Data/20220420/SSE_600708.csv\n",
      "SSE_600708.csv\n",
      "/home/ege/Desktop/project/new/Resampled_Data/20220420/SSE_600572.csv\n",
      "SSE_600572.csv\n",
      "/home/ege/Desktop/project/new/Resampled_Data/20220420/SSE_600466.csv\n",
      "SSE_600466.csv\n",
      "/home/ege/Desktop/project/new/Resampled_Data/20220420/SSE_600736.csv\n",
      "SSE_600736.csv\n",
      "/home/ege/Desktop/project/new/Resampled_Data/20220420/SSE_600238.csv\n",
      "SSE_600238.csv\n",
      "/home/ege/Desktop/project/new/Resampled_Data/20220420/SSE_600581.csv\n",
      "SSE_600581.csv\n",
      "/home/ege/Desktop/project/new/Resampled_Data/20220420/SSE_600690.csv\n",
      "SSE_600690.csv\n",
      "/home/ege/Desktop/project/new/Resampled_Data/20220420/SSE_600201.csv\n",
      "SSE_600201.csv\n",
      "/home/ege/Desktop/project/new/Resampled_Data/20220420/SSE_600698.csv\n",
      "SSE_600698.csv\n",
      "/home/ege/Desktop/project/new/Resampled_Data/20220420/SSE_600777.csv\n",
      "SSE_600777.csv\n",
      "/home/ege/Desktop/project/new/Resampled_Data/20220420/SSE_600467.csv\n",
      "SSE_600467.csv\n",
      "/home/ege/Desktop/project/new/Resampled_Data/20220420/SSE_600653.csv\n",
      "SSE_600653.csv\n",
      "/home/ege/Desktop/project/new/Resampled_Data/20220420/SSE_600577.csv\n",
      "SSE_600577.csv\n",
      "/home/ege/Desktop/project/new/Resampled_Data/20220420/SSE_600370.csv\n",
      "SSE_600370.csv\n",
      "/home/ege/Desktop/project/new/Resampled_Data/20220420/SSE_600200.csv\n",
      "SSE_600200.csv\n",
      "/home/ege/Desktop/project/new/Resampled_Data/20220420/SSE_600185.csv\n",
      "SSE_600185.csv\n",
      "/home/ege/Desktop/project/new/Resampled_Data/20220420/SSE_600582.csv\n",
      "SSE_600582.csv\n",
      "/home/ege/Desktop/project/new/Resampled_Data/20220420/SSE_600711.csv\n",
      "SSE_600711.csv\n",
      "/home/ege/Desktop/project/new/Resampled_Data/20220420/SSE_600516.csv\n",
      "SSE_600516.csv\n",
      "/home/ege/Desktop/project/new/Resampled_Data/20220420/SSE_600100.csv\n",
      "SSE_600100.csv\n",
      "/home/ege/Desktop/project/new/Resampled_Data/20220420/SSE_600596.csv\n",
      "SSE_600596.csv\n",
      "/home/ege/Desktop/project/new/Resampled_Data/20220420/SSE_600409.csv\n",
      "SSE_600409.csv\n",
      "/home/ege/Desktop/project/new/Resampled_Data/20220420/SSE_600703.csv\n",
      "SSE_600703.csv\n",
      "/home/ege/Desktop/project/new/Resampled_Data/20220420/SSE_600598.csv\n",
      "SSE_600598.csv\n",
      "/home/ege/Desktop/project/new/Resampled_Data/20220420/SSE_600277.csv\n",
      "SSE_600277.csv\n",
      "/home/ege/Desktop/project/new/Resampled_Data/20220420/SSE_600657.csv\n",
      "SSE_600657.csv\n",
      "/home/ege/Desktop/project/new/Resampled_Data/20220420/SSE_600575.csv\n",
      "SSE_600575.csv\n",
      "/home/ege/Desktop/project/new/Resampled_Data/20220420/SSE_600438.csv\n",
      "SSE_600438.csv\n",
      "/home/ege/Desktop/project/new/Resampled_Data/20220420/SSE_600755.csv\n",
      "SSE_600755.csv\n",
      "/home/ege/Desktop/project/new/Resampled_Data/20220420/SSE_600795.csv\n",
      "SSE_600795.csv\n",
      "/home/ege/Desktop/project/new/Resampled_Data/20220420/SSE_600522.csv\n",
      "SSE_600522.csv\n",
      "/home/ege/Desktop/project/new/Resampled_Data/20220420/SSE_600628.csv\n",
      "SSE_600628.csv\n",
      "/home/ege/Desktop/project/new/Resampled_Data/20220420/SSE_600219.csv\n",
      "SSE_600219.csv\n",
      "/home/ege/Desktop/project/new/Resampled_Data/20220420/SSE_600686.csv\n",
      "SSE_600686.csv\n",
      "/home/ege/Desktop/project/new/Resampled_Data/20220420/SSE_600569.csv\n",
      "SSE_600569.csv\n",
      "/home/ege/Desktop/project/new/Resampled_Data/20220420/SSE_600649-checkpoint.csv\n",
      "SSE_600649-checkpoint.csv CHECKPOINT\n",
      "/home/ege/Desktop/project/new/Resampled_Data/20220420/SSE_600598-checkpoint.csv\n",
      "SSE_600598-checkpoint.csv CHECKPOINT\n",
      "/home/ege/Desktop/project/new/Resampled_Data/20220420/SSE_600657-checkpoint.csv\n",
      "SSE_600657-checkpoint.csv CHECKPOINT\n",
      "/home/ege/Desktop/project/new/Resampled_Data/20220420/SSE_600163-checkpoint.csv\n",
      "SSE_600163-checkpoint.csv CHECKPOINT\n",
      "20220428\n",
      "/home/ege/Desktop/project/new/Resampled_Data/20220428/SSE_600322.csv\n",
      "SSE_600322.csv\n",
      "/home/ege/Desktop/project/new/Resampled_Data/20220428/SSE_600153.csv\n",
      "SSE_600153.csv\n",
      "/home/ege/Desktop/project/new/Resampled_Data/20220428/SSE_600354.csv\n",
      "SSE_600354.csv\n",
      "/home/ege/Desktop/project/new/Resampled_Data/20220428/SSE_600521.csv\n",
      "SSE_600521.csv\n",
      "/home/ege/Desktop/project/new/Resampled_Data/20220428/SSE_600176.csv\n",
      "SSE_600176.csv\n",
      "/home/ege/Desktop/project/new/Resampled_Data/20220428/SSE_600502.csv\n",
      "SSE_600502.csv\n",
      "/home/ege/Desktop/project/new/Resampled_Data/20220428/SSE_600499.csv\n",
      "SSE_600499.csv\n",
      "/home/ege/Desktop/project/new/Resampled_Data/20220428/SSE_600512.csv\n",
      "SSE_600512.csv\n",
      "/home/ege/Desktop/project/new/Resampled_Data/20220428/SSE_600104.csv\n",
      "SSE_600104.csv\n",
      "/home/ege/Desktop/project/new/Resampled_Data/20220428/SSE_600037.csv\n",
      "SSE_600037.csv\n",
      "/home/ege/Desktop/project/new/Resampled_Data/20220428/SSE_600170.csv\n",
      "SSE_600170.csv\n",
      "/home/ege/Desktop/project/new/Resampled_Data/20220428/SSE_600397.csv\n",
      "SSE_600397.csv\n",
      "/home/ege/Desktop/project/new/Resampled_Data/20220428/SSE_600335.csv\n",
      "SSE_600335.csv\n",
      "/home/ege/Desktop/project/new/Resampled_Data/20220428/SSE_600359.csv\n",
      "SSE_600359.csv\n",
      "/home/ege/Desktop/project/new/Resampled_Data/20220428/SSE_600487.csv\n",
      "SSE_600487.csv\n",
      "/home/ege/Desktop/project/new/Resampled_Data/20220428/SSE_600029.csv\n",
      "SSE_600029.csv\n",
      "/home/ege/Desktop/project/new/Resampled_Data/20220428/SSE_600366.csv\n",
      "SSE_600366.csv\n",
      "/home/ege/Desktop/project/new/Resampled_Data/20220428/SSE_600425.csv\n",
      "SSE_600425.csv\n",
      "/home/ege/Desktop/project/new/Resampled_Data/20220428/SSE_600448.csv\n",
      "SSE_600448.csv\n",
      "/home/ege/Desktop/project/new/Resampled_Data/20220428/SSE_600330.csv\n",
      "SSE_600330.csv\n",
      "/home/ege/Desktop/project/new/Resampled_Data/20220428/SSE_600396.csv\n",
      "SSE_600396.csv\n",
      "/home/ege/Desktop/project/new/Resampled_Data/20220428/SSE_600123.csv\n",
      "SSE_600123.csv\n",
      "/home/ege/Desktop/project/new/Resampled_Data/20220428/SSE_600428.csv\n",
      "SSE_600428.csv\n",
      "/home/ege/Desktop/project/new/Resampled_Data/20220428/SSE_600331.csv\n",
      "SSE_600331.csv\n",
      "/home/ege/Desktop/project/new/Resampled_Data/20220428/SSE_600101.csv\n",
      "SSE_600101.csv\n",
      "/home/ege/Desktop/project/new/Resampled_Data/20220428/SSE_600030.csv\n",
      "SSE_600030.csv\n",
      "/home/ege/Desktop/project/new/Resampled_Data/20220428/SSE_600395.csv\n",
      "SSE_600395.csv\n",
      "/home/ege/Desktop/project/new/Resampled_Data/20220428/SSE_600284.csv\n",
      "SSE_600284.csv\n",
      "/home/ege/Desktop/project/new/Resampled_Data/20220428/SSE_600312.csv\n",
      "SSE_600312.csv\n",
      "/home/ege/Desktop/project/new/Resampled_Data/20220428/SSE_600199.csv\n",
      "SSE_600199.csv\n",
      "/home/ege/Desktop/project/new/Resampled_Data/20220428/SSE_600497.csv\n",
      "SSE_600497.csv\n",
      "/home/ege/Desktop/project/new/Resampled_Data/20220428/SSE_600163.csv\n",
      "SSE_600163.csv\n",
      "/home/ege/Desktop/project/new/Resampled_Data/20220428/SSE_600491.csv\n",
      "SSE_600491.csv\n",
      "/home/ege/Desktop/project/new/Resampled_Data/20220428/SSE_600172.csv\n",
      "SSE_600172.csv\n",
      "/home/ege/Desktop/project/new/Resampled_Data/20220428/SSE_600022.csv\n",
      "SSE_600022.csv\n",
      "/home/ege/Desktop/project/new/Resampled_Data/20220428/SSE_600489.csv\n",
      "SSE_600489.csv\n",
      "/home/ege/Desktop/project/new/Resampled_Data/20220428/SSE_600150.csv\n",
      "SSE_600150.csv\n",
      "/home/ege/Desktop/project/new/Resampled_Data/20220428/SSE_600208.csv\n",
      "SSE_600208.csv\n",
      "/home/ege/Desktop/project/new/Resampled_Data/20220428/SSE_600280.csv\n",
      "SSE_600280.csv\n",
      "/home/ege/Desktop/project/new/Resampled_Data/20220428/SSE_600418.csv\n",
      "SSE_600418.csv\n",
      "/home/ege/Desktop/project/new/Resampled_Data/20220428/SSE_600257.csv\n",
      "SSE_600257.csv\n",
      "/home/ege/Desktop/project/new/Resampled_Data/20220428/SSE_600149.csv\n",
      "SSE_600149.csv\n",
      "/home/ege/Desktop/project/new/Resampled_Data/20220428/SSE_600470.csv\n",
      "SSE_600470.csv\n",
      "/home/ege/Desktop/project/new/Resampled_Data/20220428/SSE_600248.csv\n",
      "SSE_600248.csv\n",
      "/home/ege/Desktop/project/new/Resampled_Data/20220428/SSE_600466.csv\n",
      "SSE_600466.csv\n",
      "/home/ege/Desktop/project/new/Resampled_Data/20220428/SSE_600166.csv\n",
      "SSE_600166.csv\n",
      "/home/ege/Desktop/project/new/Resampled_Data/20220428/SSE_600336.csv\n",
      "SSE_600336.csv\n",
      "/home/ege/Desktop/project/new/Resampled_Data/20220428/SSE_600238.csv\n",
      "SSE_600238.csv\n",
      "/home/ege/Desktop/project/new/Resampled_Data/20220428/SSE_600201.csv\n",
      "SSE_600201.csv\n",
      "/home/ege/Desktop/project/new/Resampled_Data/20220428/SSE_600027.csv\n",
      "SSE_600027.csv\n",
      "/home/ege/Desktop/project/new/Resampled_Data/20220428/SSE_600467.csv\n",
      "SSE_600467.csv\n",
      "/home/ege/Desktop/project/new/Resampled_Data/20220428/SSE_600162.csv\n",
      "SSE_600162.csv\n",
      "/home/ege/Desktop/project/new/Resampled_Data/20220428/SSE_600256.csv\n",
      "SSE_600256.csv\n",
      "/home/ege/Desktop/project/new/Resampled_Data/20220428/SSE_600307.csv\n",
      "SSE_600307.csv\n",
      "/home/ege/Desktop/project/new/Resampled_Data/20220428/SSE_600370.csv\n",
      "SSE_600370.csv\n",
      "/home/ege/Desktop/project/new/Resampled_Data/20220428/SSE_600338.csv\n",
      "SSE_600338.csv\n",
      "/home/ege/Desktop/project/new/Resampled_Data/20220428/SSE_600157.csv\n",
      "SSE_600157.csv\n",
      "/home/ege/Desktop/project/new/Resampled_Data/20220428/SSE_600200.csv\n",
      "SSE_600200.csv\n",
      "/home/ege/Desktop/project/new/Resampled_Data/20220428/SSE_600185.csv\n",
      "SSE_600185.csv\n",
      "/home/ege/Desktop/project/new/Resampled_Data/20220428/SSE_600383.csv\n",
      "SSE_600383.csv\n",
      "/home/ege/Desktop/project/new/Resampled_Data/20220428/SSE_600516.csv\n",
      "SSE_600516.csv\n",
      "/home/ege/Desktop/project/new/Resampled_Data/20220428/SSE_600276.csv\n",
      "SSE_600276.csv\n",
      "/home/ege/Desktop/project/new/Resampled_Data/20220428/SSE_600409.csv\n",
      "SSE_600409.csv\n",
      "/home/ege/Desktop/project/new/Resampled_Data/20220428/SSE_600180.csv\n",
      "SSE_600180.csv\n",
      "/home/ege/Desktop/project/new/Resampled_Data/20220428/SSE_600325.csv\n",
      "SSE_600325.csv\n",
      "/home/ege/Desktop/project/new/Resampled_Data/20220428/SSE_600159.csv\n",
      "SSE_600159.csv\n",
      "/home/ege/Desktop/project/new/Resampled_Data/20220428/SSE_600277.csv\n",
      "SSE_600277.csv\n",
      "/home/ege/Desktop/project/new/Resampled_Data/20220428/SSE_600282.csv\n",
      "SSE_600282.csv\n",
      "/home/ege/Desktop/project/new/Resampled_Data/20220428/SSE_600025.csv\n",
      "SSE_600025.csv\n",
      "/home/ege/Desktop/project/new/Resampled_Data/20220428/SSE_600438.csv\n",
      "SSE_600438.csv\n",
      "/home/ege/Desktop/project/new/Resampled_Data/20220428/SSE_600313.csv\n",
      "SSE_600313.csv\n",
      "/home/ege/Desktop/project/new/Resampled_Data/20220428/SSE_600367.csv\n",
      "SSE_600367.csv\n",
      "/home/ege/Desktop/project/new/Resampled_Data/20220428/SSE_600328.csv\n",
      "SSE_600328.csv\n",
      "/home/ege/Desktop/project/new/Resampled_Data/20220428/SSE_600141.csv\n",
      "SSE_600141.csv\n",
      "/home/ege/Desktop/project/new/Resampled_Data/20220428/SSE_600048.csv\n",
      "SSE_600048.csv\n",
      "/home/ege/Desktop/project/new/Resampled_Data/20220428/SSE_600026.csv\n",
      "SSE_600026.csv\n",
      "/home/ege/Desktop/project/new/Resampled_Data/20220428/SSE_600219.csv\n",
      "SSE_600219.csv\n",
      "/home/ege/Desktop/project/new/Resampled_Data/20220428/SSE_600339.csv\n",
      "SSE_600339.csv\n",
      "20220422\n",
      "/home/ege/Desktop/project/new/Resampled_Data/20220422/SSE_600322.csv\n",
      "SSE_600322.csv\n",
      "/home/ege/Desktop/project/new/Resampled_Data/20220422/SSE_600153.csv\n",
      "SSE_600153.csv\n",
      "/home/ege/Desktop/project/new/Resampled_Data/20220422/SSE_600348.csv\n",
      "SSE_600348.csv\n",
      "/home/ege/Desktop/project/new/Resampled_Data/20220422/SSE_600354.csv\n",
      "SSE_600354.csv\n",
      "/home/ege/Desktop/project/new/Resampled_Data/20220422/SSE_600521.csv\n",
      "SSE_600521.csv\n",
      "/home/ege/Desktop/project/new/Resampled_Data/20220422/SSE_600606.csv\n",
      "SSE_600606.csv\n",
      "/home/ege/Desktop/project/new/Resampled_Data/20220422/SSE_600176.csv\n",
      "SSE_600176.csv\n",
      "/home/ege/Desktop/project/new/Resampled_Data/20220422/SSE_600502.csv\n",
      "SSE_600502.csv\n",
      "/home/ege/Desktop/project/new/Resampled_Data/20220422/SSE_600499.csv\n",
      "SSE_600499.csv\n",
      "/home/ege/Desktop/project/new/Resampled_Data/20220422/SSE_600512.csv\n",
      "SSE_600512.csv\n",
      "/home/ege/Desktop/project/new/Resampled_Data/20220422/SSE_600170.csv\n",
      "SSE_600170.csv\n",
      "/home/ege/Desktop/project/new/Resampled_Data/20220422/SSE_600397.csv\n",
      "SSE_600397.csv\n",
      "/home/ege/Desktop/project/new/Resampled_Data/20220422/SSE_600335.csv\n",
      "SSE_600335.csv\n",
      "/home/ege/Desktop/project/new/Resampled_Data/20220422/SSE_600616.csv\n",
      "SSE_600616.csv\n",
      "/home/ege/Desktop/project/new/Resampled_Data/20220422/SSE_600588.csv\n",
      "SSE_600588.csv\n",
      "/home/ege/Desktop/project/new/Resampled_Data/20220422/SSE_600359.csv\n",
      "SSE_600359.csv\n",
      "/home/ege/Desktop/project/new/Resampled_Data/20220422/SSE_600487.csv\n",
      "SSE_600487.csv\n",
      "/home/ege/Desktop/project/new/Resampled_Data/20220422/SSE_600366.csv\n",
      "SSE_600366.csv\n",
      "/home/ege/Desktop/project/new/Resampled_Data/20220422/SSE_600425.csv\n",
      "SSE_600425.csv\n",
      "/home/ege/Desktop/project/new/Resampled_Data/20220422/SSE_600448.csv\n",
      "SSE_600448.csv\n",
      "/home/ege/Desktop/project/new/Resampled_Data/20220422/SSE_600330.csv\n",
      "SSE_600330.csv\n",
      "/home/ege/Desktop/project/new/Resampled_Data/20220422/SSE_600704.csv\n",
      "SSE_600704.csv\n",
      "/home/ege/Desktop/project/new/Resampled_Data/20220422/SSE_600396.csv\n",
      "SSE_600396.csv\n",
      "/home/ege/Desktop/project/new/Resampled_Data/20220422/SSE_600533.csv\n",
      "SSE_600533.csv\n",
      "/home/ege/Desktop/project/new/Resampled_Data/20220422/SSE_600705.csv\n",
      "SSE_600705.csv\n",
      "/home/ege/Desktop/project/new/Resampled_Data/20220422/SSE_600428.csv\n",
      "SSE_600428.csv\n",
      "/home/ege/Desktop/project/new/Resampled_Data/20220422/SSE_600331.csv\n",
      "SSE_600331.csv\n",
      "/home/ege/Desktop/project/new/Resampled_Data/20220422/SSE_600101.csv\n",
      "SSE_600101.csv\n",
      "/home/ege/Desktop/project/new/Resampled_Data/20220422/SSE_600699.csv\n",
      "SSE_600699.csv\n",
      "/home/ege/Desktop/project/new/Resampled_Data/20220422/SSE_600121.csv\n",
      "SSE_600121.csv\n",
      "/home/ege/Desktop/project/new/Resampled_Data/20220422/SSE_600675.csv\n",
      "SSE_600675.csv\n",
      "/home/ege/Desktop/project/new/Resampled_Data/20220422/SSE_600395.csv\n",
      "SSE_600395.csv\n",
      "/home/ege/Desktop/project/new/Resampled_Data/20220422/SSE_600546.csv\n",
      "SSE_600546.csv\n",
      "/home/ege/Desktop/project/new/Resampled_Data/20220422/SSE_600312.csv\n",
      "SSE_600312.csv\n",
      "/home/ege/Desktop/project/new/Resampled_Data/20220422/SSE_600497.csv\n",
      "SSE_600497.csv\n",
      "/home/ege/Desktop/project/new/Resampled_Data/20220422/SSE_600684.csv\n",
      "SSE_600684.csv\n",
      "/home/ege/Desktop/project/new/Resampled_Data/20220422/SSE_600110.csv\n",
      "SSE_600110.csv\n",
      "/home/ege/Desktop/project/new/Resampled_Data/20220422/SSE_600163.csv\n",
      "SSE_600163.csv\n",
      "/home/ege/Desktop/project/new/Resampled_Data/20220422/SSE_600491.csv\n",
      "SSE_600491.csv\n",
      "/home/ege/Desktop/project/new/Resampled_Data/20220422/SSE_600172.csv\n",
      "SSE_600172.csv\n",
      "/home/ege/Desktop/project/new/Resampled_Data/20220422/SSE_600489.csv\n",
      "SSE_600489.csv\n",
      "/home/ege/Desktop/project/new/Resampled_Data/20220422/SSE_600559.csv\n",
      "SSE_600559.csv\n",
      "/home/ege/Desktop/project/new/Resampled_Data/20220422/SSE_600150.csv\n",
      "SSE_600150.csv\n",
      "/home/ege/Desktop/project/new/Resampled_Data/20220422/SSE_600683.csv\n",
      "SSE_600683.csv\n",
      "/home/ege/Desktop/project/new/Resampled_Data/20220422/SSE_600280.csv\n",
      "SSE_600280.csv\n",
      "/home/ege/Desktop/project/new/Resampled_Data/20220422/SSE_600418.csv\n",
      "SSE_600418.csv\n",
      "/home/ege/Desktop/project/new/Resampled_Data/20220422/SSE_600649.csv\n",
      "SSE_600649.csv\n",
      "/home/ege/Desktop/project/new/Resampled_Data/20220422/SSE_600149.csv\n",
      "SSE_600149.csv\n",
      "/home/ege/Desktop/project/new/Resampled_Data/20220422/SSE_600470.csv\n",
      "SSE_600470.csv\n",
      "/home/ege/Desktop/project/new/Resampled_Data/20220422/SSE_600572.csv\n",
      "SSE_600572.csv\n",
      "/home/ege/Desktop/project/new/Resampled_Data/20220422/SSE_600466.csv\n",
      "SSE_600466.csv\n",
      "/home/ege/Desktop/project/new/Resampled_Data/20220422/SSE_600166.csv\n",
      "SSE_600166.csv\n",
      "/home/ege/Desktop/project/new/Resampled_Data/20220422/SSE_600336.csv\n",
      "SSE_600336.csv\n",
      "/home/ege/Desktop/project/new/Resampled_Data/20220422/SSE_600581.csv\n",
      "SSE_600581.csv\n",
      "/home/ege/Desktop/project/new/Resampled_Data/20220422/SSE_600690.csv\n",
      "SSE_600690.csv\n",
      "/home/ege/Desktop/project/new/Resampled_Data/20220422/SSE_600698.csv\n",
      "SSE_600698.csv\n",
      "/home/ege/Desktop/project/new/Resampled_Data/20220422/SSE_600467.csv\n",
      "SSE_600467.csv\n",
      "/home/ege/Desktop/project/new/Resampled_Data/20220422/SSE_600162.csv\n",
      "SSE_600162.csv\n",
      "/home/ege/Desktop/project/new/Resampled_Data/20220422/SSE_600307.csv\n",
      "SSE_600307.csv\n",
      "/home/ege/Desktop/project/new/Resampled_Data/20220422/SSE_600653.csv\n",
      "SSE_600653.csv\n",
      "/home/ege/Desktop/project/new/Resampled_Data/20220422/SSE_600577.csv\n",
      "SSE_600577.csv\n",
      "/home/ege/Desktop/project/new/Resampled_Data/20220422/SSE_600370.csv\n",
      "SSE_600370.csv\n",
      "/home/ege/Desktop/project/new/Resampled_Data/20220422/SSE_600338.csv\n",
      "SSE_600338.csv\n",
      "/home/ege/Desktop/project/new/Resampled_Data/20220422/SSE_600157.csv\n",
      "SSE_600157.csv\n",
      "/home/ege/Desktop/project/new/Resampled_Data/20220422/SSE_600582.csv\n",
      "SSE_600582.csv\n",
      "/home/ege/Desktop/project/new/Resampled_Data/20220422/SSE_600383.csv\n",
      "SSE_600383.csv\n",
      "/home/ege/Desktop/project/new/Resampled_Data/20220422/SSE_600516.csv\n",
      "SSE_600516.csv\n",
      "/home/ege/Desktop/project/new/Resampled_Data/20220422/SSE_600100.csv\n",
      "SSE_600100.csv\n",
      "/home/ege/Desktop/project/new/Resampled_Data/20220422/SSE_600596.csv\n",
      "SSE_600596.csv\n",
      "/home/ege/Desktop/project/new/Resampled_Data/20220422/SSE_600409.csv\n",
      "SSE_600409.csv\n",
      "/home/ege/Desktop/project/new/Resampled_Data/20220422/SSE_600180.csv\n",
      "SSE_600180.csv\n",
      "/home/ege/Desktop/project/new/Resampled_Data/20220422/SSE_600325.csv\n",
      "SSE_600325.csv\n",
      "/home/ege/Desktop/project/new/Resampled_Data/20220422/SSE_600159.csv\n",
      "SSE_600159.csv\n",
      "/home/ege/Desktop/project/new/Resampled_Data/20220422/SSE_600703.csv\n",
      "SSE_600703.csv\n",
      "/home/ege/Desktop/project/new/Resampled_Data/20220422/SSE_600598.csv\n",
      "SSE_600598.csv\n",
      "/home/ege/Desktop/project/new/Resampled_Data/20220422/SSE_600657.csv\n",
      "SSE_600657.csv\n",
      "/home/ege/Desktop/project/new/Resampled_Data/20220422/SSE_600282.csv\n",
      "SSE_600282.csv\n",
      "/home/ege/Desktop/project/new/Resampled_Data/20220422/SSE_600575.csv\n",
      "SSE_600575.csv\n",
      "/home/ege/Desktop/project/new/Resampled_Data/20220422/SSE_600438.csv\n",
      "SSE_600438.csv\n",
      "/home/ege/Desktop/project/new/Resampled_Data/20220422/SSE_600522.csv\n",
      "SSE_600522.csv\n",
      "/home/ege/Desktop/project/new/Resampled_Data/20220422/SSE_600367.csv\n",
      "SSE_600367.csv\n",
      "/home/ege/Desktop/project/new/Resampled_Data/20220422/SSE_600328.csv\n",
      "SSE_600328.csv\n",
      "/home/ege/Desktop/project/new/Resampled_Data/20220422/SSE_600141.csv\n",
      "SSE_600141.csv\n",
      "/home/ege/Desktop/project/new/Resampled_Data/20220422/SSE_600628.csv\n",
      "SSE_600628.csv\n",
      "/home/ege/Desktop/project/new/Resampled_Data/20220422/SSE_600339.csv\n",
      "SSE_600339.csv\n",
      "/home/ege/Desktop/project/new/Resampled_Data/20220422/SSE_600686.csv\n",
      "SSE_600686.csv\n",
      "/home/ege/Desktop/project/new/Resampled_Data/20220422/SSE_600569.csv\n",
      "SSE_600569.csv\n",
      "20220425\n",
      "/home/ege/Desktop/project/new/Resampled_Data/20220425/SSE_600153.csv\n",
      "SSE_600153.csv\n",
      "/home/ege/Desktop/project/new/Resampled_Data/20220425/SSE_600348.csv\n",
      "SSE_600348.csv\n",
      "/home/ege/Desktop/project/new/Resampled_Data/20220425/SSE_600521.csv\n",
      "SSE_600521.csv\n",
      "/home/ege/Desktop/project/new/Resampled_Data/20220425/SSE_600606.csv\n",
      "SSE_600606.csv\n",
      "/home/ege/Desktop/project/new/Resampled_Data/20220425/SSE_600176.csv\n",
      "SSE_600176.csv\n",
      "/home/ege/Desktop/project/new/Resampled_Data/20220425/SSE_600502.csv\n",
      "SSE_600502.csv\n",
      "/home/ege/Desktop/project/new/Resampled_Data/20220425/SSE_600499.csv\n",
      "SSE_600499.csv\n",
      "/home/ege/Desktop/project/new/Resampled_Data/20220425/SSE_600512.csv\n",
      "SSE_600512.csv\n",
      "/home/ege/Desktop/project/new/Resampled_Data/20220425/SSE_600170.csv\n",
      "SSE_600170.csv\n",
      "/home/ege/Desktop/project/new/Resampled_Data/20220425/SSE_600397.csv\n",
      "SSE_600397.csv\n",
      "/home/ege/Desktop/project/new/Resampled_Data/20220425/SSE_600335.csv\n",
      "SSE_600335.csv\n",
      "/home/ege/Desktop/project/new/Resampled_Data/20220425/SSE_600616.csv\n",
      "SSE_600616.csv\n",
      "/home/ege/Desktop/project/new/Resampled_Data/20220425/SSE_600588.csv\n",
      "SSE_600588.csv\n",
      "/home/ege/Desktop/project/new/Resampled_Data/20220425/SSE_600359.csv\n",
      "SSE_600359.csv\n",
      "/home/ege/Desktop/project/new/Resampled_Data/20220425/SSE_600487.csv\n",
      "SSE_600487.csv\n",
      "/home/ege/Desktop/project/new/Resampled_Data/20220425/SSE_600366.csv\n",
      "SSE_600366.csv\n",
      "/home/ege/Desktop/project/new/Resampled_Data/20220425/SSE_600425.csv\n",
      "SSE_600425.csv\n",
      "/home/ege/Desktop/project/new/Resampled_Data/20220425/SSE_600448.csv\n",
      "SSE_600448.csv\n",
      "/home/ege/Desktop/project/new/Resampled_Data/20220425/SSE_600330.csv\n",
      "SSE_600330.csv\n",
      "/home/ege/Desktop/project/new/Resampled_Data/20220425/SSE_600704.csv\n",
      "SSE_600704.csv\n",
      "/home/ege/Desktop/project/new/Resampled_Data/20220425/SSE_600396.csv\n",
      "SSE_600396.csv\n",
      "/home/ege/Desktop/project/new/Resampled_Data/20220425/SSE_600533.csv\n",
      "SSE_600533.csv\n",
      "/home/ege/Desktop/project/new/Resampled_Data/20220425/SSE_600705.csv\n",
      "SSE_600705.csv\n",
      "/home/ege/Desktop/project/new/Resampled_Data/20220425/SSE_600428.csv\n",
      "SSE_600428.csv\n",
      "/home/ege/Desktop/project/new/Resampled_Data/20220425/SSE_600331.csv\n",
      "SSE_600331.csv\n",
      "/home/ege/Desktop/project/new/Resampled_Data/20220425/SSE_600699.csv\n",
      "SSE_600699.csv\n",
      "/home/ege/Desktop/project/new/Resampled_Data/20220425/SSE_600675.csv\n",
      "SSE_600675.csv\n",
      "/home/ege/Desktop/project/new/Resampled_Data/20220425/SSE_600395.csv\n",
      "SSE_600395.csv\n",
      "/home/ege/Desktop/project/new/Resampled_Data/20220425/SSE_600546.csv\n",
      "SSE_600546.csv\n",
      "/home/ege/Desktop/project/new/Resampled_Data/20220425/SSE_600115.csv\n",
      "SSE_600115.csv\n",
      "/home/ege/Desktop/project/new/Resampled_Data/20220425/SSE_600497.csv\n",
      "SSE_600497.csv\n",
      "/home/ege/Desktop/project/new/Resampled_Data/20220425/SSE_600684.csv\n",
      "SSE_600684.csv\n",
      "/home/ege/Desktop/project/new/Resampled_Data/20220425/SSE_600163.csv\n",
      "SSE_600163.csv\n",
      "/home/ege/Desktop/project/new/Resampled_Data/20220425/SSE_600491.csv\n",
      "SSE_600491.csv\n",
      "/home/ege/Desktop/project/new/Resampled_Data/20220425/SSE_600172.csv\n",
      "SSE_600172.csv\n",
      "/home/ege/Desktop/project/new/Resampled_Data/20220425/SSE_600489.csv\n",
      "SSE_600489.csv\n",
      "/home/ege/Desktop/project/new/Resampled_Data/20220425/SSE_600559.csv\n",
      "SSE_600559.csv\n",
      "/home/ege/Desktop/project/new/Resampled_Data/20220425/SSE_600683.csv\n",
      "SSE_600683.csv\n",
      "/home/ege/Desktop/project/new/Resampled_Data/20220425/SSE_600418.csv\n",
      "SSE_600418.csv\n",
      "/home/ege/Desktop/project/new/Resampled_Data/20220425/SSE_600649.csv\n",
      "SSE_600649.csv\n",
      "/home/ege/Desktop/project/new/Resampled_Data/20220425/SSE_600470.csv\n",
      "SSE_600470.csv\n",
      "/home/ege/Desktop/project/new/Resampled_Data/20220425/SSE_600572.csv\n",
      "SSE_600572.csv\n",
      "/home/ege/Desktop/project/new/Resampled_Data/20220425/SSE_600466.csv\n",
      "SSE_600466.csv\n",
      "/home/ege/Desktop/project/new/Resampled_Data/20220425/SSE_600166.csv\n",
      "SSE_600166.csv\n",
      "/home/ege/Desktop/project/new/Resampled_Data/20220425/SSE_600336.csv\n",
      "SSE_600336.csv\n",
      "/home/ege/Desktop/project/new/Resampled_Data/20220425/SSE_600581.csv\n",
      "SSE_600581.csv\n",
      "/home/ege/Desktop/project/new/Resampled_Data/20220425/SSE_600690.csv\n",
      "SSE_600690.csv\n",
      "/home/ege/Desktop/project/new/Resampled_Data/20220425/SSE_600698.csv\n",
      "SSE_600698.csv\n",
      "/home/ege/Desktop/project/new/Resampled_Data/20220425/SSE_600467.csv\n",
      "SSE_600467.csv\n",
      "/home/ege/Desktop/project/new/Resampled_Data/20220425/SSE_600162.csv\n",
      "SSE_600162.csv\n",
      "/home/ege/Desktop/project/new/Resampled_Data/20220425/SSE_600653.csv\n",
      "SSE_600653.csv\n",
      "/home/ege/Desktop/project/new/Resampled_Data/20220425/SSE_600577.csv\n",
      "SSE_600577.csv\n",
      "/home/ege/Desktop/project/new/Resampled_Data/20220425/SSE_600370.csv\n",
      "SSE_600370.csv\n",
      "/home/ege/Desktop/project/new/Resampled_Data/20220425/SSE_600338.csv\n",
      "SSE_600338.csv\n",
      "/home/ege/Desktop/project/new/Resampled_Data/20220425/SSE_600157.csv\n",
      "SSE_600157.csv\n",
      "/home/ege/Desktop/project/new/Resampled_Data/20220425/SSE_600582.csv\n",
      "SSE_600582.csv\n",
      "/home/ege/Desktop/project/new/Resampled_Data/20220425/SSE_600383.csv\n",
      "SSE_600383.csv\n",
      "/home/ege/Desktop/project/new/Resampled_Data/20220425/SSE_600516.csv\n",
      "SSE_600516.csv\n",
      "/home/ege/Desktop/project/new/Resampled_Data/20220425/SSE_600596.csv\n",
      "SSE_600596.csv\n",
      "/home/ege/Desktop/project/new/Resampled_Data/20220425/SSE_600409.csv\n",
      "SSE_600409.csv\n",
      "/home/ege/Desktop/project/new/Resampled_Data/20220425/SSE_600180.csv\n",
      "SSE_600180.csv\n",
      "/home/ege/Desktop/project/new/Resampled_Data/20220425/SSE_600159.csv\n",
      "SSE_600159.csv\n",
      "/home/ege/Desktop/project/new/Resampled_Data/20220425/SSE_600703.csv\n",
      "SSE_600703.csv\n",
      "/home/ege/Desktop/project/new/Resampled_Data/20220425/SSE_600598.csv\n",
      "SSE_600598.csv\n",
      "/home/ege/Desktop/project/new/Resampled_Data/20220425/SSE_600657.csv\n",
      "SSE_600657.csv\n",
      "/home/ege/Desktop/project/new/Resampled_Data/20220425/SSE_600575.csv\n",
      "SSE_600575.csv\n",
      "/home/ege/Desktop/project/new/Resampled_Data/20220425/SSE_600438.csv\n",
      "SSE_600438.csv\n",
      "/home/ege/Desktop/project/new/Resampled_Data/20220425/SSE_600522.csv\n",
      "SSE_600522.csv\n",
      "/home/ege/Desktop/project/new/Resampled_Data/20220425/SSE_600367.csv\n",
      "SSE_600367.csv\n",
      "/home/ege/Desktop/project/new/Resampled_Data/20220425/SSE_600628.csv\n",
      "SSE_600628.csv\n",
      "/home/ege/Desktop/project/new/Resampled_Data/20220425/SSE_600339.csv\n",
      "SSE_600339.csv\n",
      "/home/ege/Desktop/project/new/Resampled_Data/20220425/SSE_600686.csv\n",
      "SSE_600686.csv\n",
      "/home/ege/Desktop/project/new/Resampled_Data/20220425/SSE_600569.csv\n",
      "SSE_600569.csv\n",
      "20220419\n",
      "/home/ege/Desktop/project/new/Resampled_Data/20220419/SSE_600322.csv\n",
      "SSE_600322.csv\n",
      "/home/ege/Desktop/project/new/Resampled_Data/20220419/SSE_600858.csv\n",
      "SSE_600858.csv\n",
      "/home/ege/Desktop/project/new/Resampled_Data/20220419/SSE_600740.csv\n",
      "SSE_600740.csv\n",
      "/home/ege/Desktop/project/new/Resampled_Data/20220419/SSE_600153.csv\n",
      "SSE_600153.csv\n",
      "/home/ege/Desktop/project/new/Resampled_Data/20220419/SSE_600348.csv\n",
      "SSE_600348.csv\n",
      "/home/ege/Desktop/project/new/Resampled_Data/20220419/SSE_600733.csv\n",
      "SSE_600733.csv\n",
      "/home/ege/Desktop/project/new/Resampled_Data/20220419/SSE_600725.csv\n",
      "SSE_600725.csv\n",
      "/home/ege/Desktop/project/new/Resampled_Data/20220419/SSE_600354.csv\n",
      "SSE_600354.csv\n",
      "/home/ege/Desktop/project/new/Resampled_Data/20220419/SSE_600521.csv\n",
      "SSE_600521.csv\n",
      "/home/ege/Desktop/project/new/Resampled_Data/20220419/SSE_600606.csv\n",
      "SSE_600606.csv\n",
      "/home/ege/Desktop/project/new/Resampled_Data/20220419/SSE_600096.csv\n",
      "SSE_600096.csv\n",
      "/home/ege/Desktop/project/new/Resampled_Data/20220419/SSE_600176.csv\n",
      "SSE_600176.csv\n",
      "/home/ege/Desktop/project/new/Resampled_Data/20220419/SSE_600502.csv\n",
      "SSE_600502.csv\n",
      "/home/ege/Desktop/project/new/Resampled_Data/20220419/SSE_600499.csv\n",
      "SSE_600499.csv\n",
      "/home/ege/Desktop/project/new/Resampled_Data/20220419/SSE_204001.csv\n",
      "SSE_204001.csv\n",
      "/home/ege/Desktop/project/new/Resampled_Data/20220419/SSE_600512.csv\n",
      "SSE_600512.csv\n",
      "/home/ege/Desktop/project/new/Resampled_Data/20220419/SSE_600104.csv\n",
      "SSE_600104.csv\n",
      "/home/ege/Desktop/project/new/Resampled_Data/20220419/SSE_600037.csv\n",
      "SSE_600037.csv\n",
      "/home/ege/Desktop/project/new/Resampled_Data/20220419/SSE_600170.csv\n",
      "SSE_600170.csv\n",
      "/home/ege/Desktop/project/new/Resampled_Data/20220419/SSE_600397.csv\n",
      "SSE_600397.csv\n",
      "/home/ege/Desktop/project/new/Resampled_Data/20220419/SSE_600335.csv\n",
      "SSE_600335.csv\n",
      "/home/ege/Desktop/project/new/Resampled_Data/20220419/SSE_600875.csv\n",
      "SSE_600875.csv\n",
      "/home/ege/Desktop/project/new/Resampled_Data/20220419/SSE_600616.csv\n",
      "SSE_600616.csv\n",
      "/home/ege/Desktop/project/new/Resampled_Data/20220419/SSE_600588.csv\n",
      "SSE_600588.csv\n",
      "/home/ege/Desktop/project/new/Resampled_Data/20220419/SSE_600359.csv\n",
      "SSE_600359.csv\n",
      "/home/ege/Desktop/project/new/Resampled_Data/20220419/SSE_600487.csv\n",
      "SSE_600487.csv\n",
      "/home/ege/Desktop/project/new/Resampled_Data/20220419/SSE_600029.csv\n",
      "SSE_600029.csv\n",
      "/home/ege/Desktop/project/new/Resampled_Data/20220419/SSE_600366.csv\n",
      "SSE_600366.csv\n",
      "/home/ege/Desktop/project/new/Resampled_Data/20220419/SSE_600425.csv\n",
      "SSE_600425.csv\n",
      "/home/ege/Desktop/project/new/Resampled_Data/20220419/SSE_600448.csv\n",
      "SSE_600448.csv\n",
      "/home/ege/Desktop/project/new/Resampled_Data/20220419/SSE_600330.csv\n",
      "SSE_600330.csv\n",
      "/home/ege/Desktop/project/new/Resampled_Data/20220419/SSE_600704.csv\n",
      "SSE_600704.csv\n",
      "/home/ege/Desktop/project/new/Resampled_Data/20220419/SSE_600863.csv\n",
      "SSE_600863.csv\n",
      "/home/ege/Desktop/project/new/Resampled_Data/20220419/SSE_600396.csv\n",
      "SSE_600396.csv\n",
      "/home/ege/Desktop/project/new/Resampled_Data/20220419/SSE_600533.csv\n",
      "SSE_600533.csv\n",
      "/home/ege/Desktop/project/new/Resampled_Data/20220419/SSE_600871.csv\n",
      "SSE_600871.csv\n",
      "/home/ege/Desktop/project/new/Resampled_Data/20220419/SSE_600079.csv\n",
      "SSE_600079.csv\n",
      "/home/ege/Desktop/project/new/Resampled_Data/20220419/SSE_600123.csv\n",
      "SSE_600123.csv\n",
      "/home/ege/Desktop/project/new/Resampled_Data/20220419/SSE_600705.csv\n",
      "SSE_600705.csv\n",
      "/home/ege/Desktop/project/new/Resampled_Data/20220419/SSE_600428.csv\n",
      "SSE_600428.csv\n",
      "/home/ege/Desktop/project/new/Resampled_Data/20220419/SSE_600331.csv\n",
      "SSE_600331.csv\n",
      "/home/ege/Desktop/project/new/Resampled_Data/20220419/SSE_600101.csv\n",
      "SSE_600101.csv\n",
      "/home/ege/Desktop/project/new/Resampled_Data/20220419/SSE_600699.csv\n",
      "SSE_600699.csv\n",
      "/home/ege/Desktop/project/new/Resampled_Data/20220419/SSE_600823.csv\n",
      "SSE_600823.csv\n",
      "/home/ege/Desktop/project/new/Resampled_Data/20220419/SSE_600121.csv\n",
      "SSE_600121.csv\n",
      "/home/ege/Desktop/project/new/Resampled_Data/20220419/SSE_600675.csv\n",
      "SSE_600675.csv\n",
      "/home/ege/Desktop/project/new/Resampled_Data/20220419/SSE_600030.csv\n",
      "SSE_600030.csv\n",
      "/home/ege/Desktop/project/new/Resampled_Data/20220419/SSE_600395.csv\n",
      "SSE_600395.csv\n",
      "/home/ege/Desktop/project/new/Resampled_Data/20220419/SSE_600546.csv\n",
      "SSE_600546.csv\n",
      "/home/ege/Desktop/project/new/Resampled_Data/20220419/SSE_600111.csv\n",
      "SSE_600111.csv\n",
      "/home/ege/Desktop/project/new/Resampled_Data/20220419/SSE_600115.csv\n",
      "SSE_600115.csv\n",
      "/home/ege/Desktop/project/new/Resampled_Data/20220419/SSE_600872.csv\n",
      "SSE_600872.csv\n",
      "/home/ege/Desktop/project/new/Resampled_Data/20220419/SSE_600284.csv\n",
      "SSE_600284.csv\n",
      "/home/ege/Desktop/project/new/Resampled_Data/20220419/SSE_600312.csv\n",
      "SSE_600312.csv\n",
      "/home/ege/Desktop/project/new/Resampled_Data/20220419/SSE_600199.csv\n",
      "SSE_600199.csv\n",
      "/home/ege/Desktop/project/new/Resampled_Data/20220419/SSE_600497.csv\n",
      "SSE_600497.csv\n",
      "/home/ege/Desktop/project/new/Resampled_Data/20220419/SSE_600684.csv\n",
      "SSE_600684.csv\n",
      "/home/ege/Desktop/project/new/Resampled_Data/20220419/SSE_600110.csv\n",
      "SSE_600110.csv\n",
      "/home/ege/Desktop/project/new/Resampled_Data/20220419/SSE_600163.csv\n",
      "SSE_600163.csv\n",
      "/home/ege/Desktop/project/new/Resampled_Data/20220419/SSE_600743.csv\n",
      "SSE_600743.csv\n",
      "/home/ege/Desktop/project/new/Resampled_Data/20220419/SSE_600000.csv\n",
      "SSE_600000.csv\n",
      "/home/ege/Desktop/project/new/Resampled_Data/20220419/SSE_600011.csv\n",
      "SSE_600011.csv\n",
      "/home/ege/Desktop/project/new/Resampled_Data/20220419/SSE_600782.csv\n",
      "SSE_600782.csv\n",
      "/home/ege/Desktop/project/new/Resampled_Data/20220419/SSE_204007.csv\n",
      "SSE_204007.csv\n",
      "/home/ege/Desktop/project/new/Resampled_Data/20220419/SSE_600491.csv\n",
      "SSE_600491.csv\n",
      "/home/ege/Desktop/project/new/Resampled_Data/20220419/SSE_600172.csv\n",
      "SSE_600172.csv\n",
      "/home/ege/Desktop/project/new/Resampled_Data/20220419/SSE_600022.csv\n",
      "SSE_600022.csv\n",
      "/home/ege/Desktop/project/new/Resampled_Data/20220419/SSE_600489.csv\n",
      "SSE_600489.csv\n",
      "/home/ege/Desktop/project/new/Resampled_Data/20220419/SSE_600765.csv\n",
      "SSE_600765.csv\n",
      "/home/ege/Desktop/project/new/Resampled_Data/20220419/SSE_600770.csv\n",
      "SSE_600770.csv\n",
      "/home/ege/Desktop/project/new/Resampled_Data/20220419/SSE_600841.csv\n",
      "SSE_600841.csv\n",
      "/home/ege/Desktop/project/new/Resampled_Data/20220419/SSE_600559.csv\n",
      "SSE_600559.csv\n",
      "/home/ege/Desktop/project/new/Resampled_Data/20220419/SSE_600150.csv\n",
      "SSE_600150.csv\n",
      "/home/ege/Desktop/project/new/Resampled_Data/20220419/SSE_600208.csv\n",
      "SSE_600208.csv\n",
      "/home/ege/Desktop/project/new/Resampled_Data/20220419/SSE_600820.csv\n",
      "SSE_600820.csv\n",
      "/home/ege/Desktop/project/new/Resampled_Data/20220419/SSE_600683.csv\n",
      "SSE_600683.csv\n",
      "/home/ege/Desktop/project/new/Resampled_Data/20220419/SSE_600008.csv\n",
      "SSE_600008.csv\n",
      "/home/ege/Desktop/project/new/Resampled_Data/20220419/SSE_600280.csv\n",
      "SSE_600280.csv\n",
      "/home/ege/Desktop/project/new/Resampled_Data/20220419/SSE_600418.csv\n",
      "SSE_600418.csv\n",
      "/home/ege/Desktop/project/new/Resampled_Data/20220419/SSE_600649.csv\n",
      "SSE_600649.csv\n",
      "/home/ege/Desktop/project/new/Resampled_Data/20220419/SSE_600089.csv\n",
      "SSE_600089.csv\n",
      "/home/ege/Desktop/project/new/Resampled_Data/20220419/SSE_600028.csv\n",
      "SSE_600028.csv\n",
      "/home/ege/Desktop/project/new/Resampled_Data/20220419/SSE_600257.csv\n",
      "SSE_600257.csv\n",
      "/home/ege/Desktop/project/new/Resampled_Data/20220419/SSE_600149.csv\n",
      "SSE_600149.csv\n",
      "/home/ege/Desktop/project/new/Resampled_Data/20220419/SSE_600811.csv\n",
      "SSE_600811.csv\n",
      "/home/ege/Desktop/project/new/Resampled_Data/20220419/SSE_600016.csv\n",
      "SSE_600016.csv\n",
      "/home/ege/Desktop/project/new/Resampled_Data/20220419/SSE_600010.csv\n",
      "SSE_600010.csv\n",
      "/home/ege/Desktop/project/new/Resampled_Data/20220419/SSE_600470.csv\n",
      "SSE_600470.csv\n",
      "/home/ege/Desktop/project/new/Resampled_Data/20220419/SSE_600248.csv\n",
      "SSE_600248.csv\n",
      "/home/ege/Desktop/project/new/Resampled_Data/20220419/SSE_600108.csv\n",
      "SSE_600108.csv\n",
      "/home/ege/Desktop/project/new/Resampled_Data/20220419/SSE_600708.csv\n",
      "SSE_600708.csv\n",
      "/home/ege/Desktop/project/new/Resampled_Data/20220419/SSE_600572.csv\n",
      "SSE_600572.csv\n",
      "/home/ege/Desktop/project/new/Resampled_Data/20220419/SSE_600466.csv\n",
      "SSE_600466.csv\n",
      "/home/ege/Desktop/project/new/Resampled_Data/20220419/SSE_600166.csv\n",
      "SSE_600166.csv\n",
      "/home/ege/Desktop/project/new/Resampled_Data/20220419/SSE_600336.csv\n",
      "SSE_600336.csv\n",
      "/home/ege/Desktop/project/new/Resampled_Data/20220419/SSE_600736.csv\n",
      "SSE_600736.csv\n",
      "/home/ege/Desktop/project/new/Resampled_Data/20220419/SSE_600036.csv\n",
      "SSE_600036.csv\n",
      "/home/ege/Desktop/project/new/Resampled_Data/20220419/SSE_600238.csv\n",
      "SSE_600238.csv\n",
      "/home/ege/Desktop/project/new/Resampled_Data/20220419/SSE_600581.csv\n",
      "SSE_600581.csv\n",
      "/home/ege/Desktop/project/new/Resampled_Data/20220419/SSE_600690.csv\n",
      "SSE_600690.csv\n",
      "/home/ege/Desktop/project/new/Resampled_Data/20220419/SSE_600201.csv\n",
      "SSE_600201.csv\n",
      "/home/ege/Desktop/project/new/Resampled_Data/20220419/SSE_600698.csv\n",
      "SSE_600698.csv\n",
      "/home/ege/Desktop/project/new/Resampled_Data/20220419/SSE_600027.csv\n",
      "SSE_600027.csv\n",
      "/home/ege/Desktop/project/new/Resampled_Data/20220419/SSE_600063.csv\n",
      "SSE_600063.csv\n",
      "/home/ege/Desktop/project/new/Resampled_Data/20220419/SSE_600777.csv\n",
      "SSE_600777.csv\n",
      "/home/ege/Desktop/project/new/Resampled_Data/20220419/SSE_600838.csv\n",
      "SSE_600838.csv\n",
      "/home/ege/Desktop/project/new/Resampled_Data/20220419/SSE_600839.csv\n",
      "SSE_600839.csv\n",
      "/home/ege/Desktop/project/new/Resampled_Data/20220419/SSE_600467.csv\n",
      "SSE_600467.csv\n",
      "/home/ege/Desktop/project/new/Resampled_Data/20220419/SSE_600162.csv\n",
      "SSE_600162.csv\n",
      "/home/ege/Desktop/project/new/Resampled_Data/20220419/SSE_600256.csv\n",
      "SSE_600256.csv\n",
      "/home/ege/Desktop/project/new/Resampled_Data/20220419/SSE_600307.csv\n",
      "SSE_600307.csv\n",
      "/home/ege/Desktop/project/new/Resampled_Data/20220419/SSE_600050.csv\n",
      "SSE_600050.csv\n",
      "/home/ege/Desktop/project/new/Resampled_Data/20220419/SSE_600653.csv\n",
      "SSE_600653.csv\n",
      "/home/ege/Desktop/project/new/Resampled_Data/20220419/SSE_600577.csv\n",
      "SSE_600577.csv\n",
      "/home/ege/Desktop/project/new/Resampled_Data/20220419/SSE_600837.csv\n",
      "SSE_600837.csv\n",
      "/home/ege/Desktop/project/new/Resampled_Data/20220419/SSE_600021.csv\n",
      "SSE_600021.csv\n",
      "/home/ege/Desktop/project/new/Resampled_Data/20220419/SSE_600370.csv\n",
      "SSE_600370.csv\n",
      "/home/ege/Desktop/project/new/Resampled_Data/20220419/SSE_600338.csv\n",
      "SSE_600338.csv\n",
      "/home/ege/Desktop/project/new/Resampled_Data/20220419/SSE_600157.csv\n",
      "SSE_600157.csv\n",
      "/home/ege/Desktop/project/new/Resampled_Data/20220419/SSE_600200.csv\n",
      "SSE_600200.csv\n",
      "/home/ege/Desktop/project/new/Resampled_Data/20220419/SSE_600185.csv\n",
      "SSE_600185.csv\n",
      "/home/ege/Desktop/project/new/Resampled_Data/20220419/SSE_600582.csv\n",
      "SSE_600582.csv\n",
      "/home/ege/Desktop/project/new/Resampled_Data/20220419/SSE_600383.csv\n",
      "SSE_600383.csv\n",
      "/home/ege/Desktop/project/new/Resampled_Data/20220419/SSE_600711.csv\n",
      "SSE_600711.csv\n",
      "/home/ege/Desktop/project/new/Resampled_Data/20220419/SSE_600516.csv\n",
      "SSE_600516.csv\n",
      "/home/ege/Desktop/project/new/Resampled_Data/20220419/SSE_600100.csv\n",
      "SSE_600100.csv\n",
      "/home/ege/Desktop/project/new/Resampled_Data/20220419/SSE_600596.csv\n",
      "SSE_600596.csv\n",
      "/home/ege/Desktop/project/new/Resampled_Data/20220419/SSE_600276.csv\n",
      "SSE_600276.csv\n",
      "/home/ege/Desktop/project/new/Resampled_Data/20220419/SSE_600409.csv\n",
      "SSE_600409.csv\n",
      "/home/ege/Desktop/project/new/Resampled_Data/20220419/SSE_600180.csv\n",
      "SSE_600180.csv\n",
      "/home/ege/Desktop/project/new/Resampled_Data/20220419/SSE_600066.csv\n",
      "SSE_600066.csv\n",
      "/home/ege/Desktop/project/new/Resampled_Data/20220419/SSE_600808.csv\n",
      "SSE_600808.csv\n",
      "/home/ege/Desktop/project/new/Resampled_Data/20220419/SSE_600325.csv\n",
      "SSE_600325.csv\n",
      "/home/ege/Desktop/project/new/Resampled_Data/20220419/SSE_600854.csv\n",
      "SSE_600854.csv\n",
      "/home/ege/Desktop/project/new/Resampled_Data/20220419/SSE_600159.csv\n",
      "SSE_600159.csv\n",
      "/home/ege/Desktop/project/new/Resampled_Data/20220419/SSE_600703.csv\n",
      "SSE_600703.csv\n",
      "/home/ege/Desktop/project/new/Resampled_Data/20220419/SSE_600598.csv\n",
      "SSE_600598.csv\n",
      "/home/ege/Desktop/project/new/Resampled_Data/20220419/SSE_600277.csv\n",
      "SSE_600277.csv\n",
      "/home/ege/Desktop/project/new/Resampled_Data/20220419/SSE_600657.csv\n",
      "SSE_600657.csv\n",
      "/home/ege/Desktop/project/new/Resampled_Data/20220419/SSE_600282.csv\n",
      "SSE_600282.csv\n",
      "/home/ege/Desktop/project/new/Resampled_Data/20220419/SSE_600025.csv\n",
      "SSE_600025.csv\n",
      "/home/ege/Desktop/project/new/Resampled_Data/20220419/SSE_600575.csv\n",
      "SSE_600575.csv\n",
      "/home/ege/Desktop/project/new/Resampled_Data/20220419/SSE_600438.csv\n",
      "SSE_600438.csv\n",
      "/home/ege/Desktop/project/new/Resampled_Data/20220419/SSE_600018.csv\n",
      "SSE_600018.csv\n",
      "/home/ege/Desktop/project/new/Resampled_Data/20220419/SSE_600755.csv\n",
      "SSE_600755.csv\n",
      "/home/ege/Desktop/project/new/Resampled_Data/20220419/SSE_600795.csv\n",
      "SSE_600795.csv\n",
      "/home/ege/Desktop/project/new/Resampled_Data/20220419/SSE_600313.csv\n",
      "SSE_600313.csv\n",
      "/home/ege/Desktop/project/new/Resampled_Data/20220419/SSE_600522.csv\n",
      "SSE_600522.csv\n",
      "/home/ege/Desktop/project/new/Resampled_Data/20220419/SSE_600367.csv\n",
      "SSE_600367.csv\n",
      "/home/ege/Desktop/project/new/Resampled_Data/20220419/SSE_600328.csv\n",
      "SSE_600328.csv\n",
      "/home/ege/Desktop/project/new/Resampled_Data/20220419/SSE_600141.csv\n",
      "SSE_600141.csv\n",
      "/home/ege/Desktop/project/new/Resampled_Data/20220419/SSE_600031.csv\n",
      "SSE_600031.csv\n",
      "/home/ege/Desktop/project/new/Resampled_Data/20220419/SSE_600048.csv\n",
      "SSE_600048.csv\n",
      "/home/ege/Desktop/project/new/Resampled_Data/20220419/SSE_600821.csv\n",
      "SSE_600821.csv\n",
      "/home/ege/Desktop/project/new/Resampled_Data/20220419/SSE_600628.csv\n",
      "SSE_600628.csv\n",
      "/home/ege/Desktop/project/new/Resampled_Data/20220419/SSE_600019.csv\n",
      "SSE_600019.csv\n",
      "/home/ege/Desktop/project/new/Resampled_Data/20220419/SSE_600026.csv\n",
      "SSE_600026.csv\n",
      "/home/ege/Desktop/project/new/Resampled_Data/20220419/SSE_600219.csv\n",
      "SSE_600219.csv\n",
      "/home/ege/Desktop/project/new/Resampled_Data/20220419/SSE_600339.csv\n",
      "SSE_600339.csv\n",
      "/home/ege/Desktop/project/new/Resampled_Data/20220419/SSE_600686.csv\n",
      "SSE_600686.csv\n",
      "/home/ege/Desktop/project/new/Resampled_Data/20220419/SSE_600569.csv\n",
      "SSE_600569.csv\n",
      "20220429\n",
      "/home/ege/Desktop/project/new/Resampled_Data/20220429/SSE_600322.csv\n",
      "SSE_600322.csv\n",
      "/home/ege/Desktop/project/new/Resampled_Data/20220429/SSE_600153.csv\n",
      "SSE_600153.csv\n",
      "/home/ege/Desktop/project/new/Resampled_Data/20220429/SSE_600348.csv\n",
      "SSE_600348.csv\n",
      "/home/ege/Desktop/project/new/Resampled_Data/20220429/SSE_600354.csv\n",
      "SSE_600354.csv\n",
      "/home/ege/Desktop/project/new/Resampled_Data/20220429/SSE_600521.csv\n",
      "SSE_600521.csv\n",
      "/home/ege/Desktop/project/new/Resampled_Data/20220429/SSE_600176.csv\n",
      "SSE_600176.csv\n",
      "/home/ege/Desktop/project/new/Resampled_Data/20220429/SSE_600502.csv\n",
      "SSE_600502.csv\n",
      "/home/ege/Desktop/project/new/Resampled_Data/20220429/SSE_600499.csv\n",
      "SSE_600499.csv\n",
      "/home/ege/Desktop/project/new/Resampled_Data/20220429/SSE_600512.csv\n",
      "SSE_600512.csv\n",
      "/home/ege/Desktop/project/new/Resampled_Data/20220429/SSE_600104.csv\n",
      "SSE_600104.csv\n",
      "/home/ege/Desktop/project/new/Resampled_Data/20220429/SSE_600037.csv\n",
      "SSE_600037.csv\n",
      "/home/ege/Desktop/project/new/Resampled_Data/20220429/SSE_600170.csv\n",
      "SSE_600170.csv\n",
      "/home/ege/Desktop/project/new/Resampled_Data/20220429/SSE_600397.csv\n",
      "SSE_600397.csv\n",
      "/home/ege/Desktop/project/new/Resampled_Data/20220429/SSE_600335.csv\n",
      "SSE_600335.csv\n",
      "/home/ege/Desktop/project/new/Resampled_Data/20220429/SSE_600359.csv\n",
      "SSE_600359.csv\n",
      "/home/ege/Desktop/project/new/Resampled_Data/20220429/SSE_600487.csv\n",
      "SSE_600487.csv\n",
      "/home/ege/Desktop/project/new/Resampled_Data/20220429/SSE_600366.csv\n",
      "SSE_600366.csv\n",
      "/home/ege/Desktop/project/new/Resampled_Data/20220429/SSE_600425.csv\n",
      "SSE_600425.csv\n",
      "/home/ege/Desktop/project/new/Resampled_Data/20220429/SSE_600448.csv\n",
      "SSE_600448.csv\n",
      "/home/ege/Desktop/project/new/Resampled_Data/20220429/SSE_600330.csv\n",
      "SSE_600330.csv\n",
      "/home/ege/Desktop/project/new/Resampled_Data/20220429/SSE_600396.csv\n",
      "SSE_600396.csv\n",
      "/home/ege/Desktop/project/new/Resampled_Data/20220429/SSE_600123.csv\n",
      "SSE_600123.csv\n",
      "/home/ege/Desktop/project/new/Resampled_Data/20220429/SSE_600428.csv\n",
      "SSE_600428.csv\n",
      "/home/ege/Desktop/project/new/Resampled_Data/20220429/SSE_600331.csv\n",
      "SSE_600331.csv\n",
      "/home/ege/Desktop/project/new/Resampled_Data/20220429/SSE_600121.csv\n",
      "SSE_600121.csv\n",
      "/home/ege/Desktop/project/new/Resampled_Data/20220429/SSE_600395.csv\n",
      "SSE_600395.csv\n",
      "/home/ege/Desktop/project/new/Resampled_Data/20220429/SSE_600115.csv\n",
      "SSE_600115.csv\n",
      "/home/ege/Desktop/project/new/Resampled_Data/20220429/SSE_600284.csv\n",
      "SSE_600284.csv\n",
      "/home/ege/Desktop/project/new/Resampled_Data/20220429/SSE_600312.csv\n",
      "SSE_600312.csv\n",
      "/home/ege/Desktop/project/new/Resampled_Data/20220429/SSE_600199.csv\n",
      "SSE_600199.csv\n",
      "/home/ege/Desktop/project/new/Resampled_Data/20220429/SSE_600497.csv\n",
      "SSE_600497.csv\n",
      "/home/ege/Desktop/project/new/Resampled_Data/20220429/SSE_600163.csv\n",
      "SSE_600163.csv\n",
      "/home/ege/Desktop/project/new/Resampled_Data/20220429/SSE_600491.csv\n",
      "SSE_600491.csv\n",
      "/home/ege/Desktop/project/new/Resampled_Data/20220429/SSE_600172.csv\n",
      "SSE_600172.csv\n",
      "/home/ege/Desktop/project/new/Resampled_Data/20220429/SSE_600489.csv\n",
      "SSE_600489.csv\n",
      "/home/ege/Desktop/project/new/Resampled_Data/20220429/SSE_600150.csv\n",
      "SSE_600150.csv\n",
      "/home/ege/Desktop/project/new/Resampled_Data/20220429/SSE_600208.csv\n",
      "SSE_600208.csv\n",
      "/home/ege/Desktop/project/new/Resampled_Data/20220429/SSE_600280.csv\n",
      "SSE_600280.csv\n",
      "/home/ege/Desktop/project/new/Resampled_Data/20220429/SSE_600418.csv\n",
      "SSE_600418.csv\n",
      "/home/ege/Desktop/project/new/Resampled_Data/20220429/SSE_600257.csv\n",
      "SSE_600257.csv\n",
      "/home/ege/Desktop/project/new/Resampled_Data/20220429/SSE_600149.csv\n",
      "SSE_600149.csv\n",
      "/home/ege/Desktop/project/new/Resampled_Data/20220429/SSE_600470.csv\n",
      "SSE_600470.csv\n",
      "/home/ege/Desktop/project/new/Resampled_Data/20220429/SSE_600248.csv\n",
      "SSE_600248.csv\n",
      "/home/ege/Desktop/project/new/Resampled_Data/20220429/SSE_600108.csv\n",
      "SSE_600108.csv\n",
      "/home/ege/Desktop/project/new/Resampled_Data/20220429/SSE_600466.csv\n",
      "SSE_600466.csv\n",
      "/home/ege/Desktop/project/new/Resampled_Data/20220429/SSE_600166.csv\n",
      "SSE_600166.csv\n",
      "/home/ege/Desktop/project/new/Resampled_Data/20220429/SSE_600336.csv\n",
      "SSE_600336.csv\n",
      "/home/ege/Desktop/project/new/Resampled_Data/20220429/SSE_600238.csv\n",
      "SSE_600238.csv\n",
      "/home/ege/Desktop/project/new/Resampled_Data/20220429/SSE_600201.csv\n",
      "SSE_600201.csv\n",
      "/home/ege/Desktop/project/new/Resampled_Data/20220429/SSE_600467.csv\n",
      "SSE_600467.csv\n",
      "/home/ege/Desktop/project/new/Resampled_Data/20220429/SSE_600162.csv\n",
      "SSE_600162.csv\n",
      "/home/ege/Desktop/project/new/Resampled_Data/20220429/SSE_600256.csv\n",
      "SSE_600256.csv\n",
      "/home/ege/Desktop/project/new/Resampled_Data/20220429/SSE_600307.csv\n",
      "SSE_600307.csv\n",
      "/home/ege/Desktop/project/new/Resampled_Data/20220429/SSE_600370.csv\n",
      "SSE_600370.csv\n",
      "/home/ege/Desktop/project/new/Resampled_Data/20220429/SSE_600338.csv\n",
      "SSE_600338.csv\n",
      "/home/ege/Desktop/project/new/Resampled_Data/20220429/SSE_600157.csv\n",
      "SSE_600157.csv\n",
      "/home/ege/Desktop/project/new/Resampled_Data/20220429/SSE_600200.csv\n",
      "SSE_600200.csv\n",
      "/home/ege/Desktop/project/new/Resampled_Data/20220429/SSE_600185.csv\n",
      "SSE_600185.csv\n",
      "/home/ege/Desktop/project/new/Resampled_Data/20220429/SSE_600383.csv\n",
      "SSE_600383.csv\n",
      "/home/ege/Desktop/project/new/Resampled_Data/20220429/SSE_600516.csv\n",
      "SSE_600516.csv\n",
      "/home/ege/Desktop/project/new/Resampled_Data/20220429/SSE_600276.csv\n",
      "SSE_600276.csv\n",
      "/home/ege/Desktop/project/new/Resampled_Data/20220429/SSE_600409.csv\n",
      "SSE_600409.csv\n",
      "/home/ege/Desktop/project/new/Resampled_Data/20220429/SSE_600180.csv\n",
      "SSE_600180.csv\n",
      "/home/ege/Desktop/project/new/Resampled_Data/20220429/SSE_600325.csv\n",
      "SSE_600325.csv\n",
      "/home/ege/Desktop/project/new/Resampled_Data/20220429/SSE_600159.csv\n",
      "SSE_600159.csv\n",
      "/home/ege/Desktop/project/new/Resampled_Data/20220429/SSE_600277.csv\n",
      "SSE_600277.csv\n",
      "/home/ege/Desktop/project/new/Resampled_Data/20220429/SSE_600282.csv\n",
      "SSE_600282.csv\n",
      "/home/ege/Desktop/project/new/Resampled_Data/20220429/SSE_600438.csv\n",
      "SSE_600438.csv\n",
      "/home/ege/Desktop/project/new/Resampled_Data/20220429/SSE_600313.csv\n",
      "SSE_600313.csv\n",
      "/home/ege/Desktop/project/new/Resampled_Data/20220429/SSE_600367.csv\n",
      "SSE_600367.csv\n",
      "/home/ege/Desktop/project/new/Resampled_Data/20220429/SSE_600328.csv\n",
      "SSE_600328.csv\n",
      "/home/ege/Desktop/project/new/Resampled_Data/20220429/SSE_600141.csv\n",
      "SSE_600141.csv\n",
      "/home/ege/Desktop/project/new/Resampled_Data/20220429/SSE_600219.csv\n",
      "SSE_600219.csv\n",
      "/home/ege/Desktop/project/new/Resampled_Data/20220429/SSE_600339.csv\n",
      "SSE_600339.csv\n",
      "20220421\n",
      "/home/ege/Desktop/project/new/Resampled_Data/20220421/SSE_600322.csv\n",
      "SSE_600322.csv\n",
      "/home/ege/Desktop/project/new/Resampled_Data/20220421/SSE_600354.csv\n",
      "SSE_600354.csv\n",
      "/home/ege/Desktop/project/new/Resampled_Data/20220421/SSE_600521.csv\n",
      "SSE_600521.csv\n",
      "/home/ege/Desktop/project/new/Resampled_Data/20220421/SSE_600606.csv\n",
      "SSE_600606.csv\n",
      "/home/ege/Desktop/project/new/Resampled_Data/20220421/SSE_600176.csv\n",
      "SSE_600176.csv\n",
      "/home/ege/Desktop/project/new/Resampled_Data/20220421/SSE_600502.csv\n",
      "SSE_600502.csv\n",
      "/home/ege/Desktop/project/new/Resampled_Data/20220421/SSE_600499.csv\n",
      "SSE_600499.csv\n",
      "/home/ege/Desktop/project/new/Resampled_Data/20220421/SSE_600512.csv\n",
      "SSE_600512.csv\n",
      "/home/ege/Desktop/project/new/Resampled_Data/20220421/SSE_600170.csv\n",
      "SSE_600170.csv\n",
      "/home/ege/Desktop/project/new/Resampled_Data/20220421/SSE_600397.csv\n",
      "SSE_600397.csv\n",
      "/home/ege/Desktop/project/new/Resampled_Data/20220421/SSE_600335.csv\n",
      "SSE_600335.csv\n",
      "/home/ege/Desktop/project/new/Resampled_Data/20220421/SSE_600616.csv\n",
      "SSE_600616.csv\n",
      "/home/ege/Desktop/project/new/Resampled_Data/20220421/SSE_600588.csv\n",
      "SSE_600588.csv\n",
      "/home/ege/Desktop/project/new/Resampled_Data/20220421/SSE_600359.csv\n",
      "SSE_600359.csv\n",
      "/home/ege/Desktop/project/new/Resampled_Data/20220421/SSE_600487.csv\n",
      "SSE_600487.csv\n",
      "/home/ege/Desktop/project/new/Resampled_Data/20220421/SSE_600366.csv\n",
      "SSE_600366.csv\n",
      "/home/ege/Desktop/project/new/Resampled_Data/20220421/SSE_600425.csv\n",
      "SSE_600425.csv\n",
      "/home/ege/Desktop/project/new/Resampled_Data/20220421/SSE_600448.csv\n",
      "SSE_600448.csv\n",
      "/home/ege/Desktop/project/new/Resampled_Data/20220421/SSE_600330.csv\n",
      "SSE_600330.csv\n",
      "/home/ege/Desktop/project/new/Resampled_Data/20220421/SSE_600704.csv\n",
      "SSE_600704.csv\n",
      "/home/ege/Desktop/project/new/Resampled_Data/20220421/SSE_600396.csv\n",
      "SSE_600396.csv\n",
      "/home/ege/Desktop/project/new/Resampled_Data/20220421/SSE_600533.csv\n",
      "SSE_600533.csv\n",
      "/home/ege/Desktop/project/new/Resampled_Data/20220421/SSE_600705.csv\n",
      "SSE_600705.csv\n",
      "/home/ege/Desktop/project/new/Resampled_Data/20220421/SSE_600428.csv\n",
      "SSE_600428.csv\n",
      "/home/ege/Desktop/project/new/Resampled_Data/20220421/SSE_600331.csv\n",
      "SSE_600331.csv\n",
      "/home/ege/Desktop/project/new/Resampled_Data/20220421/SSE_600699.csv\n",
      "SSE_600699.csv\n",
      "/home/ege/Desktop/project/new/Resampled_Data/20220421/SSE_600675.csv\n",
      "SSE_600675.csv\n",
      "/home/ege/Desktop/project/new/Resampled_Data/20220421/SSE_600395.csv\n",
      "SSE_600395.csv\n",
      "/home/ege/Desktop/project/new/Resampled_Data/20220421/SSE_600546.csv\n",
      "SSE_600546.csv\n",
      "/home/ege/Desktop/project/new/Resampled_Data/20220421/SSE_600312.csv\n",
      "SSE_600312.csv\n",
      "/home/ege/Desktop/project/new/Resampled_Data/20220421/SSE_600497.csv\n",
      "SSE_600497.csv\n",
      "/home/ege/Desktop/project/new/Resampled_Data/20220421/SSE_600684.csv\n",
      "SSE_600684.csv\n",
      "/home/ege/Desktop/project/new/Resampled_Data/20220421/SSE_600163.csv\n",
      "SSE_600163.csv\n",
      "/home/ege/Desktop/project/new/Resampled_Data/20220421/SSE_600491.csv\n",
      "SSE_600491.csv\n",
      "/home/ege/Desktop/project/new/Resampled_Data/20220421/SSE_600172.csv\n",
      "SSE_600172.csv\n",
      "/home/ege/Desktop/project/new/Resampled_Data/20220421/SSE_600489.csv\n",
      "SSE_600489.csv\n",
      "/home/ege/Desktop/project/new/Resampled_Data/20220421/SSE_600559.csv\n",
      "SSE_600559.csv\n",
      "/home/ege/Desktop/project/new/Resampled_Data/20220421/SSE_600683.csv\n",
      "SSE_600683.csv\n",
      "/home/ege/Desktop/project/new/Resampled_Data/20220421/SSE_600418.csv\n",
      "SSE_600418.csv\n",
      "/home/ege/Desktop/project/new/Resampled_Data/20220421/SSE_600649.csv\n",
      "SSE_600649.csv\n",
      "/home/ege/Desktop/project/new/Resampled_Data/20220421/SSE_600470.csv\n",
      "SSE_600470.csv\n",
      "/home/ege/Desktop/project/new/Resampled_Data/20220421/SSE_600572.csv\n",
      "SSE_600572.csv\n",
      "/home/ege/Desktop/project/new/Resampled_Data/20220421/SSE_600466.csv\n",
      "SSE_600466.csv\n",
      "/home/ege/Desktop/project/new/Resampled_Data/20220421/SSE_600336.csv\n",
      "SSE_600336.csv\n",
      "/home/ege/Desktop/project/new/Resampled_Data/20220421/SSE_600581.csv\n",
      "SSE_600581.csv\n",
      "/home/ege/Desktop/project/new/Resampled_Data/20220421/SSE_600690.csv\n",
      "SSE_600690.csv\n",
      "/home/ege/Desktop/project/new/Resampled_Data/20220421/SSE_600698.csv\n",
      "SSE_600698.csv\n",
      "/home/ege/Desktop/project/new/Resampled_Data/20220421/SSE_600467.csv\n",
      "SSE_600467.csv\n",
      "/home/ege/Desktop/project/new/Resampled_Data/20220421/SSE_600162.csv\n",
      "SSE_600162.csv\n",
      "/home/ege/Desktop/project/new/Resampled_Data/20220421/SSE_600653.csv\n",
      "SSE_600653.csv\n",
      "/home/ege/Desktop/project/new/Resampled_Data/20220421/SSE_600577.csv\n",
      "SSE_600577.csv\n",
      "/home/ege/Desktop/project/new/Resampled_Data/20220421/SSE_600370.csv\n",
      "SSE_600370.csv\n",
      "/home/ege/Desktop/project/new/Resampled_Data/20220421/SSE_600338.csv\n",
      "SSE_600338.csv\n",
      "/home/ege/Desktop/project/new/Resampled_Data/20220421/SSE_600582.csv\n",
      "SSE_600582.csv\n",
      "/home/ege/Desktop/project/new/Resampled_Data/20220421/SSE_600383.csv\n",
      "SSE_600383.csv\n",
      "/home/ege/Desktop/project/new/Resampled_Data/20220421/SSE_600516.csv\n",
      "SSE_600516.csv\n",
      "/home/ege/Desktop/project/new/Resampled_Data/20220421/SSE_600596.csv\n",
      "SSE_600596.csv\n",
      "/home/ege/Desktop/project/new/Resampled_Data/20220421/SSE_600409.csv\n",
      "SSE_600409.csv\n",
      "/home/ege/Desktop/project/new/Resampled_Data/20220421/SSE_600180.csv\n",
      "SSE_600180.csv\n",
      "/home/ege/Desktop/project/new/Resampled_Data/20220421/SSE_600325.csv\n",
      "SSE_600325.csv\n",
      "/home/ege/Desktop/project/new/Resampled_Data/20220421/SSE_600159.csv\n",
      "SSE_600159.csv\n",
      "/home/ege/Desktop/project/new/Resampled_Data/20220421/SSE_600703.csv\n",
      "SSE_600703.csv\n",
      "/home/ege/Desktop/project/new/Resampled_Data/20220421/SSE_600598.csv\n",
      "SSE_600598.csv\n",
      "/home/ege/Desktop/project/new/Resampled_Data/20220421/SSE_600657.csv\n",
      "SSE_600657.csv\n",
      "/home/ege/Desktop/project/new/Resampled_Data/20220421/SSE_600575.csv\n",
      "SSE_600575.csv\n",
      "/home/ege/Desktop/project/new/Resampled_Data/20220421/SSE_600438.csv\n",
      "SSE_600438.csv\n",
      "/home/ege/Desktop/project/new/Resampled_Data/20220421/SSE_600522.csv\n",
      "SSE_600522.csv\n",
      "/home/ege/Desktop/project/new/Resampled_Data/20220421/SSE_600367.csv\n",
      "SSE_600367.csv\n",
      "/home/ege/Desktop/project/new/Resampled_Data/20220421/SSE_600328.csv\n",
      "SSE_600328.csv\n",
      "/home/ege/Desktop/project/new/Resampled_Data/20220421/SSE_600628.csv\n",
      "SSE_600628.csv\n",
      "/home/ege/Desktop/project/new/Resampled_Data/20220421/SSE_600339.csv\n",
      "SSE_600339.csv\n",
      "/home/ege/Desktop/project/new/Resampled_Data/20220421/SSE_600686.csv\n",
      "SSE_600686.csv\n",
      "/home/ege/Desktop/project/new/Resampled_Data/20220421/SSE_600569.csv\n",
      "SSE_600569.csv\n",
      "20220426\n",
      "/home/ege/Desktop/project/new/Resampled_Data/20220426/SSE_600322.csv\n",
      "SSE_600322.csv\n",
      "/home/ege/Desktop/project/new/Resampled_Data/20220426/SSE_600153.csv\n",
      "SSE_600153.csv\n",
      "/home/ege/Desktop/project/new/Resampled_Data/20220426/SSE_600348.csv\n",
      "SSE_600348.csv\n",
      "/home/ege/Desktop/project/new/Resampled_Data/20220426/SSE_600354.csv\n",
      "SSE_600354.csv\n",
      "/home/ege/Desktop/project/new/Resampled_Data/20220426/SSE_600521.csv\n",
      "SSE_600521.csv\n",
      "/home/ege/Desktop/project/new/Resampled_Data/20220426/SSE_600176.csv\n",
      "SSE_600176.csv\n",
      "/home/ege/Desktop/project/new/Resampled_Data/20220426/SSE_600502.csv\n",
      "SSE_600502.csv\n",
      "/home/ege/Desktop/project/new/Resampled_Data/20220426/SSE_600499.csv\n",
      "SSE_600499.csv\n",
      "/home/ege/Desktop/project/new/Resampled_Data/20220426/SSE_600512.csv\n",
      "SSE_600512.csv\n",
      "/home/ege/Desktop/project/new/Resampled_Data/20220426/SSE_600170.csv\n",
      "SSE_600170.csv\n",
      "/home/ege/Desktop/project/new/Resampled_Data/20220426/SSE_600397.csv\n",
      "SSE_600397.csv\n",
      "/home/ege/Desktop/project/new/Resampled_Data/20220426/SSE_600335.csv\n",
      "SSE_600335.csv\n",
      "/home/ege/Desktop/project/new/Resampled_Data/20220426/SSE_600359.csv\n",
      "SSE_600359.csv\n",
      "/home/ege/Desktop/project/new/Resampled_Data/20220426/SSE_600487.csv\n",
      "SSE_600487.csv\n",
      "/home/ege/Desktop/project/new/Resampled_Data/20220426/SSE_600029.csv\n",
      "SSE_600029.csv\n",
      "/home/ege/Desktop/project/new/Resampled_Data/20220426/SSE_600366.csv\n",
      "SSE_600366.csv\n",
      "/home/ege/Desktop/project/new/Resampled_Data/20220426/SSE_600425.csv\n",
      "SSE_600425.csv\n",
      "/home/ege/Desktop/project/new/Resampled_Data/20220426/SSE_600448.csv\n",
      "SSE_600448.csv\n",
      "/home/ege/Desktop/project/new/Resampled_Data/20220426/SSE_600330.csv\n",
      "SSE_600330.csv\n",
      "/home/ege/Desktop/project/new/Resampled_Data/20220426/SSE_600396.csv\n",
      "SSE_600396.csv\n",
      "/home/ege/Desktop/project/new/Resampled_Data/20220426/SSE_600123.csv\n",
      "SSE_600123.csv\n",
      "/home/ege/Desktop/project/new/Resampled_Data/20220426/SSE_600428.csv\n",
      "SSE_600428.csv\n",
      "/home/ege/Desktop/project/new/Resampled_Data/20220426/SSE_600331.csv\n",
      "SSE_600331.csv\n",
      "/home/ege/Desktop/project/new/Resampled_Data/20220426/SSE_600121.csv\n",
      "SSE_600121.csv\n",
      "/home/ege/Desktop/project/new/Resampled_Data/20220426/SSE_600395.csv\n",
      "SSE_600395.csv\n",
      "/home/ege/Desktop/project/new/Resampled_Data/20220426/SSE_600115.csv\n",
      "SSE_600115.csv\n",
      "/home/ege/Desktop/project/new/Resampled_Data/20220426/SSE_600284.csv\n",
      "SSE_600284.csv\n",
      "/home/ege/Desktop/project/new/Resampled_Data/20220426/SSE_600312.csv\n",
      "SSE_600312.csv\n",
      "/home/ege/Desktop/project/new/Resampled_Data/20220426/SSE_600199.csv\n",
      "SSE_600199.csv\n",
      "/home/ege/Desktop/project/new/Resampled_Data/20220426/SSE_600497.csv\n",
      "SSE_600497.csv\n",
      "/home/ege/Desktop/project/new/Resampled_Data/20220426/SSE_600110.csv\n",
      "SSE_600110.csv\n",
      "/home/ege/Desktop/project/new/Resampled_Data/20220426/SSE_600491.csv\n",
      "SSE_600491.csv\n",
      "/home/ege/Desktop/project/new/Resampled_Data/20220426/SSE_600172.csv\n",
      "SSE_600172.csv\n",
      "/home/ege/Desktop/project/new/Resampled_Data/20220426/SSE_600489.csv\n",
      "SSE_600489.csv\n",
      "/home/ege/Desktop/project/new/Resampled_Data/20220426/SSE_600150.csv\n",
      "SSE_600150.csv\n",
      "/home/ege/Desktop/project/new/Resampled_Data/20220426/SSE_600208.csv\n",
      "SSE_600208.csv\n",
      "/home/ege/Desktop/project/new/Resampled_Data/20220426/SSE_600280.csv\n",
      "SSE_600280.csv\n",
      "/home/ege/Desktop/project/new/Resampled_Data/20220426/SSE_600418.csv\n",
      "SSE_600418.csv\n",
      "/home/ege/Desktop/project/new/Resampled_Data/20220426/SSE_600257.csv\n",
      "SSE_600257.csv\n",
      "/home/ege/Desktop/project/new/Resampled_Data/20220426/SSE_600149.csv\n",
      "SSE_600149.csv\n",
      "/home/ege/Desktop/project/new/Resampled_Data/20220426/SSE_600470.csv\n",
      "SSE_600470.csv\n",
      "/home/ege/Desktop/project/new/Resampled_Data/20220426/SSE_600248.csv\n",
      "SSE_600248.csv\n",
      "/home/ege/Desktop/project/new/Resampled_Data/20220426/SSE_600466.csv\n",
      "SSE_600466.csv\n",
      "/home/ege/Desktop/project/new/Resampled_Data/20220426/SSE_600166.csv\n",
      "SSE_600166.csv\n",
      "/home/ege/Desktop/project/new/Resampled_Data/20220426/SSE_600336.csv\n",
      "SSE_600336.csv\n",
      "/home/ege/Desktop/project/new/Resampled_Data/20220426/SSE_600238.csv\n",
      "SSE_600238.csv\n",
      "/home/ege/Desktop/project/new/Resampled_Data/20220426/SSE_600201.csv\n",
      "SSE_600201.csv\n",
      "/home/ege/Desktop/project/new/Resampled_Data/20220426/SSE_600467.csv\n",
      "SSE_600467.csv\n",
      "/home/ege/Desktop/project/new/Resampled_Data/20220426/SSE_600162.csv\n",
      "SSE_600162.csv\n",
      "/home/ege/Desktop/project/new/Resampled_Data/20220426/SSE_600256.csv\n",
      "SSE_600256.csv\n",
      "/home/ege/Desktop/project/new/Resampled_Data/20220426/SSE_600307.csv\n",
      "SSE_600307.csv\n",
      "/home/ege/Desktop/project/new/Resampled_Data/20220426/SSE_600370.csv\n",
      "SSE_600370.csv\n",
      "/home/ege/Desktop/project/new/Resampled_Data/20220426/SSE_600338.csv\n",
      "SSE_600338.csv\n",
      "/home/ege/Desktop/project/new/Resampled_Data/20220426/SSE_600157.csv\n",
      "SSE_600157.csv\n",
      "/home/ege/Desktop/project/new/Resampled_Data/20220426/SSE_600200.csv\n",
      "SSE_600200.csv\n",
      "/home/ege/Desktop/project/new/Resampled_Data/20220426/SSE_600185.csv\n",
      "SSE_600185.csv\n",
      "/home/ege/Desktop/project/new/Resampled_Data/20220426/SSE_600383.csv\n",
      "SSE_600383.csv\n",
      "/home/ege/Desktop/project/new/Resampled_Data/20220426/SSE_600516.csv\n",
      "SSE_600516.csv\n",
      "/home/ege/Desktop/project/new/Resampled_Data/20220426/SSE_600276.csv\n",
      "SSE_600276.csv\n",
      "/home/ege/Desktop/project/new/Resampled_Data/20220426/SSE_600409.csv\n",
      "SSE_600409.csv\n",
      "/home/ege/Desktop/project/new/Resampled_Data/20220426/SSE_600180.csv\n",
      "SSE_600180.csv\n",
      "/home/ege/Desktop/project/new/Resampled_Data/20220426/SSE_600325.csv\n",
      "SSE_600325.csv\n",
      "/home/ege/Desktop/project/new/Resampled_Data/20220426/SSE_600159.csv\n",
      "SSE_600159.csv\n",
      "/home/ege/Desktop/project/new/Resampled_Data/20220426/SSE_600277.csv\n",
      "SSE_600277.csv\n",
      "/home/ege/Desktop/project/new/Resampled_Data/20220426/SSE_600282.csv\n",
      "SSE_600282.csv\n",
      "/home/ege/Desktop/project/new/Resampled_Data/20220426/SSE_600438.csv\n",
      "SSE_600438.csv\n",
      "/home/ege/Desktop/project/new/Resampled_Data/20220426/SSE_600313.csv\n",
      "SSE_600313.csv\n",
      "/home/ege/Desktop/project/new/Resampled_Data/20220426/SSE_600367.csv\n",
      "SSE_600367.csv\n",
      "/home/ege/Desktop/project/new/Resampled_Data/20220426/SSE_600328.csv\n",
      "SSE_600328.csv\n",
      "/home/ege/Desktop/project/new/Resampled_Data/20220426/SSE_600141.csv\n",
      "SSE_600141.csv\n",
      "/home/ege/Desktop/project/new/Resampled_Data/20220426/SSE_600219.csv\n",
      "SSE_600219.csv\n",
      "/home/ege/Desktop/project/new/Resampled_Data/20220426/SSE_600339.csv\n",
      "SSE_600339.csv\n",
      "20220427\n",
      "/home/ege/Desktop/project/new/Resampled_Data/20220427/SSE_600322.csv\n",
      "SSE_600322.csv\n",
      "/home/ege/Desktop/project/new/Resampled_Data/20220427/SSE_600153.csv\n",
      "SSE_600153.csv\n",
      "/home/ege/Desktop/project/new/Resampled_Data/20220427/SSE_600348.csv\n",
      "SSE_600348.csv\n",
      "/home/ege/Desktop/project/new/Resampled_Data/20220427/SSE_600354.csv\n",
      "SSE_600354.csv\n",
      "/home/ege/Desktop/project/new/Resampled_Data/20220427/SSE_600521.csv\n",
      "SSE_600521.csv\n",
      "/home/ege/Desktop/project/new/Resampled_Data/20220427/SSE_600176.csv\n",
      "SSE_600176.csv\n",
      "/home/ege/Desktop/project/new/Resampled_Data/20220427/SSE_600502.csv\n",
      "SSE_600502.csv\n",
      "/home/ege/Desktop/project/new/Resampled_Data/20220427/SSE_600499.csv\n",
      "SSE_600499.csv\n",
      "/home/ege/Desktop/project/new/Resampled_Data/20220427/SSE_600512.csv\n",
      "SSE_600512.csv\n",
      "/home/ege/Desktop/project/new/Resampled_Data/20220427/SSE_600104.csv\n",
      "SSE_600104.csv\n",
      "/home/ege/Desktop/project/new/Resampled_Data/20220427/SSE_600170.csv\n",
      "SSE_600170.csv\n",
      "/home/ege/Desktop/project/new/Resampled_Data/20220427/SSE_600397.csv\n",
      "SSE_600397.csv\n",
      "/home/ege/Desktop/project/new/Resampled_Data/20220427/SSE_600335.csv\n",
      "SSE_600335.csv\n",
      "/home/ege/Desktop/project/new/Resampled_Data/20220427/SSE_600359.csv\n",
      "SSE_600359.csv\n",
      "/home/ege/Desktop/project/new/Resampled_Data/20220427/SSE_600487.csv\n",
      "SSE_600487.csv\n",
      "/home/ege/Desktop/project/new/Resampled_Data/20220427/SSE_600366.csv\n",
      "SSE_600366.csv\n",
      "/home/ege/Desktop/project/new/Resampled_Data/20220427/SSE_600425.csv\n",
      "SSE_600425.csv\n",
      "/home/ege/Desktop/project/new/Resampled_Data/20220427/SSE_600448.csv\n",
      "SSE_600448.csv\n",
      "/home/ege/Desktop/project/new/Resampled_Data/20220427/SSE_600330.csv\n",
      "SSE_600330.csv\n",
      "/home/ege/Desktop/project/new/Resampled_Data/20220427/SSE_600396.csv\n",
      "SSE_600396.csv\n",
      "/home/ege/Desktop/project/new/Resampled_Data/20220427/SSE_600123.csv\n",
      "SSE_600123.csv\n",
      "/home/ege/Desktop/project/new/Resampled_Data/20220427/SSE_600428.csv\n",
      "SSE_600428.csv\n",
      "/home/ege/Desktop/project/new/Resampled_Data/20220427/SSE_600331.csv\n",
      "SSE_600331.csv\n",
      "/home/ege/Desktop/project/new/Resampled_Data/20220427/SSE_600395.csv\n",
      "SSE_600395.csv\n",
      "/home/ege/Desktop/project/new/Resampled_Data/20220427/SSE_600284.csv\n",
      "SSE_600284.csv\n",
      "/home/ege/Desktop/project/new/Resampled_Data/20220427/SSE_600312.csv\n",
      "SSE_600312.csv\n",
      "/home/ege/Desktop/project/new/Resampled_Data/20220427/SSE_600199.csv\n",
      "SSE_600199.csv\n",
      "/home/ege/Desktop/project/new/Resampled_Data/20220427/SSE_600497.csv\n",
      "SSE_600497.csv\n",
      "/home/ege/Desktop/project/new/Resampled_Data/20220427/SSE_600163.csv\n",
      "SSE_600163.csv\n",
      "/home/ege/Desktop/project/new/Resampled_Data/20220427/SSE_600491.csv\n",
      "SSE_600491.csv\n",
      "/home/ege/Desktop/project/new/Resampled_Data/20220427/SSE_600172.csv\n",
      "SSE_600172.csv\n",
      "/home/ege/Desktop/project/new/Resampled_Data/20220427/SSE_600489.csv\n",
      "SSE_600489.csv\n",
      "/home/ege/Desktop/project/new/Resampled_Data/20220427/SSE_600150.csv\n",
      "SSE_600150.csv\n",
      "/home/ege/Desktop/project/new/Resampled_Data/20220427/SSE_600208.csv\n",
      "SSE_600208.csv\n",
      "/home/ege/Desktop/project/new/Resampled_Data/20220427/SSE_600280.csv\n",
      "SSE_600280.csv\n",
      "/home/ege/Desktop/project/new/Resampled_Data/20220427/SSE_600418.csv\n",
      "SSE_600418.csv\n",
      "/home/ege/Desktop/project/new/Resampled_Data/20220427/SSE_600257.csv\n",
      "SSE_600257.csv\n",
      "/home/ege/Desktop/project/new/Resampled_Data/20220427/SSE_600149.csv\n",
      "SSE_600149.csv\n",
      "/home/ege/Desktop/project/new/Resampled_Data/20220427/SSE_600470.csv\n",
      "SSE_600470.csv\n",
      "/home/ege/Desktop/project/new/Resampled_Data/20220427/SSE_600248.csv\n",
      "SSE_600248.csv\n",
      "/home/ege/Desktop/project/new/Resampled_Data/20220427/SSE_600466.csv\n",
      "SSE_600466.csv\n",
      "/home/ege/Desktop/project/new/Resampled_Data/20220427/SSE_600166.csv\n",
      "SSE_600166.csv\n",
      "/home/ege/Desktop/project/new/Resampled_Data/20220427/SSE_600336.csv\n",
      "SSE_600336.csv\n",
      "/home/ege/Desktop/project/new/Resampled_Data/20220427/SSE_600238.csv\n",
      "SSE_600238.csv\n",
      "/home/ege/Desktop/project/new/Resampled_Data/20220427/SSE_600201.csv\n",
      "SSE_600201.csv\n",
      "/home/ege/Desktop/project/new/Resampled_Data/20220427/SSE_600027.csv\n",
      "SSE_600027.csv\n",
      "/home/ege/Desktop/project/new/Resampled_Data/20220427/SSE_600467.csv\n",
      "SSE_600467.csv\n",
      "/home/ege/Desktop/project/new/Resampled_Data/20220427/SSE_600162.csv\n",
      "SSE_600162.csv\n",
      "/home/ege/Desktop/project/new/Resampled_Data/20220427/SSE_600256.csv\n",
      "SSE_600256.csv\n",
      "/home/ege/Desktop/project/new/Resampled_Data/20220427/SSE_600307.csv\n",
      "SSE_600307.csv\n",
      "/home/ege/Desktop/project/new/Resampled_Data/20220427/SSE_600370.csv\n",
      "SSE_600370.csv\n",
      "/home/ege/Desktop/project/new/Resampled_Data/20220427/SSE_600338.csv\n",
      "SSE_600338.csv\n",
      "/home/ege/Desktop/project/new/Resampled_Data/20220427/SSE_600157.csv\n",
      "SSE_600157.csv\n",
      "/home/ege/Desktop/project/new/Resampled_Data/20220427/SSE_600200.csv\n",
      "SSE_600200.csv\n",
      "/home/ege/Desktop/project/new/Resampled_Data/20220427/SSE_600185.csv\n",
      "SSE_600185.csv\n",
      "/home/ege/Desktop/project/new/Resampled_Data/20220427/SSE_600383.csv\n",
      "SSE_600383.csv\n",
      "/home/ege/Desktop/project/new/Resampled_Data/20220427/SSE_600516.csv\n",
      "SSE_600516.csv\n",
      "/home/ege/Desktop/project/new/Resampled_Data/20220427/SSE_600276.csv\n",
      "SSE_600276.csv\n",
      "/home/ege/Desktop/project/new/Resampled_Data/20220427/SSE_600409.csv\n",
      "SSE_600409.csv\n",
      "/home/ege/Desktop/project/new/Resampled_Data/20220427/SSE_600180.csv\n",
      "SSE_600180.csv\n",
      "/home/ege/Desktop/project/new/Resampled_Data/20220427/SSE_600325.csv\n",
      "SSE_600325.csv\n",
      "/home/ege/Desktop/project/new/Resampled_Data/20220427/SSE_600159.csv\n",
      "SSE_600159.csv\n",
      "/home/ege/Desktop/project/new/Resampled_Data/20220427/SSE_600277.csv\n",
      "SSE_600277.csv\n",
      "/home/ege/Desktop/project/new/Resampled_Data/20220427/SSE_600282.csv\n",
      "SSE_600282.csv\n",
      "/home/ege/Desktop/project/new/Resampled_Data/20220427/SSE_600438.csv\n",
      "SSE_600438.csv\n",
      "/home/ege/Desktop/project/new/Resampled_Data/20220427/SSE_600313.csv\n",
      "SSE_600313.csv\n",
      "/home/ege/Desktop/project/new/Resampled_Data/20220427/SSE_600367.csv\n",
      "SSE_600367.csv\n",
      "/home/ege/Desktop/project/new/Resampled_Data/20220427/SSE_600328.csv\n",
      "SSE_600328.csv\n",
      "/home/ege/Desktop/project/new/Resampled_Data/20220427/SSE_600141.csv\n",
      "SSE_600141.csv\n",
      "/home/ege/Desktop/project/new/Resampled_Data/20220427/SSE_600026.csv\n",
      "SSE_600026.csv\n",
      "/home/ege/Desktop/project/new/Resampled_Data/20220427/SSE_600219.csv\n",
      "SSE_600219.csv\n",
      "/home/ege/Desktop/project/new/Resampled_Data/20220427/SSE_600339.csv\n",
      "SSE_600339.csv\n"
     ]
    }
   ],
   "source": [
    "for day in day_paths: \n",
    "    print(day)\n",
    "    for root, dirs, files in walk(base_path.format(day)+\"/\"):\n",
    "        for file in files:\n",
    "            print(base_path.format(day)+\"/\"+file)\n",
    "            if \"checkpoint\" in file:\n",
    "                print(file + \" CHECKPOINT\")\n",
    "                pass\n",
    "            elif file.endswith('.csv'):\n",
    "                print(file)\n",
    "                df = pd.read_csv(base_path.format(day)+\"/\"+file)\n",
    "                df['ts']=pd.to_datetime(df['ts'], unit='ns', errors='ignore')\n",
    "                df.drop(df.index[120:211],axis=0,inplace=True)\n",
    "                df.set_index('ts',inplace=True)\n",
    "                df = df.loc[:, ['ltp']]\n",
    "                df =df.diff(periods=1) # use pandas.DataFrame.diff to save their difference\n",
    "                df.rename(columns = {'ltp':file.replace('.csv','')}, inplace = True)\n",
    "                df.to_csv(path_resample+day+\"/\"+file)"
   ]
  },
  {
   "cell_type": "markdown",
   "id": "31927c6e-d06a-4049-8061-40071ea7cde1",
   "metadata": {},
   "source": [
    "#### Merge price dataframes in one dataframe and save it "
   ]
  },
  {
   "cell_type": "code",
   "execution_count": 31,
   "id": "7a6d3967-d7e2-4706-8d0d-50890f42c373",
   "metadata": {},
   "outputs": [],
   "source": [
    "diffs_path='/home/ege/Desktop/project/new/Stock_Prices/{}'"
   ]
  },
  {
   "cell_type": "code",
   "execution_count": 119,
   "id": "e162e557-aebe-4414-b5aa-8eece01d9e86",
   "metadata": {
    "collapsed": true,
    "jupyter": {
     "outputs_hidden": true
    },
    "tags": []
   },
   "outputs": [
    {
     "name": "stdout",
     "output_type": "stream",
     "text": [
      "20220420\n",
      "/home/ege/Desktop/project/new/Resampled_Data/20220420/SSE_600740.csv\n",
      "SSE_600740.csv\n",
      "/home/ege/Desktop/project/new/Resampled_Data/20220420/SSE_600733.csv\n",
      "SSE_600733.csv\n",
      "/home/ege/Desktop/project/new/Resampled_Data/20220420/SSE_600725.csv\n",
      "SSE_600725.csv\n",
      "/home/ege/Desktop/project/new/Resampled_Data/20220420/SSE_600521.csv\n",
      "SSE_600521.csv\n",
      "/home/ege/Desktop/project/new/Resampled_Data/20220420/SSE_600606.csv\n",
      "SSE_600606.csv\n",
      "/home/ege/Desktop/project/new/Resampled_Data/20220420/SSE_600502.csv\n",
      "SSE_600502.csv\n",
      "/home/ege/Desktop/project/new/Resampled_Data/20220420/SSE_600499.csv\n",
      "SSE_600499.csv\n",
      "/home/ege/Desktop/project/new/Resampled_Data/20220420/SSE_600512.csv\n",
      "SSE_600512.csv\n",
      "/home/ege/Desktop/project/new/Resampled_Data/20220420/SSE_600397.csv\n",
      "SSE_600397.csv\n",
      "/home/ege/Desktop/project/new/Resampled_Data/20220420/SSE_600616.csv\n",
      "SSE_600616.csv\n",
      "/home/ege/Desktop/project/new/Resampled_Data/20220420/SSE_600588.csv\n",
      "SSE_600588.csv\n",
      "/home/ege/Desktop/project/new/Resampled_Data/20220420/SSE_600487.csv\n",
      "SSE_600487.csv\n",
      "/home/ege/Desktop/project/new/Resampled_Data/20220420/SSE_600425.csv\n",
      "SSE_600425.csv\n",
      "/home/ege/Desktop/project/new/Resampled_Data/20220420/SSE_600448.csv\n",
      "SSE_600448.csv\n"
     ]
    },
    {
     "name": "stderr",
     "output_type": "stream",
     "text": [
      "/tmp/ipykernel_37775/3705381019.py:14: FutureWarning: The frame.append method is deprecated and will be removed from pandas in a future version. Use pandas.concat instead.\n",
      "  concat_df = concat_df.append(temp_df_t.iloc[1], ignore_index = False)\n",
      "/tmp/ipykernel_37775/3705381019.py:14: FutureWarning: The frame.append method is deprecated and will be removed from pandas in a future version. Use pandas.concat instead.\n",
      "  concat_df = concat_df.append(temp_df_t.iloc[1], ignore_index = False)\n",
      "/tmp/ipykernel_37775/3705381019.py:14: FutureWarning: The frame.append method is deprecated and will be removed from pandas in a future version. Use pandas.concat instead.\n",
      "  concat_df = concat_df.append(temp_df_t.iloc[1], ignore_index = False)\n",
      "/tmp/ipykernel_37775/3705381019.py:14: FutureWarning: The frame.append method is deprecated and will be removed from pandas in a future version. Use pandas.concat instead.\n",
      "  concat_df = concat_df.append(temp_df_t.iloc[1], ignore_index = False)\n",
      "/tmp/ipykernel_37775/3705381019.py:14: FutureWarning: The frame.append method is deprecated and will be removed from pandas in a future version. Use pandas.concat instead.\n",
      "  concat_df = concat_df.append(temp_df_t.iloc[1], ignore_index = False)\n",
      "/tmp/ipykernel_37775/3705381019.py:14: FutureWarning: The frame.append method is deprecated and will be removed from pandas in a future version. Use pandas.concat instead.\n",
      "  concat_df = concat_df.append(temp_df_t.iloc[1], ignore_index = False)\n",
      "/tmp/ipykernel_37775/3705381019.py:14: FutureWarning: The frame.append method is deprecated and will be removed from pandas in a future version. Use pandas.concat instead.\n",
      "  concat_df = concat_df.append(temp_df_t.iloc[1], ignore_index = False)\n",
      "/tmp/ipykernel_37775/3705381019.py:14: FutureWarning: The frame.append method is deprecated and will be removed from pandas in a future version. Use pandas.concat instead.\n",
      "  concat_df = concat_df.append(temp_df_t.iloc[1], ignore_index = False)\n",
      "/tmp/ipykernel_37775/3705381019.py:14: FutureWarning: The frame.append method is deprecated and will be removed from pandas in a future version. Use pandas.concat instead.\n",
      "  concat_df = concat_df.append(temp_df_t.iloc[1], ignore_index = False)\n",
      "/tmp/ipykernel_37775/3705381019.py:14: FutureWarning: The frame.append method is deprecated and will be removed from pandas in a future version. Use pandas.concat instead.\n",
      "  concat_df = concat_df.append(temp_df_t.iloc[1], ignore_index = False)\n",
      "/tmp/ipykernel_37775/3705381019.py:14: FutureWarning: The frame.append method is deprecated and will be removed from pandas in a future version. Use pandas.concat instead.\n",
      "  concat_df = concat_df.append(temp_df_t.iloc[1], ignore_index = False)\n",
      "/tmp/ipykernel_37775/3705381019.py:14: FutureWarning: The frame.append method is deprecated and will be removed from pandas in a future version. Use pandas.concat instead.\n",
      "  concat_df = concat_df.append(temp_df_t.iloc[1], ignore_index = False)\n",
      "/tmp/ipykernel_37775/3705381019.py:14: FutureWarning: The frame.append method is deprecated and will be removed from pandas in a future version. Use pandas.concat instead.\n",
      "  concat_df = concat_df.append(temp_df_t.iloc[1], ignore_index = False)\n",
      "/tmp/ipykernel_37775/3705381019.py:14: FutureWarning: The frame.append method is deprecated and will be removed from pandas in a future version. Use pandas.concat instead.\n",
      "  concat_df = concat_df.append(temp_df_t.iloc[1], ignore_index = False)\n",
      "/tmp/ipykernel_37775/3705381019.py:14: FutureWarning: The frame.append method is deprecated and will be removed from pandas in a future version. Use pandas.concat instead.\n",
      "  concat_df = concat_df.append(temp_df_t.iloc[1], ignore_index = False)\n"
     ]
    },
    {
     "name": "stdout",
     "output_type": "stream",
     "text": [
      "/home/ege/Desktop/project/new/Resampled_Data/20220420/SSE_600704.csv\n",
      "SSE_600704.csv\n",
      "/home/ege/Desktop/project/new/Resampled_Data/20220420/SSE_600396.csv\n",
      "SSE_600396.csv\n",
      "/home/ege/Desktop/project/new/Resampled_Data/20220420/SSE_600533.csv\n",
      "SSE_600533.csv\n",
      "/home/ege/Desktop/project/new/Resampled_Data/20220420/SSE_600705.csv\n",
      "SSE_600705.csv\n",
      "/home/ege/Desktop/project/new/Resampled_Data/20220420/SSE_600428.csv\n",
      "SSE_600428.csv\n",
      "/home/ege/Desktop/project/new/Resampled_Data/20220420/SSE_600699.csv\n",
      "SSE_600699.csv\n",
      "/home/ege/Desktop/project/new/Resampled_Data/20220420/SSE_600675.csv\n",
      "SSE_600675.csv\n",
      "/home/ege/Desktop/project/new/Resampled_Data/20220420/SSE_600546.csv\n",
      "SSE_600546.csv\n",
      "/home/ege/Desktop/project/new/Resampled_Data/20220420/SSE_600497.csv\n",
      "SSE_600497.csv\n",
      "/home/ege/Desktop/project/new/Resampled_Data/20220420/SSE_600684.csv\n",
      "SSE_600684.csv\n",
      "/home/ege/Desktop/project/new/Resampled_Data/20220420/SSE_600163.csv\n",
      "SSE_600163.csv\n",
      "/home/ege/Desktop/project/new/Resampled_Data/20220420/SSE_600743.csv\n",
      "SSE_600743.csv\n",
      "/home/ege/Desktop/project/new/Resampled_Data/20220420/SSE_600782.csv\n",
      "SSE_600782.csv\n",
      "/home/ege/Desktop/project/new/Resampled_Data/20220420/SSE_600491.csv\n",
      "SSE_600491.csv"
     ]
    },
    {
     "name": "stderr",
     "output_type": "stream",
     "text": [
      "/tmp/ipykernel_37775/3705381019.py:14: FutureWarning: The frame.append method is deprecated and will be removed from pandas in a future version. Use pandas.concat instead.\n",
      "  concat_df = concat_df.append(temp_df_t.iloc[1], ignore_index = False)\n",
      "/tmp/ipykernel_37775/3705381019.py:14: FutureWarning: The frame.append method is deprecated and will be removed from pandas in a future version. Use pandas.concat instead.\n",
      "  concat_df = concat_df.append(temp_df_t.iloc[1], ignore_index = False)\n",
      "/tmp/ipykernel_37775/3705381019.py:14: FutureWarning: The frame.append method is deprecated and will be removed from pandas in a future version. Use pandas.concat instead.\n",
      "  concat_df = concat_df.append(temp_df_t.iloc[1], ignore_index = False)\n",
      "/tmp/ipykernel_37775/3705381019.py:14: FutureWarning: The frame.append method is deprecated and will be removed from pandas in a future version. Use pandas.concat instead.\n",
      "  concat_df = concat_df.append(temp_df_t.iloc[1], ignore_index = False)\n",
      "/tmp/ipykernel_37775/3705381019.py:14: FutureWarning: The frame.append method is deprecated and will be removed from pandas in a future version. Use pandas.concat instead.\n",
      "  concat_df = concat_df.append(temp_df_t.iloc[1], ignore_index = False)\n",
      "/tmp/ipykernel_37775/3705381019.py:14: FutureWarning: The frame.append method is deprecated and will be removed from pandas in a future version. Use pandas.concat instead.\n",
      "  concat_df = concat_df.append(temp_df_t.iloc[1], ignore_index = False)\n",
      "/tmp/ipykernel_37775/3705381019.py:14: FutureWarning: The frame.append method is deprecated and will be removed from pandas in a future version. Use pandas.concat instead.\n",
      "  concat_df = concat_df.append(temp_df_t.iloc[1], ignore_index = False)\n",
      "/tmp/ipykernel_37775/3705381019.py:14: FutureWarning: The frame.append method is deprecated and will be removed from pandas in a future version. Use pandas.concat instead.\n",
      "  concat_df = concat_df.append(temp_df_t.iloc[1], ignore_index = False)\n",
      "/tmp/ipykernel_37775/3705381019.py:14: FutureWarning: The frame.append method is deprecated and will be removed from pandas in a future version. Use pandas.concat instead.\n",
      "  concat_df = concat_df.append(temp_df_t.iloc[1], ignore_index = False)\n",
      "/tmp/ipykernel_37775/3705381019.py:14: FutureWarning: The frame.append method is deprecated and will be removed from pandas in a future version. Use pandas.concat instead.\n",
      "  concat_df = concat_df.append(temp_df_t.iloc[1], ignore_index = False)\n",
      "/tmp/ipykernel_37775/3705381019.py:14: FutureWarning: The frame.append method is deprecated and will be removed from pandas in a future version. Use pandas.concat instead.\n",
      "  concat_df = concat_df.append(temp_df_t.iloc[1], ignore_index = False)\n",
      "/tmp/ipykernel_37775/3705381019.py:14: FutureWarning: The frame.append method is deprecated and will be removed from pandas in a future version. Use pandas.concat instead.\n",
      "  concat_df = concat_df.append(temp_df_t.iloc[1], ignore_index = False)\n",
      "/tmp/ipykernel_37775/3705381019.py:14: FutureWarning: The frame.append method is deprecated and will be removed from pandas in a future version. Use pandas.concat instead.\n",
      "  concat_df = concat_df.append(temp_df_t.iloc[1], ignore_index = False)\n",
      "/tmp/ipykernel_37775/3705381019.py:14: FutureWarning: The frame.append method is deprecated and will be removed from pandas in a future version. Use pandas.concat instead.\n",
      "  concat_df = concat_df.append(temp_df_t.iloc[1], ignore_index = False)\n"
     ]
    },
    {
     "name": "stdout",
     "output_type": "stream",
     "text": [
      "\n",
      "/home/ege/Desktop/project/new/Resampled_Data/20220420/SSE_600489.csv\n",
      "SSE_600489.csv\n",
      "/home/ege/Desktop/project/new/Resampled_Data/20220420/SSE_600765.csv\n",
      "SSE_600765.csv\n",
      "/home/ege/Desktop/project/new/Resampled_Data/20220420/SSE_600770.csv\n",
      "SSE_600770.csv\n",
      "/home/ege/Desktop/project/new/Resampled_Data/20220420/SSE_600559.csv\n",
      "SSE_600559.csv\n",
      "/home/ege/Desktop/project/new/Resampled_Data/20220420/SSE_600208.csv\n",
      "SSE_600208.csv\n",
      "/home/ege/Desktop/project/new/Resampled_Data/20220420/SSE_600683.csv\n",
      "SSE_600683.csv\n",
      "/home/ege/Desktop/project/new/Resampled_Data/20220420/SSE_600280.csv\n",
      "SSE_600280.csv\n",
      "/home/ege/Desktop/project/new/Resampled_Data/20220420/SSE_600418.csv\n",
      "SSE_600418.csv\n",
      "/home/ege/Desktop/project/new/Resampled_Data/20220420/SSE_600649.csv\n",
      "SSE_600649.csv\n",
      "/home/ege/Desktop/project/new/Resampled_Data/20220420/SSE_600257.csv\n",
      "SSE_600257.csv\n"
     ]
    },
    {
     "name": "stderr",
     "output_type": "stream",
     "text": [
      "/tmp/ipykernel_37775/3705381019.py:14: FutureWarning: The frame.append method is deprecated and will be removed from pandas in a future version. Use pandas.concat instead.\n",
      "  concat_df = concat_df.append(temp_df_t.iloc[1], ignore_index = False)\n",
      "/tmp/ipykernel_37775/3705381019.py:14: FutureWarning: The frame.append method is deprecated and will be removed from pandas in a future version. Use pandas.concat instead.\n",
      "  concat_df = concat_df.append(temp_df_t.iloc[1], ignore_index = False)\n",
      "/tmp/ipykernel_37775/3705381019.py:14: FutureWarning: The frame.append method is deprecated and will be removed from pandas in a future version. Use pandas.concat instead.\n",
      "  concat_df = concat_df.append(temp_df_t.iloc[1], ignore_index = False)\n",
      "/tmp/ipykernel_37775/3705381019.py:14: FutureWarning: The frame.append method is deprecated and will be removed from pandas in a future version. Use pandas.concat instead.\n",
      "  concat_df = concat_df.append(temp_df_t.iloc[1], ignore_index = False)\n",
      "/tmp/ipykernel_37775/3705381019.py:14: FutureWarning: The frame.append method is deprecated and will be removed from pandas in a future version. Use pandas.concat instead.\n",
      "  concat_df = concat_df.append(temp_df_t.iloc[1], ignore_index = False)\n",
      "/tmp/ipykernel_37775/3705381019.py:14: FutureWarning: The frame.append method is deprecated and will be removed from pandas in a future version. Use pandas.concat instead.\n",
      "  concat_df = concat_df.append(temp_df_t.iloc[1], ignore_index = False)\n",
      "/tmp/ipykernel_37775/3705381019.py:14: FutureWarning: The frame.append method is deprecated and will be removed from pandas in a future version. Use pandas.concat instead.\n",
      "  concat_df = concat_df.append(temp_df_t.iloc[1], ignore_index = False)\n",
      "/tmp/ipykernel_37775/3705381019.py:14: FutureWarning: The frame.append method is deprecated and will be removed from pandas in a future version. Use pandas.concat instead.\n",
      "  concat_df = concat_df.append(temp_df_t.iloc[1], ignore_index = False)\n",
      "/tmp/ipykernel_37775/3705381019.py:14: FutureWarning: The frame.append method is deprecated and will be removed from pandas in a future version. Use pandas.concat instead.\n",
      "  concat_df = concat_df.append(temp_df_t.iloc[1], ignore_index = False)\n",
      "/tmp/ipykernel_37775/3705381019.py:14: FutureWarning: The frame.append method is deprecated and will be removed from pandas in a future version. Use pandas.concat instead.\n",
      "  concat_df = concat_df.append(temp_df_t.iloc[1], ignore_index = False)\n",
      "/tmp/ipykernel_37775/3705381019.py:14: FutureWarning: The frame.append method is deprecated and will be removed from pandas in a future version. Use pandas.concat instead.\n",
      "  concat_df = concat_df.append(temp_df_t.iloc[1], ignore_index = False)\n"
     ]
    },
    {
     "name": "stdout",
     "output_type": "stream",
     "text": [
      "/home/ege/Desktop/project/new/Resampled_Data/20220420/SSE_600470.csv\n",
      "SSE_600470.csv\n",
      "/home/ege/Desktop/project/new/Resampled_Data/20220420/SSE_600248.csv\n",
      "SSE_600248.csv\n",
      "/home/ege/Desktop/project/new/Resampled_Data/20220420/SSE_600708.csv\n",
      "SSE_600708.csv\n",
      "/home/ege/Desktop/project/new/Resampled_Data/20220420/SSE_600572.csv\n",
      "SSE_600572.csv\n",
      "/home/ege/Desktop/project/new/Resampled_Data/20220420/SSE_600466.csv\n",
      "SSE_600466.csv\n",
      "/home/ege/Desktop/project/new/Resampled_Data/20220420/SSE_600736.csv\n",
      "SSE_600736.csv\n",
      "/home/ege/Desktop/project/new/Resampled_Data/20220420/SSE_600238.csv\n",
      "SSE_600238.csv\n",
      "/home/ege/Desktop/project/new/Resampled_Data/20220420/SSE_600581.csv\n",
      "SSE_600581.csv\n",
      "/home/ege/Desktop/project/new/Resampled_Data/20220420/SSE_600690.csv\n",
      "SSE_600690.csv\n",
      "/home/ege/Desktop/project/new/Resampled_Data/20220420/SSE_600201.csv\n",
      "SSE_600201.csv\n"
     ]
    },
    {
     "name": "stderr",
     "output_type": "stream",
     "text": [
      "/tmp/ipykernel_37775/3705381019.py:14: FutureWarning: The frame.append method is deprecated and will be removed from pandas in a future version. Use pandas.concat instead.\n",
      "  concat_df = concat_df.append(temp_df_t.iloc[1], ignore_index = False)\n",
      "/tmp/ipykernel_37775/3705381019.py:14: FutureWarning: The frame.append method is deprecated and will be removed from pandas in a future version. Use pandas.concat instead.\n",
      "  concat_df = concat_df.append(temp_df_t.iloc[1], ignore_index = False)\n",
      "/tmp/ipykernel_37775/3705381019.py:14: FutureWarning: The frame.append method is deprecated and will be removed from pandas in a future version. Use pandas.concat instead.\n",
      "  concat_df = concat_df.append(temp_df_t.iloc[1], ignore_index = False)\n",
      "/tmp/ipykernel_37775/3705381019.py:14: FutureWarning: The frame.append method is deprecated and will be removed from pandas in a future version. Use pandas.concat instead.\n",
      "  concat_df = concat_df.append(temp_df_t.iloc[1], ignore_index = False)\n",
      "/tmp/ipykernel_37775/3705381019.py:14: FutureWarning: The frame.append method is deprecated and will be removed from pandas in a future version. Use pandas.concat instead.\n",
      "  concat_df = concat_df.append(temp_df_t.iloc[1], ignore_index = False)\n",
      "/tmp/ipykernel_37775/3705381019.py:14: FutureWarning: The frame.append method is deprecated and will be removed from pandas in a future version. Use pandas.concat instead.\n",
      "  concat_df = concat_df.append(temp_df_t.iloc[1], ignore_index = False)\n",
      "/tmp/ipykernel_37775/3705381019.py:14: FutureWarning: The frame.append method is deprecated and will be removed from pandas in a future version. Use pandas.concat instead.\n",
      "  concat_df = concat_df.append(temp_df_t.iloc[1], ignore_index = False)\n",
      "/tmp/ipykernel_37775/3705381019.py:14: FutureWarning: The frame.append method is deprecated and will be removed from pandas in a future version. Use pandas.concat instead.\n",
      "  concat_df = concat_df.append(temp_df_t.iloc[1], ignore_index = False)\n",
      "/tmp/ipykernel_37775/3705381019.py:14: FutureWarning: The frame.append method is deprecated and will be removed from pandas in a future version. Use pandas.concat instead.\n",
      "  concat_df = concat_df.append(temp_df_t.iloc[1], ignore_index = False)\n",
      "/tmp/ipykernel_37775/3705381019.py:14: FutureWarning: The frame.append method is deprecated and will be removed from pandas in a future version. Use pandas.concat instead.\n",
      "  concat_df = concat_df.append(temp_df_t.iloc[1], ignore_index = False)\n"
     ]
    },
    {
     "name": "stdout",
     "output_type": "stream",
     "text": [
      "/home/ege/Desktop/project/new/Resampled_Data/20220420/SSE_600698.csv\n",
      "SSE_600698.csv\n",
      "/home/ege/Desktop/project/new/Resampled_Data/20220420/SSE_600777.csv\n",
      "SSE_600777.csv\n",
      "/home/ege/Desktop/project/new/Resampled_Data/20220420/SSE_600467.csv\n",
      "SSE_600467.csv\n",
      "/home/ege/Desktop/project/new/Resampled_Data/20220420/SSE_600653.csv\n",
      "SSE_600653.csv\n",
      "/home/ege/Desktop/project/new/Resampled_Data/20220420/SSE_600577.csv\n",
      "SSE_600577.csv\n",
      "/home/ege/Desktop/project/new/Resampled_Data/20220420/SSE_600370.csv\n",
      "SSE_600370.csv\n",
      "/home/ege/Desktop/project/new/Resampled_Data/20220420/SSE_600200.csv\n",
      "SSE_600200.csv\n",
      "/home/ege/Desktop/project/new/Resampled_Data/20220420/SSE_600185.csv\n",
      "SSE_600185.csv\n"
     ]
    },
    {
     "name": "stderr",
     "output_type": "stream",
     "text": [
      "/tmp/ipykernel_37775/3705381019.py:14: FutureWarning: The frame.append method is deprecated and will be removed from pandas in a future version. Use pandas.concat instead.\n",
      "  concat_df = concat_df.append(temp_df_t.iloc[1], ignore_index = False)\n",
      "/tmp/ipykernel_37775/3705381019.py:14: FutureWarning: The frame.append method is deprecated and will be removed from pandas in a future version. Use pandas.concat instead.\n",
      "  concat_df = concat_df.append(temp_df_t.iloc[1], ignore_index = False)\n",
      "/tmp/ipykernel_37775/3705381019.py:14: FutureWarning: The frame.append method is deprecated and will be removed from pandas in a future version. Use pandas.concat instead.\n",
      "  concat_df = concat_df.append(temp_df_t.iloc[1], ignore_index = False)\n",
      "/tmp/ipykernel_37775/3705381019.py:14: FutureWarning: The frame.append method is deprecated and will be removed from pandas in a future version. Use pandas.concat instead.\n",
      "  concat_df = concat_df.append(temp_df_t.iloc[1], ignore_index = False)\n",
      "/tmp/ipykernel_37775/3705381019.py:14: FutureWarning: The frame.append method is deprecated and will be removed from pandas in a future version. Use pandas.concat instead.\n",
      "  concat_df = concat_df.append(temp_df_t.iloc[1], ignore_index = False)\n",
      "/tmp/ipykernel_37775/3705381019.py:14: FutureWarning: The frame.append method is deprecated and will be removed from pandas in a future version. Use pandas.concat instead.\n",
      "  concat_df = concat_df.append(temp_df_t.iloc[1], ignore_index = False)\n",
      "/tmp/ipykernel_37775/3705381019.py:14: FutureWarning: The frame.append method is deprecated and will be removed from pandas in a future version. Use pandas.concat instead.\n",
      "  concat_df = concat_df.append(temp_df_t.iloc[1], ignore_index = False)\n",
      "/tmp/ipykernel_37775/3705381019.py:14: FutureWarning: The frame.append method is deprecated and will be removed from pandas in a future version. Use pandas.concat instead.\n",
      "  concat_df = concat_df.append(temp_df_t.iloc[1], ignore_index = False)\n",
      "/tmp/ipykernel_37775/3705381019.py:14: FutureWarning: The frame.append method is deprecated and will be removed from pandas in a future version. Use pandas.concat instead.\n",
      "  concat_df = concat_df.append(temp_df_t.iloc[1], ignore_index = False)\n"
     ]
    },
    {
     "name": "stdout",
     "output_type": "stream",
     "text": [
      "/home/ege/Desktop/project/new/Resampled_Data/20220420/SSE_600582.csv\n",
      "SSE_600582.csv\n",
      "/home/ege/Desktop/project/new/Resampled_Data/20220420/SSE_600711.csv\n",
      "SSE_600711.csv\n",
      "/home/ege/Desktop/project/new/Resampled_Data/20220420/SSE_600516.csv\n",
      "SSE_600516.csv\n",
      "/home/ege/Desktop/project/new/Resampled_Data/20220420/SSE_600100.csv\n",
      "SSE_600100.csv\n",
      "/home/ege/Desktop/project/new/Resampled_Data/20220420/SSE_600596.csv\n",
      "SSE_600596.csv\n",
      "/home/ege/Desktop/project/new/Resampled_Data/20220420/SSE_600409.csv\n",
      "SSE_600409.csv\n",
      "/home/ege/Desktop/project/new/Resampled_Data/20220420/SSE_600703.csv\n",
      "SSE_600703.csv\n",
      "/home/ege/Desktop/project/new/Resampled_Data/20220420/SSE_600598.csv\n",
      "SSE_600598.csv\n"
     ]
    },
    {
     "name": "stderr",
     "output_type": "stream",
     "text": [
      "/tmp/ipykernel_37775/3705381019.py:14: FutureWarning: The frame.append method is deprecated and will be removed from pandas in a future version. Use pandas.concat instead.\n",
      "  concat_df = concat_df.append(temp_df_t.iloc[1], ignore_index = False)\n",
      "/tmp/ipykernel_37775/3705381019.py:14: FutureWarning: The frame.append method is deprecated and will be removed from pandas in a future version. Use pandas.concat instead.\n",
      "  concat_df = concat_df.append(temp_df_t.iloc[1], ignore_index = False)\n",
      "/tmp/ipykernel_37775/3705381019.py:14: FutureWarning: The frame.append method is deprecated and will be removed from pandas in a future version. Use pandas.concat instead.\n",
      "  concat_df = concat_df.append(temp_df_t.iloc[1], ignore_index = False)\n",
      "/tmp/ipykernel_37775/3705381019.py:14: FutureWarning: The frame.append method is deprecated and will be removed from pandas in a future version. Use pandas.concat instead.\n",
      "  concat_df = concat_df.append(temp_df_t.iloc[1], ignore_index = False)\n",
      "/tmp/ipykernel_37775/3705381019.py:14: FutureWarning: The frame.append method is deprecated and will be removed from pandas in a future version. Use pandas.concat instead.\n",
      "  concat_df = concat_df.append(temp_df_t.iloc[1], ignore_index = False)\n",
      "/tmp/ipykernel_37775/3705381019.py:14: FutureWarning: The frame.append method is deprecated and will be removed from pandas in a future version. Use pandas.concat instead.\n",
      "  concat_df = concat_df.append(temp_df_t.iloc[1], ignore_index = False)\n",
      "/tmp/ipykernel_37775/3705381019.py:14: FutureWarning: The frame.append method is deprecated and will be removed from pandas in a future version. Use pandas.concat instead.\n",
      "  concat_df = concat_df.append(temp_df_t.iloc[1], ignore_index = False)\n"
     ]
    },
    {
     "name": "stdout",
     "output_type": "stream",
     "text": [
      "/home/ege/Desktop/project/new/Resampled_Data/20220420/SSE_600277.csv\n",
      "SSE_600277.csv\n",
      "/home/ege/Desktop/project/new/Resampled_Data/20220420/SSE_600657.csv\n",
      "SSE_600657.csv\n",
      "/home/ege/Desktop/project/new/Resampled_Data/20220420/SSE_600575.csv\n",
      "SSE_600575.csv\n",
      "/home/ege/Desktop/project/new/Resampled_Data/20220420/SSE_600438.csv\n",
      "SSE_600438.csv\n",
      "/home/ege/Desktop/project/new/Resampled_Data/20220420/SSE_600755.csv\n",
      "SSE_600755.csv\n",
      "/home/ege/Desktop/project/new/Resampled_Data/20220420/SSE_600795.csv\n",
      "SSE_600795.csv\n",
      "/home/ege/Desktop/project/new/Resampled_Data/20220420/SSE_600522.csv\n",
      "SSE_600522.csv\n"
     ]
    },
    {
     "name": "stderr",
     "output_type": "stream",
     "text": [
      "/tmp/ipykernel_37775/3705381019.py:14: FutureWarning: The frame.append method is deprecated and will be removed from pandas in a future version. Use pandas.concat instead.\n",
      "  concat_df = concat_df.append(temp_df_t.iloc[1], ignore_index = False)\n",
      "/tmp/ipykernel_37775/3705381019.py:14: FutureWarning: The frame.append method is deprecated and will be removed from pandas in a future version. Use pandas.concat instead.\n",
      "  concat_df = concat_df.append(temp_df_t.iloc[1], ignore_index = False)\n",
      "/tmp/ipykernel_37775/3705381019.py:14: FutureWarning: The frame.append method is deprecated and will be removed from pandas in a future version. Use pandas.concat instead.\n",
      "  concat_df = concat_df.append(temp_df_t.iloc[1], ignore_index = False)\n",
      "/tmp/ipykernel_37775/3705381019.py:14: FutureWarning: The frame.append method is deprecated and will be removed from pandas in a future version. Use pandas.concat instead.\n",
      "  concat_df = concat_df.append(temp_df_t.iloc[1], ignore_index = False)\n",
      "/tmp/ipykernel_37775/3705381019.py:14: FutureWarning: The frame.append method is deprecated and will be removed from pandas in a future version. Use pandas.concat instead.\n",
      "  concat_df = concat_df.append(temp_df_t.iloc[1], ignore_index = False)\n",
      "/tmp/ipykernel_37775/3705381019.py:14: FutureWarning: The frame.append method is deprecated and will be removed from pandas in a future version. Use pandas.concat instead.\n",
      "  concat_df = concat_df.append(temp_df_t.iloc[1], ignore_index = False)\n",
      "/tmp/ipykernel_37775/3705381019.py:14: FutureWarning: The frame.append method is deprecated and will be removed from pandas in a future version. Use pandas.concat instead.\n",
      "  concat_df = concat_df.append(temp_df_t.iloc[1], ignore_index = False)\n"
     ]
    },
    {
     "name": "stdout",
     "output_type": "stream",
     "text": [
      "/home/ege/Desktop/project/new/Resampled_Data/20220420/SSE_600628.csv\n",
      "SSE_600628.csv\n",
      "/home/ege/Desktop/project/new/Resampled_Data/20220420/SSE_600219.csv\n",
      "SSE_600219.csv\n",
      "/home/ege/Desktop/project/new/Resampled_Data/20220420/SSE_600686.csv\n",
      "SSE_600686.csv\n",
      "/home/ege/Desktop/project/new/Resampled_Data/20220420/SSE_600569.csv\n",
      "SSE_600569.csv\n",
      "/home/ege/Desktop/project/new/Resampled_Data/20220420/SSE_600200-checkpoint.csv\n",
      "SSE_600200-checkpoint.csv CHECKPOINT\n",
      "20220428\n",
      "/home/ege/Desktop/project/new/Resampled_Data/20220428/SSE_600322.csv\n",
      "SSE_600322.csv\n",
      "/home/ege/Desktop/project/new/Resampled_Data/20220428/SSE_600153.csv\n",
      "SSE_600153.csv\n",
      "/home/ege/Desktop/project/new/Resampled_Data/20220428/SSE_600354.csv\n",
      "SSE_600354.csv\n"
     ]
    },
    {
     "name": "stderr",
     "output_type": "stream",
     "text": [
      "/tmp/ipykernel_37775/3705381019.py:14: FutureWarning: The frame.append method is deprecated and will be removed from pandas in a future version. Use pandas.concat instead.\n",
      "  concat_df = concat_df.append(temp_df_t.iloc[1], ignore_index = False)\n",
      "/tmp/ipykernel_37775/3705381019.py:14: FutureWarning: The frame.append method is deprecated and will be removed from pandas in a future version. Use pandas.concat instead.\n",
      "  concat_df = concat_df.append(temp_df_t.iloc[1], ignore_index = False)\n",
      "/tmp/ipykernel_37775/3705381019.py:14: FutureWarning: The frame.append method is deprecated and will be removed from pandas in a future version. Use pandas.concat instead.\n",
      "  concat_df = concat_df.append(temp_df_t.iloc[1], ignore_index = False)\n",
      "/tmp/ipykernel_37775/3705381019.py:14: FutureWarning: The frame.append method is deprecated and will be removed from pandas in a future version. Use pandas.concat instead.\n",
      "  concat_df = concat_df.append(temp_df_t.iloc[1], ignore_index = False)\n",
      "/tmp/ipykernel_37775/3705381019.py:14: FutureWarning: The frame.append method is deprecated and will be removed from pandas in a future version. Use pandas.concat instead.\n",
      "  concat_df = concat_df.append(temp_df_t.iloc[1], ignore_index = False)\n",
      "/tmp/ipykernel_37775/3705381019.py:14: FutureWarning: The frame.append method is deprecated and will be removed from pandas in a future version. Use pandas.concat instead.\n",
      "  concat_df = concat_df.append(temp_df_t.iloc[1], ignore_index = False)\n",
      "/tmp/ipykernel_37775/3705381019.py:14: FutureWarning: The frame.append method is deprecated and will be removed from pandas in a future version. Use pandas.concat instead.\n",
      "  concat_df = concat_df.append(temp_df_t.iloc[1], ignore_index = False)\n"
     ]
    },
    {
     "name": "stdout",
     "output_type": "stream",
     "text": [
      "/home/ege/Desktop/project/new/Resampled_Data/20220428/SSE_600521.csv\n",
      "SSE_600521.csv\n",
      "/home/ege/Desktop/project/new/Resampled_Data/20220428/SSE_600176.csv\n",
      "SSE_600176.csv\n",
      "/home/ege/Desktop/project/new/Resampled_Data/20220428/SSE_600502.csv\n",
      "SSE_600502.csv\n",
      "/home/ege/Desktop/project/new/Resampled_Data/20220428/SSE_600499.csv\n",
      "SSE_600499.csv\n",
      "/home/ege/Desktop/project/new/Resampled_Data/20220428/SSE_600512.csv\n",
      "SSE_600512.csv\n",
      "/home/ege/Desktop/project/new/Resampled_Data/20220428/SSE_600104.csv\n",
      "SSE_600104.csv\n",
      "/home/ege/Desktop/project/new/Resampled_Data/20220428/SSE_600037.csv\n",
      "SSE_600037.csv\n"
     ]
    },
    {
     "name": "stderr",
     "output_type": "stream",
     "text": [
      "/tmp/ipykernel_37775/3705381019.py:14: FutureWarning: The frame.append method is deprecated and will be removed from pandas in a future version. Use pandas.concat instead.\n",
      "  concat_df = concat_df.append(temp_df_t.iloc[1], ignore_index = False)\n",
      "/tmp/ipykernel_37775/3705381019.py:14: FutureWarning: The frame.append method is deprecated and will be removed from pandas in a future version. Use pandas.concat instead.\n",
      "  concat_df = concat_df.append(temp_df_t.iloc[1], ignore_index = False)\n",
      "/tmp/ipykernel_37775/3705381019.py:14: FutureWarning: The frame.append method is deprecated and will be removed from pandas in a future version. Use pandas.concat instead.\n",
      "  concat_df = concat_df.append(temp_df_t.iloc[1], ignore_index = False)\n",
      "/tmp/ipykernel_37775/3705381019.py:14: FutureWarning: The frame.append method is deprecated and will be removed from pandas in a future version. Use pandas.concat instead.\n",
      "  concat_df = concat_df.append(temp_df_t.iloc[1], ignore_index = False)\n",
      "/tmp/ipykernel_37775/3705381019.py:14: FutureWarning: The frame.append method is deprecated and will be removed from pandas in a future version. Use pandas.concat instead.\n",
      "  concat_df = concat_df.append(temp_df_t.iloc[1], ignore_index = False)\n",
      "/tmp/ipykernel_37775/3705381019.py:14: FutureWarning: The frame.append method is deprecated and will be removed from pandas in a future version. Use pandas.concat instead.\n",
      "  concat_df = concat_df.append(temp_df_t.iloc[1], ignore_index = False)\n",
      "/tmp/ipykernel_37775/3705381019.py:14: FutureWarning: The frame.append method is deprecated and will be removed from pandas in a future version. Use pandas.concat instead.\n",
      "  concat_df = concat_df.append(temp_df_t.iloc[1], ignore_index = False)\n"
     ]
    },
    {
     "name": "stdout",
     "output_type": "stream",
     "text": [
      "/home/ege/Desktop/project/new/Resampled_Data/20220428/SSE_600170.csv\n",
      "SSE_600170.csv\n",
      "/home/ege/Desktop/project/new/Resampled_Data/20220428/SSE_600397.csv\n",
      "SSE_600397.csv\n",
      "/home/ege/Desktop/project/new/Resampled_Data/20220428/SSE_600335.csv\n",
      "SSE_600335.csv\n",
      "/home/ege/Desktop/project/new/Resampled_Data/20220428/SSE_600359.csv\n",
      "SSE_600359.csv\n",
      "/home/ege/Desktop/project/new/Resampled_Data/20220428/SSE_600487.csv\n",
      "SSE_600487.csv\n",
      "/home/ege/Desktop/project/new/Resampled_Data/20220428/SSE_600029.csv\n",
      "SSE_600029.csv\n"
     ]
    },
    {
     "name": "stderr",
     "output_type": "stream",
     "text": [
      "/tmp/ipykernel_37775/3705381019.py:14: FutureWarning: The frame.append method is deprecated and will be removed from pandas in a future version. Use pandas.concat instead.\n",
      "  concat_df = concat_df.append(temp_df_t.iloc[1], ignore_index = False)\n",
      "/tmp/ipykernel_37775/3705381019.py:14: FutureWarning: The frame.append method is deprecated and will be removed from pandas in a future version. Use pandas.concat instead.\n",
      "  concat_df = concat_df.append(temp_df_t.iloc[1], ignore_index = False)\n",
      "/tmp/ipykernel_37775/3705381019.py:14: FutureWarning: The frame.append method is deprecated and will be removed from pandas in a future version. Use pandas.concat instead.\n",
      "  concat_df = concat_df.append(temp_df_t.iloc[1], ignore_index = False)\n",
      "/tmp/ipykernel_37775/3705381019.py:14: FutureWarning: The frame.append method is deprecated and will be removed from pandas in a future version. Use pandas.concat instead.\n",
      "  concat_df = concat_df.append(temp_df_t.iloc[1], ignore_index = False)\n",
      "/tmp/ipykernel_37775/3705381019.py:14: FutureWarning: The frame.append method is deprecated and will be removed from pandas in a future version. Use pandas.concat instead.\n",
      "  concat_df = concat_df.append(temp_df_t.iloc[1], ignore_index = False)\n",
      "/tmp/ipykernel_37775/3705381019.py:14: FutureWarning: The frame.append method is deprecated and will be removed from pandas in a future version. Use pandas.concat instead.\n",
      "  concat_df = concat_df.append(temp_df_t.iloc[1], ignore_index = False)\n"
     ]
    },
    {
     "name": "stdout",
     "output_type": "stream",
     "text": [
      "/home/ege/Desktop/project/new/Resampled_Data/20220428/SSE_600366.csv\n",
      "SSE_600366.csv\n",
      "/home/ege/Desktop/project/new/Resampled_Data/20220428/SSE_600425.csv\n",
      "SSE_600425.csv\n",
      "/home/ege/Desktop/project/new/Resampled_Data/20220428/SSE_600448.csv\n",
      "SSE_600448.csv\n",
      "/home/ege/Desktop/project/new/Resampled_Data/20220428/SSE_600330.csv\n",
      "SSE_600330.csv\n",
      "/home/ege/Desktop/project/new/Resampled_Data/20220428/SSE_600396.csv\n",
      "SSE_600396.csv\n"
     ]
    },
    {
     "name": "stderr",
     "output_type": "stream",
     "text": [
      "/tmp/ipykernel_37775/3705381019.py:14: FutureWarning: The frame.append method is deprecated and will be removed from pandas in a future version. Use pandas.concat instead.\n",
      "  concat_df = concat_df.append(temp_df_t.iloc[1], ignore_index = False)\n",
      "/tmp/ipykernel_37775/3705381019.py:14: FutureWarning: The frame.append method is deprecated and will be removed from pandas in a future version. Use pandas.concat instead.\n",
      "  concat_df = concat_df.append(temp_df_t.iloc[1], ignore_index = False)\n",
      "/tmp/ipykernel_37775/3705381019.py:14: FutureWarning: The frame.append method is deprecated and will be removed from pandas in a future version. Use pandas.concat instead.\n",
      "  concat_df = concat_df.append(temp_df_t.iloc[1], ignore_index = False)\n",
      "/tmp/ipykernel_37775/3705381019.py:14: FutureWarning: The frame.append method is deprecated and will be removed from pandas in a future version. Use pandas.concat instead.\n",
      "  concat_df = concat_df.append(temp_df_t.iloc[1], ignore_index = False)\n",
      "/tmp/ipykernel_37775/3705381019.py:14: FutureWarning: The frame.append method is deprecated and will be removed from pandas in a future version. Use pandas.concat instead.\n",
      "  concat_df = concat_df.append(temp_df_t.iloc[1], ignore_index = False)\n"
     ]
    },
    {
     "name": "stdout",
     "output_type": "stream",
     "text": [
      "/home/ege/Desktop/project/new/Resampled_Data/20220428/SSE_600123.csv\n",
      "SSE_600123.csv\n",
      "/home/ege/Desktop/project/new/Resampled_Data/20220428/SSE_600428.csv\n",
      "SSE_600428.csv\n",
      "/home/ege/Desktop/project/new/Resampled_Data/20220428/SSE_600331.csv\n",
      "SSE_600331.csv\n",
      "/home/ege/Desktop/project/new/Resampled_Data/20220428/SSE_600101.csv\n",
      "SSE_600101.csv\n",
      "/home/ege/Desktop/project/new/Resampled_Data/20220428/SSE_600030.csv\n",
      "SSE_600030.csv\n"
     ]
    },
    {
     "name": "stderr",
     "output_type": "stream",
     "text": [
      "/tmp/ipykernel_37775/3705381019.py:14: FutureWarning: The frame.append method is deprecated and will be removed from pandas in a future version. Use pandas.concat instead.\n",
      "  concat_df = concat_df.append(temp_df_t.iloc[1], ignore_index = False)\n",
      "/tmp/ipykernel_37775/3705381019.py:14: FutureWarning: The frame.append method is deprecated and will be removed from pandas in a future version. Use pandas.concat instead.\n",
      "  concat_df = concat_df.append(temp_df_t.iloc[1], ignore_index = False)\n",
      "/tmp/ipykernel_37775/3705381019.py:14: FutureWarning: The frame.append method is deprecated and will be removed from pandas in a future version. Use pandas.concat instead.\n",
      "  concat_df = concat_df.append(temp_df_t.iloc[1], ignore_index = False)\n",
      "/tmp/ipykernel_37775/3705381019.py:14: FutureWarning: The frame.append method is deprecated and will be removed from pandas in a future version. Use pandas.concat instead.\n",
      "  concat_df = concat_df.append(temp_df_t.iloc[1], ignore_index = False)\n",
      "/tmp/ipykernel_37775/3705381019.py:14: FutureWarning: The frame.append method is deprecated and will be removed from pandas in a future version. Use pandas.concat instead.\n",
      "  concat_df = concat_df.append(temp_df_t.iloc[1], ignore_index = False)\n"
     ]
    },
    {
     "name": "stdout",
     "output_type": "stream",
     "text": [
      "/home/ege/Desktop/project/new/Resampled_Data/20220428/SSE_600395.csv\n",
      "SSE_600395.csv\n",
      "/home/ege/Desktop/project/new/Resampled_Data/20220428/SSE_600284.csv\n",
      "SSE_600284.csv\n",
      "/home/ege/Desktop/project/new/Resampled_Data/20220428/SSE_600312.csv\n",
      "SSE_600312.csv\n",
      "/home/ege/Desktop/project/new/Resampled_Data/20220428/SSE_600199.csv\n",
      "SSE_600199.csv\n",
      "/home/ege/Desktop/project/new/Resampled_Data/20220428/SSE_600497.csv\n",
      "SSE_600497.csv\n"
     ]
    },
    {
     "name": "stderr",
     "output_type": "stream",
     "text": [
      "/tmp/ipykernel_37775/3705381019.py:14: FutureWarning: The frame.append method is deprecated and will be removed from pandas in a future version. Use pandas.concat instead.\n",
      "  concat_df = concat_df.append(temp_df_t.iloc[1], ignore_index = False)\n",
      "/tmp/ipykernel_37775/3705381019.py:14: FutureWarning: The frame.append method is deprecated and will be removed from pandas in a future version. Use pandas.concat instead.\n",
      "  concat_df = concat_df.append(temp_df_t.iloc[1], ignore_index = False)\n",
      "/tmp/ipykernel_37775/3705381019.py:14: FutureWarning: The frame.append method is deprecated and will be removed from pandas in a future version. Use pandas.concat instead.\n",
      "  concat_df = concat_df.append(temp_df_t.iloc[1], ignore_index = False)\n",
      "/tmp/ipykernel_37775/3705381019.py:14: FutureWarning: The frame.append method is deprecated and will be removed from pandas in a future version. Use pandas.concat instead.\n",
      "  concat_df = concat_df.append(temp_df_t.iloc[1], ignore_index = False)\n",
      "/tmp/ipykernel_37775/3705381019.py:14: FutureWarning: The frame.append method is deprecated and will be removed from pandas in a future version. Use pandas.concat instead.\n",
      "  concat_df = concat_df.append(temp_df_t.iloc[1], ignore_index = False)\n"
     ]
    },
    {
     "name": "stdout",
     "output_type": "stream",
     "text": [
      "/home/ege/Desktop/project/new/Resampled_Data/20220428/SSE_600163.csv\n",
      "SSE_600163.csv\n",
      "/home/ege/Desktop/project/new/Resampled_Data/20220428/SSE_600491.csv\n",
      "SSE_600491.csv\n",
      "/home/ege/Desktop/project/new/Resampled_Data/20220428/SSE_600172.csv\n",
      "SSE_600172.csv\n",
      "/home/ege/Desktop/project/new/Resampled_Data/20220428/SSE_600022.csv\n",
      "SSE_600022.csv\n",
      "/home/ege/Desktop/project/new/Resampled_Data/20220428/SSE_600489.csv\n",
      "SSE_600489.csv\n"
     ]
    },
    {
     "name": "stderr",
     "output_type": "stream",
     "text": [
      "/tmp/ipykernel_37775/3705381019.py:14: FutureWarning: The frame.append method is deprecated and will be removed from pandas in a future version. Use pandas.concat instead.\n",
      "  concat_df = concat_df.append(temp_df_t.iloc[1], ignore_index = False)\n",
      "/tmp/ipykernel_37775/3705381019.py:14: FutureWarning: The frame.append method is deprecated and will be removed from pandas in a future version. Use pandas.concat instead.\n",
      "  concat_df = concat_df.append(temp_df_t.iloc[1], ignore_index = False)\n",
      "/tmp/ipykernel_37775/3705381019.py:14: FutureWarning: The frame.append method is deprecated and will be removed from pandas in a future version. Use pandas.concat instead.\n",
      "  concat_df = concat_df.append(temp_df_t.iloc[1], ignore_index = False)\n",
      "/tmp/ipykernel_37775/3705381019.py:14: FutureWarning: The frame.append method is deprecated and will be removed from pandas in a future version. Use pandas.concat instead.\n",
      "  concat_df = concat_df.append(temp_df_t.iloc[1], ignore_index = False)\n",
      "/tmp/ipykernel_37775/3705381019.py:14: FutureWarning: The frame.append method is deprecated and will be removed from pandas in a future version. Use pandas.concat instead.\n",
      "  concat_df = concat_df.append(temp_df_t.iloc[1], ignore_index = False)\n",
      "/tmp/ipykernel_37775/3705381019.py:14: FutureWarning: The frame.append method is deprecated and will be removed from pandas in a future version. Use pandas.concat instead.\n",
      "  concat_df = concat_df.append(temp_df_t.iloc[1], ignore_index = False)\n"
     ]
    },
    {
     "name": "stdout",
     "output_type": "stream",
     "text": [
      "/home/ege/Desktop/project/new/Resampled_Data/20220428/SSE_600150.csv\n",
      "SSE_600150.csv\n",
      "/home/ege/Desktop/project/new/Resampled_Data/20220428/SSE_600208.csv\n",
      "SSE_600208.csv\n",
      "/home/ege/Desktop/project/new/Resampled_Data/20220428/SSE_600280.csv\n",
      "SSE_600280.csv\n",
      "/home/ege/Desktop/project/new/Resampled_Data/20220428/SSE_600418.csv\n",
      "SSE_600418.csv\n",
      "/home/ege/Desktop/project/new/Resampled_Data/20220428/SSE_600257.csv\n",
      "SSE_600257.csv\n",
      "/home/ege/Desktop/project/new/Resampled_Data/20220428/SSE_600149.csv\n",
      "SSE_600149.csv\n"
     ]
    },
    {
     "name": "stderr",
     "output_type": "stream",
     "text": [
      "/tmp/ipykernel_37775/3705381019.py:14: FutureWarning: The frame.append method is deprecated and will be removed from pandas in a future version. Use pandas.concat instead.\n",
      "  concat_df = concat_df.append(temp_df_t.iloc[1], ignore_index = False)\n",
      "/tmp/ipykernel_37775/3705381019.py:14: FutureWarning: The frame.append method is deprecated and will be removed from pandas in a future version. Use pandas.concat instead.\n",
      "  concat_df = concat_df.append(temp_df_t.iloc[1], ignore_index = False)\n",
      "/tmp/ipykernel_37775/3705381019.py:14: FutureWarning: The frame.append method is deprecated and will be removed from pandas in a future version. Use pandas.concat instead.\n",
      "  concat_df = concat_df.append(temp_df_t.iloc[1], ignore_index = False)\n",
      "/tmp/ipykernel_37775/3705381019.py:14: FutureWarning: The frame.append method is deprecated and will be removed from pandas in a future version. Use pandas.concat instead.\n",
      "  concat_df = concat_df.append(temp_df_t.iloc[1], ignore_index = False)\n",
      "/tmp/ipykernel_37775/3705381019.py:14: FutureWarning: The frame.append method is deprecated and will be removed from pandas in a future version. Use pandas.concat instead.\n",
      "  concat_df = concat_df.append(temp_df_t.iloc[1], ignore_index = False)\n",
      "/tmp/ipykernel_37775/3705381019.py:14: FutureWarning: The frame.append method is deprecated and will be removed from pandas in a future version. Use pandas.concat instead.\n",
      "  concat_df = concat_df.append(temp_df_t.iloc[1], ignore_index = False)\n"
     ]
    },
    {
     "name": "stdout",
     "output_type": "stream",
     "text": [
      "/home/ege/Desktop/project/new/Resampled_Data/20220428/SSE_600470.csv\n",
      "SSE_600470.csv\n",
      "/home/ege/Desktop/project/new/Resampled_Data/20220428/SSE_600248.csv\n",
      "SSE_600248.csv\n",
      "/home/ege/Desktop/project/new/Resampled_Data/20220428/SSE_600466.csv\n",
      "SSE_600466.csv\n",
      "/home/ege/Desktop/project/new/Resampled_Data/20220428/SSE_600166.csv\n",
      "SSE_600166.csv\n",
      "/home/ege/Desktop/project/new/Resampled_Data/20220428/SSE_600336.csv\n",
      "SSE_600336.csv\n",
      "/home/ege/Desktop/project/new/Resampled_Data/20220428/SSE_600238.csv\n",
      "SSE_600238.csv\n"
     ]
    },
    {
     "name": "stderr",
     "output_type": "stream",
     "text": [
      "/tmp/ipykernel_37775/3705381019.py:14: FutureWarning: The frame.append method is deprecated and will be removed from pandas in a future version. Use pandas.concat instead.\n",
      "  concat_df = concat_df.append(temp_df_t.iloc[1], ignore_index = False)\n",
      "/tmp/ipykernel_37775/3705381019.py:14: FutureWarning: The frame.append method is deprecated and will be removed from pandas in a future version. Use pandas.concat instead.\n",
      "  concat_df = concat_df.append(temp_df_t.iloc[1], ignore_index = False)\n",
      "/tmp/ipykernel_37775/3705381019.py:14: FutureWarning: The frame.append method is deprecated and will be removed from pandas in a future version. Use pandas.concat instead.\n",
      "  concat_df = concat_df.append(temp_df_t.iloc[1], ignore_index = False)\n",
      "/tmp/ipykernel_37775/3705381019.py:14: FutureWarning: The frame.append method is deprecated and will be removed from pandas in a future version. Use pandas.concat instead.\n",
      "  concat_df = concat_df.append(temp_df_t.iloc[1], ignore_index = False)\n",
      "/tmp/ipykernel_37775/3705381019.py:14: FutureWarning: The frame.append method is deprecated and will be removed from pandas in a future version. Use pandas.concat instead.\n",
      "  concat_df = concat_df.append(temp_df_t.iloc[1], ignore_index = False)\n",
      "/tmp/ipykernel_37775/3705381019.py:14: FutureWarning: The frame.append method is deprecated and will be removed from pandas in a future version. Use pandas.concat instead.\n",
      "  concat_df = concat_df.append(temp_df_t.iloc[1], ignore_index = False)\n"
     ]
    },
    {
     "name": "stdout",
     "output_type": "stream",
     "text": [
      "/home/ege/Desktop/project/new/Resampled_Data/20220428/SSE_600201.csv\n",
      "SSE_600201.csv\n",
      "/home/ege/Desktop/project/new/Resampled_Data/20220428/SSE_600027.csv\n",
      "SSE_600027.csv\n",
      "/home/ege/Desktop/project/new/Resampled_Data/20220428/SSE_600467.csv\n",
      "SSE_600467.csv\n",
      "/home/ege/Desktop/project/new/Resampled_Data/20220428/SSE_600162.csv\n",
      "SSE_600162.csv\n",
      "/home/ege/Desktop/project/new/Resampled_Data/20220428/SSE_600256.csv\n",
      "SSE_600256.csv\n",
      "/home/ege/Desktop/project/new/Resampled_Data/20220428/SSE_600307.csv\n",
      "SSE_600307.csv\n"
     ]
    },
    {
     "name": "stderr",
     "output_type": "stream",
     "text": [
      "/tmp/ipykernel_37775/3705381019.py:14: FutureWarning: The frame.append method is deprecated and will be removed from pandas in a future version. Use pandas.concat instead.\n",
      "  concat_df = concat_df.append(temp_df_t.iloc[1], ignore_index = False)\n",
      "/tmp/ipykernel_37775/3705381019.py:14: FutureWarning: The frame.append method is deprecated and will be removed from pandas in a future version. Use pandas.concat instead.\n",
      "  concat_df = concat_df.append(temp_df_t.iloc[1], ignore_index = False)\n",
      "/tmp/ipykernel_37775/3705381019.py:14: FutureWarning: The frame.append method is deprecated and will be removed from pandas in a future version. Use pandas.concat instead.\n",
      "  concat_df = concat_df.append(temp_df_t.iloc[1], ignore_index = False)\n",
      "/tmp/ipykernel_37775/3705381019.py:14: FutureWarning: The frame.append method is deprecated and will be removed from pandas in a future version. Use pandas.concat instead.\n",
      "  concat_df = concat_df.append(temp_df_t.iloc[1], ignore_index = False)\n",
      "/tmp/ipykernel_37775/3705381019.py:14: FutureWarning: The frame.append method is deprecated and will be removed from pandas in a future version. Use pandas.concat instead.\n",
      "  concat_df = concat_df.append(temp_df_t.iloc[1], ignore_index = False)\n",
      "/tmp/ipykernel_37775/3705381019.py:14: FutureWarning: The frame.append method is deprecated and will be removed from pandas in a future version. Use pandas.concat instead.\n",
      "  concat_df = concat_df.append(temp_df_t.iloc[1], ignore_index = False)\n"
     ]
    },
    {
     "name": "stdout",
     "output_type": "stream",
     "text": [
      "/home/ege/Desktop/project/new/Resampled_Data/20220428/SSE_600370.csv\n",
      "SSE_600370.csv\n",
      "/home/ege/Desktop/project/new/Resampled_Data/20220428/SSE_600338.csv\n",
      "SSE_600338.csv\n",
      "/home/ege/Desktop/project/new/Resampled_Data/20220428/SSE_600157.csv\n",
      "SSE_600157.csv\n",
      "/home/ege/Desktop/project/new/Resampled_Data/20220428/SSE_600200.csv\n",
      "SSE_600200.csv\n",
      "/home/ege/Desktop/project/new/Resampled_Data/20220428/SSE_600185.csv\n",
      "SSE_600185.csv\n"
     ]
    },
    {
     "name": "stderr",
     "output_type": "stream",
     "text": [
      "/tmp/ipykernel_37775/3705381019.py:14: FutureWarning: The frame.append method is deprecated and will be removed from pandas in a future version. Use pandas.concat instead.\n",
      "  concat_df = concat_df.append(temp_df_t.iloc[1], ignore_index = False)\n",
      "/tmp/ipykernel_37775/3705381019.py:14: FutureWarning: The frame.append method is deprecated and will be removed from pandas in a future version. Use pandas.concat instead.\n",
      "  concat_df = concat_df.append(temp_df_t.iloc[1], ignore_index = False)\n",
      "/tmp/ipykernel_37775/3705381019.py:14: FutureWarning: The frame.append method is deprecated and will be removed from pandas in a future version. Use pandas.concat instead.\n",
      "  concat_df = concat_df.append(temp_df_t.iloc[1], ignore_index = False)\n",
      "/tmp/ipykernel_37775/3705381019.py:14: FutureWarning: The frame.append method is deprecated and will be removed from pandas in a future version. Use pandas.concat instead.\n",
      "  concat_df = concat_df.append(temp_df_t.iloc[1], ignore_index = False)\n",
      "/tmp/ipykernel_37775/3705381019.py:14: FutureWarning: The frame.append method is deprecated and will be removed from pandas in a future version. Use pandas.concat instead.\n",
      "  concat_df = concat_df.append(temp_df_t.iloc[1], ignore_index = False)\n"
     ]
    },
    {
     "name": "stdout",
     "output_type": "stream",
     "text": [
      "/home/ege/Desktop/project/new/Resampled_Data/20220428/SSE_600383.csv\n",
      "SSE_600383.csv\n",
      "/home/ege/Desktop/project/new/Resampled_Data/20220428/SSE_600516.csv\n",
      "SSE_600516.csv\n",
      "/home/ege/Desktop/project/new/Resampled_Data/20220428/SSE_600276.csv\n",
      "SSE_600276.csv\n",
      "/home/ege/Desktop/project/new/Resampled_Data/20220428/SSE_600409.csv\n",
      "SSE_600409.csv\n",
      "/home/ege/Desktop/project/new/Resampled_Data/20220428/SSE_600180.csv\n",
      "SSE_600180.csv\n"
     ]
    },
    {
     "name": "stderr",
     "output_type": "stream",
     "text": [
      "/tmp/ipykernel_37775/3705381019.py:14: FutureWarning: The frame.append method is deprecated and will be removed from pandas in a future version. Use pandas.concat instead.\n",
      "  concat_df = concat_df.append(temp_df_t.iloc[1], ignore_index = False)\n",
      "/tmp/ipykernel_37775/3705381019.py:14: FutureWarning: The frame.append method is deprecated and will be removed from pandas in a future version. Use pandas.concat instead.\n",
      "  concat_df = concat_df.append(temp_df_t.iloc[1], ignore_index = False)\n",
      "/tmp/ipykernel_37775/3705381019.py:14: FutureWarning: The frame.append method is deprecated and will be removed from pandas in a future version. Use pandas.concat instead.\n",
      "  concat_df = concat_df.append(temp_df_t.iloc[1], ignore_index = False)\n",
      "/tmp/ipykernel_37775/3705381019.py:14: FutureWarning: The frame.append method is deprecated and will be removed from pandas in a future version. Use pandas.concat instead.\n",
      "  concat_df = concat_df.append(temp_df_t.iloc[1], ignore_index = False)\n",
      "/tmp/ipykernel_37775/3705381019.py:14: FutureWarning: The frame.append method is deprecated and will be removed from pandas in a future version. Use pandas.concat instead.\n",
      "  concat_df = concat_df.append(temp_df_t.iloc[1], ignore_index = False)\n"
     ]
    },
    {
     "name": "stdout",
     "output_type": "stream",
     "text": [
      "/home/ege/Desktop/project/new/Resampled_Data/20220428/SSE_600325.csv\n",
      "SSE_600325.csv\n",
      "/home/ege/Desktop/project/new/Resampled_Data/20220428/SSE_600159.csv\n",
      "SSE_600159.csv\n",
      "/home/ege/Desktop/project/new/Resampled_Data/20220428/SSE_600277.csv\n",
      "SSE_600277.csv\n",
      "/home/ege/Desktop/project/new/Resampled_Data/20220428/SSE_600282.csv\n",
      "SSE_600282.csv\n",
      "/home/ege/Desktop/project/new/Resampled_Data/20220428/SSE_600025.csv\n",
      "SSE_600025.csv\n"
     ]
    },
    {
     "name": "stderr",
     "output_type": "stream",
     "text": [
      "/tmp/ipykernel_37775/3705381019.py:14: FutureWarning: The frame.append method is deprecated and will be removed from pandas in a future version. Use pandas.concat instead.\n",
      "  concat_df = concat_df.append(temp_df_t.iloc[1], ignore_index = False)\n",
      "/tmp/ipykernel_37775/3705381019.py:14: FutureWarning: The frame.append method is deprecated and will be removed from pandas in a future version. Use pandas.concat instead.\n",
      "  concat_df = concat_df.append(temp_df_t.iloc[1], ignore_index = False)\n",
      "/tmp/ipykernel_37775/3705381019.py:14: FutureWarning: The frame.append method is deprecated and will be removed from pandas in a future version. Use pandas.concat instead.\n",
      "  concat_df = concat_df.append(temp_df_t.iloc[1], ignore_index = False)\n",
      "/tmp/ipykernel_37775/3705381019.py:14: FutureWarning: The frame.append method is deprecated and will be removed from pandas in a future version. Use pandas.concat instead.\n",
      "  concat_df = concat_df.append(temp_df_t.iloc[1], ignore_index = False)\n",
      "/tmp/ipykernel_37775/3705381019.py:14: FutureWarning: The frame.append method is deprecated and will be removed from pandas in a future version. Use pandas.concat instead.\n",
      "  concat_df = concat_df.append(temp_df_t.iloc[1], ignore_index = False)\n"
     ]
    },
    {
     "name": "stdout",
     "output_type": "stream",
     "text": [
      "/home/ege/Desktop/project/new/Resampled_Data/20220428/SSE_600438.csv\n",
      "SSE_600438.csv\n",
      "/home/ege/Desktop/project/new/Resampled_Data/20220428/SSE_600313.csv\n",
      "SSE_600313.csv\n",
      "/home/ege/Desktop/project/new/Resampled_Data/20220428/SSE_600367.csv\n",
      "SSE_600367.csv\n",
      "/home/ege/Desktop/project/new/Resampled_Data/20220428/SSE_600328.csv\n",
      "SSE_600328.csv\n",
      "/home/ege/Desktop/project/new/Resampled_Data/20220428/SSE_600141.csv\n",
      "SSE_600141.csv\n"
     ]
    },
    {
     "name": "stderr",
     "output_type": "stream",
     "text": [
      "/tmp/ipykernel_37775/3705381019.py:14: FutureWarning: The frame.append method is deprecated and will be removed from pandas in a future version. Use pandas.concat instead.\n",
      "  concat_df = concat_df.append(temp_df_t.iloc[1], ignore_index = False)\n",
      "/tmp/ipykernel_37775/3705381019.py:14: FutureWarning: The frame.append method is deprecated and will be removed from pandas in a future version. Use pandas.concat instead.\n",
      "  concat_df = concat_df.append(temp_df_t.iloc[1], ignore_index = False)\n",
      "/tmp/ipykernel_37775/3705381019.py:14: FutureWarning: The frame.append method is deprecated and will be removed from pandas in a future version. Use pandas.concat instead.\n",
      "  concat_df = concat_df.append(temp_df_t.iloc[1], ignore_index = False)\n",
      "/tmp/ipykernel_37775/3705381019.py:14: FutureWarning: The frame.append method is deprecated and will be removed from pandas in a future version. Use pandas.concat instead.\n",
      "  concat_df = concat_df.append(temp_df_t.iloc[1], ignore_index = False)\n",
      "/tmp/ipykernel_37775/3705381019.py:14: FutureWarning: The frame.append method is deprecated and will be removed from pandas in a future version. Use pandas.concat instead.\n",
      "  concat_df = concat_df.append(temp_df_t.iloc[1], ignore_index = False)\n"
     ]
    },
    {
     "name": "stdout",
     "output_type": "stream",
     "text": [
      "/home/ege/Desktop/project/new/Resampled_Data/20220428/SSE_600048.csv\n",
      "SSE_600048.csv\n",
      "/home/ege/Desktop/project/new/Resampled_Data/20220428/SSE_600026.csv\n",
      "SSE_600026.csv\n",
      "/home/ege/Desktop/project/new/Resampled_Data/20220428/SSE_600219.csv\n",
      "SSE_600219.csv\n",
      "/home/ege/Desktop/project/new/Resampled_Data/20220428/SSE_600339.csv\n",
      "SSE_600339.csv\n",
      "/home/ege/Desktop/project/new/Resampled_Data/20220428/SSE_600104-checkpoint.csv\n",
      "SSE_600104-checkpoint.csv CHECKPOINT\n",
      "20220422\n",
      "/home/ege/Desktop/project/new/Resampled_Data/20220422/SSE_600322.csv\n",
      "SSE_600322.csv\n"
     ]
    },
    {
     "name": "stderr",
     "output_type": "stream",
     "text": [
      "/tmp/ipykernel_37775/3705381019.py:14: FutureWarning: The frame.append method is deprecated and will be removed from pandas in a future version. Use pandas.concat instead.\n",
      "  concat_df = concat_df.append(temp_df_t.iloc[1], ignore_index = False)\n",
      "/tmp/ipykernel_37775/3705381019.py:14: FutureWarning: The frame.append method is deprecated and will be removed from pandas in a future version. Use pandas.concat instead.\n",
      "  concat_df = concat_df.append(temp_df_t.iloc[1], ignore_index = False)\n",
      "/tmp/ipykernel_37775/3705381019.py:14: FutureWarning: The frame.append method is deprecated and will be removed from pandas in a future version. Use pandas.concat instead.\n",
      "  concat_df = concat_df.append(temp_df_t.iloc[1], ignore_index = False)\n",
      "/tmp/ipykernel_37775/3705381019.py:14: FutureWarning: The frame.append method is deprecated and will be removed from pandas in a future version. Use pandas.concat instead.\n",
      "  concat_df = concat_df.append(temp_df_t.iloc[1], ignore_index = False)\n",
      "/tmp/ipykernel_37775/3705381019.py:14: FutureWarning: The frame.append method is deprecated and will be removed from pandas in a future version. Use pandas.concat instead.\n",
      "  concat_df = concat_df.append(temp_df_t.iloc[1], ignore_index = False)\n"
     ]
    },
    {
     "name": "stdout",
     "output_type": "stream",
     "text": [
      "/home/ege/Desktop/project/new/Resampled_Data/20220422/SSE_600153.csv\n",
      "SSE_600153.csv\n",
      "/home/ege/Desktop/project/new/Resampled_Data/20220422/SSE_600348.csv\n",
      "SSE_600348.csv\n",
      "/home/ege/Desktop/project/new/Resampled_Data/20220422/SSE_600354.csv\n",
      "SSE_600354.csv\n",
      "/home/ege/Desktop/project/new/Resampled_Data/20220422/SSE_600521.csv\n",
      "SSE_600521.csv\n",
      "/home/ege/Desktop/project/new/Resampled_Data/20220422/SSE_600606.csv\n",
      "SSE_600606.csv\n"
     ]
    },
    {
     "name": "stderr",
     "output_type": "stream",
     "text": [
      "/tmp/ipykernel_37775/3705381019.py:14: FutureWarning: The frame.append method is deprecated and will be removed from pandas in a future version. Use pandas.concat instead.\n",
      "  concat_df = concat_df.append(temp_df_t.iloc[1], ignore_index = False)\n",
      "/tmp/ipykernel_37775/3705381019.py:14: FutureWarning: The frame.append method is deprecated and will be removed from pandas in a future version. Use pandas.concat instead.\n",
      "  concat_df = concat_df.append(temp_df_t.iloc[1], ignore_index = False)\n",
      "/tmp/ipykernel_37775/3705381019.py:14: FutureWarning: The frame.append method is deprecated and will be removed from pandas in a future version. Use pandas.concat instead.\n",
      "  concat_df = concat_df.append(temp_df_t.iloc[1], ignore_index = False)\n",
      "/tmp/ipykernel_37775/3705381019.py:14: FutureWarning: The frame.append method is deprecated and will be removed from pandas in a future version. Use pandas.concat instead.\n",
      "  concat_df = concat_df.append(temp_df_t.iloc[1], ignore_index = False)\n"
     ]
    },
    {
     "name": "stdout",
     "output_type": "stream",
     "text": [
      "/home/ege/Desktop/project/new/Resampled_Data/20220422/SSE_600176.csv\n",
      "SSE_600176.csv\n",
      "/home/ege/Desktop/project/new/Resampled_Data/20220422/SSE_600502.csv\n",
      "SSE_600502.csv\n",
      "/home/ege/Desktop/project/new/Resampled_Data/20220422/SSE_600499.csv\n",
      "SSE_600499.csv\n",
      "/home/ege/Desktop/project/new/Resampled_Data/20220422/SSE_600512.csv\n",
      "SSE_600512.csv\n"
     ]
    },
    {
     "name": "stderr",
     "output_type": "stream",
     "text": [
      "/tmp/ipykernel_37775/3705381019.py:14: FutureWarning: The frame.append method is deprecated and will be removed from pandas in a future version. Use pandas.concat instead.\n",
      "  concat_df = concat_df.append(temp_df_t.iloc[1], ignore_index = False)\n",
      "/tmp/ipykernel_37775/3705381019.py:14: FutureWarning: The frame.append method is deprecated and will be removed from pandas in a future version. Use pandas.concat instead.\n",
      "  concat_df = concat_df.append(temp_df_t.iloc[1], ignore_index = False)\n",
      "/tmp/ipykernel_37775/3705381019.py:14: FutureWarning: The frame.append method is deprecated and will be removed from pandas in a future version. Use pandas.concat instead.\n",
      "  concat_df = concat_df.append(temp_df_t.iloc[1], ignore_index = False)\n",
      "/tmp/ipykernel_37775/3705381019.py:14: FutureWarning: The frame.append method is deprecated and will be removed from pandas in a future version. Use pandas.concat instead.\n",
      "  concat_df = concat_df.append(temp_df_t.iloc[1], ignore_index = False)\n",
      "/tmp/ipykernel_37775/3705381019.py:14: FutureWarning: The frame.append method is deprecated and will be removed from pandas in a future version. Use pandas.concat instead.\n",
      "  concat_df = concat_df.append(temp_df_t.iloc[1], ignore_index = False)\n"
     ]
    },
    {
     "name": "stdout",
     "output_type": "stream",
     "text": [
      "/home/ege/Desktop/project/new/Resampled_Data/20220422/SSE_600170.csv\n",
      "SSE_600170.csv\n",
      "/home/ege/Desktop/project/new/Resampled_Data/20220422/SSE_600397.csv\n",
      "SSE_600397.csv\n",
      "/home/ege/Desktop/project/new/Resampled_Data/20220422/SSE_600335.csv\n",
      "SSE_600335.csv\n",
      "/home/ege/Desktop/project/new/Resampled_Data/20220422/SSE_600616.csv\n",
      "SSE_600616.csv\n",
      "/home/ege/Desktop/project/new/Resampled_Data/20220422/SSE_600588.csv\n",
      "SSE_600588.csv\n"
     ]
    },
    {
     "name": "stderr",
     "output_type": "stream",
     "text": [
      "/tmp/ipykernel_37775/3705381019.py:14: FutureWarning: The frame.append method is deprecated and will be removed from pandas in a future version. Use pandas.concat instead.\n",
      "  concat_df = concat_df.append(temp_df_t.iloc[1], ignore_index = False)\n",
      "/tmp/ipykernel_37775/3705381019.py:14: FutureWarning: The frame.append method is deprecated and will be removed from pandas in a future version. Use pandas.concat instead.\n",
      "  concat_df = concat_df.append(temp_df_t.iloc[1], ignore_index = False)\n",
      "/tmp/ipykernel_37775/3705381019.py:14: FutureWarning: The frame.append method is deprecated and will be removed from pandas in a future version. Use pandas.concat instead.\n",
      "  concat_df = concat_df.append(temp_df_t.iloc[1], ignore_index = False)\n",
      "/tmp/ipykernel_37775/3705381019.py:14: FutureWarning: The frame.append method is deprecated and will be removed from pandas in a future version. Use pandas.concat instead.\n",
      "  concat_df = concat_df.append(temp_df_t.iloc[1], ignore_index = False)\n",
      "/tmp/ipykernel_37775/3705381019.py:14: FutureWarning: The frame.append method is deprecated and will be removed from pandas in a future version. Use pandas.concat instead.\n",
      "  concat_df = concat_df.append(temp_df_t.iloc[1], ignore_index = False)\n"
     ]
    },
    {
     "name": "stdout",
     "output_type": "stream",
     "text": [
      "/home/ege/Desktop/project/new/Resampled_Data/20220422/SSE_600359.csv\n",
      "SSE_600359.csv\n",
      "/home/ege/Desktop/project/new/Resampled_Data/20220422/SSE_600487.csv\n",
      "SSE_600487.csv\n",
      "/home/ege/Desktop/project/new/Resampled_Data/20220422/SSE_600366.csv\n",
      "SSE_600366.csv\n",
      "/home/ege/Desktop/project/new/Resampled_Data/20220422/SSE_600425.csv\n",
      "SSE_600425.csv\n"
     ]
    },
    {
     "name": "stderr",
     "output_type": "stream",
     "text": [
      "/tmp/ipykernel_37775/3705381019.py:14: FutureWarning: The frame.append method is deprecated and will be removed from pandas in a future version. Use pandas.concat instead.\n",
      "  concat_df = concat_df.append(temp_df_t.iloc[1], ignore_index = False)\n",
      "/tmp/ipykernel_37775/3705381019.py:14: FutureWarning: The frame.append method is deprecated and will be removed from pandas in a future version. Use pandas.concat instead.\n",
      "  concat_df = concat_df.append(temp_df_t.iloc[1], ignore_index = False)\n",
      "/tmp/ipykernel_37775/3705381019.py:14: FutureWarning: The frame.append method is deprecated and will be removed from pandas in a future version. Use pandas.concat instead.\n",
      "  concat_df = concat_df.append(temp_df_t.iloc[1], ignore_index = False)\n",
      "/tmp/ipykernel_37775/3705381019.py:14: FutureWarning: The frame.append method is deprecated and will be removed from pandas in a future version. Use pandas.concat instead.\n",
      "  concat_df = concat_df.append(temp_df_t.iloc[1], ignore_index = False)\n"
     ]
    },
    {
     "name": "stdout",
     "output_type": "stream",
     "text": [
      "/home/ege/Desktop/project/new/Resampled_Data/20220422/SSE_600448.csv\n",
      "SSE_600448.csv\n",
      "/home/ege/Desktop/project/new/Resampled_Data/20220422/SSE_600330.csv\n",
      "SSE_600330.csv\n",
      "/home/ege/Desktop/project/new/Resampled_Data/20220422/SSE_600704.csv\n",
      "SSE_600704.csv\n",
      "/home/ege/Desktop/project/new/Resampled_Data/20220422/SSE_600396.csv\n",
      "SSE_600396.csv\n"
     ]
    },
    {
     "name": "stderr",
     "output_type": "stream",
     "text": [
      "/tmp/ipykernel_37775/3705381019.py:14: FutureWarning: The frame.append method is deprecated and will be removed from pandas in a future version. Use pandas.concat instead.\n",
      "  concat_df = concat_df.append(temp_df_t.iloc[1], ignore_index = False)\n",
      "/tmp/ipykernel_37775/3705381019.py:14: FutureWarning: The frame.append method is deprecated and will be removed from pandas in a future version. Use pandas.concat instead.\n",
      "  concat_df = concat_df.append(temp_df_t.iloc[1], ignore_index = False)\n",
      "/tmp/ipykernel_37775/3705381019.py:14: FutureWarning: The frame.append method is deprecated and will be removed from pandas in a future version. Use pandas.concat instead.\n",
      "  concat_df = concat_df.append(temp_df_t.iloc[1], ignore_index = False)\n",
      "/tmp/ipykernel_37775/3705381019.py:14: FutureWarning: The frame.append method is deprecated and will be removed from pandas in a future version. Use pandas.concat instead.\n",
      "  concat_df = concat_df.append(temp_df_t.iloc[1], ignore_index = False)\n"
     ]
    },
    {
     "name": "stdout",
     "output_type": "stream",
     "text": [
      "/home/ege/Desktop/project/new/Resampled_Data/20220422/SSE_600533.csv\n",
      "SSE_600533.csv\n",
      "/home/ege/Desktop/project/new/Resampled_Data/20220422/SSE_600705.csv\n",
      "SSE_600705.csv\n",
      "/home/ege/Desktop/project/new/Resampled_Data/20220422/SSE_600428.csv\n",
      "SSE_600428.csv\n",
      "/home/ege/Desktop/project/new/Resampled_Data/20220422/SSE_600331.csv\n",
      "SSE_600331.csv\n"
     ]
    },
    {
     "name": "stderr",
     "output_type": "stream",
     "text": [
      "/tmp/ipykernel_37775/3705381019.py:14: FutureWarning: The frame.append method is deprecated and will be removed from pandas in a future version. Use pandas.concat instead.\n",
      "  concat_df = concat_df.append(temp_df_t.iloc[1], ignore_index = False)\n",
      "/tmp/ipykernel_37775/3705381019.py:14: FutureWarning: The frame.append method is deprecated and will be removed from pandas in a future version. Use pandas.concat instead.\n",
      "  concat_df = concat_df.append(temp_df_t.iloc[1], ignore_index = False)\n",
      "/tmp/ipykernel_37775/3705381019.py:14: FutureWarning: The frame.append method is deprecated and will be removed from pandas in a future version. Use pandas.concat instead.\n",
      "  concat_df = concat_df.append(temp_df_t.iloc[1], ignore_index = False)\n",
      "/tmp/ipykernel_37775/3705381019.py:14: FutureWarning: The frame.append method is deprecated and will be removed from pandas in a future version. Use pandas.concat instead.\n",
      "  concat_df = concat_df.append(temp_df_t.iloc[1], ignore_index = False)\n",
      "/tmp/ipykernel_37775/3705381019.py:14: FutureWarning: The frame.append method is deprecated and will be removed from pandas in a future version. Use pandas.concat instead.\n",
      "  concat_df = concat_df.append(temp_df_t.iloc[1], ignore_index = False)\n"
     ]
    },
    {
     "name": "stdout",
     "output_type": "stream",
     "text": [
      "/home/ege/Desktop/project/new/Resampled_Data/20220422/SSE_600101.csv\n",
      "SSE_600101.csv\n",
      "/home/ege/Desktop/project/new/Resampled_Data/20220422/SSE_600699.csv\n",
      "SSE_600699.csv\n",
      "/home/ege/Desktop/project/new/Resampled_Data/20220422/SSE_600121.csv\n",
      "SSE_600121.csv\n",
      "/home/ege/Desktop/project/new/Resampled_Data/20220422/SSE_600675.csv\n",
      "SSE_600675.csv\n",
      "/home/ege/Desktop/project/new/Resampled_Data/20220422/SSE_600395.csv\n",
      "SSE_600395.csv\n"
     ]
    },
    {
     "name": "stderr",
     "output_type": "stream",
     "text": [
      "/tmp/ipykernel_37775/3705381019.py:14: FutureWarning: The frame.append method is deprecated and will be removed from pandas in a future version. Use pandas.concat instead.\n",
      "  concat_df = concat_df.append(temp_df_t.iloc[1], ignore_index = False)\n",
      "/tmp/ipykernel_37775/3705381019.py:14: FutureWarning: The frame.append method is deprecated and will be removed from pandas in a future version. Use pandas.concat instead.\n",
      "  concat_df = concat_df.append(temp_df_t.iloc[1], ignore_index = False)\n",
      "/tmp/ipykernel_37775/3705381019.py:14: FutureWarning: The frame.append method is deprecated and will be removed from pandas in a future version. Use pandas.concat instead.\n",
      "  concat_df = concat_df.append(temp_df_t.iloc[1], ignore_index = False)\n",
      "/tmp/ipykernel_37775/3705381019.py:14: FutureWarning: The frame.append method is deprecated and will be removed from pandas in a future version. Use pandas.concat instead.\n",
      "  concat_df = concat_df.append(temp_df_t.iloc[1], ignore_index = False)\n"
     ]
    },
    {
     "name": "stdout",
     "output_type": "stream",
     "text": [
      "/home/ege/Desktop/project/new/Resampled_Data/20220422/SSE_600546.csv\n",
      "SSE_600546.csv\n",
      "/home/ege/Desktop/project/new/Resampled_Data/20220422/SSE_600312.csv\n",
      "SSE_600312.csv\n",
      "/home/ege/Desktop/project/new/Resampled_Data/20220422/SSE_600497.csv\n",
      "SSE_600497.csv\n",
      "/home/ege/Desktop/project/new/Resampled_Data/20220422/SSE_600684.csv\n",
      "SSE_600684.csv\n"
     ]
    },
    {
     "name": "stderr",
     "output_type": "stream",
     "text": [
      "/tmp/ipykernel_37775/3705381019.py:14: FutureWarning: The frame.append method is deprecated and will be removed from pandas in a future version. Use pandas.concat instead.\n",
      "  concat_df = concat_df.append(temp_df_t.iloc[1], ignore_index = False)\n",
      "/tmp/ipykernel_37775/3705381019.py:14: FutureWarning: The frame.append method is deprecated and will be removed from pandas in a future version. Use pandas.concat instead.\n",
      "  concat_df = concat_df.append(temp_df_t.iloc[1], ignore_index = False)\n",
      "/tmp/ipykernel_37775/3705381019.py:14: FutureWarning: The frame.append method is deprecated and will be removed from pandas in a future version. Use pandas.concat instead.\n",
      "  concat_df = concat_df.append(temp_df_t.iloc[1], ignore_index = False)\n",
      "/tmp/ipykernel_37775/3705381019.py:14: FutureWarning: The frame.append method is deprecated and will be removed from pandas in a future version. Use pandas.concat instead.\n",
      "  concat_df = concat_df.append(temp_df_t.iloc[1], ignore_index = False)\n"
     ]
    },
    {
     "name": "stdout",
     "output_type": "stream",
     "text": [
      "/home/ege/Desktop/project/new/Resampled_Data/20220422/SSE_600110.csv\n",
      "SSE_600110.csv\n",
      "/home/ege/Desktop/project/new/Resampled_Data/20220422/SSE_600163.csv\n",
      "SSE_600163.csv\n",
      "/home/ege/Desktop/project/new/Resampled_Data/20220422/SSE_600491.csv\n",
      "SSE_600491.csv\n",
      "/home/ege/Desktop/project/new/Resampled_Data/20220422/SSE_600172.csv\n",
      "SSE_600172.csv\n",
      "/home/ege/Desktop/project/new/Resampled_Data/20220422/SSE_600489.csv\n",
      "SSE_600489.csv\n",
      "/home/ege/Desktop/project/new/Resampled_Data/20220422/SSE_600559.csv\n",
      "SSE_600559.csv\n"
     ]
    },
    {
     "name": "stderr",
     "output_type": "stream",
     "text": [
      "/tmp/ipykernel_37775/3705381019.py:14: FutureWarning: The frame.append method is deprecated and will be removed from pandas in a future version. Use pandas.concat instead.\n",
      "  concat_df = concat_df.append(temp_df_t.iloc[1], ignore_index = False)\n",
      "/tmp/ipykernel_37775/3705381019.py:14: FutureWarning: The frame.append method is deprecated and will be removed from pandas in a future version. Use pandas.concat instead.\n",
      "  concat_df = concat_df.append(temp_df_t.iloc[1], ignore_index = False)\n",
      "/tmp/ipykernel_37775/3705381019.py:14: FutureWarning: The frame.append method is deprecated and will be removed from pandas in a future version. Use pandas.concat instead.\n",
      "  concat_df = concat_df.append(temp_df_t.iloc[1], ignore_index = False)\n",
      "/tmp/ipykernel_37775/3705381019.py:14: FutureWarning: The frame.append method is deprecated and will be removed from pandas in a future version. Use pandas.concat instead.\n",
      "  concat_df = concat_df.append(temp_df_t.iloc[1], ignore_index = False)\n"
     ]
    },
    {
     "name": "stdout",
     "output_type": "stream",
     "text": [
      "/home/ege/Desktop/project/new/Resampled_Data/20220422/SSE_600150.csv\n",
      "SSE_600150.csv\n",
      "/home/ege/Desktop/project/new/Resampled_Data/20220422/SSE_600683.csv\n",
      "SSE_600683.csv\n",
      "/home/ege/Desktop/project/new/Resampled_Data/20220422/SSE_600280.csv\n",
      "SSE_600280.csv\n"
     ]
    },
    {
     "name": "stderr",
     "output_type": "stream",
     "text": [
      "/tmp/ipykernel_37775/3705381019.py:14: FutureWarning: The frame.append method is deprecated and will be removed from pandas in a future version. Use pandas.concat instead.\n",
      "  concat_df = concat_df.append(temp_df_t.iloc[1], ignore_index = False)\n",
      "/tmp/ipykernel_37775/3705381019.py:14: FutureWarning: The frame.append method is deprecated and will be removed from pandas in a future version. Use pandas.concat instead.\n",
      "  concat_df = concat_df.append(temp_df_t.iloc[1], ignore_index = False)\n",
      "/tmp/ipykernel_37775/3705381019.py:14: FutureWarning: The frame.append method is deprecated and will be removed from pandas in a future version. Use pandas.concat instead.\n",
      "  concat_df = concat_df.append(temp_df_t.iloc[1], ignore_index = False)\n",
      "/tmp/ipykernel_37775/3705381019.py:14: FutureWarning: The frame.append method is deprecated and will be removed from pandas in a future version. Use pandas.concat instead.\n",
      "  concat_df = concat_df.append(temp_df_t.iloc[1], ignore_index = False)\n"
     ]
    },
    {
     "name": "stdout",
     "output_type": "stream",
     "text": [
      "/home/ege/Desktop/project/new/Resampled_Data/20220422/SSE_600418.csv\n",
      "SSE_600418.csv\n",
      "/home/ege/Desktop/project/new/Resampled_Data/20220422/SSE_600649.csv\n",
      "SSE_600649.csv\n",
      "/home/ege/Desktop/project/new/Resampled_Data/20220422/SSE_600149.csv\n",
      "SSE_600149.csv\n"
     ]
    },
    {
     "name": "stderr",
     "output_type": "stream",
     "text": [
      "/tmp/ipykernel_37775/3705381019.py:14: FutureWarning: The frame.append method is deprecated and will be removed from pandas in a future version. Use pandas.concat instead.\n",
      "  concat_df = concat_df.append(temp_df_t.iloc[1], ignore_index = False)\n",
      "/tmp/ipykernel_37775/3705381019.py:14: FutureWarning: The frame.append method is deprecated and will be removed from pandas in a future version. Use pandas.concat instead.\n",
      "  concat_df = concat_df.append(temp_df_t.iloc[1], ignore_index = False)\n",
      "/tmp/ipykernel_37775/3705381019.py:14: FutureWarning: The frame.append method is deprecated and will be removed from pandas in a future version. Use pandas.concat instead.\n",
      "  concat_df = concat_df.append(temp_df_t.iloc[1], ignore_index = False)\n"
     ]
    },
    {
     "name": "stdout",
     "output_type": "stream",
     "text": [
      "/home/ege/Desktop/project/new/Resampled_Data/20220422/SSE_600470.csv\n",
      "SSE_600470.csv\n",
      "/home/ege/Desktop/project/new/Resampled_Data/20220422/SSE_600572.csv\n",
      "SSE_600572.csv\n",
      "/home/ege/Desktop/project/new/Resampled_Data/20220422/SSE_600466.csv\n",
      "SSE_600466.csv\n",
      "/home/ege/Desktop/project/new/Resampled_Data/20220422/SSE_600166.csv\n",
      "SSE_600166.csv\n"
     ]
    },
    {
     "name": "stderr",
     "output_type": "stream",
     "text": [
      "/tmp/ipykernel_37775/3705381019.py:14: FutureWarning: The frame.append method is deprecated and will be removed from pandas in a future version. Use pandas.concat instead.\n",
      "  concat_df = concat_df.append(temp_df_t.iloc[1], ignore_index = False)\n",
      "/tmp/ipykernel_37775/3705381019.py:14: FutureWarning: The frame.append method is deprecated and will be removed from pandas in a future version. Use pandas.concat instead.\n",
      "  concat_df = concat_df.append(temp_df_t.iloc[1], ignore_index = False)\n",
      "/tmp/ipykernel_37775/3705381019.py:14: FutureWarning: The frame.append method is deprecated and will be removed from pandas in a future version. Use pandas.concat instead.\n",
      "  concat_df = concat_df.append(temp_df_t.iloc[1], ignore_index = False)\n",
      "/tmp/ipykernel_37775/3705381019.py:14: FutureWarning: The frame.append method is deprecated and will be removed from pandas in a future version. Use pandas.concat instead.\n",
      "  concat_df = concat_df.append(temp_df_t.iloc[1], ignore_index = False)\n"
     ]
    },
    {
     "name": "stdout",
     "output_type": "stream",
     "text": [
      "/home/ege/Desktop/project/new/Resampled_Data/20220422/SSE_600336.csv\n",
      "SSE_600336.csv\n",
      "/home/ege/Desktop/project/new/Resampled_Data/20220422/SSE_600581.csv\n",
      "SSE_600581.csv\n",
      "/home/ege/Desktop/project/new/Resampled_Data/20220422/SSE_600690.csv\n",
      "SSE_600690.csv\n",
      "/home/ege/Desktop/project/new/Resampled_Data/20220422/SSE_600698.csv\n",
      "SSE_600698.csv\n"
     ]
    },
    {
     "name": "stderr",
     "output_type": "stream",
     "text": [
      "/tmp/ipykernel_37775/3705381019.py:14: FutureWarning: The frame.append method is deprecated and will be removed from pandas in a future version. Use pandas.concat instead.\n",
      "  concat_df = concat_df.append(temp_df_t.iloc[1], ignore_index = False)\n",
      "/tmp/ipykernel_37775/3705381019.py:14: FutureWarning: The frame.append method is deprecated and will be removed from pandas in a future version. Use pandas.concat instead.\n",
      "  concat_df = concat_df.append(temp_df_t.iloc[1], ignore_index = False)\n",
      "/tmp/ipykernel_37775/3705381019.py:14: FutureWarning: The frame.append method is deprecated and will be removed from pandas in a future version. Use pandas.concat instead.\n",
      "  concat_df = concat_df.append(temp_df_t.iloc[1], ignore_index = False)\n",
      "/tmp/ipykernel_37775/3705381019.py:14: FutureWarning: The frame.append method is deprecated and will be removed from pandas in a future version. Use pandas.concat instead.\n",
      "  concat_df = concat_df.append(temp_df_t.iloc[1], ignore_index = False)\n"
     ]
    },
    {
     "name": "stdout",
     "output_type": "stream",
     "text": [
      "/home/ege/Desktop/project/new/Resampled_Data/20220422/SSE_600467.csv\n",
      "SSE_600467.csv\n",
      "/home/ege/Desktop/project/new/Resampled_Data/20220422/SSE_600162.csv\n",
      "SSE_600162.csv\n",
      "/home/ege/Desktop/project/new/Resampled_Data/20220422/SSE_600307.csv\n",
      "SSE_600307.csv\n"
     ]
    },
    {
     "name": "stderr",
     "output_type": "stream",
     "text": [
      "/tmp/ipykernel_37775/3705381019.py:14: FutureWarning: The frame.append method is deprecated and will be removed from pandas in a future version. Use pandas.concat instead.\n",
      "  concat_df = concat_df.append(temp_df_t.iloc[1], ignore_index = False)\n",
      "/tmp/ipykernel_37775/3705381019.py:14: FutureWarning: The frame.append method is deprecated and will be removed from pandas in a future version. Use pandas.concat instead.\n",
      "  concat_df = concat_df.append(temp_df_t.iloc[1], ignore_index = False)\n",
      "/tmp/ipykernel_37775/3705381019.py:14: FutureWarning: The frame.append method is deprecated and will be removed from pandas in a future version. Use pandas.concat instead.\n",
      "  concat_df = concat_df.append(temp_df_t.iloc[1], ignore_index = False)\n",
      "/tmp/ipykernel_37775/3705381019.py:14: FutureWarning: The frame.append method is deprecated and will be removed from pandas in a future version. Use pandas.concat instead.\n",
      "  concat_df = concat_df.append(temp_df_t.iloc[1], ignore_index = False)\n"
     ]
    },
    {
     "name": "stdout",
     "output_type": "stream",
     "text": [
      "/home/ege/Desktop/project/new/Resampled_Data/20220422/SSE_600653.csv\n",
      "SSE_600653.csv\n",
      "/home/ege/Desktop/project/new/Resampled_Data/20220422/SSE_600577.csv\n",
      "SSE_600577.csv\n",
      "/home/ege/Desktop/project/new/Resampled_Data/20220422/SSE_600370.csv\n",
      "SSE_600370.csv\n",
      "/home/ege/Desktop/project/new/Resampled_Data/20220422/SSE_600338.csv\n",
      "SSE_600338.csv\n"
     ]
    },
    {
     "name": "stderr",
     "output_type": "stream",
     "text": [
      "/tmp/ipykernel_37775/3705381019.py:14: FutureWarning: The frame.append method is deprecated and will be removed from pandas in a future version. Use pandas.concat instead.\n",
      "  concat_df = concat_df.append(temp_df_t.iloc[1], ignore_index = False)\n",
      "/tmp/ipykernel_37775/3705381019.py:14: FutureWarning: The frame.append method is deprecated and will be removed from pandas in a future version. Use pandas.concat instead.\n",
      "  concat_df = concat_df.append(temp_df_t.iloc[1], ignore_index = False)\n",
      "/tmp/ipykernel_37775/3705381019.py:14: FutureWarning: The frame.append method is deprecated and will be removed from pandas in a future version. Use pandas.concat instead.\n",
      "  concat_df = concat_df.append(temp_df_t.iloc[1], ignore_index = False)\n",
      "/tmp/ipykernel_37775/3705381019.py:14: FutureWarning: The frame.append method is deprecated and will be removed from pandas in a future version. Use pandas.concat instead.\n",
      "  concat_df = concat_df.append(temp_df_t.iloc[1], ignore_index = False)\n"
     ]
    },
    {
     "name": "stdout",
     "output_type": "stream",
     "text": [
      "/home/ege/Desktop/project/new/Resampled_Data/20220422/SSE_600157.csv\n",
      "SSE_600157.csv\n",
      "/home/ege/Desktop/project/new/Resampled_Data/20220422/SSE_600582.csv\n",
      "SSE_600582.csv\n",
      "/home/ege/Desktop/project/new/Resampled_Data/20220422/SSE_600383.csv\n",
      "SSE_600383.csv\n",
      "/home/ege/Desktop/project/new/Resampled_Data/20220422/SSE_600516.csv\n",
      "SSE_600516.csv\n",
      "/home/ege/Desktop/project/new/Resampled_Data/20220422/SSE_600100.csv\n",
      "SSE_600100.csv\n",
      "/home/ege/Desktop/project/new/Resampled_Data/20220422/SSE_600596.csv\n",
      "SSE_600596.csv\n"
     ]
    },
    {
     "name": "stderr",
     "output_type": "stream",
     "text": [
      "/tmp/ipykernel_37775/3705381019.py:14: FutureWarning: The frame.append method is deprecated and will be removed from pandas in a future version. Use pandas.concat instead.\n",
      "  concat_df = concat_df.append(temp_df_t.iloc[1], ignore_index = False)\n",
      "/tmp/ipykernel_37775/3705381019.py:14: FutureWarning: The frame.append method is deprecated and will be removed from pandas in a future version. Use pandas.concat instead.\n",
      "  concat_df = concat_df.append(temp_df_t.iloc[1], ignore_index = False)\n",
      "/tmp/ipykernel_37775/3705381019.py:14: FutureWarning: The frame.append method is deprecated and will be removed from pandas in a future version. Use pandas.concat instead.\n",
      "  concat_df = concat_df.append(temp_df_t.iloc[1], ignore_index = False)\n"
     ]
    },
    {
     "name": "stdout",
     "output_type": "stream",
     "text": [
      "/home/ege/Desktop/project/new/Resampled_Data/20220422/SSE_600409.csv\n",
      "SSE_600409.csv\n",
      "/home/ege/Desktop/project/new/Resampled_Data/20220422/SSE_600180.csv\n",
      "SSE_600180.csv\n",
      "/home/ege/Desktop/project/new/Resampled_Data/20220422/SSE_600325.csv\n",
      "SSE_600325.csv\n"
     ]
    },
    {
     "name": "stderr",
     "output_type": "stream",
     "text": [
      "/tmp/ipykernel_37775/3705381019.py:14: FutureWarning: The frame.append method is deprecated and will be removed from pandas in a future version. Use pandas.concat instead.\n",
      "  concat_df = concat_df.append(temp_df_t.iloc[1], ignore_index = False)\n",
      "/tmp/ipykernel_37775/3705381019.py:14: FutureWarning: The frame.append method is deprecated and will be removed from pandas in a future version. Use pandas.concat instead.\n",
      "  concat_df = concat_df.append(temp_df_t.iloc[1], ignore_index = False)\n",
      "/tmp/ipykernel_37775/3705381019.py:14: FutureWarning: The frame.append method is deprecated and will be removed from pandas in a future version. Use pandas.concat instead.\n",
      "  concat_df = concat_df.append(temp_df_t.iloc[1], ignore_index = False)\n"
     ]
    },
    {
     "name": "stdout",
     "output_type": "stream",
     "text": [
      "/home/ege/Desktop/project/new/Resampled_Data/20220422/SSE_600159.csv\n",
      "SSE_600159.csv\n",
      "/home/ege/Desktop/project/new/Resampled_Data/20220422/SSE_600703.csv\n",
      "SSE_600703.csv\n",
      "/home/ege/Desktop/project/new/Resampled_Data/20220422/SSE_600598.csv\n",
      "SSE_600598.csv\n",
      "/home/ege/Desktop/project/new/Resampled_Data/20220422/SSE_600657.csv\n",
      "SSE_600657.csv\n"
     ]
    },
    {
     "name": "stderr",
     "output_type": "stream",
     "text": [
      "/tmp/ipykernel_37775/3705381019.py:14: FutureWarning: The frame.append method is deprecated and will be removed from pandas in a future version. Use pandas.concat instead.\n",
      "  concat_df = concat_df.append(temp_df_t.iloc[1], ignore_index = False)\n",
      "/tmp/ipykernel_37775/3705381019.py:14: FutureWarning: The frame.append method is deprecated and will be removed from pandas in a future version. Use pandas.concat instead.\n",
      "  concat_df = concat_df.append(temp_df_t.iloc[1], ignore_index = False)\n",
      "/tmp/ipykernel_37775/3705381019.py:14: FutureWarning: The frame.append method is deprecated and will be removed from pandas in a future version. Use pandas.concat instead.\n",
      "  concat_df = concat_df.append(temp_df_t.iloc[1], ignore_index = False)\n",
      "/tmp/ipykernel_37775/3705381019.py:14: FutureWarning: The frame.append method is deprecated and will be removed from pandas in a future version. Use pandas.concat instead.\n",
      "  concat_df = concat_df.append(temp_df_t.iloc[1], ignore_index = False)\n"
     ]
    },
    {
     "name": "stdout",
     "output_type": "stream",
     "text": [
      "/home/ege/Desktop/project/new/Resampled_Data/20220422/SSE_600282.csv\n",
      "SSE_600282.csv\n",
      "/home/ege/Desktop/project/new/Resampled_Data/20220422/SSE_600575.csv\n",
      "SSE_600575.csv\n",
      "/home/ege/Desktop/project/new/Resampled_Data/20220422/SSE_600438.csv\n",
      "SSE_600438.csv\n",
      "/home/ege/Desktop/project/new/Resampled_Data/20220422/SSE_600522.csv\n",
      "SSE_600522.csv\n"
     ]
    },
    {
     "name": "stderr",
     "output_type": "stream",
     "text": [
      "/tmp/ipykernel_37775/3705381019.py:14: FutureWarning: The frame.append method is deprecated and will be removed from pandas in a future version. Use pandas.concat instead.\n",
      "  concat_df = concat_df.append(temp_df_t.iloc[1], ignore_index = False)\n",
      "/tmp/ipykernel_37775/3705381019.py:14: FutureWarning: The frame.append method is deprecated and will be removed from pandas in a future version. Use pandas.concat instead.\n",
      "  concat_df = concat_df.append(temp_df_t.iloc[1], ignore_index = False)\n",
      "/tmp/ipykernel_37775/3705381019.py:14: FutureWarning: The frame.append method is deprecated and will be removed from pandas in a future version. Use pandas.concat instead.\n",
      "  concat_df = concat_df.append(temp_df_t.iloc[1], ignore_index = False)\n",
      "/tmp/ipykernel_37775/3705381019.py:14: FutureWarning: The frame.append method is deprecated and will be removed from pandas in a future version. Use pandas.concat instead.\n",
      "  concat_df = concat_df.append(temp_df_t.iloc[1], ignore_index = False)\n"
     ]
    },
    {
     "name": "stdout",
     "output_type": "stream",
     "text": [
      "/home/ege/Desktop/project/new/Resampled_Data/20220422/SSE_600367.csv\n",
      "SSE_600367.csv\n",
      "/home/ege/Desktop/project/new/Resampled_Data/20220422/SSE_600328.csv\n",
      "SSE_600328.csv\n",
      "/home/ege/Desktop/project/new/Resampled_Data/20220422/SSE_600141.csv\n",
      "SSE_600141.csv\n",
      "/home/ege/Desktop/project/new/Resampled_Data/20220422/SSE_600628.csv\n",
      "SSE_600628.csv\n"
     ]
    },
    {
     "name": "stderr",
     "output_type": "stream",
     "text": [
      "/tmp/ipykernel_37775/3705381019.py:14: FutureWarning: The frame.append method is deprecated and will be removed from pandas in a future version. Use pandas.concat instead.\n",
      "  concat_df = concat_df.append(temp_df_t.iloc[1], ignore_index = False)\n",
      "/tmp/ipykernel_37775/3705381019.py:14: FutureWarning: The frame.append method is deprecated and will be removed from pandas in a future version. Use pandas.concat instead.\n",
      "  concat_df = concat_df.append(temp_df_t.iloc[1], ignore_index = False)\n",
      "/tmp/ipykernel_37775/3705381019.py:14: FutureWarning: The frame.append method is deprecated and will be removed from pandas in a future version. Use pandas.concat instead.\n",
      "  concat_df = concat_df.append(temp_df_t.iloc[1], ignore_index = False)\n",
      "/tmp/ipykernel_37775/3705381019.py:14: FutureWarning: The frame.append method is deprecated and will be removed from pandas in a future version. Use pandas.concat instead.\n",
      "  concat_df = concat_df.append(temp_df_t.iloc[1], ignore_index = False)\n"
     ]
    },
    {
     "name": "stdout",
     "output_type": "stream",
     "text": [
      "/home/ege/Desktop/project/new/Resampled_Data/20220422/SSE_600339.csv\n",
      "SSE_600339.csv\n",
      "/home/ege/Desktop/project/new/Resampled_Data/20220422/SSE_600686.csv\n",
      "SSE_600686.csv\n",
      "/home/ege/Desktop/project/new/Resampled_Data/20220422/SSE_600569.csv\n",
      "SSE_600569.csv\n"
     ]
    },
    {
     "name": "stderr",
     "output_type": "stream",
     "text": [
      "/tmp/ipykernel_37775/3705381019.py:14: FutureWarning: The frame.append method is deprecated and will be removed from pandas in a future version. Use pandas.concat instead.\n",
      "  concat_df = concat_df.append(temp_df_t.iloc[1], ignore_index = False)\n",
      "/tmp/ipykernel_37775/3705381019.py:14: FutureWarning: The frame.append method is deprecated and will be removed from pandas in a future version. Use pandas.concat instead.\n",
      "  concat_df = concat_df.append(temp_df_t.iloc[1], ignore_index = False)\n",
      "/tmp/ipykernel_37775/3705381019.py:14: FutureWarning: The frame.append method is deprecated and will be removed from pandas in a future version. Use pandas.concat instead.\n",
      "  concat_df = concat_df.append(temp_df_t.iloc[1], ignore_index = False)\n"
     ]
    },
    {
     "name": "stdout",
     "output_type": "stream",
     "text": [
      "20220425\n",
      "/home/ege/Desktop/project/new/Resampled_Data/20220425/SSE_600153.csv\n",
      "SSE_600153.csv\n",
      "/home/ege/Desktop/project/new/Resampled_Data/20220425/SSE_600348.csv\n",
      "SSE_600348.csv\n",
      "/home/ege/Desktop/project/new/Resampled_Data/20220425/SSE_600521.csv\n",
      "SSE_600521.csv\n"
     ]
    },
    {
     "name": "stderr",
     "output_type": "stream",
     "text": [
      "/tmp/ipykernel_37775/3705381019.py:14: FutureWarning: The frame.append method is deprecated and will be removed from pandas in a future version. Use pandas.concat instead.\n",
      "  concat_df = concat_df.append(temp_df_t.iloc[1], ignore_index = False)\n",
      "/tmp/ipykernel_37775/3705381019.py:14: FutureWarning: The frame.append method is deprecated and will be removed from pandas in a future version. Use pandas.concat instead.\n",
      "  concat_df = concat_df.append(temp_df_t.iloc[1], ignore_index = False)\n",
      "/tmp/ipykernel_37775/3705381019.py:14: FutureWarning: The frame.append method is deprecated and will be removed from pandas in a future version. Use pandas.concat instead.\n",
      "  concat_df = concat_df.append(temp_df_t.iloc[1], ignore_index = False)\n",
      "/tmp/ipykernel_37775/3705381019.py:14: FutureWarning: The frame.append method is deprecated and will be removed from pandas in a future version. Use pandas.concat instead.\n",
      "  concat_df = concat_df.append(temp_df_t.iloc[1], ignore_index = False)\n"
     ]
    },
    {
     "name": "stdout",
     "output_type": "stream",
     "text": [
      "/home/ege/Desktop/project/new/Resampled_Data/20220425/SSE_600606.csv\n",
      "SSE_600606.csv\n",
      "/home/ege/Desktop/project/new/Resampled_Data/20220425/SSE_600176.csv\n",
      "SSE_600176.csv\n",
      "/home/ege/Desktop/project/new/Resampled_Data/20220425/SSE_600502.csv\n",
      "SSE_600502.csv\n",
      "/home/ege/Desktop/project/new/Resampled_Data/20220425/SSE_600499.csv\n",
      "SSE_600499.csv\n"
     ]
    },
    {
     "name": "stderr",
     "output_type": "stream",
     "text": [
      "/tmp/ipykernel_37775/3705381019.py:14: FutureWarning: The frame.append method is deprecated and will be removed from pandas in a future version. Use pandas.concat instead.\n",
      "  concat_df = concat_df.append(temp_df_t.iloc[1], ignore_index = False)\n",
      "/tmp/ipykernel_37775/3705381019.py:14: FutureWarning: The frame.append method is deprecated and will be removed from pandas in a future version. Use pandas.concat instead.\n",
      "  concat_df = concat_df.append(temp_df_t.iloc[1], ignore_index = False)\n",
      "/tmp/ipykernel_37775/3705381019.py:14: FutureWarning: The frame.append method is deprecated and will be removed from pandas in a future version. Use pandas.concat instead.\n",
      "  concat_df = concat_df.append(temp_df_t.iloc[1], ignore_index = False)\n",
      "/tmp/ipykernel_37775/3705381019.py:14: FutureWarning: The frame.append method is deprecated and will be removed from pandas in a future version. Use pandas.concat instead.\n",
      "  concat_df = concat_df.append(temp_df_t.iloc[1], ignore_index = False)\n"
     ]
    },
    {
     "name": "stdout",
     "output_type": "stream",
     "text": [
      "/home/ege/Desktop/project/new/Resampled_Data/20220425/SSE_600512.csv\n",
      "SSE_600512.csv\n",
      "/home/ege/Desktop/project/new/Resampled_Data/20220425/SSE_600170.csv\n",
      "SSE_600170.csv\n",
      "/home/ege/Desktop/project/new/Resampled_Data/20220425/SSE_600397.csv\n",
      "SSE_600397.csv\n",
      "/home/ege/Desktop/project/new/Resampled_Data/20220425/SSE_600335.csv\n",
      "SSE_600335.csv\n"
     ]
    },
    {
     "name": "stderr",
     "output_type": "stream",
     "text": [
      "/tmp/ipykernel_37775/3705381019.py:14: FutureWarning: The frame.append method is deprecated and will be removed from pandas in a future version. Use pandas.concat instead.\n",
      "  concat_df = concat_df.append(temp_df_t.iloc[1], ignore_index = False)\n",
      "/tmp/ipykernel_37775/3705381019.py:14: FutureWarning: The frame.append method is deprecated and will be removed from pandas in a future version. Use pandas.concat instead.\n",
      "  concat_df = concat_df.append(temp_df_t.iloc[1], ignore_index = False)\n",
      "/tmp/ipykernel_37775/3705381019.py:14: FutureWarning: The frame.append method is deprecated and will be removed from pandas in a future version. Use pandas.concat instead.\n",
      "  concat_df = concat_df.append(temp_df_t.iloc[1], ignore_index = False)\n",
      "/tmp/ipykernel_37775/3705381019.py:14: FutureWarning: The frame.append method is deprecated and will be removed from pandas in a future version. Use pandas.concat instead.\n",
      "  concat_df = concat_df.append(temp_df_t.iloc[1], ignore_index = False)\n"
     ]
    },
    {
     "name": "stdout",
     "output_type": "stream",
     "text": [
      "/home/ege/Desktop/project/new/Resampled_Data/20220425/SSE_600616.csv\n",
      "SSE_600616.csv\n",
      "/home/ege/Desktop/project/new/Resampled_Data/20220425/SSE_600588.csv\n",
      "SSE_600588.csv\n",
      "/home/ege/Desktop/project/new/Resampled_Data/20220425/SSE_600359.csv\n",
      "SSE_600359.csv\n",
      "/home/ege/Desktop/project/new/Resampled_Data/20220425/SSE_600487.csv\n",
      "SSE_600487.csv\n"
     ]
    },
    {
     "name": "stderr",
     "output_type": "stream",
     "text": [
      "/tmp/ipykernel_37775/3705381019.py:14: FutureWarning: The frame.append method is deprecated and will be removed from pandas in a future version. Use pandas.concat instead.\n",
      "  concat_df = concat_df.append(temp_df_t.iloc[1], ignore_index = False)\n",
      "/tmp/ipykernel_37775/3705381019.py:14: FutureWarning: The frame.append method is deprecated and will be removed from pandas in a future version. Use pandas.concat instead.\n",
      "  concat_df = concat_df.append(temp_df_t.iloc[1], ignore_index = False)\n",
      "/tmp/ipykernel_37775/3705381019.py:14: FutureWarning: The frame.append method is deprecated and will be removed from pandas in a future version. Use pandas.concat instead.\n",
      "  concat_df = concat_df.append(temp_df_t.iloc[1], ignore_index = False)\n",
      "/tmp/ipykernel_37775/3705381019.py:14: FutureWarning: The frame.append method is deprecated and will be removed from pandas in a future version. Use pandas.concat instead.\n",
      "  concat_df = concat_df.append(temp_df_t.iloc[1], ignore_index = False)\n"
     ]
    },
    {
     "name": "stdout",
     "output_type": "stream",
     "text": [
      "/home/ege/Desktop/project/new/Resampled_Data/20220425/SSE_600366.csv\n",
      "SSE_600366.csv\n",
      "/home/ege/Desktop/project/new/Resampled_Data/20220425/SSE_600425.csv\n",
      "SSE_600425.csv\n",
      "/home/ege/Desktop/project/new/Resampled_Data/20220425/SSE_600448.csv\n",
      "SSE_600448.csv\n",
      "/home/ege/Desktop/project/new/Resampled_Data/20220425/SSE_600330.csv\n",
      "SSE_600330.csv\n"
     ]
    },
    {
     "name": "stderr",
     "output_type": "stream",
     "text": [
      "/tmp/ipykernel_37775/3705381019.py:14: FutureWarning: The frame.append method is deprecated and will be removed from pandas in a future version. Use pandas.concat instead.\n",
      "  concat_df = concat_df.append(temp_df_t.iloc[1], ignore_index = False)\n",
      "/tmp/ipykernel_37775/3705381019.py:14: FutureWarning: The frame.append method is deprecated and will be removed from pandas in a future version. Use pandas.concat instead.\n",
      "  concat_df = concat_df.append(temp_df_t.iloc[1], ignore_index = False)\n",
      "/tmp/ipykernel_37775/3705381019.py:14: FutureWarning: The frame.append method is deprecated and will be removed from pandas in a future version. Use pandas.concat instead.\n",
      "  concat_df = concat_df.append(temp_df_t.iloc[1], ignore_index = False)\n",
      "/tmp/ipykernel_37775/3705381019.py:14: FutureWarning: The frame.append method is deprecated and will be removed from pandas in a future version. Use pandas.concat instead.\n",
      "  concat_df = concat_df.append(temp_df_t.iloc[1], ignore_index = False)\n"
     ]
    },
    {
     "name": "stdout",
     "output_type": "stream",
     "text": [
      "/home/ege/Desktop/project/new/Resampled_Data/20220425/SSE_600704.csv\n",
      "SSE_600704.csv\n",
      "/home/ege/Desktop/project/new/Resampled_Data/20220425/SSE_600396.csv\n",
      "SSE_600396.csv\n",
      "/home/ege/Desktop/project/new/Resampled_Data/20220425/SSE_600533.csv\n",
      "SSE_600533.csv\n",
      "/home/ege/Desktop/project/new/Resampled_Data/20220425/SSE_600705.csv\n",
      "SSE_600705.csv\n"
     ]
    },
    {
     "name": "stderr",
     "output_type": "stream",
     "text": [
      "/tmp/ipykernel_37775/3705381019.py:14: FutureWarning: The frame.append method is deprecated and will be removed from pandas in a future version. Use pandas.concat instead.\n",
      "  concat_df = concat_df.append(temp_df_t.iloc[1], ignore_index = False)\n",
      "/tmp/ipykernel_37775/3705381019.py:14: FutureWarning: The frame.append method is deprecated and will be removed from pandas in a future version. Use pandas.concat instead.\n",
      "  concat_df = concat_df.append(temp_df_t.iloc[1], ignore_index = False)\n",
      "/tmp/ipykernel_37775/3705381019.py:14: FutureWarning: The frame.append method is deprecated and will be removed from pandas in a future version. Use pandas.concat instead.\n",
      "  concat_df = concat_df.append(temp_df_t.iloc[1], ignore_index = False)\n",
      "/tmp/ipykernel_37775/3705381019.py:14: FutureWarning: The frame.append method is deprecated and will be removed from pandas in a future version. Use pandas.concat instead.\n",
      "  concat_df = concat_df.append(temp_df_t.iloc[1], ignore_index = False)\n"
     ]
    },
    {
     "name": "stdout",
     "output_type": "stream",
     "text": [
      "/home/ege/Desktop/project/new/Resampled_Data/20220425/SSE_600428.csv\n",
      "SSE_600428.csv\n",
      "/home/ege/Desktop/project/new/Resampled_Data/20220425/SSE_600331.csv\n",
      "SSE_600331.csv\n",
      "/home/ege/Desktop/project/new/Resampled_Data/20220425/SSE_600699.csv\n",
      "SSE_600699.csv\n"
     ]
    },
    {
     "name": "stderr",
     "output_type": "stream",
     "text": [
      "/tmp/ipykernel_37775/3705381019.py:14: FutureWarning: The frame.append method is deprecated and will be removed from pandas in a future version. Use pandas.concat instead.\n",
      "  concat_df = concat_df.append(temp_df_t.iloc[1], ignore_index = False)\n",
      "/tmp/ipykernel_37775/3705381019.py:14: FutureWarning: The frame.append method is deprecated and will be removed from pandas in a future version. Use pandas.concat instead.\n",
      "  concat_df = concat_df.append(temp_df_t.iloc[1], ignore_index = False)\n",
      "/tmp/ipykernel_37775/3705381019.py:14: FutureWarning: The frame.append method is deprecated and will be removed from pandas in a future version. Use pandas.concat instead.\n",
      "  concat_df = concat_df.append(temp_df_t.iloc[1], ignore_index = False)\n"
     ]
    },
    {
     "name": "stdout",
     "output_type": "stream",
     "text": [
      "/home/ege/Desktop/project/new/Resampled_Data/20220425/SSE_600675.csv\n",
      "SSE_600675.csv\n",
      "/home/ege/Desktop/project/new/Resampled_Data/20220425/SSE_600395.csv\n",
      "SSE_600395.csv\n",
      "/home/ege/Desktop/project/new/Resampled_Data/20220425/SSE_600546.csv\n",
      "SSE_600546.csv\n"
     ]
    },
    {
     "name": "stderr",
     "output_type": "stream",
     "text": [
      "/tmp/ipykernel_37775/3705381019.py:14: FutureWarning: The frame.append method is deprecated and will be removed from pandas in a future version. Use pandas.concat instead.\n",
      "  concat_df = concat_df.append(temp_df_t.iloc[1], ignore_index = False)\n",
      "/tmp/ipykernel_37775/3705381019.py:14: FutureWarning: The frame.append method is deprecated and will be removed from pandas in a future version. Use pandas.concat instead.\n",
      "  concat_df = concat_df.append(temp_df_t.iloc[1], ignore_index = False)\n",
      "/tmp/ipykernel_37775/3705381019.py:14: FutureWarning: The frame.append method is deprecated and will be removed from pandas in a future version. Use pandas.concat instead.\n",
      "  concat_df = concat_df.append(temp_df_t.iloc[1], ignore_index = False)\n"
     ]
    },
    {
     "name": "stdout",
     "output_type": "stream",
     "text": [
      "/home/ege/Desktop/project/new/Resampled_Data/20220425/SSE_600115.csv\n",
      "SSE_600115.csv\n",
      "/home/ege/Desktop/project/new/Resampled_Data/20220425/SSE_600497.csv\n",
      "SSE_600497.csv\n",
      "/home/ege/Desktop/project/new/Resampled_Data/20220425/SSE_600684.csv\n",
      "SSE_600684.csv\n"
     ]
    },
    {
     "name": "stderr",
     "output_type": "stream",
     "text": [
      "/tmp/ipykernel_37775/3705381019.py:14: FutureWarning: The frame.append method is deprecated and will be removed from pandas in a future version. Use pandas.concat instead.\n",
      "  concat_df = concat_df.append(temp_df_t.iloc[1], ignore_index = False)\n",
      "/tmp/ipykernel_37775/3705381019.py:14: FutureWarning: The frame.append method is deprecated and will be removed from pandas in a future version. Use pandas.concat instead.\n",
      "  concat_df = concat_df.append(temp_df_t.iloc[1], ignore_index = False)\n",
      "/tmp/ipykernel_37775/3705381019.py:14: FutureWarning: The frame.append method is deprecated and will be removed from pandas in a future version. Use pandas.concat instead.\n",
      "  concat_df = concat_df.append(temp_df_t.iloc[1], ignore_index = False)\n"
     ]
    },
    {
     "name": "stdout",
     "output_type": "stream",
     "text": [
      "/home/ege/Desktop/project/new/Resampled_Data/20220425/SSE_600163.csv\n",
      "SSE_600163.csv\n",
      "/home/ege/Desktop/project/new/Resampled_Data/20220425/SSE_600491.csv\n",
      "SSE_600491.csv\n",
      "/home/ege/Desktop/project/new/Resampled_Data/20220425/SSE_600172.csv\n",
      "SSE_600172.csv\n"
     ]
    },
    {
     "name": "stderr",
     "output_type": "stream",
     "text": [
      "/tmp/ipykernel_37775/3705381019.py:14: FutureWarning: The frame.append method is deprecated and will be removed from pandas in a future version. Use pandas.concat instead.\n",
      "  concat_df = concat_df.append(temp_df_t.iloc[1], ignore_index = False)\n",
      "/tmp/ipykernel_37775/3705381019.py:14: FutureWarning: The frame.append method is deprecated and will be removed from pandas in a future version. Use pandas.concat instead.\n",
      "  concat_df = concat_df.append(temp_df_t.iloc[1], ignore_index = False)\n",
      "/tmp/ipykernel_37775/3705381019.py:14: FutureWarning: The frame.append method is deprecated and will be removed from pandas in a future version. Use pandas.concat instead.\n",
      "  concat_df = concat_df.append(temp_df_t.iloc[1], ignore_index = False)\n"
     ]
    },
    {
     "name": "stdout",
     "output_type": "stream",
     "text": [
      "/home/ege/Desktop/project/new/Resampled_Data/20220425/SSE_600489.csv\n",
      "SSE_600489.csv\n",
      "/home/ege/Desktop/project/new/Resampled_Data/20220425/SSE_600559.csv\n",
      "SSE_600559.csv\n",
      "/home/ege/Desktop/project/new/Resampled_Data/20220425/SSE_600683.csv\n",
      "SSE_600683.csv\n"
     ]
    },
    {
     "name": "stderr",
     "output_type": "stream",
     "text": [
      "/tmp/ipykernel_37775/3705381019.py:14: FutureWarning: The frame.append method is deprecated and will be removed from pandas in a future version. Use pandas.concat instead.\n",
      "  concat_df = concat_df.append(temp_df_t.iloc[1], ignore_index = False)\n",
      "/tmp/ipykernel_37775/3705381019.py:14: FutureWarning: The frame.append method is deprecated and will be removed from pandas in a future version. Use pandas.concat instead.\n",
      "  concat_df = concat_df.append(temp_df_t.iloc[1], ignore_index = False)\n",
      "/tmp/ipykernel_37775/3705381019.py:14: FutureWarning: The frame.append method is deprecated and will be removed from pandas in a future version. Use pandas.concat instead.\n",
      "  concat_df = concat_df.append(temp_df_t.iloc[1], ignore_index = False)\n"
     ]
    },
    {
     "name": "stdout",
     "output_type": "stream",
     "text": [
      "/home/ege/Desktop/project/new/Resampled_Data/20220425/SSE_600418.csv\n",
      "SSE_600418.csv\n",
      "/home/ege/Desktop/project/new/Resampled_Data/20220425/SSE_600649.csv\n",
      "SSE_600649.csv\n",
      "/home/ege/Desktop/project/new/Resampled_Data/20220425/SSE_600470.csv\n",
      "SSE_600470.csv\n"
     ]
    },
    {
     "name": "stderr",
     "output_type": "stream",
     "text": [
      "/tmp/ipykernel_37775/3705381019.py:14: FutureWarning: The frame.append method is deprecated and will be removed from pandas in a future version. Use pandas.concat instead.\n",
      "  concat_df = concat_df.append(temp_df_t.iloc[1], ignore_index = False)\n",
      "/tmp/ipykernel_37775/3705381019.py:14: FutureWarning: The frame.append method is deprecated and will be removed from pandas in a future version. Use pandas.concat instead.\n",
      "  concat_df = concat_df.append(temp_df_t.iloc[1], ignore_index = False)\n",
      "/tmp/ipykernel_37775/3705381019.py:14: FutureWarning: The frame.append method is deprecated and will be removed from pandas in a future version. Use pandas.concat instead.\n",
      "  concat_df = concat_df.append(temp_df_t.iloc[1], ignore_index = False)\n"
     ]
    },
    {
     "name": "stdout",
     "output_type": "stream",
     "text": [
      "/home/ege/Desktop/project/new/Resampled_Data/20220425/SSE_600572.csv\n",
      "SSE_600572.csv\n",
      "/home/ege/Desktop/project/new/Resampled_Data/20220425/SSE_600466.csv\n",
      "SSE_600466.csv\n",
      "/home/ege/Desktop/project/new/Resampled_Data/20220425/SSE_600166.csv\n",
      "SSE_600166.csv\n"
     ]
    },
    {
     "name": "stderr",
     "output_type": "stream",
     "text": [
      "/tmp/ipykernel_37775/3705381019.py:14: FutureWarning: The frame.append method is deprecated and will be removed from pandas in a future version. Use pandas.concat instead.\n",
      "  concat_df = concat_df.append(temp_df_t.iloc[1], ignore_index = False)\n",
      "/tmp/ipykernel_37775/3705381019.py:14: FutureWarning: The frame.append method is deprecated and will be removed from pandas in a future version. Use pandas.concat instead.\n",
      "  concat_df = concat_df.append(temp_df_t.iloc[1], ignore_index = False)\n",
      "/tmp/ipykernel_37775/3705381019.py:14: FutureWarning: The frame.append method is deprecated and will be removed from pandas in a future version. Use pandas.concat instead.\n",
      "  concat_df = concat_df.append(temp_df_t.iloc[1], ignore_index = False)\n"
     ]
    },
    {
     "name": "stdout",
     "output_type": "stream",
     "text": [
      "/home/ege/Desktop/project/new/Resampled_Data/20220425/SSE_600336.csv\n",
      "SSE_600336.csv\n",
      "/home/ege/Desktop/project/new/Resampled_Data/20220425/SSE_600581.csv\n",
      "SSE_600581.csv\n"
     ]
    },
    {
     "name": "stderr",
     "output_type": "stream",
     "text": [
      "/tmp/ipykernel_37775/3705381019.py:14: FutureWarning: The frame.append method is deprecated and will be removed from pandas in a future version. Use pandas.concat instead.\n",
      "  concat_df = concat_df.append(temp_df_t.iloc[1], ignore_index = False)\n",
      "/tmp/ipykernel_37775/3705381019.py:14: FutureWarning: The frame.append method is deprecated and will be removed from pandas in a future version. Use pandas.concat instead.\n",
      "  concat_df = concat_df.append(temp_df_t.iloc[1], ignore_index = False)\n"
     ]
    },
    {
     "name": "stdout",
     "output_type": "stream",
     "text": [
      "/home/ege/Desktop/project/new/Resampled_Data/20220425/SSE_600690.csv\n",
      "SSE_600690.csv\n",
      "/home/ege/Desktop/project/new/Resampled_Data/20220425/SSE_600698.csv\n",
      "SSE_600698.csv\n"
     ]
    },
    {
     "name": "stderr",
     "output_type": "stream",
     "text": [
      "/tmp/ipykernel_37775/3705381019.py:14: FutureWarning: The frame.append method is deprecated and will be removed from pandas in a future version. Use pandas.concat instead.\n",
      "  concat_df = concat_df.append(temp_df_t.iloc[1], ignore_index = False)\n",
      "/tmp/ipykernel_37775/3705381019.py:14: FutureWarning: The frame.append method is deprecated and will be removed from pandas in a future version. Use pandas.concat instead.\n",
      "  concat_df = concat_df.append(temp_df_t.iloc[1], ignore_index = False)\n",
      "/tmp/ipykernel_37775/3705381019.py:14: FutureWarning: The frame.append method is deprecated and will be removed from pandas in a future version. Use pandas.concat instead.\n",
      "  concat_df = concat_df.append(temp_df_t.iloc[1], ignore_index = False)\n"
     ]
    },
    {
     "name": "stdout",
     "output_type": "stream",
     "text": [
      "/home/ege/Desktop/project/new/Resampled_Data/20220425/SSE_600467.csv\n",
      "SSE_600467.csv\n",
      "/home/ege/Desktop/project/new/Resampled_Data/20220425/SSE_600162.csv\n",
      "SSE_600162.csv\n",
      "/home/ege/Desktop/project/new/Resampled_Data/20220425/SSE_600653.csv\n",
      "SSE_600653.csv\n"
     ]
    },
    {
     "name": "stderr",
     "output_type": "stream",
     "text": [
      "/tmp/ipykernel_37775/3705381019.py:14: FutureWarning: The frame.append method is deprecated and will be removed from pandas in a future version. Use pandas.concat instead.\n",
      "  concat_df = concat_df.append(temp_df_t.iloc[1], ignore_index = False)\n",
      "/tmp/ipykernel_37775/3705381019.py:14: FutureWarning: The frame.append method is deprecated and will be removed from pandas in a future version. Use pandas.concat instead.\n",
      "  concat_df = concat_df.append(temp_df_t.iloc[1], ignore_index = False)\n",
      "/tmp/ipykernel_37775/3705381019.py:14: FutureWarning: The frame.append method is deprecated and will be removed from pandas in a future version. Use pandas.concat instead.\n",
      "  concat_df = concat_df.append(temp_df_t.iloc[1], ignore_index = False)\n"
     ]
    },
    {
     "name": "stdout",
     "output_type": "stream",
     "text": [
      "/home/ege/Desktop/project/new/Resampled_Data/20220425/SSE_600577.csv\n",
      "SSE_600577.csv\n",
      "/home/ege/Desktop/project/new/Resampled_Data/20220425/SSE_600370.csv\n",
      "SSE_600370.csv\n",
      "/home/ege/Desktop/project/new/Resampled_Data/20220425/SSE_600338.csv\n",
      "SSE_600338.csv\n"
     ]
    },
    {
     "name": "stderr",
     "output_type": "stream",
     "text": [
      "/tmp/ipykernel_37775/3705381019.py:14: FutureWarning: The frame.append method is deprecated and will be removed from pandas in a future version. Use pandas.concat instead.\n",
      "  concat_df = concat_df.append(temp_df_t.iloc[1], ignore_index = False)\n",
      "/tmp/ipykernel_37775/3705381019.py:14: FutureWarning: The frame.append method is deprecated and will be removed from pandas in a future version. Use pandas.concat instead.\n",
      "  concat_df = concat_df.append(temp_df_t.iloc[1], ignore_index = False)\n",
      "/tmp/ipykernel_37775/3705381019.py:14: FutureWarning: The frame.append method is deprecated and will be removed from pandas in a future version. Use pandas.concat instead.\n",
      "  concat_df = concat_df.append(temp_df_t.iloc[1], ignore_index = False)\n"
     ]
    },
    {
     "name": "stdout",
     "output_type": "stream",
     "text": [
      "/home/ege/Desktop/project/new/Resampled_Data/20220425/SSE_600157.csv\n",
      "SSE_600157.csv\n",
      "/home/ege/Desktop/project/new/Resampled_Data/20220425/SSE_600582.csv\n",
      "SSE_600582.csv\n",
      "/home/ege/Desktop/project/new/Resampled_Data/20220425/SSE_600383.csv\n",
      "SSE_600383.csv\n"
     ]
    },
    {
     "name": "stderr",
     "output_type": "stream",
     "text": [
      "/tmp/ipykernel_37775/3705381019.py:14: FutureWarning: The frame.append method is deprecated and will be removed from pandas in a future version. Use pandas.concat instead.\n",
      "  concat_df = concat_df.append(temp_df_t.iloc[1], ignore_index = False)\n",
      "/tmp/ipykernel_37775/3705381019.py:14: FutureWarning: The frame.append method is deprecated and will be removed from pandas in a future version. Use pandas.concat instead.\n",
      "  concat_df = concat_df.append(temp_df_t.iloc[1], ignore_index = False)\n",
      "/tmp/ipykernel_37775/3705381019.py:14: FutureWarning: The frame.append method is deprecated and will be removed from pandas in a future version. Use pandas.concat instead.\n",
      "  concat_df = concat_df.append(temp_df_t.iloc[1], ignore_index = False)\n"
     ]
    },
    {
     "name": "stdout",
     "output_type": "stream",
     "text": [
      "/home/ege/Desktop/project/new/Resampled_Data/20220425/SSE_600516.csv\n",
      "SSE_600516.csv\n",
      "/home/ege/Desktop/project/new/Resampled_Data/20220425/SSE_600596.csv\n",
      "SSE_600596.csv\n",
      "/home/ege/Desktop/project/new/Resampled_Data/20220425/SSE_600409.csv\n",
      "SSE_600409.csv\n"
     ]
    },
    {
     "name": "stderr",
     "output_type": "stream",
     "text": [
      "/tmp/ipykernel_37775/3705381019.py:14: FutureWarning: The frame.append method is deprecated and will be removed from pandas in a future version. Use pandas.concat instead.\n",
      "  concat_df = concat_df.append(temp_df_t.iloc[1], ignore_index = False)\n",
      "/tmp/ipykernel_37775/3705381019.py:14: FutureWarning: The frame.append method is deprecated and will be removed from pandas in a future version. Use pandas.concat instead.\n",
      "  concat_df = concat_df.append(temp_df_t.iloc[1], ignore_index = False)\n",
      "/tmp/ipykernel_37775/3705381019.py:14: FutureWarning: The frame.append method is deprecated and will be removed from pandas in a future version. Use pandas.concat instead.\n",
      "  concat_df = concat_df.append(temp_df_t.iloc[1], ignore_index = False)\n"
     ]
    },
    {
     "name": "stdout",
     "output_type": "stream",
     "text": [
      "/home/ege/Desktop/project/new/Resampled_Data/20220425/SSE_600180.csv\n",
      "SSE_600180.csv\n",
      "/home/ege/Desktop/project/new/Resampled_Data/20220425/SSE_600159.csv\n",
      "SSE_600159.csv\n",
      "/home/ege/Desktop/project/new/Resampled_Data/20220425/SSE_600703.csv\n",
      "SSE_600703.csv\n"
     ]
    },
    {
     "name": "stderr",
     "output_type": "stream",
     "text": [
      "/tmp/ipykernel_37775/3705381019.py:14: FutureWarning: The frame.append method is deprecated and will be removed from pandas in a future version. Use pandas.concat instead.\n",
      "  concat_df = concat_df.append(temp_df_t.iloc[1], ignore_index = False)\n",
      "/tmp/ipykernel_37775/3705381019.py:14: FutureWarning: The frame.append method is deprecated and will be removed from pandas in a future version. Use pandas.concat instead.\n",
      "  concat_df = concat_df.append(temp_df_t.iloc[1], ignore_index = False)\n",
      "/tmp/ipykernel_37775/3705381019.py:14: FutureWarning: The frame.append method is deprecated and will be removed from pandas in a future version. Use pandas.concat instead.\n",
      "  concat_df = concat_df.append(temp_df_t.iloc[1], ignore_index = False)\n"
     ]
    },
    {
     "name": "stdout",
     "output_type": "stream",
     "text": [
      "/home/ege/Desktop/project/new/Resampled_Data/20220425/SSE_600598.csv\n",
      "SSE_600598.csv\n",
      "/home/ege/Desktop/project/new/Resampled_Data/20220425/SSE_600657.csv\n",
      "SSE_600657.csv\n",
      "/home/ege/Desktop/project/new/Resampled_Data/20220425/SSE_600575.csv\n",
      "SSE_600575.csv\n",
      "/home/ege/Desktop/project/new/Resampled_Data/20220425/SSE_600438.csv\n",
      "SSE_600438.csv\n",
      "/home/ege/Desktop/project/new/Resampled_Data/20220425/SSE_600522.csv\n",
      "SSE_600522.csv\n"
     ]
    },
    {
     "name": "stderr",
     "output_type": "stream",
     "text": [
      "/tmp/ipykernel_37775/3705381019.py:14: FutureWarning: The frame.append method is deprecated and will be removed from pandas in a future version. Use pandas.concat instead.\n",
      "  concat_df = concat_df.append(temp_df_t.iloc[1], ignore_index = False)\n",
      "/tmp/ipykernel_37775/3705381019.py:14: FutureWarning: The frame.append method is deprecated and will be removed from pandas in a future version. Use pandas.concat instead.\n",
      "  concat_df = concat_df.append(temp_df_t.iloc[1], ignore_index = False)\n",
      "/tmp/ipykernel_37775/3705381019.py:14: FutureWarning: The frame.append method is deprecated and will be removed from pandas in a future version. Use pandas.concat instead.\n",
      "  concat_df = concat_df.append(temp_df_t.iloc[1], ignore_index = False)\n"
     ]
    },
    {
     "name": "stdout",
     "output_type": "stream",
     "text": [
      "/home/ege/Desktop/project/new/Resampled_Data/20220425/SSE_600367.csv\n",
      "SSE_600367.csv\n",
      "/home/ege/Desktop/project/new/Resampled_Data/20220425/SSE_600628.csv\n",
      "SSE_600628.csv\n",
      "/home/ege/Desktop/project/new/Resampled_Data/20220425/SSE_600339.csv\n",
      "SSE_600339.csv\n"
     ]
    },
    {
     "name": "stderr",
     "output_type": "stream",
     "text": [
      "/tmp/ipykernel_37775/3705381019.py:14: FutureWarning: The frame.append method is deprecated and will be removed from pandas in a future version. Use pandas.concat instead.\n",
      "  concat_df = concat_df.append(temp_df_t.iloc[1], ignore_index = False)\n",
      "/tmp/ipykernel_37775/3705381019.py:14: FutureWarning: The frame.append method is deprecated and will be removed from pandas in a future version. Use pandas.concat instead.\n",
      "  concat_df = concat_df.append(temp_df_t.iloc[1], ignore_index = False)\n",
      "/tmp/ipykernel_37775/3705381019.py:14: FutureWarning: The frame.append method is deprecated and will be removed from pandas in a future version. Use pandas.concat instead.\n",
      "  concat_df = concat_df.append(temp_df_t.iloc[1], ignore_index = False)\n"
     ]
    },
    {
     "name": "stdout",
     "output_type": "stream",
     "text": [
      "/home/ege/Desktop/project/new/Resampled_Data/20220425/SSE_600686.csv\n",
      "SSE_600686.csv\n",
      "/home/ege/Desktop/project/new/Resampled_Data/20220425/SSE_600569.csv\n",
      "SSE_600569.csv\n",
      "/home/ege/Desktop/project/new/Resampled_Data/20220425/SSE_600162-checkpoint.csv\n",
      "SSE_600162-checkpoint.csv CHECKPOINT\n",
      "20220419\n",
      "/home/ege/Desktop/project/new/Resampled_Data/20220419/SSE_600322.csv\n",
      "SSE_600322.csv\n"
     ]
    },
    {
     "name": "stderr",
     "output_type": "stream",
     "text": [
      "/tmp/ipykernel_37775/3705381019.py:14: FutureWarning: The frame.append method is deprecated and will be removed from pandas in a future version. Use pandas.concat instead.\n",
      "  concat_df = concat_df.append(temp_df_t.iloc[1], ignore_index = False)\n",
      "/tmp/ipykernel_37775/3705381019.py:14: FutureWarning: The frame.append method is deprecated and will be removed from pandas in a future version. Use pandas.concat instead.\n",
      "  concat_df = concat_df.append(temp_df_t.iloc[1], ignore_index = False)\n",
      "/tmp/ipykernel_37775/3705381019.py:14: FutureWarning: The frame.append method is deprecated and will be removed from pandas in a future version. Use pandas.concat instead.\n",
      "  concat_df = concat_df.append(temp_df_t.iloc[1], ignore_index = False)\n"
     ]
    },
    {
     "name": "stdout",
     "output_type": "stream",
     "text": [
      "/home/ege/Desktop/project/new/Resampled_Data/20220419/SSE_600858.csv\n",
      "SSE_600858.csv\n",
      "/home/ege/Desktop/project/new/Resampled_Data/20220419/SSE_600740.csv\n",
      "SSE_600740.csv\n",
      "/home/ege/Desktop/project/new/Resampled_Data/20220419/SSE_600153.csv\n",
      "SSE_600153.csv\n"
     ]
    },
    {
     "name": "stderr",
     "output_type": "stream",
     "text": [
      "/tmp/ipykernel_37775/3705381019.py:14: FutureWarning: The frame.append method is deprecated and will be removed from pandas in a future version. Use pandas.concat instead.\n",
      "  concat_df = concat_df.append(temp_df_t.iloc[1], ignore_index = False)\n",
      "/tmp/ipykernel_37775/3705381019.py:14: FutureWarning: The frame.append method is deprecated and will be removed from pandas in a future version. Use pandas.concat instead.\n",
      "  concat_df = concat_df.append(temp_df_t.iloc[1], ignore_index = False)\n",
      "/tmp/ipykernel_37775/3705381019.py:14: FutureWarning: The frame.append method is deprecated and will be removed from pandas in a future version. Use pandas.concat instead.\n",
      "  concat_df = concat_df.append(temp_df_t.iloc[1], ignore_index = False)\n"
     ]
    },
    {
     "name": "stdout",
     "output_type": "stream",
     "text": [
      "/home/ege/Desktop/project/new/Resampled_Data/20220419/SSE_600348.csv\n",
      "SSE_600348.csv\n",
      "/home/ege/Desktop/project/new/Resampled_Data/20220419/SSE_600733.csv\n",
      "SSE_600733.csv\n",
      "/home/ege/Desktop/project/new/Resampled_Data/20220419/SSE_600725.csv\n",
      "SSE_600725.csv\n"
     ]
    },
    {
     "name": "stderr",
     "output_type": "stream",
     "text": [
      "/tmp/ipykernel_37775/3705381019.py:14: FutureWarning: The frame.append method is deprecated and will be removed from pandas in a future version. Use pandas.concat instead.\n",
      "  concat_df = concat_df.append(temp_df_t.iloc[1], ignore_index = False)\n",
      "/tmp/ipykernel_37775/3705381019.py:14: FutureWarning: The frame.append method is deprecated and will be removed from pandas in a future version. Use pandas.concat instead.\n",
      "  concat_df = concat_df.append(temp_df_t.iloc[1], ignore_index = False)\n",
      "/tmp/ipykernel_37775/3705381019.py:14: FutureWarning: The frame.append method is deprecated and will be removed from pandas in a future version. Use pandas.concat instead.\n",
      "  concat_df = concat_df.append(temp_df_t.iloc[1], ignore_index = False)\n"
     ]
    },
    {
     "name": "stdout",
     "output_type": "stream",
     "text": [
      "/home/ege/Desktop/project/new/Resampled_Data/20220419/SSE_600354.csv\n",
      "SSE_600354.csv\n",
      "/home/ege/Desktop/project/new/Resampled_Data/20220419/SSE_600521.csv\n",
      "SSE_600521.csv\n",
      "/home/ege/Desktop/project/new/Resampled_Data/20220419/SSE_600606.csv\n",
      "SSE_600606.csv\n"
     ]
    },
    {
     "name": "stderr",
     "output_type": "stream",
     "text": [
      "/tmp/ipykernel_37775/3705381019.py:14: FutureWarning: The frame.append method is deprecated and will be removed from pandas in a future version. Use pandas.concat instead.\n",
      "  concat_df = concat_df.append(temp_df_t.iloc[1], ignore_index = False)\n",
      "/tmp/ipykernel_37775/3705381019.py:14: FutureWarning: The frame.append method is deprecated and will be removed from pandas in a future version. Use pandas.concat instead.\n",
      "  concat_df = concat_df.append(temp_df_t.iloc[1], ignore_index = False)\n",
      "/tmp/ipykernel_37775/3705381019.py:14: FutureWarning: The frame.append method is deprecated and will be removed from pandas in a future version. Use pandas.concat instead.\n",
      "  concat_df = concat_df.append(temp_df_t.iloc[1], ignore_index = False)\n"
     ]
    },
    {
     "name": "stdout",
     "output_type": "stream",
     "text": [
      "/home/ege/Desktop/project/new/Resampled_Data/20220419/SSE_600096.csv\n",
      "SSE_600096.csv\n",
      "/home/ege/Desktop/project/new/Resampled_Data/20220419/SSE_600176.csv\n",
      "SSE_600176.csv\n",
      "/home/ege/Desktop/project/new/Resampled_Data/20220419/SSE_600502.csv\n",
      "SSE_600502.csv\n"
     ]
    },
    {
     "name": "stderr",
     "output_type": "stream",
     "text": [
      "/tmp/ipykernel_37775/3705381019.py:14: FutureWarning: The frame.append method is deprecated and will be removed from pandas in a future version. Use pandas.concat instead.\n",
      "  concat_df = concat_df.append(temp_df_t.iloc[1], ignore_index = False)\n",
      "/tmp/ipykernel_37775/3705381019.py:14: FutureWarning: The frame.append method is deprecated and will be removed from pandas in a future version. Use pandas.concat instead.\n",
      "  concat_df = concat_df.append(temp_df_t.iloc[1], ignore_index = False)\n",
      "/tmp/ipykernel_37775/3705381019.py:14: FutureWarning: The frame.append method is deprecated and will be removed from pandas in a future version. Use pandas.concat instead.\n",
      "  concat_df = concat_df.append(temp_df_t.iloc[1], ignore_index = False)\n"
     ]
    },
    {
     "name": "stdout",
     "output_type": "stream",
     "text": [
      "/home/ege/Desktop/project/new/Resampled_Data/20220419/SSE_600499.csv\n",
      "SSE_600499.csv\n",
      "/home/ege/Desktop/project/new/Resampled_Data/20220419/SSE_204001.csv\n",
      "SSE_204001.csv\n",
      "/home/ege/Desktop/project/new/Resampled_Data/20220419/SSE_600512.csv\n",
      "SSE_600512.csv\n"
     ]
    },
    {
     "name": "stderr",
     "output_type": "stream",
     "text": [
      "/tmp/ipykernel_37775/3705381019.py:14: FutureWarning: The frame.append method is deprecated and will be removed from pandas in a future version. Use pandas.concat instead.\n",
      "  concat_df = concat_df.append(temp_df_t.iloc[1], ignore_index = False)\n",
      "/tmp/ipykernel_37775/3705381019.py:14: FutureWarning: The frame.append method is deprecated and will be removed from pandas in a future version. Use pandas.concat instead.\n",
      "  concat_df = concat_df.append(temp_df_t.iloc[1], ignore_index = False)\n",
      "/tmp/ipykernel_37775/3705381019.py:14: FutureWarning: The frame.append method is deprecated and will be removed from pandas in a future version. Use pandas.concat instead.\n",
      "  concat_df = concat_df.append(temp_df_t.iloc[1], ignore_index = False)\n"
     ]
    },
    {
     "name": "stdout",
     "output_type": "stream",
     "text": [
      "/home/ege/Desktop/project/new/Resampled_Data/20220419/SSE_600104.csv\n",
      "SSE_600104.csv\n",
      "/home/ege/Desktop/project/new/Resampled_Data/20220419/SSE_600037.csv\n",
      "SSE_600037.csv\n",
      "/home/ege/Desktop/project/new/Resampled_Data/20220419/SSE_600170.csv\n",
      "SSE_600170.csv\n"
     ]
    },
    {
     "name": "stderr",
     "output_type": "stream",
     "text": [
      "/tmp/ipykernel_37775/3705381019.py:14: FutureWarning: The frame.append method is deprecated and will be removed from pandas in a future version. Use pandas.concat instead.\n",
      "  concat_df = concat_df.append(temp_df_t.iloc[1], ignore_index = False)\n",
      "/tmp/ipykernel_37775/3705381019.py:14: FutureWarning: The frame.append method is deprecated and will be removed from pandas in a future version. Use pandas.concat instead.\n",
      "  concat_df = concat_df.append(temp_df_t.iloc[1], ignore_index = False)\n",
      "/tmp/ipykernel_37775/3705381019.py:14: FutureWarning: The frame.append method is deprecated and will be removed from pandas in a future version. Use pandas.concat instead.\n",
      "  concat_df = concat_df.append(temp_df_t.iloc[1], ignore_index = False)\n"
     ]
    },
    {
     "name": "stdout",
     "output_type": "stream",
     "text": [
      "/home/ege/Desktop/project/new/Resampled_Data/20220419/SSE_600397.csv\n",
      "SSE_600397.csv\n",
      "/home/ege/Desktop/project/new/Resampled_Data/20220419/SSE_600335.csv\n",
      "SSE_600335.csv\n",
      "/home/ege/Desktop/project/new/Resampled_Data/20220419/SSE_600875.csv\n",
      "SSE_600875.csv\n"
     ]
    },
    {
     "name": "stderr",
     "output_type": "stream",
     "text": [
      "/tmp/ipykernel_37775/3705381019.py:14: FutureWarning: The frame.append method is deprecated and will be removed from pandas in a future version. Use pandas.concat instead.\n",
      "  concat_df = concat_df.append(temp_df_t.iloc[1], ignore_index = False)\n",
      "/tmp/ipykernel_37775/3705381019.py:14: FutureWarning: The frame.append method is deprecated and will be removed from pandas in a future version. Use pandas.concat instead.\n",
      "  concat_df = concat_df.append(temp_df_t.iloc[1], ignore_index = False)\n",
      "/tmp/ipykernel_37775/3705381019.py:14: FutureWarning: The frame.append method is deprecated and will be removed from pandas in a future version. Use pandas.concat instead.\n",
      "  concat_df = concat_df.append(temp_df_t.iloc[1], ignore_index = False)\n"
     ]
    },
    {
     "name": "stdout",
     "output_type": "stream",
     "text": [
      "/home/ege/Desktop/project/new/Resampled_Data/20220419/SSE_600616.csv\n",
      "SSE_600616.csv\n",
      "/home/ege/Desktop/project/new/Resampled_Data/20220419/SSE_600588.csv\n",
      "SSE_600588.csv\n",
      "/home/ege/Desktop/project/new/Resampled_Data/20220419/SSE_600359.csv\n",
      "SSE_600359.csv\n"
     ]
    },
    {
     "name": "stderr",
     "output_type": "stream",
     "text": [
      "/tmp/ipykernel_37775/3705381019.py:14: FutureWarning: The frame.append method is deprecated and will be removed from pandas in a future version. Use pandas.concat instead.\n",
      "  concat_df = concat_df.append(temp_df_t.iloc[1], ignore_index = False)\n",
      "/tmp/ipykernel_37775/3705381019.py:14: FutureWarning: The frame.append method is deprecated and will be removed from pandas in a future version. Use pandas.concat instead.\n",
      "  concat_df = concat_df.append(temp_df_t.iloc[1], ignore_index = False)\n",
      "/tmp/ipykernel_37775/3705381019.py:14: FutureWarning: The frame.append method is deprecated and will be removed from pandas in a future version. Use pandas.concat instead.\n",
      "  concat_df = concat_df.append(temp_df_t.iloc[1], ignore_index = False)\n"
     ]
    },
    {
     "name": "stdout",
     "output_type": "stream",
     "text": [
      "/home/ege/Desktop/project/new/Resampled_Data/20220419/SSE_600487.csv\n",
      "SSE_600487.csv\n",
      "/home/ege/Desktop/project/new/Resampled_Data/20220419/SSE_600029.csv\n",
      "SSE_600029.csv\n",
      "/home/ege/Desktop/project/new/Resampled_Data/20220419/SSE_600366.csv\n",
      "SSE_600366.csv\n"
     ]
    },
    {
     "name": "stderr",
     "output_type": "stream",
     "text": [
      "/tmp/ipykernel_37775/3705381019.py:14: FutureWarning: The frame.append method is deprecated and will be removed from pandas in a future version. Use pandas.concat instead.\n",
      "  concat_df = concat_df.append(temp_df_t.iloc[1], ignore_index = False)\n",
      "/tmp/ipykernel_37775/3705381019.py:14: FutureWarning: The frame.append method is deprecated and will be removed from pandas in a future version. Use pandas.concat instead.\n",
      "  concat_df = concat_df.append(temp_df_t.iloc[1], ignore_index = False)\n",
      "/tmp/ipykernel_37775/3705381019.py:14: FutureWarning: The frame.append method is deprecated and will be removed from pandas in a future version. Use pandas.concat instead.\n",
      "  concat_df = concat_df.append(temp_df_t.iloc[1], ignore_index = False)\n"
     ]
    },
    {
     "name": "stdout",
     "output_type": "stream",
     "text": [
      "/home/ege/Desktop/project/new/Resampled_Data/20220419/SSE_600425.csv\n",
      "SSE_600425.csv\n",
      "/home/ege/Desktop/project/new/Resampled_Data/20220419/SSE_600448.csv\n",
      "SSE_600448.csv\n",
      "/home/ege/Desktop/project/new/Resampled_Data/20220419/SSE_600330.csv\n",
      "SSE_600330.csv\n"
     ]
    },
    {
     "name": "stderr",
     "output_type": "stream",
     "text": [
      "/tmp/ipykernel_37775/3705381019.py:14: FutureWarning: The frame.append method is deprecated and will be removed from pandas in a future version. Use pandas.concat instead.\n",
      "  concat_df = concat_df.append(temp_df_t.iloc[1], ignore_index = False)\n",
      "/tmp/ipykernel_37775/3705381019.py:14: FutureWarning: The frame.append method is deprecated and will be removed from pandas in a future version. Use pandas.concat instead.\n",
      "  concat_df = concat_df.append(temp_df_t.iloc[1], ignore_index = False)\n",
      "/tmp/ipykernel_37775/3705381019.py:14: FutureWarning: The frame.append method is deprecated and will be removed from pandas in a future version. Use pandas.concat instead.\n",
      "  concat_df = concat_df.append(temp_df_t.iloc[1], ignore_index = False)\n"
     ]
    },
    {
     "name": "stdout",
     "output_type": "stream",
     "text": [
      "/home/ege/Desktop/project/new/Resampled_Data/20220419/SSE_600704.csv\n",
      "SSE_600704.csv\n",
      "/home/ege/Desktop/project/new/Resampled_Data/20220419/SSE_600863.csv\n",
      "SSE_600863.csv\n",
      "/home/ege/Desktop/project/new/Resampled_Data/20220419/SSE_600396.csv\n",
      "SSE_600396.csv\n"
     ]
    },
    {
     "name": "stderr",
     "output_type": "stream",
     "text": [
      "/tmp/ipykernel_37775/3705381019.py:14: FutureWarning: The frame.append method is deprecated and will be removed from pandas in a future version. Use pandas.concat instead.\n",
      "  concat_df = concat_df.append(temp_df_t.iloc[1], ignore_index = False)\n",
      "/tmp/ipykernel_37775/3705381019.py:14: FutureWarning: The frame.append method is deprecated and will be removed from pandas in a future version. Use pandas.concat instead.\n",
      "  concat_df = concat_df.append(temp_df_t.iloc[1], ignore_index = False)\n",
      "/tmp/ipykernel_37775/3705381019.py:14: FutureWarning: The frame.append method is deprecated and will be removed from pandas in a future version. Use pandas.concat instead.\n",
      "  concat_df = concat_df.append(temp_df_t.iloc[1], ignore_index = False)\n"
     ]
    },
    {
     "name": "stdout",
     "output_type": "stream",
     "text": [
      "/home/ege/Desktop/project/new/Resampled_Data/20220419/SSE_600533.csv\n",
      "SSE_600533.csv\n",
      "/home/ege/Desktop/project/new/Resampled_Data/20220419/SSE_600871.csv\n",
      "SSE_600871.csv\n"
     ]
    },
    {
     "name": "stderr",
     "output_type": "stream",
     "text": [
      "/tmp/ipykernel_37775/3705381019.py:14: FutureWarning: The frame.append method is deprecated and will be removed from pandas in a future version. Use pandas.concat instead.\n",
      "  concat_df = concat_df.append(temp_df_t.iloc[1], ignore_index = False)\n",
      "/tmp/ipykernel_37775/3705381019.py:14: FutureWarning: The frame.append method is deprecated and will be removed from pandas in a future version. Use pandas.concat instead.\n",
      "  concat_df = concat_df.append(temp_df_t.iloc[1], ignore_index = False)\n"
     ]
    },
    {
     "name": "stdout",
     "output_type": "stream",
     "text": [
      "/home/ege/Desktop/project/new/Resampled_Data/20220419/SSE_600079.csv\n",
      "SSE_600079.csv\n",
      "/home/ege/Desktop/project/new/Resampled_Data/20220419/SSE_600123.csv\n",
      "SSE_600123.csv\n"
     ]
    },
    {
     "name": "stderr",
     "output_type": "stream",
     "text": [
      "/tmp/ipykernel_37775/3705381019.py:14: FutureWarning: The frame.append method is deprecated and will be removed from pandas in a future version. Use pandas.concat instead.\n",
      "  concat_df = concat_df.append(temp_df_t.iloc[1], ignore_index = False)\n",
      "/tmp/ipykernel_37775/3705381019.py:14: FutureWarning: The frame.append method is deprecated and will be removed from pandas in a future version. Use pandas.concat instead.\n",
      "  concat_df = concat_df.append(temp_df_t.iloc[1], ignore_index = False)\n"
     ]
    },
    {
     "name": "stdout",
     "output_type": "stream",
     "text": [
      "/home/ege/Desktop/project/new/Resampled_Data/20220419/SSE_600705.csv\n",
      "SSE_600705.csv\n",
      "/home/ege/Desktop/project/new/Resampled_Data/20220419/SSE_600428.csv\n",
      "SSE_600428.csv\n",
      "/home/ege/Desktop/project/new/Resampled_Data/20220419/SSE_600331.csv\n",
      "SSE_600331.csv\n"
     ]
    },
    {
     "name": "stderr",
     "output_type": "stream",
     "text": [
      "/tmp/ipykernel_37775/3705381019.py:14: FutureWarning: The frame.append method is deprecated and will be removed from pandas in a future version. Use pandas.concat instead.\n",
      "  concat_df = concat_df.append(temp_df_t.iloc[1], ignore_index = False)\n",
      "/tmp/ipykernel_37775/3705381019.py:14: FutureWarning: The frame.append method is deprecated and will be removed from pandas in a future version. Use pandas.concat instead.\n",
      "  concat_df = concat_df.append(temp_df_t.iloc[1], ignore_index = False)\n",
      "/tmp/ipykernel_37775/3705381019.py:14: FutureWarning: The frame.append method is deprecated and will be removed from pandas in a future version. Use pandas.concat instead.\n",
      "  concat_df = concat_df.append(temp_df_t.iloc[1], ignore_index = False)\n"
     ]
    },
    {
     "name": "stdout",
     "output_type": "stream",
     "text": [
      "/home/ege/Desktop/project/new/Resampled_Data/20220419/SSE_600101.csv\n",
      "SSE_600101.csv\n",
      "/home/ege/Desktop/project/new/Resampled_Data/20220419/SSE_600699.csv\n",
      "SSE_600699.csv\n",
      "/home/ege/Desktop/project/new/Resampled_Data/20220419/SSE_600823.csv\n",
      "SSE_600823.csv\n"
     ]
    },
    {
     "name": "stderr",
     "output_type": "stream",
     "text": [
      "/tmp/ipykernel_37775/3705381019.py:14: FutureWarning: The frame.append method is deprecated and will be removed from pandas in a future version. Use pandas.concat instead.\n",
      "  concat_df = concat_df.append(temp_df_t.iloc[1], ignore_index = False)\n",
      "/tmp/ipykernel_37775/3705381019.py:14: FutureWarning: The frame.append method is deprecated and will be removed from pandas in a future version. Use pandas.concat instead.\n",
      "  concat_df = concat_df.append(temp_df_t.iloc[1], ignore_index = False)\n",
      "/tmp/ipykernel_37775/3705381019.py:14: FutureWarning: The frame.append method is deprecated and will be removed from pandas in a future version. Use pandas.concat instead.\n",
      "  concat_df = concat_df.append(temp_df_t.iloc[1], ignore_index = False)\n"
     ]
    },
    {
     "name": "stdout",
     "output_type": "stream",
     "text": [
      "/home/ege/Desktop/project/new/Resampled_Data/20220419/SSE_600121.csv\n",
      "SSE_600121.csv\n",
      "/home/ege/Desktop/project/new/Resampled_Data/20220419/SSE_600675.csv\n",
      "SSE_600675.csv\n"
     ]
    },
    {
     "name": "stderr",
     "output_type": "stream",
     "text": [
      "/tmp/ipykernel_37775/3705381019.py:14: FutureWarning: The frame.append method is deprecated and will be removed from pandas in a future version. Use pandas.concat instead.\n",
      "  concat_df = concat_df.append(temp_df_t.iloc[1], ignore_index = False)\n",
      "/tmp/ipykernel_37775/3705381019.py:14: FutureWarning: The frame.append method is deprecated and will be removed from pandas in a future version. Use pandas.concat instead.\n",
      "  concat_df = concat_df.append(temp_df_t.iloc[1], ignore_index = False)\n"
     ]
    },
    {
     "name": "stdout",
     "output_type": "stream",
     "text": [
      "/home/ege/Desktop/project/new/Resampled_Data/20220419/SSE_600030.csv\n",
      "SSE_600030.csv\n",
      "/home/ege/Desktop/project/new/Resampled_Data/20220419/SSE_600395.csv\n",
      "SSE_600395.csv\n"
     ]
    },
    {
     "name": "stderr",
     "output_type": "stream",
     "text": [
      "/tmp/ipykernel_37775/3705381019.py:14: FutureWarning: The frame.append method is deprecated and will be removed from pandas in a future version. Use pandas.concat instead.\n",
      "  concat_df = concat_df.append(temp_df_t.iloc[1], ignore_index = False)\n",
      "/tmp/ipykernel_37775/3705381019.py:14: FutureWarning: The frame.append method is deprecated and will be removed from pandas in a future version. Use pandas.concat instead.\n",
      "  concat_df = concat_df.append(temp_df_t.iloc[1], ignore_index = False)\n"
     ]
    },
    {
     "name": "stdout",
     "output_type": "stream",
     "text": [
      "/home/ege/Desktop/project/new/Resampled_Data/20220419/SSE_600546.csv\n",
      "SSE_600546.csv\n",
      "/home/ege/Desktop/project/new/Resampled_Data/20220419/SSE_600111.csv\n",
      "SSE_600111.csv\n"
     ]
    },
    {
     "name": "stderr",
     "output_type": "stream",
     "text": [
      "/tmp/ipykernel_37775/3705381019.py:14: FutureWarning: The frame.append method is deprecated and will be removed from pandas in a future version. Use pandas.concat instead.\n",
      "  concat_df = concat_df.append(temp_df_t.iloc[1], ignore_index = False)\n",
      "/tmp/ipykernel_37775/3705381019.py:14: FutureWarning: The frame.append method is deprecated and will be removed from pandas in a future version. Use pandas.concat instead.\n",
      "  concat_df = concat_df.append(temp_df_t.iloc[1], ignore_index = False)\n"
     ]
    },
    {
     "name": "stdout",
     "output_type": "stream",
     "text": [
      "/home/ege/Desktop/project/new/Resampled_Data/20220419/SSE_600115.csv\n",
      "SSE_600115.csv\n",
      "/home/ege/Desktop/project/new/Resampled_Data/20220419/SSE_600872.csv\n",
      "SSE_600872.csv\n",
      "/home/ege/Desktop/project/new/Resampled_Data/20220419/SSE_600284.csv\n",
      "SSE_600284.csv\n"
     ]
    },
    {
     "name": "stderr",
     "output_type": "stream",
     "text": [
      "/tmp/ipykernel_37775/3705381019.py:14: FutureWarning: The frame.append method is deprecated and will be removed from pandas in a future version. Use pandas.concat instead.\n",
      "  concat_df = concat_df.append(temp_df_t.iloc[1], ignore_index = False)\n",
      "/tmp/ipykernel_37775/3705381019.py:14: FutureWarning: The frame.append method is deprecated and will be removed from pandas in a future version. Use pandas.concat instead.\n",
      "  concat_df = concat_df.append(temp_df_t.iloc[1], ignore_index = False)\n",
      "/tmp/ipykernel_37775/3705381019.py:14: FutureWarning: The frame.append method is deprecated and will be removed from pandas in a future version. Use pandas.concat instead.\n",
      "  concat_df = concat_df.append(temp_df_t.iloc[1], ignore_index = False)\n"
     ]
    },
    {
     "name": "stdout",
     "output_type": "stream",
     "text": [
      "/home/ege/Desktop/project/new/Resampled_Data/20220419/SSE_600312.csv\n",
      "SSE_600312.csv\n",
      "/home/ege/Desktop/project/new/Resampled_Data/20220419/SSE_600199.csv\n",
      "SSE_600199.csv\n",
      "/home/ege/Desktop/project/new/Resampled_Data/20220419/SSE_600497.csv\n",
      "SSE_600497.csv\n"
     ]
    },
    {
     "name": "stderr",
     "output_type": "stream",
     "text": [
      "/tmp/ipykernel_37775/3705381019.py:14: FutureWarning: The frame.append method is deprecated and will be removed from pandas in a future version. Use pandas.concat instead.\n",
      "  concat_df = concat_df.append(temp_df_t.iloc[1], ignore_index = False)\n",
      "/tmp/ipykernel_37775/3705381019.py:14: FutureWarning: The frame.append method is deprecated and will be removed from pandas in a future version. Use pandas.concat instead.\n",
      "  concat_df = concat_df.append(temp_df_t.iloc[1], ignore_index = False)\n",
      "/tmp/ipykernel_37775/3705381019.py:14: FutureWarning: The frame.append method is deprecated and will be removed from pandas in a future version. Use pandas.concat instead.\n",
      "  concat_df = concat_df.append(temp_df_t.iloc[1], ignore_index = False)\n"
     ]
    },
    {
     "name": "stdout",
     "output_type": "stream",
     "text": [
      "/home/ege/Desktop/project/new/Resampled_Data/20220419/SSE_600684.csv\n",
      "SSE_600684.csv\n",
      "/home/ege/Desktop/project/new/Resampled_Data/20220419/SSE_600110.csv\n",
      "SSE_600110.csv\n",
      "/home/ege/Desktop/project/new/Resampled_Data/20220419/SSE_600163.csv\n",
      "SSE_600163.csv\n"
     ]
    },
    {
     "name": "stderr",
     "output_type": "stream",
     "text": [
      "/tmp/ipykernel_37775/3705381019.py:14: FutureWarning: The frame.append method is deprecated and will be removed from pandas in a future version. Use pandas.concat instead.\n",
      "  concat_df = concat_df.append(temp_df_t.iloc[1], ignore_index = False)\n",
      "/tmp/ipykernel_37775/3705381019.py:14: FutureWarning: The frame.append method is deprecated and will be removed from pandas in a future version. Use pandas.concat instead.\n",
      "  concat_df = concat_df.append(temp_df_t.iloc[1], ignore_index = False)\n",
      "/tmp/ipykernel_37775/3705381019.py:14: FutureWarning: The frame.append method is deprecated and will be removed from pandas in a future version. Use pandas.concat instead.\n",
      "  concat_df = concat_df.append(temp_df_t.iloc[1], ignore_index = False)\n"
     ]
    },
    {
     "name": "stdout",
     "output_type": "stream",
     "text": [
      "/home/ege/Desktop/project/new/Resampled_Data/20220419/SSE_600743.csv\n",
      "SSE_600743.csv\n",
      "/home/ege/Desktop/project/new/Resampled_Data/20220419/SSE_600000.csv\n",
      "SSE_600000.csv\n",
      "/home/ege/Desktop/project/new/Resampled_Data/20220419/SSE_600011.csv\n",
      "SSE_600011.csv\n"
     ]
    },
    {
     "name": "stderr",
     "output_type": "stream",
     "text": [
      "/tmp/ipykernel_37775/3705381019.py:14: FutureWarning: The frame.append method is deprecated and will be removed from pandas in a future version. Use pandas.concat instead.\n",
      "  concat_df = concat_df.append(temp_df_t.iloc[1], ignore_index = False)\n",
      "/tmp/ipykernel_37775/3705381019.py:14: FutureWarning: The frame.append method is deprecated and will be removed from pandas in a future version. Use pandas.concat instead.\n",
      "  concat_df = concat_df.append(temp_df_t.iloc[1], ignore_index = False)\n",
      "/tmp/ipykernel_37775/3705381019.py:14: FutureWarning: The frame.append method is deprecated and will be removed from pandas in a future version. Use pandas.concat instead.\n",
      "  concat_df = concat_df.append(temp_df_t.iloc[1], ignore_index = False)\n",
      "/tmp/ipykernel_37775/3705381019.py:14: FutureWarning: The frame.append method is deprecated and will be removed from pandas in a future version. Use pandas.concat instead.\n",
      "  concat_df = concat_df.append(temp_df_t.iloc[1], ignore_index = False)\n",
      "/tmp/ipykernel_37775/3705381019.py:14: FutureWarning: The frame.append method is deprecated and will be removed from pandas in a future version. Use pandas.concat instead.\n",
      "  concat_df = concat_df.append(temp_df_t.iloc[1], ignore_index = False)\n"
     ]
    },
    {
     "name": "stdout",
     "output_type": "stream",
     "text": [
      "/home/ege/Desktop/project/new/Resampled_Data/20220419/SSE_600782.csv\n",
      "SSE_600782.csv\n",
      "/home/ege/Desktop/project/new/Resampled_Data/20220419/SSE_204007.csv\n",
      "SSE_204007.csv\n",
      "/home/ege/Desktop/project/new/Resampled_Data/20220419/SSE_600491.csv\n",
      "SSE_600491.csv\n"
     ]
    },
    {
     "name": "stderr",
     "output_type": "stream",
     "text": [
      "/tmp/ipykernel_37775/3705381019.py:14: FutureWarning: The frame.append method is deprecated and will be removed from pandas in a future version. Use pandas.concat instead.\n",
      "  concat_df = concat_df.append(temp_df_t.iloc[1], ignore_index = False)\n",
      "/tmp/ipykernel_37775/3705381019.py:14: FutureWarning: The frame.append method is deprecated and will be removed from pandas in a future version. Use pandas.concat instead.\n",
      "  concat_df = concat_df.append(temp_df_t.iloc[1], ignore_index = False)\n",
      "/tmp/ipykernel_37775/3705381019.py:14: FutureWarning: The frame.append method is deprecated and will be removed from pandas in a future version. Use pandas.concat instead.\n",
      "  concat_df = concat_df.append(temp_df_t.iloc[1], ignore_index = False)\n"
     ]
    },
    {
     "name": "stdout",
     "output_type": "stream",
     "text": [
      "/home/ege/Desktop/project/new/Resampled_Data/20220419/SSE_600172.csv\n",
      "SSE_600172.csv\n",
      "/home/ege/Desktop/project/new/Resampled_Data/20220419/SSE_600022.csv\n",
      "SSE_600022.csv\n",
      "/home/ege/Desktop/project/new/Resampled_Data/20220419/SSE_600489.csv\n",
      "SSE_600489.csv\n"
     ]
    },
    {
     "name": "stderr",
     "output_type": "stream",
     "text": [
      "/tmp/ipykernel_37775/3705381019.py:14: FutureWarning: The frame.append method is deprecated and will be removed from pandas in a future version. Use pandas.concat instead.\n",
      "  concat_df = concat_df.append(temp_df_t.iloc[1], ignore_index = False)\n",
      "/tmp/ipykernel_37775/3705381019.py:14: FutureWarning: The frame.append method is deprecated and will be removed from pandas in a future version. Use pandas.concat instead.\n",
      "  concat_df = concat_df.append(temp_df_t.iloc[1], ignore_index = False)\n"
     ]
    },
    {
     "name": "stdout",
     "output_type": "stream",
     "text": [
      "/home/ege/Desktop/project/new/Resampled_Data/20220419/SSE_600765.csv\n",
      "SSE_600765.csv\n",
      "/home/ege/Desktop/project/new/Resampled_Data/20220419/SSE_600770.csv\n",
      "SSE_600770.csv\n"
     ]
    },
    {
     "name": "stderr",
     "output_type": "stream",
     "text": [
      "/tmp/ipykernel_37775/3705381019.py:14: FutureWarning: The frame.append method is deprecated and will be removed from pandas in a future version. Use pandas.concat instead.\n",
      "  concat_df = concat_df.append(temp_df_t.iloc[1], ignore_index = False)\n",
      "/tmp/ipykernel_37775/3705381019.py:14: FutureWarning: The frame.append method is deprecated and will be removed from pandas in a future version. Use pandas.concat instead.\n",
      "  concat_df = concat_df.append(temp_df_t.iloc[1], ignore_index = False)\n"
     ]
    },
    {
     "name": "stdout",
     "output_type": "stream",
     "text": [
      "/home/ege/Desktop/project/new/Resampled_Data/20220419/SSE_600841.csv\n",
      "SSE_600841.csv\n",
      "/home/ege/Desktop/project/new/Resampled_Data/20220419/SSE_600559.csv\n",
      "SSE_600559.csv\n"
     ]
    },
    {
     "name": "stderr",
     "output_type": "stream",
     "text": [
      "/tmp/ipykernel_37775/3705381019.py:14: FutureWarning: The frame.append method is deprecated and will be removed from pandas in a future version. Use pandas.concat instead.\n",
      "  concat_df = concat_df.append(temp_df_t.iloc[1], ignore_index = False)\n",
      "/tmp/ipykernel_37775/3705381019.py:14: FutureWarning: The frame.append method is deprecated and will be removed from pandas in a future version. Use pandas.concat instead.\n",
      "  concat_df = concat_df.append(temp_df_t.iloc[1], ignore_index = False)\n"
     ]
    },
    {
     "name": "stdout",
     "output_type": "stream",
     "text": [
      "/home/ege/Desktop/project/new/Resampled_Data/20220419/SSE_600150.csv\n",
      "SSE_600150.csv\n",
      "/home/ege/Desktop/project/new/Resampled_Data/20220419/SSE_600208.csv\n",
      "SSE_600208.csv\n"
     ]
    },
    {
     "name": "stderr",
     "output_type": "stream",
     "text": [
      "/tmp/ipykernel_37775/3705381019.py:14: FutureWarning: The frame.append method is deprecated and will be removed from pandas in a future version. Use pandas.concat instead.\n",
      "  concat_df = concat_df.append(temp_df_t.iloc[1], ignore_index = False)\n",
      "/tmp/ipykernel_37775/3705381019.py:14: FutureWarning: The frame.append method is deprecated and will be removed from pandas in a future version. Use pandas.concat instead.\n",
      "  concat_df = concat_df.append(temp_df_t.iloc[1], ignore_index = False)\n"
     ]
    },
    {
     "name": "stdout",
     "output_type": "stream",
     "text": [
      "/home/ege/Desktop/project/new/Resampled_Data/20220419/SSE_600820.csv\n",
      "SSE_600820.csv\n",
      "/home/ege/Desktop/project/new/Resampled_Data/20220419/SSE_600683.csv\n",
      "SSE_600683.csv\n",
      "/home/ege/Desktop/project/new/Resampled_Data/20220419/SSE_600008.csv\n",
      "SSE_600008.csv\n"
     ]
    },
    {
     "name": "stderr",
     "output_type": "stream",
     "text": [
      "/tmp/ipykernel_37775/3705381019.py:14: FutureWarning: The frame.append method is deprecated and will be removed from pandas in a future version. Use pandas.concat instead.\n",
      "  concat_df = concat_df.append(temp_df_t.iloc[1], ignore_index = False)\n",
      "/tmp/ipykernel_37775/3705381019.py:14: FutureWarning: The frame.append method is deprecated and will be removed from pandas in a future version. Use pandas.concat instead.\n",
      "  concat_df = concat_df.append(temp_df_t.iloc[1], ignore_index = False)\n",
      "/tmp/ipykernel_37775/3705381019.py:14: FutureWarning: The frame.append method is deprecated and will be removed from pandas in a future version. Use pandas.concat instead.\n",
      "  concat_df = concat_df.append(temp_df_t.iloc[1], ignore_index = False)\n"
     ]
    },
    {
     "name": "stdout",
     "output_type": "stream",
     "text": [
      "/home/ege/Desktop/project/new/Resampled_Data/20220419/SSE_600280.csv\n",
      "SSE_600280.csv\n",
      "/home/ege/Desktop/project/new/Resampled_Data/20220419/SSE_600418.csv\n",
      "SSE_600418.csv\n",
      "/home/ege/Desktop/project/new/Resampled_Data/20220419/SSE_600649.csv\n",
      "SSE_600649.csv\n"
     ]
    },
    {
     "name": "stderr",
     "output_type": "stream",
     "text": [
      "/tmp/ipykernel_37775/3705381019.py:14: FutureWarning: The frame.append method is deprecated and will be removed from pandas in a future version. Use pandas.concat instead.\n",
      "  concat_df = concat_df.append(temp_df_t.iloc[1], ignore_index = False)\n",
      "/tmp/ipykernel_37775/3705381019.py:14: FutureWarning: The frame.append method is deprecated and will be removed from pandas in a future version. Use pandas.concat instead.\n",
      "  concat_df = concat_df.append(temp_df_t.iloc[1], ignore_index = False)\n",
      "/tmp/ipykernel_37775/3705381019.py:14: FutureWarning: The frame.append method is deprecated and will be removed from pandas in a future version. Use pandas.concat instead.\n",
      "  concat_df = concat_df.append(temp_df_t.iloc[1], ignore_index = False)\n"
     ]
    },
    {
     "name": "stdout",
     "output_type": "stream",
     "text": [
      "/home/ege/Desktop/project/new/Resampled_Data/20220419/SSE_600089.csv\n",
      "SSE_600089.csv\n",
      "/home/ege/Desktop/project/new/Resampled_Data/20220419/SSE_600028.csv\n",
      "SSE_600028.csv\n",
      "/home/ege/Desktop/project/new/Resampled_Data/20220419/SSE_600257.csv\n",
      "SSE_600257.csv\n"
     ]
    },
    {
     "name": "stderr",
     "output_type": "stream",
     "text": [
      "/tmp/ipykernel_37775/3705381019.py:14: FutureWarning: The frame.append method is deprecated and will be removed from pandas in a future version. Use pandas.concat instead.\n",
      "  concat_df = concat_df.append(temp_df_t.iloc[1], ignore_index = False)\n",
      "/tmp/ipykernel_37775/3705381019.py:14: FutureWarning: The frame.append method is deprecated and will be removed from pandas in a future version. Use pandas.concat instead.\n",
      "  concat_df = concat_df.append(temp_df_t.iloc[1], ignore_index = False)\n",
      "/tmp/ipykernel_37775/3705381019.py:14: FutureWarning: The frame.append method is deprecated and will be removed from pandas in a future version. Use pandas.concat instead.\n",
      "  concat_df = concat_df.append(temp_df_t.iloc[1], ignore_index = False)\n"
     ]
    },
    {
     "name": "stdout",
     "output_type": "stream",
     "text": [
      "/home/ege/Desktop/project/new/Resampled_Data/20220419/SSE_600149.csv\n",
      "SSE_600149.csv\n",
      "/home/ege/Desktop/project/new/Resampled_Data/20220419/SSE_600811.csv\n",
      "SSE_600811.csv\n"
     ]
    },
    {
     "name": "stderr",
     "output_type": "stream",
     "text": [
      "/tmp/ipykernel_37775/3705381019.py:14: FutureWarning: The frame.append method is deprecated and will be removed from pandas in a future version. Use pandas.concat instead.\n",
      "  concat_df = concat_df.append(temp_df_t.iloc[1], ignore_index = False)\n",
      "/tmp/ipykernel_37775/3705381019.py:14: FutureWarning: The frame.append method is deprecated and will be removed from pandas in a future version. Use pandas.concat instead.\n",
      "  concat_df = concat_df.append(temp_df_t.iloc[1], ignore_index = False)\n"
     ]
    },
    {
     "name": "stdout",
     "output_type": "stream",
     "text": [
      "/home/ege/Desktop/project/new/Resampled_Data/20220419/SSE_600016.csv\n",
      "SSE_600016.csv\n",
      "/home/ege/Desktop/project/new/Resampled_Data/20220419/SSE_600010.csv\n",
      "SSE_600010.csv\n",
      "/home/ege/Desktop/project/new/Resampled_Data/20220419/SSE_600470.csv\n",
      "SSE_600470.csv\n"
     ]
    },
    {
     "name": "stderr",
     "output_type": "stream",
     "text": [
      "/tmp/ipykernel_37775/3705381019.py:14: FutureWarning: The frame.append method is deprecated and will be removed from pandas in a future version. Use pandas.concat instead.\n",
      "  concat_df = concat_df.append(temp_df_t.iloc[1], ignore_index = False)\n",
      "/tmp/ipykernel_37775/3705381019.py:14: FutureWarning: The frame.append method is deprecated and will be removed from pandas in a future version. Use pandas.concat instead.\n",
      "  concat_df = concat_df.append(temp_df_t.iloc[1], ignore_index = False)\n",
      "/tmp/ipykernel_37775/3705381019.py:14: FutureWarning: The frame.append method is deprecated and will be removed from pandas in a future version. Use pandas.concat instead.\n",
      "  concat_df = concat_df.append(temp_df_t.iloc[1], ignore_index = False)\n"
     ]
    },
    {
     "name": "stdout",
     "output_type": "stream",
     "text": [
      "/home/ege/Desktop/project/new/Resampled_Data/20220419/SSE_600248.csv\n",
      "SSE_600248.csv\n",
      "/home/ege/Desktop/project/new/Resampled_Data/20220419/SSE_600108.csv\n",
      "SSE_600108.csv\n",
      "/home/ege/Desktop/project/new/Resampled_Data/20220419/SSE_600708.csv\n",
      "SSE_600708.csv\n"
     ]
    },
    {
     "name": "stderr",
     "output_type": "stream",
     "text": [
      "/tmp/ipykernel_37775/3705381019.py:14: FutureWarning: The frame.append method is deprecated and will be removed from pandas in a future version. Use pandas.concat instead.\n",
      "  concat_df = concat_df.append(temp_df_t.iloc[1], ignore_index = False)\n",
      "/tmp/ipykernel_37775/3705381019.py:14: FutureWarning: The frame.append method is deprecated and will be removed from pandas in a future version. Use pandas.concat instead.\n",
      "  concat_df = concat_df.append(temp_df_t.iloc[1], ignore_index = False)\n",
      "/tmp/ipykernel_37775/3705381019.py:14: FutureWarning: The frame.append method is deprecated and will be removed from pandas in a future version. Use pandas.concat instead.\n",
      "  concat_df = concat_df.append(temp_df_t.iloc[1], ignore_index = False)\n"
     ]
    },
    {
     "name": "stdout",
     "output_type": "stream",
     "text": [
      "/home/ege/Desktop/project/new/Resampled_Data/20220419/SSE_600572.csv\n",
      "SSE_600572.csv\n",
      "/home/ege/Desktop/project/new/Resampled_Data/20220419/SSE_600466.csv\n",
      "SSE_600466.csv\n",
      "/home/ege/Desktop/project/new/Resampled_Data/20220419/SSE_600166.csv\n",
      "SSE_600166.csv\n"
     ]
    },
    {
     "name": "stderr",
     "output_type": "stream",
     "text": [
      "/tmp/ipykernel_37775/3705381019.py:14: FutureWarning: The frame.append method is deprecated and will be removed from pandas in a future version. Use pandas.concat instead.\n",
      "  concat_df = concat_df.append(temp_df_t.iloc[1], ignore_index = False)\n",
      "/tmp/ipykernel_37775/3705381019.py:14: FutureWarning: The frame.append method is deprecated and will be removed from pandas in a future version. Use pandas.concat instead.\n",
      "  concat_df = concat_df.append(temp_df_t.iloc[1], ignore_index = False)\n",
      "/tmp/ipykernel_37775/3705381019.py:14: FutureWarning: The frame.append method is deprecated and will be removed from pandas in a future version. Use pandas.concat instead.\n",
      "  concat_df = concat_df.append(temp_df_t.iloc[1], ignore_index = False)\n"
     ]
    },
    {
     "name": "stdout",
     "output_type": "stream",
     "text": [
      "/home/ege/Desktop/project/new/Resampled_Data/20220419/SSE_600336.csv\n",
      "SSE_600336.csv\n",
      "/home/ege/Desktop/project/new/Resampled_Data/20220419/SSE_600736.csv\n",
      "SSE_600736.csv\n",
      "/home/ege/Desktop/project/new/Resampled_Data/20220419/SSE_600036.csv\n",
      "SSE_600036.csv\n"
     ]
    },
    {
     "name": "stderr",
     "output_type": "stream",
     "text": [
      "/tmp/ipykernel_37775/3705381019.py:14: FutureWarning: The frame.append method is deprecated and will be removed from pandas in a future version. Use pandas.concat instead.\n",
      "  concat_df = concat_df.append(temp_df_t.iloc[1], ignore_index = False)\n",
      "/tmp/ipykernel_37775/3705381019.py:14: FutureWarning: The frame.append method is deprecated and will be removed from pandas in a future version. Use pandas.concat instead.\n",
      "  concat_df = concat_df.append(temp_df_t.iloc[1], ignore_index = False)\n",
      "/tmp/ipykernel_37775/3705381019.py:14: FutureWarning: The frame.append method is deprecated and will be removed from pandas in a future version. Use pandas.concat instead.\n",
      "  concat_df = concat_df.append(temp_df_t.iloc[1], ignore_index = False)\n"
     ]
    },
    {
     "name": "stdout",
     "output_type": "stream",
     "text": [
      "/home/ege/Desktop/project/new/Resampled_Data/20220419/SSE_600238.csv\n",
      "SSE_600238.csv\n",
      "/home/ege/Desktop/project/new/Resampled_Data/20220419/SSE_600581.csv\n",
      "SSE_600581.csv\n",
      "/home/ege/Desktop/project/new/Resampled_Data/20220419/SSE_600690.csv\n",
      "SSE_600690.csv\n"
     ]
    },
    {
     "name": "stderr",
     "output_type": "stream",
     "text": [
      "/tmp/ipykernel_37775/3705381019.py:14: FutureWarning: The frame.append method is deprecated and will be removed from pandas in a future version. Use pandas.concat instead.\n",
      "  concat_df = concat_df.append(temp_df_t.iloc[1], ignore_index = False)\n",
      "/tmp/ipykernel_37775/3705381019.py:14: FutureWarning: The frame.append method is deprecated and will be removed from pandas in a future version. Use pandas.concat instead.\n",
      "  concat_df = concat_df.append(temp_df_t.iloc[1], ignore_index = False)\n",
      "/tmp/ipykernel_37775/3705381019.py:14: FutureWarning: The frame.append method is deprecated and will be removed from pandas in a future version. Use pandas.concat instead.\n",
      "  concat_df = concat_df.append(temp_df_t.iloc[1], ignore_index = False)\n"
     ]
    },
    {
     "name": "stdout",
     "output_type": "stream",
     "text": [
      "/home/ege/Desktop/project/new/Resampled_Data/20220419/SSE_600201.csv\n",
      "SSE_600201.csv\n",
      "/home/ege/Desktop/project/new/Resampled_Data/20220419/SSE_600698.csv\n",
      "SSE_600698.csv\n",
      "/home/ege/Desktop/project/new/Resampled_Data/20220419/SSE_600027.csv\n",
      "SSE_600027.csv\n"
     ]
    },
    {
     "name": "stderr",
     "output_type": "stream",
     "text": [
      "/tmp/ipykernel_37775/3705381019.py:14: FutureWarning: The frame.append method is deprecated and will be removed from pandas in a future version. Use pandas.concat instead.\n",
      "  concat_df = concat_df.append(temp_df_t.iloc[1], ignore_index = False)\n",
      "/tmp/ipykernel_37775/3705381019.py:14: FutureWarning: The frame.append method is deprecated and will be removed from pandas in a future version. Use pandas.concat instead.\n",
      "  concat_df = concat_df.append(temp_df_t.iloc[1], ignore_index = False)\n",
      "/tmp/ipykernel_37775/3705381019.py:14: FutureWarning: The frame.append method is deprecated and will be removed from pandas in a future version. Use pandas.concat instead.\n",
      "  concat_df = concat_df.append(temp_df_t.iloc[1], ignore_index = False)\n"
     ]
    },
    {
     "name": "stdout",
     "output_type": "stream",
     "text": [
      "/home/ege/Desktop/project/new/Resampled_Data/20220419/SSE_600063.csv\n",
      "SSE_600063.csv\n",
      "/home/ege/Desktop/project/new/Resampled_Data/20220419/SSE_600777.csv\n",
      "SSE_600777.csv\n",
      "/home/ege/Desktop/project/new/Resampled_Data/20220419/SSE_600838.csv\n",
      "SSE_600838.csv\n"
     ]
    },
    {
     "name": "stderr",
     "output_type": "stream",
     "text": [
      "/tmp/ipykernel_37775/3705381019.py:14: FutureWarning: The frame.append method is deprecated and will be removed from pandas in a future version. Use pandas.concat instead.\n",
      "  concat_df = concat_df.append(temp_df_t.iloc[1], ignore_index = False)\n",
      "/tmp/ipykernel_37775/3705381019.py:14: FutureWarning: The frame.append method is deprecated and will be removed from pandas in a future version. Use pandas.concat instead.\n",
      "  concat_df = concat_df.append(temp_df_t.iloc[1], ignore_index = False)\n",
      "/tmp/ipykernel_37775/3705381019.py:14: FutureWarning: The frame.append method is deprecated and will be removed from pandas in a future version. Use pandas.concat instead.\n",
      "  concat_df = concat_df.append(temp_df_t.iloc[1], ignore_index = False)\n"
     ]
    },
    {
     "name": "stdout",
     "output_type": "stream",
     "text": [
      "/home/ege/Desktop/project/new/Resampled_Data/20220419/SSE_600839.csv\n",
      "SSE_600839.csv\n",
      "/home/ege/Desktop/project/new/Resampled_Data/20220419/SSE_600467.csv\n",
      "SSE_600467.csv\n",
      "/home/ege/Desktop/project/new/Resampled_Data/20220419/SSE_600162.csv\n",
      "SSE_600162.csv\n"
     ]
    },
    {
     "name": "stderr",
     "output_type": "stream",
     "text": [
      "/tmp/ipykernel_37775/3705381019.py:14: FutureWarning: The frame.append method is deprecated and will be removed from pandas in a future version. Use pandas.concat instead.\n",
      "  concat_df = concat_df.append(temp_df_t.iloc[1], ignore_index = False)\n",
      "/tmp/ipykernel_37775/3705381019.py:14: FutureWarning: The frame.append method is deprecated and will be removed from pandas in a future version. Use pandas.concat instead.\n",
      "  concat_df = concat_df.append(temp_df_t.iloc[1], ignore_index = False)\n",
      "/tmp/ipykernel_37775/3705381019.py:14: FutureWarning: The frame.append method is deprecated and will be removed from pandas in a future version. Use pandas.concat instead.\n",
      "  concat_df = concat_df.append(temp_df_t.iloc[1], ignore_index = False)\n"
     ]
    },
    {
     "name": "stdout",
     "output_type": "stream",
     "text": [
      "/home/ege/Desktop/project/new/Resampled_Data/20220419/SSE_600256.csv\n",
      "SSE_600256.csv\n",
      "/home/ege/Desktop/project/new/Resampled_Data/20220419/SSE_600307.csv\n",
      "SSE_600307.csv\n",
      "/home/ege/Desktop/project/new/Resampled_Data/20220419/SSE_600050.csv\n",
      "SSE_600050.csv\n"
     ]
    },
    {
     "name": "stderr",
     "output_type": "stream",
     "text": [
      "/tmp/ipykernel_37775/3705381019.py:14: FutureWarning: The frame.append method is deprecated and will be removed from pandas in a future version. Use pandas.concat instead.\n",
      "  concat_df = concat_df.append(temp_df_t.iloc[1], ignore_index = False)\n",
      "/tmp/ipykernel_37775/3705381019.py:14: FutureWarning: The frame.append method is deprecated and will be removed from pandas in a future version. Use pandas.concat instead.\n",
      "  concat_df = concat_df.append(temp_df_t.iloc[1], ignore_index = False)\n",
      "/tmp/ipykernel_37775/3705381019.py:14: FutureWarning: The frame.append method is deprecated and will be removed from pandas in a future version. Use pandas.concat instead.\n",
      "  concat_df = concat_df.append(temp_df_t.iloc[1], ignore_index = False)\n"
     ]
    },
    {
     "name": "stdout",
     "output_type": "stream",
     "text": [
      "/home/ege/Desktop/project/new/Resampled_Data/20220419/SSE_600653.csv\n",
      "SSE_600653.csv\n",
      "/home/ege/Desktop/project/new/Resampled_Data/20220419/SSE_600577.csv\n",
      "SSE_600577.csv\n",
      "/home/ege/Desktop/project/new/Resampled_Data/20220419/SSE_600837.csv\n",
      "SSE_600837.csv\n"
     ]
    },
    {
     "name": "stderr",
     "output_type": "stream",
     "text": [
      "/tmp/ipykernel_37775/3705381019.py:14: FutureWarning: The frame.append method is deprecated and will be removed from pandas in a future version. Use pandas.concat instead.\n",
      "  concat_df = concat_df.append(temp_df_t.iloc[1], ignore_index = False)\n",
      "/tmp/ipykernel_37775/3705381019.py:14: FutureWarning: The frame.append method is deprecated and will be removed from pandas in a future version. Use pandas.concat instead.\n",
      "  concat_df = concat_df.append(temp_df_t.iloc[1], ignore_index = False)\n",
      "/tmp/ipykernel_37775/3705381019.py:14: FutureWarning: The frame.append method is deprecated and will be removed from pandas in a future version. Use pandas.concat instead.\n",
      "  concat_df = concat_df.append(temp_df_t.iloc[1], ignore_index = False)\n"
     ]
    },
    {
     "name": "stdout",
     "output_type": "stream",
     "text": [
      "/home/ege/Desktop/project/new/Resampled_Data/20220419/SSE_600021.csv\n",
      "SSE_600021.csv\n",
      "/home/ege/Desktop/project/new/Resampled_Data/20220419/SSE_600370.csv\n",
      "SSE_600370.csv\n",
      "/home/ege/Desktop/project/new/Resampled_Data/20220419/SSE_600338.csv\n",
      "SSE_600338.csv\n"
     ]
    },
    {
     "name": "stderr",
     "output_type": "stream",
     "text": [
      "/tmp/ipykernel_37775/3705381019.py:14: FutureWarning: The frame.append method is deprecated and will be removed from pandas in a future version. Use pandas.concat instead.\n",
      "  concat_df = concat_df.append(temp_df_t.iloc[1], ignore_index = False)\n",
      "/tmp/ipykernel_37775/3705381019.py:14: FutureWarning: The frame.append method is deprecated and will be removed from pandas in a future version. Use pandas.concat instead.\n",
      "  concat_df = concat_df.append(temp_df_t.iloc[1], ignore_index = False)\n",
      "/tmp/ipykernel_37775/3705381019.py:14: FutureWarning: The frame.append method is deprecated and will be removed from pandas in a future version. Use pandas.concat instead.\n",
      "  concat_df = concat_df.append(temp_df_t.iloc[1], ignore_index = False)\n"
     ]
    },
    {
     "name": "stdout",
     "output_type": "stream",
     "text": [
      "/home/ege/Desktop/project/new/Resampled_Data/20220419/SSE_600157.csv\n",
      "SSE_600157.csv\n",
      "/home/ege/Desktop/project/new/Resampled_Data/20220419/SSE_600200.csv\n",
      "SSE_600200.csv\n"
     ]
    },
    {
     "name": "stderr",
     "output_type": "stream",
     "text": [
      "/tmp/ipykernel_37775/3705381019.py:14: FutureWarning: The frame.append method is deprecated and will be removed from pandas in a future version. Use pandas.concat instead.\n",
      "  concat_df = concat_df.append(temp_df_t.iloc[1], ignore_index = False)\n",
      "/tmp/ipykernel_37775/3705381019.py:14: FutureWarning: The frame.append method is deprecated and will be removed from pandas in a future version. Use pandas.concat instead.\n",
      "  concat_df = concat_df.append(temp_df_t.iloc[1], ignore_index = False)\n"
     ]
    },
    {
     "name": "stdout",
     "output_type": "stream",
     "text": [
      "/home/ege/Desktop/project/new/Resampled_Data/20220419/SSE_600185.csv\n",
      "SSE_600185.csv\n",
      "/home/ege/Desktop/project/new/Resampled_Data/20220419/SSE_600582.csv\n",
      "SSE_600582.csv\n",
      "/home/ege/Desktop/project/new/Resampled_Data/20220419/SSE_600383.csv\n",
      "SSE_600383.csv\n"
     ]
    },
    {
     "name": "stderr",
     "output_type": "stream",
     "text": [
      "/tmp/ipykernel_37775/3705381019.py:14: FutureWarning: The frame.append method is deprecated and will be removed from pandas in a future version. Use pandas.concat instead.\n",
      "  concat_df = concat_df.append(temp_df_t.iloc[1], ignore_index = False)\n",
      "/tmp/ipykernel_37775/3705381019.py:14: FutureWarning: The frame.append method is deprecated and will be removed from pandas in a future version. Use pandas.concat instead.\n",
      "  concat_df = concat_df.append(temp_df_t.iloc[1], ignore_index = False)\n",
      "/tmp/ipykernel_37775/3705381019.py:14: FutureWarning: The frame.append method is deprecated and will be removed from pandas in a future version. Use pandas.concat instead.\n",
      "  concat_df = concat_df.append(temp_df_t.iloc[1], ignore_index = False)\n"
     ]
    },
    {
     "name": "stdout",
     "output_type": "stream",
     "text": [
      "/home/ege/Desktop/project/new/Resampled_Data/20220419/SSE_600711.csv\n",
      "SSE_600711.csv\n",
      "/home/ege/Desktop/project/new/Resampled_Data/20220419/SSE_600516.csv\n",
      "SSE_600516.csv\n"
     ]
    },
    {
     "name": "stderr",
     "output_type": "stream",
     "text": [
      "/tmp/ipykernel_37775/3705381019.py:14: FutureWarning: The frame.append method is deprecated and will be removed from pandas in a future version. Use pandas.concat instead.\n",
      "  concat_df = concat_df.append(temp_df_t.iloc[1], ignore_index = False)\n"
     ]
    },
    {
     "name": "stdout",
     "output_type": "stream",
     "text": [
      "/home/ege/Desktop/project/new/Resampled_Data/20220419/SSE_600100.csv\n",
      "SSE_600100.csv\n"
     ]
    },
    {
     "name": "stderr",
     "output_type": "stream",
     "text": [
      "/tmp/ipykernel_37775/3705381019.py:14: FutureWarning: The frame.append method is deprecated and will be removed from pandas in a future version. Use pandas.concat instead.\n",
      "  concat_df = concat_df.append(temp_df_t.iloc[1], ignore_index = False)\n"
     ]
    },
    {
     "name": "stdout",
     "output_type": "stream",
     "text": [
      "/home/ege/Desktop/project/new/Resampled_Data/20220419/SSE_600596.csv\n",
      "SSE_600596.csv\n"
     ]
    },
    {
     "name": "stderr",
     "output_type": "stream",
     "text": [
      "/tmp/ipykernel_37775/3705381019.py:14: FutureWarning: The frame.append method is deprecated and will be removed from pandas in a future version. Use pandas.concat instead.\n",
      "  concat_df = concat_df.append(temp_df_t.iloc[1], ignore_index = False)\n"
     ]
    },
    {
     "name": "stdout",
     "output_type": "stream",
     "text": [
      "/home/ege/Desktop/project/new/Resampled_Data/20220419/SSE_600276.csv\n",
      "SSE_600276.csv\n"
     ]
    },
    {
     "name": "stderr",
     "output_type": "stream",
     "text": [
      "/tmp/ipykernel_37775/3705381019.py:14: FutureWarning: The frame.append method is deprecated and will be removed from pandas in a future version. Use pandas.concat instead.\n",
      "  concat_df = concat_df.append(temp_df_t.iloc[1], ignore_index = False)\n"
     ]
    },
    {
     "name": "stdout",
     "output_type": "stream",
     "text": [
      "/home/ege/Desktop/project/new/Resampled_Data/20220419/SSE_600409.csv\n",
      "SSE_600409.csv\n"
     ]
    },
    {
     "name": "stderr",
     "output_type": "stream",
     "text": [
      "/tmp/ipykernel_37775/3705381019.py:14: FutureWarning: The frame.append method is deprecated and will be removed from pandas in a future version. Use pandas.concat instead.\n",
      "  concat_df = concat_df.append(temp_df_t.iloc[1], ignore_index = False)\n"
     ]
    },
    {
     "name": "stdout",
     "output_type": "stream",
     "text": [
      "/home/ege/Desktop/project/new/Resampled_Data/20220419/SSE_600180.csv\n",
      "SSE_600180.csv\n"
     ]
    },
    {
     "name": "stderr",
     "output_type": "stream",
     "text": [
      "/tmp/ipykernel_37775/3705381019.py:14: FutureWarning: The frame.append method is deprecated and will be removed from pandas in a future version. Use pandas.concat instead.\n",
      "  concat_df = concat_df.append(temp_df_t.iloc[1], ignore_index = False)\n"
     ]
    },
    {
     "name": "stdout",
     "output_type": "stream",
     "text": [
      "/home/ege/Desktop/project/new/Resampled_Data/20220419/SSE_600066.csv\n",
      "SSE_600066.csv\n"
     ]
    },
    {
     "name": "stderr",
     "output_type": "stream",
     "text": [
      "/tmp/ipykernel_37775/3705381019.py:14: FutureWarning: The frame.append method is deprecated and will be removed from pandas in a future version. Use pandas.concat instead.\n",
      "  concat_df = concat_df.append(temp_df_t.iloc[1], ignore_index = False)\n"
     ]
    },
    {
     "name": "stdout",
     "output_type": "stream",
     "text": [
      "/home/ege/Desktop/project/new/Resampled_Data/20220419/SSE_600808.csv\n",
      "SSE_600808.csv\n"
     ]
    },
    {
     "name": "stderr",
     "output_type": "stream",
     "text": [
      "/tmp/ipykernel_37775/3705381019.py:14: FutureWarning: The frame.append method is deprecated and will be removed from pandas in a future version. Use pandas.concat instead.\n",
      "  concat_df = concat_df.append(temp_df_t.iloc[1], ignore_index = False)\n"
     ]
    },
    {
     "name": "stdout",
     "output_type": "stream",
     "text": [
      "/home/ege/Desktop/project/new/Resampled_Data/20220419/SSE_600325.csv\n",
      "SSE_600325.csv\n"
     ]
    },
    {
     "name": "stderr",
     "output_type": "stream",
     "text": [
      "/tmp/ipykernel_37775/3705381019.py:14: FutureWarning: The frame.append method is deprecated and will be removed from pandas in a future version. Use pandas.concat instead.\n",
      "  concat_df = concat_df.append(temp_df_t.iloc[1], ignore_index = False)\n"
     ]
    },
    {
     "name": "stdout",
     "output_type": "stream",
     "text": [
      "/home/ege/Desktop/project/new/Resampled_Data/20220419/SSE_600854.csv\n",
      "SSE_600854.csv\n",
      "/home/ege/Desktop/project/new/Resampled_Data/20220419/SSE_600159.csv\n",
      "SSE_600159.csv\n"
     ]
    },
    {
     "name": "stderr",
     "output_type": "stream",
     "text": [
      "/tmp/ipykernel_37775/3705381019.py:14: FutureWarning: The frame.append method is deprecated and will be removed from pandas in a future version. Use pandas.concat instead.\n",
      "  concat_df = concat_df.append(temp_df_t.iloc[1], ignore_index = False)\n",
      "/tmp/ipykernel_37775/3705381019.py:14: FutureWarning: The frame.append method is deprecated and will be removed from pandas in a future version. Use pandas.concat instead.\n",
      "  concat_df = concat_df.append(temp_df_t.iloc[1], ignore_index = False)\n"
     ]
    },
    {
     "name": "stdout",
     "output_type": "stream",
     "text": [
      "/home/ege/Desktop/project/new/Resampled_Data/20220419/SSE_600703.csv\n",
      "SSE_600703.csv\n"
     ]
    },
    {
     "name": "stderr",
     "output_type": "stream",
     "text": [
      "/tmp/ipykernel_37775/3705381019.py:14: FutureWarning: The frame.append method is deprecated and will be removed from pandas in a future version. Use pandas.concat instead.\n",
      "  concat_df = concat_df.append(temp_df_t.iloc[1], ignore_index = False)\n"
     ]
    },
    {
     "name": "stdout",
     "output_type": "stream",
     "text": [
      "/home/ege/Desktop/project/new/Resampled_Data/20220419/SSE_600598.csv\n",
      "SSE_600598.csv\n",
      "/home/ege/Desktop/project/new/Resampled_Data/20220419/SSE_600277.csv\n",
      "SSE_600277.csv\n"
     ]
    },
    {
     "name": "stderr",
     "output_type": "stream",
     "text": [
      "/tmp/ipykernel_37775/3705381019.py:14: FutureWarning: The frame.append method is deprecated and will be removed from pandas in a future version. Use pandas.concat instead.\n",
      "  concat_df = concat_df.append(temp_df_t.iloc[1], ignore_index = False)\n",
      "/tmp/ipykernel_37775/3705381019.py:14: FutureWarning: The frame.append method is deprecated and will be removed from pandas in a future version. Use pandas.concat instead.\n",
      "  concat_df = concat_df.append(temp_df_t.iloc[1], ignore_index = False)\n"
     ]
    },
    {
     "name": "stdout",
     "output_type": "stream",
     "text": [
      "/home/ege/Desktop/project/new/Resampled_Data/20220419/SSE_600657.csv\n",
      "SSE_600657.csv\n",
      "/home/ege/Desktop/project/new/Resampled_Data/20220419/SSE_600282.csv\n",
      "SSE_600282.csv\n"
     ]
    },
    {
     "name": "stderr",
     "output_type": "stream",
     "text": [
      "/tmp/ipykernel_37775/3705381019.py:14: FutureWarning: The frame.append method is deprecated and will be removed from pandas in a future version. Use pandas.concat instead.\n",
      "  concat_df = concat_df.append(temp_df_t.iloc[1], ignore_index = False)\n",
      "/tmp/ipykernel_37775/3705381019.py:14: FutureWarning: The frame.append method is deprecated and will be removed from pandas in a future version. Use pandas.concat instead.\n",
      "  concat_df = concat_df.append(temp_df_t.iloc[1], ignore_index = False)\n"
     ]
    },
    {
     "name": "stdout",
     "output_type": "stream",
     "text": [
      "/home/ege/Desktop/project/new/Resampled_Data/20220419/SSE_600025.csv\n",
      "SSE_600025.csv\n",
      "/home/ege/Desktop/project/new/Resampled_Data/20220419/SSE_600575.csv\n",
      "SSE_600575.csv\n"
     ]
    },
    {
     "name": "stderr",
     "output_type": "stream",
     "text": [
      "/tmp/ipykernel_37775/3705381019.py:14: FutureWarning: The frame.append method is deprecated and will be removed from pandas in a future version. Use pandas.concat instead.\n",
      "  concat_df = concat_df.append(temp_df_t.iloc[1], ignore_index = False)\n",
      "/tmp/ipykernel_37775/3705381019.py:14: FutureWarning: The frame.append method is deprecated and will be removed from pandas in a future version. Use pandas.concat instead.\n",
      "  concat_df = concat_df.append(temp_df_t.iloc[1], ignore_index = False)\n"
     ]
    },
    {
     "name": "stdout",
     "output_type": "stream",
     "text": [
      "/home/ege/Desktop/project/new/Resampled_Data/20220419/SSE_600438.csv\n",
      "SSE_600438.csv\n",
      "/home/ege/Desktop/project/new/Resampled_Data/20220419/SSE_600018.csv\n",
      "SSE_600018.csv\n",
      "/home/ege/Desktop/project/new/Resampled_Data/20220419/SSE_600755.csv\n",
      "SSE_600755.csv\n"
     ]
    },
    {
     "name": "stderr",
     "output_type": "stream",
     "text": [
      "/tmp/ipykernel_37775/3705381019.py:14: FutureWarning: The frame.append method is deprecated and will be removed from pandas in a future version. Use pandas.concat instead.\n",
      "  concat_df = concat_df.append(temp_df_t.iloc[1], ignore_index = False)\n",
      "/tmp/ipykernel_37775/3705381019.py:14: FutureWarning: The frame.append method is deprecated and will be removed from pandas in a future version. Use pandas.concat instead.\n",
      "  concat_df = concat_df.append(temp_df_t.iloc[1], ignore_index = False)\n",
      "/tmp/ipykernel_37775/3705381019.py:14: FutureWarning: The frame.append method is deprecated and will be removed from pandas in a future version. Use pandas.concat instead.\n",
      "  concat_df = concat_df.append(temp_df_t.iloc[1], ignore_index = False)\n"
     ]
    },
    {
     "name": "stdout",
     "output_type": "stream",
     "text": [
      "/home/ege/Desktop/project/new/Resampled_Data/20220419/SSE_600795.csv\n",
      "SSE_600795.csv\n",
      "/home/ege/Desktop/project/new/Resampled_Data/20220419/SSE_600313.csv\n",
      "SSE_600313.csv\n",
      "/home/ege/Desktop/project/new/Resampled_Data/20220419/SSE_600522.csv\n",
      "SSE_600522.csv\n"
     ]
    },
    {
     "name": "stderr",
     "output_type": "stream",
     "text": [
      "/tmp/ipykernel_37775/3705381019.py:14: FutureWarning: The frame.append method is deprecated and will be removed from pandas in a future version. Use pandas.concat instead.\n",
      "  concat_df = concat_df.append(temp_df_t.iloc[1], ignore_index = False)\n",
      "/tmp/ipykernel_37775/3705381019.py:14: FutureWarning: The frame.append method is deprecated and will be removed from pandas in a future version. Use pandas.concat instead.\n",
      "  concat_df = concat_df.append(temp_df_t.iloc[1], ignore_index = False)\n",
      "/tmp/ipykernel_37775/3705381019.py:14: FutureWarning: The frame.append method is deprecated and will be removed from pandas in a future version. Use pandas.concat instead.\n",
      "  concat_df = concat_df.append(temp_df_t.iloc[1], ignore_index = False)\n"
     ]
    },
    {
     "name": "stdout",
     "output_type": "stream",
     "text": [
      "/home/ege/Desktop/project/new/Resampled_Data/20220419/SSE_600367.csv\n",
      "SSE_600367.csv\n",
      "/home/ege/Desktop/project/new/Resampled_Data/20220419/SSE_600328.csv\n",
      "SSE_600328.csv\n"
     ]
    },
    {
     "name": "stderr",
     "output_type": "stream",
     "text": [
      "/tmp/ipykernel_37775/3705381019.py:14: FutureWarning: The frame.append method is deprecated and will be removed from pandas in a future version. Use pandas.concat instead.\n",
      "  concat_df = concat_df.append(temp_df_t.iloc[1], ignore_index = False)\n",
      "/tmp/ipykernel_37775/3705381019.py:14: FutureWarning: The frame.append method is deprecated and will be removed from pandas in a future version. Use pandas.concat instead.\n",
      "  concat_df = concat_df.append(temp_df_t.iloc[1], ignore_index = False)\n"
     ]
    },
    {
     "name": "stdout",
     "output_type": "stream",
     "text": [
      "/home/ege/Desktop/project/new/Resampled_Data/20220419/SSE_600141.csv\n",
      "SSE_600141.csv\n",
      "/home/ege/Desktop/project/new/Resampled_Data/20220419/SSE_600031.csv\n",
      "SSE_600031.csv\n",
      "/home/ege/Desktop/project/new/Resampled_Data/20220419/SSE_600048.csv\n",
      "SSE_600048.csv\n"
     ]
    },
    {
     "name": "stderr",
     "output_type": "stream",
     "text": [
      "/tmp/ipykernel_37775/3705381019.py:14: FutureWarning: The frame.append method is deprecated and will be removed from pandas in a future version. Use pandas.concat instead.\n",
      "  concat_df = concat_df.append(temp_df_t.iloc[1], ignore_index = False)\n",
      "/tmp/ipykernel_37775/3705381019.py:14: FutureWarning: The frame.append method is deprecated and will be removed from pandas in a future version. Use pandas.concat instead.\n",
      "  concat_df = concat_df.append(temp_df_t.iloc[1], ignore_index = False)\n",
      "/tmp/ipykernel_37775/3705381019.py:14: FutureWarning: The frame.append method is deprecated and will be removed from pandas in a future version. Use pandas.concat instead.\n",
      "  concat_df = concat_df.append(temp_df_t.iloc[1], ignore_index = False)\n"
     ]
    },
    {
     "name": "stdout",
     "output_type": "stream",
     "text": [
      "/home/ege/Desktop/project/new/Resampled_Data/20220419/SSE_600821.csv\n",
      "SSE_600821.csv\n",
      "/home/ege/Desktop/project/new/Resampled_Data/20220419/SSE_600628.csv\n",
      "SSE_600628.csv\n",
      "/home/ege/Desktop/project/new/Resampled_Data/20220419/SSE_600019.csv\n",
      "SSE_600019.csv\n"
     ]
    },
    {
     "name": "stderr",
     "output_type": "stream",
     "text": [
      "/tmp/ipykernel_37775/3705381019.py:14: FutureWarning: The frame.append method is deprecated and will be removed from pandas in a future version. Use pandas.concat instead.\n",
      "  concat_df = concat_df.append(temp_df_t.iloc[1], ignore_index = False)\n",
      "/tmp/ipykernel_37775/3705381019.py:14: FutureWarning: The frame.append method is deprecated and will be removed from pandas in a future version. Use pandas.concat instead.\n",
      "  concat_df = concat_df.append(temp_df_t.iloc[1], ignore_index = False)\n",
      "/tmp/ipykernel_37775/3705381019.py:14: FutureWarning: The frame.append method is deprecated and will be removed from pandas in a future version. Use pandas.concat instead.\n",
      "  concat_df = concat_df.append(temp_df_t.iloc[1], ignore_index = False)\n"
     ]
    },
    {
     "name": "stdout",
     "output_type": "stream",
     "text": [
      "/home/ege/Desktop/project/new/Resampled_Data/20220419/SSE_600026.csv\n",
      "SSE_600026.csv\n",
      "/home/ege/Desktop/project/new/Resampled_Data/20220419/SSE_600219.csv\n",
      "SSE_600219.csv\n"
     ]
    },
    {
     "name": "stderr",
     "output_type": "stream",
     "text": [
      "/tmp/ipykernel_37775/3705381019.py:14: FutureWarning: The frame.append method is deprecated and will be removed from pandas in a future version. Use pandas.concat instead.\n",
      "  concat_df = concat_df.append(temp_df_t.iloc[1], ignore_index = False)\n",
      "/tmp/ipykernel_37775/3705381019.py:14: FutureWarning: The frame.append method is deprecated and will be removed from pandas in a future version. Use pandas.concat instead.\n",
      "  concat_df = concat_df.append(temp_df_t.iloc[1], ignore_index = False)\n"
     ]
    },
    {
     "name": "stdout",
     "output_type": "stream",
     "text": [
      "/home/ege/Desktop/project/new/Resampled_Data/20220419/SSE_600339.csv\n",
      "SSE_600339.csv\n",
      "/home/ege/Desktop/project/new/Resampled_Data/20220419/SSE_600686.csv\n",
      "SSE_600686.csv\n",
      "/home/ege/Desktop/project/new/Resampled_Data/20220419/SSE_600569.csv\n",
      "SSE_600569.csv\n"
     ]
    },
    {
     "name": "stderr",
     "output_type": "stream",
     "text": [
      "/tmp/ipykernel_37775/3705381019.py:14: FutureWarning: The frame.append method is deprecated and will be removed from pandas in a future version. Use pandas.concat instead.\n",
      "  concat_df = concat_df.append(temp_df_t.iloc[1], ignore_index = False)\n",
      "/tmp/ipykernel_37775/3705381019.py:14: FutureWarning: The frame.append method is deprecated and will be removed from pandas in a future version. Use pandas.concat instead.\n",
      "  concat_df = concat_df.append(temp_df_t.iloc[1], ignore_index = False)\n",
      "/tmp/ipykernel_37775/3705381019.py:14: FutureWarning: The frame.append method is deprecated and will be removed from pandas in a future version. Use pandas.concat instead.\n",
      "  concat_df = concat_df.append(temp_df_t.iloc[1], ignore_index = False)\n"
     ]
    },
    {
     "name": "stdout",
     "output_type": "stream",
     "text": [
      "/home/ege/Desktop/project/new/Resampled_Data/20220419/SSE_600871-checkpoint.csv\n",
      "SSE_600871-checkpoint.csv CHECKPOINT\n",
      "/home/ege/Desktop/project/new/Resampled_Data/20220419/SSE_600219-checkpoint.csv\n",
      "SSE_600219-checkpoint.csv CHECKPOINT\n",
      "/home/ege/Desktop/project/new/Resampled_Data/20220419/SSE_600016-checkpoint.csv\n",
      "SSE_600016-checkpoint.csv CHECKPOINT\n",
      "/home/ege/Desktop/project/new/Resampled_Data/20220419/SSE_600000-checkpoint.csv\n",
      "SSE_600000-checkpoint.csv CHECKPOINT\n",
      "/home/ege/Desktop/project/new/Resampled_Data/20220419/SSE_204001-checkpoint.csv\n",
      "SSE_204001-checkpoint.csv CHECKPOINT\n",
      "/home/ege/Desktop/project/new/Resampled_Data/20220419/SSE_204007-checkpoint.csv\n",
      "SSE_204007-checkpoint.csv CHECKPOINT\n",
      "/home/ege/Desktop/project/new/Resampled_Data/20220419/SSE_600025-checkpoint.csv\n",
      "SSE_600025-checkpoint.csv CHECKPOINT\n",
      "/home/ege/Desktop/project/new/Resampled_Data/20220419/SSE_600153-checkpoint.csv\n",
      "SSE_600153-checkpoint.csv CHECKPOINT\n",
      "/home/ege/Desktop/project/new/Resampled_Data/20220419/SSE_600010-checkpoint.csv\n",
      "SSE_600010-checkpoint.csv CHECKPOINT\n",
      "/home/ege/Desktop/project/new/Resampled_Data/20220419/SSE_600782-checkpoint.csv\n",
      "SSE_600782-checkpoint.csv CHECKPOINT\n",
      "/home/ege/Desktop/project/new/Resampled_Data/20220419/SSE_600018-checkpoint.csv\n",
      "SSE_600018-checkpoint.csv CHECKPOINT\n",
      "20220429\n",
      "/home/ege/Desktop/project/new/Resampled_Data/20220429/SSE_600322.csv\n",
      "SSE_600322.csv\n",
      "/home/ege/Desktop/project/new/Resampled_Data/20220429/SSE_600153.csv\n",
      "SSE_600153.csv\n",
      "/home/ege/Desktop/project/new/Resampled_Data/20220429/SSE_600348.csv\n",
      "SSE_600348.csv\n"
     ]
    },
    {
     "name": "stderr",
     "output_type": "stream",
     "text": [
      "/tmp/ipykernel_37775/3705381019.py:14: FutureWarning: The frame.append method is deprecated and will be removed from pandas in a future version. Use pandas.concat instead.\n",
      "  concat_df = concat_df.append(temp_df_t.iloc[1], ignore_index = False)\n",
      "/tmp/ipykernel_37775/3705381019.py:14: FutureWarning: The frame.append method is deprecated and will be removed from pandas in a future version. Use pandas.concat instead.\n",
      "  concat_df = concat_df.append(temp_df_t.iloc[1], ignore_index = False)\n",
      "/tmp/ipykernel_37775/3705381019.py:14: FutureWarning: The frame.append method is deprecated and will be removed from pandas in a future version. Use pandas.concat instead.\n",
      "  concat_df = concat_df.append(temp_df_t.iloc[1], ignore_index = False)\n"
     ]
    },
    {
     "name": "stdout",
     "output_type": "stream",
     "text": [
      "/home/ege/Desktop/project/new/Resampled_Data/20220429/SSE_600354.csv\n",
      "SSE_600354.csv\n",
      "/home/ege/Desktop/project/new/Resampled_Data/20220429/SSE_600521.csv\n",
      "SSE_600521.csv\n"
     ]
    },
    {
     "name": "stderr",
     "output_type": "stream",
     "text": [
      "/tmp/ipykernel_37775/3705381019.py:14: FutureWarning: The frame.append method is deprecated and will be removed from pandas in a future version. Use pandas.concat instead.\n",
      "  concat_df = concat_df.append(temp_df_t.iloc[1], ignore_index = False)\n",
      "/tmp/ipykernel_37775/3705381019.py:14: FutureWarning: The frame.append method is deprecated and will be removed from pandas in a future version. Use pandas.concat instead.\n",
      "  concat_df = concat_df.append(temp_df_t.iloc[1], ignore_index = False)\n"
     ]
    },
    {
     "name": "stdout",
     "output_type": "stream",
     "text": [
      "/home/ege/Desktop/project/new/Resampled_Data/20220429/SSE_600176.csv\n",
      "SSE_600176.csv\n",
      "/home/ege/Desktop/project/new/Resampled_Data/20220429/SSE_600502.csv\n",
      "SSE_600502.csv\n",
      "/home/ege/Desktop/project/new/Resampled_Data/20220429/SSE_600499.csv\n",
      "SSE_600499.csv\n"
     ]
    },
    {
     "name": "stderr",
     "output_type": "stream",
     "text": [
      "/tmp/ipykernel_37775/3705381019.py:14: FutureWarning: The frame.append method is deprecated and will be removed from pandas in a future version. Use pandas.concat instead.\n",
      "  concat_df = concat_df.append(temp_df_t.iloc[1], ignore_index = False)\n",
      "/tmp/ipykernel_37775/3705381019.py:14: FutureWarning: The frame.append method is deprecated and will be removed from pandas in a future version. Use pandas.concat instead.\n",
      "  concat_df = concat_df.append(temp_df_t.iloc[1], ignore_index = False)\n",
      "/tmp/ipykernel_37775/3705381019.py:14: FutureWarning: The frame.append method is deprecated and will be removed from pandas in a future version. Use pandas.concat instead.\n",
      "  concat_df = concat_df.append(temp_df_t.iloc[1], ignore_index = False)\n"
     ]
    },
    {
     "name": "stdout",
     "output_type": "stream",
     "text": [
      "/home/ege/Desktop/project/new/Resampled_Data/20220429/SSE_600512.csv\n",
      "SSE_600512.csv\n",
      "/home/ege/Desktop/project/new/Resampled_Data/20220429/SSE_600104.csv\n",
      "SSE_600104.csv\n",
      "/home/ege/Desktop/project/new/Resampled_Data/20220429/SSE_600037.csv\n",
      "SSE_600037.csv\n"
     ]
    },
    {
     "name": "stderr",
     "output_type": "stream",
     "text": [
      "/tmp/ipykernel_37775/3705381019.py:14: FutureWarning: The frame.append method is deprecated and will be removed from pandas in a future version. Use pandas.concat instead.\n",
      "  concat_df = concat_df.append(temp_df_t.iloc[1], ignore_index = False)\n",
      "/tmp/ipykernel_37775/3705381019.py:14: FutureWarning: The frame.append method is deprecated and will be removed from pandas in a future version. Use pandas.concat instead.\n",
      "  concat_df = concat_df.append(temp_df_t.iloc[1], ignore_index = False)\n",
      "/tmp/ipykernel_37775/3705381019.py:14: FutureWarning: The frame.append method is deprecated and will be removed from pandas in a future version. Use pandas.concat instead.\n",
      "  concat_df = concat_df.append(temp_df_t.iloc[1], ignore_index = False)\n"
     ]
    },
    {
     "name": "stdout",
     "output_type": "stream",
     "text": [
      "/home/ege/Desktop/project/new/Resampled_Data/20220429/SSE_600170.csv\n",
      "SSE_600170.csv\n",
      "/home/ege/Desktop/project/new/Resampled_Data/20220429/SSE_600397.csv\n",
      "SSE_600397.csv\n",
      "/home/ege/Desktop/project/new/Resampled_Data/20220429/SSE_600335.csv\n",
      "SSE_600335.csv\n"
     ]
    },
    {
     "name": "stderr",
     "output_type": "stream",
     "text": [
      "/tmp/ipykernel_37775/3705381019.py:14: FutureWarning: The frame.append method is deprecated and will be removed from pandas in a future version. Use pandas.concat instead.\n",
      "  concat_df = concat_df.append(temp_df_t.iloc[1], ignore_index = False)\n",
      "/tmp/ipykernel_37775/3705381019.py:14: FutureWarning: The frame.append method is deprecated and will be removed from pandas in a future version. Use pandas.concat instead.\n",
      "  concat_df = concat_df.append(temp_df_t.iloc[1], ignore_index = False)\n",
      "/tmp/ipykernel_37775/3705381019.py:14: FutureWarning: The frame.append method is deprecated and will be removed from pandas in a future version. Use pandas.concat instead.\n",
      "  concat_df = concat_df.append(temp_df_t.iloc[1], ignore_index = False)\n"
     ]
    },
    {
     "name": "stdout",
     "output_type": "stream",
     "text": [
      "/home/ege/Desktop/project/new/Resampled_Data/20220429/SSE_600359.csv\n",
      "SSE_600359.csv\n",
      "/home/ege/Desktop/project/new/Resampled_Data/20220429/SSE_600487.csv\n",
      "SSE_600487.csv\n",
      "/home/ege/Desktop/project/new/Resampled_Data/20220429/SSE_600366.csv\n",
      "SSE_600366.csv\n"
     ]
    },
    {
     "name": "stderr",
     "output_type": "stream",
     "text": [
      "/tmp/ipykernel_37775/3705381019.py:14: FutureWarning: The frame.append method is deprecated and will be removed from pandas in a future version. Use pandas.concat instead.\n",
      "  concat_df = concat_df.append(temp_df_t.iloc[1], ignore_index = False)\n",
      "/tmp/ipykernel_37775/3705381019.py:14: FutureWarning: The frame.append method is deprecated and will be removed from pandas in a future version. Use pandas.concat instead.\n",
      "  concat_df = concat_df.append(temp_df_t.iloc[1], ignore_index = False)\n",
      "/tmp/ipykernel_37775/3705381019.py:14: FutureWarning: The frame.append method is deprecated and will be removed from pandas in a future version. Use pandas.concat instead.\n",
      "  concat_df = concat_df.append(temp_df_t.iloc[1], ignore_index = False)\n"
     ]
    },
    {
     "name": "stdout",
     "output_type": "stream",
     "text": [
      "/home/ege/Desktop/project/new/Resampled_Data/20220429/SSE_600425.csv\n",
      "SSE_600425.csv\n",
      "/home/ege/Desktop/project/new/Resampled_Data/20220429/SSE_600448.csv\n",
      "SSE_600448.csv\n",
      "/home/ege/Desktop/project/new/Resampled_Data/20220429/SSE_600330.csv\n",
      "SSE_600330.csv\n"
     ]
    },
    {
     "name": "stderr",
     "output_type": "stream",
     "text": [
      "/tmp/ipykernel_37775/3705381019.py:14: FutureWarning: The frame.append method is deprecated and will be removed from pandas in a future version. Use pandas.concat instead.\n",
      "  concat_df = concat_df.append(temp_df_t.iloc[1], ignore_index = False)\n",
      "/tmp/ipykernel_37775/3705381019.py:14: FutureWarning: The frame.append method is deprecated and will be removed from pandas in a future version. Use pandas.concat instead.\n",
      "  concat_df = concat_df.append(temp_df_t.iloc[1], ignore_index = False)\n",
      "/tmp/ipykernel_37775/3705381019.py:14: FutureWarning: The frame.append method is deprecated and will be removed from pandas in a future version. Use pandas.concat instead.\n",
      "  concat_df = concat_df.append(temp_df_t.iloc[1], ignore_index = False)\n"
     ]
    },
    {
     "name": "stdout",
     "output_type": "stream",
     "text": [
      "/home/ege/Desktop/project/new/Resampled_Data/20220429/SSE_600396.csv\n",
      "SSE_600396.csv\n",
      "/home/ege/Desktop/project/new/Resampled_Data/20220429/SSE_600123.csv\n",
      "SSE_600123.csv\n",
      "/home/ege/Desktop/project/new/Resampled_Data/20220429/SSE_600428.csv\n",
      "SSE_600428.csv\n"
     ]
    },
    {
     "name": "stderr",
     "output_type": "stream",
     "text": [
      "/tmp/ipykernel_37775/3705381019.py:14: FutureWarning: The frame.append method is deprecated and will be removed from pandas in a future version. Use pandas.concat instead.\n",
      "  concat_df = concat_df.append(temp_df_t.iloc[1], ignore_index = False)\n",
      "/tmp/ipykernel_37775/3705381019.py:14: FutureWarning: The frame.append method is deprecated and will be removed from pandas in a future version. Use pandas.concat instead.\n",
      "  concat_df = concat_df.append(temp_df_t.iloc[1], ignore_index = False)\n",
      "/tmp/ipykernel_37775/3705381019.py:14: FutureWarning: The frame.append method is deprecated and will be removed from pandas in a future version. Use pandas.concat instead.\n",
      "  concat_df = concat_df.append(temp_df_t.iloc[1], ignore_index = False)\n"
     ]
    },
    {
     "name": "stdout",
     "output_type": "stream",
     "text": [
      "/home/ege/Desktop/project/new/Resampled_Data/20220429/SSE_600331.csv\n",
      "SSE_600331.csv\n",
      "/home/ege/Desktop/project/new/Resampled_Data/20220429/SSE_600121.csv\n",
      "SSE_600121.csv\n"
     ]
    },
    {
     "name": "stderr",
     "output_type": "stream",
     "text": [
      "/tmp/ipykernel_37775/3705381019.py:14: FutureWarning: The frame.append method is deprecated and will be removed from pandas in a future version. Use pandas.concat instead.\n",
      "  concat_df = concat_df.append(temp_df_t.iloc[1], ignore_index = False)\n",
      "/tmp/ipykernel_37775/3705381019.py:14: FutureWarning: The frame.append method is deprecated and will be removed from pandas in a future version. Use pandas.concat instead.\n",
      "  concat_df = concat_df.append(temp_df_t.iloc[1], ignore_index = False)\n"
     ]
    },
    {
     "name": "stdout",
     "output_type": "stream",
     "text": [
      "/home/ege/Desktop/project/new/Resampled_Data/20220429/SSE_600395.csv\n",
      "SSE_600395.csv\n",
      "/home/ege/Desktop/project/new/Resampled_Data/20220429/SSE_600115.csv\n",
      "SSE_600115.csv\n"
     ]
    },
    {
     "name": "stderr",
     "output_type": "stream",
     "text": [
      "/tmp/ipykernel_37775/3705381019.py:14: FutureWarning: The frame.append method is deprecated and will be removed from pandas in a future version. Use pandas.concat instead.\n",
      "  concat_df = concat_df.append(temp_df_t.iloc[1], ignore_index = False)\n",
      "/tmp/ipykernel_37775/3705381019.py:14: FutureWarning: The frame.append method is deprecated and will be removed from pandas in a future version. Use pandas.concat instead.\n",
      "  concat_df = concat_df.append(temp_df_t.iloc[1], ignore_index = False)\n"
     ]
    },
    {
     "name": "stdout",
     "output_type": "stream",
     "text": [
      "/home/ege/Desktop/project/new/Resampled_Data/20220429/SSE_600284.csv\n",
      "SSE_600284.csv\n",
      "/home/ege/Desktop/project/new/Resampled_Data/20220429/SSE_600312.csv\n",
      "SSE_600312.csv\n"
     ]
    },
    {
     "name": "stderr",
     "output_type": "stream",
     "text": [
      "/tmp/ipykernel_37775/3705381019.py:14: FutureWarning: The frame.append method is deprecated and will be removed from pandas in a future version. Use pandas.concat instead.\n",
      "  concat_df = concat_df.append(temp_df_t.iloc[1], ignore_index = False)\n",
      "/tmp/ipykernel_37775/3705381019.py:14: FutureWarning: The frame.append method is deprecated and will be removed from pandas in a future version. Use pandas.concat instead.\n",
      "  concat_df = concat_df.append(temp_df_t.iloc[1], ignore_index = False)\n"
     ]
    },
    {
     "name": "stdout",
     "output_type": "stream",
     "text": [
      "/home/ege/Desktop/project/new/Resampled_Data/20220429/SSE_600199.csv\n",
      "SSE_600199.csv\n",
      "/home/ege/Desktop/project/new/Resampled_Data/20220429/SSE_600497.csv\n",
      "SSE_600497.csv\n"
     ]
    },
    {
     "name": "stderr",
     "output_type": "stream",
     "text": [
      "/tmp/ipykernel_37775/3705381019.py:14: FutureWarning: The frame.append method is deprecated and will be removed from pandas in a future version. Use pandas.concat instead.\n",
      "  concat_df = concat_df.append(temp_df_t.iloc[1], ignore_index = False)\n",
      "/tmp/ipykernel_37775/3705381019.py:14: FutureWarning: The frame.append method is deprecated and will be removed from pandas in a future version. Use pandas.concat instead.\n",
      "  concat_df = concat_df.append(temp_df_t.iloc[1], ignore_index = False)\n"
     ]
    },
    {
     "name": "stdout",
     "output_type": "stream",
     "text": [
      "/home/ege/Desktop/project/new/Resampled_Data/20220429/SSE_600163.csv\n",
      "SSE_600163.csv\n",
      "/home/ege/Desktop/project/new/Resampled_Data/20220429/SSE_600491.csv\n",
      "SSE_600491.csv\n"
     ]
    },
    {
     "name": "stderr",
     "output_type": "stream",
     "text": [
      "/tmp/ipykernel_37775/3705381019.py:14: FutureWarning: The frame.append method is deprecated and will be removed from pandas in a future version. Use pandas.concat instead.\n",
      "  concat_df = concat_df.append(temp_df_t.iloc[1], ignore_index = False)\n",
      "/tmp/ipykernel_37775/3705381019.py:14: FutureWarning: The frame.append method is deprecated and will be removed from pandas in a future version. Use pandas.concat instead.\n",
      "  concat_df = concat_df.append(temp_df_t.iloc[1], ignore_index = False)\n"
     ]
    },
    {
     "name": "stdout",
     "output_type": "stream",
     "text": [
      "/home/ege/Desktop/project/new/Resampled_Data/20220429/SSE_600172.csv\n",
      "SSE_600172.csv\n",
      "/home/ege/Desktop/project/new/Resampled_Data/20220429/SSE_600489.csv\n",
      "SSE_600489.csv\n",
      "/home/ege/Desktop/project/new/Resampled_Data/20220429/SSE_600150.csv\n",
      "SSE_600150.csv\n"
     ]
    },
    {
     "name": "stderr",
     "output_type": "stream",
     "text": [
      "/tmp/ipykernel_37775/3705381019.py:14: FutureWarning: The frame.append method is deprecated and will be removed from pandas in a future version. Use pandas.concat instead.\n",
      "  concat_df = concat_df.append(temp_df_t.iloc[1], ignore_index = False)\n",
      "/tmp/ipykernel_37775/3705381019.py:14: FutureWarning: The frame.append method is deprecated and will be removed from pandas in a future version. Use pandas.concat instead.\n",
      "  concat_df = concat_df.append(temp_df_t.iloc[1], ignore_index = False)\n",
      "/tmp/ipykernel_37775/3705381019.py:14: FutureWarning: The frame.append method is deprecated and will be removed from pandas in a future version. Use pandas.concat instead.\n",
      "  concat_df = concat_df.append(temp_df_t.iloc[1], ignore_index = False)\n"
     ]
    },
    {
     "name": "stdout",
     "output_type": "stream",
     "text": [
      "/home/ege/Desktop/project/new/Resampled_Data/20220429/SSE_600208.csv\n",
      "SSE_600208.csv\n",
      "/home/ege/Desktop/project/new/Resampled_Data/20220429/SSE_600280.csv\n",
      "SSE_600280.csv\n",
      "/home/ege/Desktop/project/new/Resampled_Data/20220429/SSE_600418.csv\n",
      "SSE_600418.csv\n"
     ]
    },
    {
     "name": "stderr",
     "output_type": "stream",
     "text": [
      "/tmp/ipykernel_37775/3705381019.py:14: FutureWarning: The frame.append method is deprecated and will be removed from pandas in a future version. Use pandas.concat instead.\n",
      "  concat_df = concat_df.append(temp_df_t.iloc[1], ignore_index = False)\n",
      "/tmp/ipykernel_37775/3705381019.py:14: FutureWarning: The frame.append method is deprecated and will be removed from pandas in a future version. Use pandas.concat instead.\n",
      "  concat_df = concat_df.append(temp_df_t.iloc[1], ignore_index = False)\n",
      "/tmp/ipykernel_37775/3705381019.py:14: FutureWarning: The frame.append method is deprecated and will be removed from pandas in a future version. Use pandas.concat instead.\n",
      "  concat_df = concat_df.append(temp_df_t.iloc[1], ignore_index = False)\n"
     ]
    },
    {
     "name": "stdout",
     "output_type": "stream",
     "text": [
      "/home/ege/Desktop/project/new/Resampled_Data/20220429/SSE_600257.csv\n",
      "SSE_600257.csv\n",
      "/home/ege/Desktop/project/new/Resampled_Data/20220429/SSE_600149.csv\n",
      "SSE_600149.csv\n"
     ]
    },
    {
     "name": "stderr",
     "output_type": "stream",
     "text": [
      "/tmp/ipykernel_37775/3705381019.py:14: FutureWarning: The frame.append method is deprecated and will be removed from pandas in a future version. Use pandas.concat instead.\n",
      "  concat_df = concat_df.append(temp_df_t.iloc[1], ignore_index = False)\n",
      "/tmp/ipykernel_37775/3705381019.py:14: FutureWarning: The frame.append method is deprecated and will be removed from pandas in a future version. Use pandas.concat instead.\n",
      "  concat_df = concat_df.append(temp_df_t.iloc[1], ignore_index = False)\n"
     ]
    },
    {
     "name": "stdout",
     "output_type": "stream",
     "text": [
      "/home/ege/Desktop/project/new/Resampled_Data/20220429/SSE_600470.csv\n",
      "SSE_600470.csv\n",
      "/home/ege/Desktop/project/new/Resampled_Data/20220429/SSE_600248.csv\n",
      "SSE_600248.csv\n"
     ]
    },
    {
     "name": "stderr",
     "output_type": "stream",
     "text": [
      "/tmp/ipykernel_37775/3705381019.py:14: FutureWarning: The frame.append method is deprecated and will be removed from pandas in a future version. Use pandas.concat instead.\n",
      "  concat_df = concat_df.append(temp_df_t.iloc[1], ignore_index = False)\n",
      "/tmp/ipykernel_37775/3705381019.py:14: FutureWarning: The frame.append method is deprecated and will be removed from pandas in a future version. Use pandas.concat instead.\n",
      "  concat_df = concat_df.append(temp_df_t.iloc[1], ignore_index = False)\n",
      "/tmp/ipykernel_37775/3705381019.py:14: FutureWarning: The frame.append method is deprecated and will be removed from pandas in a future version. Use pandas.concat instead.\n",
      "  concat_df = concat_df.append(temp_df_t.iloc[1], ignore_index = False)\n"
     ]
    },
    {
     "name": "stdout",
     "output_type": "stream",
     "text": [
      "/home/ege/Desktop/project/new/Resampled_Data/20220429/SSE_600108.csv\n",
      "SSE_600108.csv\n",
      "/home/ege/Desktop/project/new/Resampled_Data/20220429/SSE_600466.csv\n",
      "SSE_600466.csv\n",
      "/home/ege/Desktop/project/new/Resampled_Data/20220429/SSE_600166.csv\n",
      "SSE_600166.csv\n"
     ]
    },
    {
     "name": "stderr",
     "output_type": "stream",
     "text": [
      "/tmp/ipykernel_37775/3705381019.py:14: FutureWarning: The frame.append method is deprecated and will be removed from pandas in a future version. Use pandas.concat instead.\n",
      "  concat_df = concat_df.append(temp_df_t.iloc[1], ignore_index = False)\n",
      "/tmp/ipykernel_37775/3705381019.py:14: FutureWarning: The frame.append method is deprecated and will be removed from pandas in a future version. Use pandas.concat instead.\n",
      "  concat_df = concat_df.append(temp_df_t.iloc[1], ignore_index = False)\n",
      "/tmp/ipykernel_37775/3705381019.py:14: FutureWarning: The frame.append method is deprecated and will be removed from pandas in a future version. Use pandas.concat instead.\n",
      "  concat_df = concat_df.append(temp_df_t.iloc[1], ignore_index = False)\n"
     ]
    },
    {
     "name": "stdout",
     "output_type": "stream",
     "text": [
      "/home/ege/Desktop/project/new/Resampled_Data/20220429/SSE_600336.csv\n",
      "SSE_600336.csv\n",
      "/home/ege/Desktop/project/new/Resampled_Data/20220429/SSE_600238.csv\n",
      "SSE_600238.csv\n",
      "/home/ege/Desktop/project/new/Resampled_Data/20220429/SSE_600201.csv\n",
      "SSE_600201.csv\n"
     ]
    },
    {
     "name": "stderr",
     "output_type": "stream",
     "text": [
      "/tmp/ipykernel_37775/3705381019.py:14: FutureWarning: The frame.append method is deprecated and will be removed from pandas in a future version. Use pandas.concat instead.\n",
      "  concat_df = concat_df.append(temp_df_t.iloc[1], ignore_index = False)\n",
      "/tmp/ipykernel_37775/3705381019.py:14: FutureWarning: The frame.append method is deprecated and will be removed from pandas in a future version. Use pandas.concat instead.\n",
      "  concat_df = concat_df.append(temp_df_t.iloc[1], ignore_index = False)\n",
      "/tmp/ipykernel_37775/3705381019.py:14: FutureWarning: The frame.append method is deprecated and will be removed from pandas in a future version. Use pandas.concat instead.\n",
      "  concat_df = concat_df.append(temp_df_t.iloc[1], ignore_index = False)\n"
     ]
    },
    {
     "name": "stdout",
     "output_type": "stream",
     "text": [
      "/home/ege/Desktop/project/new/Resampled_Data/20220429/SSE_600467.csv\n",
      "SSE_600467.csv\n",
      "/home/ege/Desktop/project/new/Resampled_Data/20220429/SSE_600162.csv\n",
      "SSE_600162.csv\n",
      "/home/ege/Desktop/project/new/Resampled_Data/20220429/SSE_600256.csv\n",
      "SSE_600256.csv\n"
     ]
    },
    {
     "name": "stderr",
     "output_type": "stream",
     "text": [
      "/tmp/ipykernel_37775/3705381019.py:14: FutureWarning: The frame.append method is deprecated and will be removed from pandas in a future version. Use pandas.concat instead.\n",
      "  concat_df = concat_df.append(temp_df_t.iloc[1], ignore_index = False)\n",
      "/tmp/ipykernel_37775/3705381019.py:14: FutureWarning: The frame.append method is deprecated and will be removed from pandas in a future version. Use pandas.concat instead.\n",
      "  concat_df = concat_df.append(temp_df_t.iloc[1], ignore_index = False)\n",
      "/tmp/ipykernel_37775/3705381019.py:14: FutureWarning: The frame.append method is deprecated and will be removed from pandas in a future version. Use pandas.concat instead.\n",
      "  concat_df = concat_df.append(temp_df_t.iloc[1], ignore_index = False)\n"
     ]
    },
    {
     "name": "stdout",
     "output_type": "stream",
     "text": [
      "/home/ege/Desktop/project/new/Resampled_Data/20220429/SSE_600307.csv\n",
      "SSE_600307.csv\n",
      "/home/ege/Desktop/project/new/Resampled_Data/20220429/SSE_600370.csv\n",
      "SSE_600370.csv\n",
      "/home/ege/Desktop/project/new/Resampled_Data/20220429/SSE_600338.csv\n",
      "SSE_600338.csv\n"
     ]
    },
    {
     "name": "stderr",
     "output_type": "stream",
     "text": [
      "/tmp/ipykernel_37775/3705381019.py:14: FutureWarning: The frame.append method is deprecated and will be removed from pandas in a future version. Use pandas.concat instead.\n",
      "  concat_df = concat_df.append(temp_df_t.iloc[1], ignore_index = False)\n",
      "/tmp/ipykernel_37775/3705381019.py:14: FutureWarning: The frame.append method is deprecated and will be removed from pandas in a future version. Use pandas.concat instead.\n",
      "  concat_df = concat_df.append(temp_df_t.iloc[1], ignore_index = False)\n",
      "/tmp/ipykernel_37775/3705381019.py:14: FutureWarning: The frame.append method is deprecated and will be removed from pandas in a future version. Use pandas.concat instead.\n",
      "  concat_df = concat_df.append(temp_df_t.iloc[1], ignore_index = False)\n"
     ]
    },
    {
     "name": "stdout",
     "output_type": "stream",
     "text": [
      "/home/ege/Desktop/project/new/Resampled_Data/20220429/SSE_600157.csv\n",
      "SSE_600157.csv\n",
      "/home/ege/Desktop/project/new/Resampled_Data/20220429/SSE_600200.csv\n",
      "SSE_600200.csv\n",
      "/home/ege/Desktop/project/new/Resampled_Data/20220429/SSE_600185.csv\n",
      "SSE_600185.csv\n"
     ]
    },
    {
     "name": "stderr",
     "output_type": "stream",
     "text": [
      "/tmp/ipykernel_37775/3705381019.py:14: FutureWarning: The frame.append method is deprecated and will be removed from pandas in a future version. Use pandas.concat instead.\n",
      "  concat_df = concat_df.append(temp_df_t.iloc[1], ignore_index = False)\n",
      "/tmp/ipykernel_37775/3705381019.py:14: FutureWarning: The frame.append method is deprecated and will be removed from pandas in a future version. Use pandas.concat instead.\n",
      "  concat_df = concat_df.append(temp_df_t.iloc[1], ignore_index = False)\n",
      "/tmp/ipykernel_37775/3705381019.py:14: FutureWarning: The frame.append method is deprecated and will be removed from pandas in a future version. Use pandas.concat instead.\n",
      "  concat_df = concat_df.append(temp_df_t.iloc[1], ignore_index = False)\n"
     ]
    },
    {
     "name": "stdout",
     "output_type": "stream",
     "text": [
      "/home/ege/Desktop/project/new/Resampled_Data/20220429/SSE_600383.csv\n",
      "SSE_600383.csv\n",
      "/home/ege/Desktop/project/new/Resampled_Data/20220429/SSE_600516.csv\n",
      "SSE_600516.csv\n",
      "/home/ege/Desktop/project/new/Resampled_Data/20220429/SSE_600276.csv\n",
      "SSE_600276.csv\n"
     ]
    },
    {
     "name": "stderr",
     "output_type": "stream",
     "text": [
      "/tmp/ipykernel_37775/3705381019.py:14: FutureWarning: The frame.append method is deprecated and will be removed from pandas in a future version. Use pandas.concat instead.\n",
      "  concat_df = concat_df.append(temp_df_t.iloc[1], ignore_index = False)\n",
      "/tmp/ipykernel_37775/3705381019.py:14: FutureWarning: The frame.append method is deprecated and will be removed from pandas in a future version. Use pandas.concat instead.\n",
      "  concat_df = concat_df.append(temp_df_t.iloc[1], ignore_index = False)\n",
      "/tmp/ipykernel_37775/3705381019.py:14: FutureWarning: The frame.append method is deprecated and will be removed from pandas in a future version. Use pandas.concat instead.\n",
      "  concat_df = concat_df.append(temp_df_t.iloc[1], ignore_index = False)\n"
     ]
    },
    {
     "name": "stdout",
     "output_type": "stream",
     "text": [
      "/home/ege/Desktop/project/new/Resampled_Data/20220429/SSE_600409.csv\n",
      "SSE_600409.csv\n",
      "/home/ege/Desktop/project/new/Resampled_Data/20220429/SSE_600180.csv\n",
      "SSE_600180.csv\n",
      "/home/ege/Desktop/project/new/Resampled_Data/20220429/SSE_600325.csv\n",
      "SSE_600325.csv\n"
     ]
    },
    {
     "name": "stderr",
     "output_type": "stream",
     "text": [
      "/tmp/ipykernel_37775/3705381019.py:14: FutureWarning: The frame.append method is deprecated and will be removed from pandas in a future version. Use pandas.concat instead.\n",
      "  concat_df = concat_df.append(temp_df_t.iloc[1], ignore_index = False)\n",
      "/tmp/ipykernel_37775/3705381019.py:14: FutureWarning: The frame.append method is deprecated and will be removed from pandas in a future version. Use pandas.concat instead.\n",
      "  concat_df = concat_df.append(temp_df_t.iloc[1], ignore_index = False)\n",
      "/tmp/ipykernel_37775/3705381019.py:14: FutureWarning: The frame.append method is deprecated and will be removed from pandas in a future version. Use pandas.concat instead.\n",
      "  concat_df = concat_df.append(temp_df_t.iloc[1], ignore_index = False)\n"
     ]
    },
    {
     "name": "stdout",
     "output_type": "stream",
     "text": [
      "/home/ege/Desktop/project/new/Resampled_Data/20220429/SSE_600159.csv\n",
      "SSE_600159.csv\n",
      "/home/ege/Desktop/project/new/Resampled_Data/20220429/SSE_600277.csv\n",
      "SSE_600277.csv\n"
     ]
    },
    {
     "name": "stderr",
     "output_type": "stream",
     "text": [
      "/tmp/ipykernel_37775/3705381019.py:14: FutureWarning: The frame.append method is deprecated and will be removed from pandas in a future version. Use pandas.concat instead.\n",
      "  concat_df = concat_df.append(temp_df_t.iloc[1], ignore_index = False)\n",
      "/tmp/ipykernel_37775/3705381019.py:14: FutureWarning: The frame.append method is deprecated and will be removed from pandas in a future version. Use pandas.concat instead.\n",
      "  concat_df = concat_df.append(temp_df_t.iloc[1], ignore_index = False)\n",
      "/tmp/ipykernel_37775/3705381019.py:14: FutureWarning: The frame.append method is deprecated and will be removed from pandas in a future version. Use pandas.concat instead.\n",
      "  concat_df = concat_df.append(temp_df_t.iloc[1], ignore_index = False)\n"
     ]
    },
    {
     "name": "stdout",
     "output_type": "stream",
     "text": [
      "/home/ege/Desktop/project/new/Resampled_Data/20220429/SSE_600282.csv\n",
      "SSE_600282.csv\n",
      "/home/ege/Desktop/project/new/Resampled_Data/20220429/SSE_600438.csv\n",
      "SSE_600438.csv\n",
      "/home/ege/Desktop/project/new/Resampled_Data/20220429/SSE_600313.csv\n",
      "SSE_600313.csv\n",
      "/home/ege/Desktop/project/new/Resampled_Data/20220429/SSE_600367.csv\n",
      "SSE_600367.csv\n",
      "/home/ege/Desktop/project/new/Resampled_Data/20220429/SSE_600328.csv\n",
      "SSE_600328.csv\n"
     ]
    },
    {
     "name": "stderr",
     "output_type": "stream",
     "text": [
      "/tmp/ipykernel_37775/3705381019.py:14: FutureWarning: The frame.append method is deprecated and will be removed from pandas in a future version. Use pandas.concat instead.\n",
      "  concat_df = concat_df.append(temp_df_t.iloc[1], ignore_index = False)\n",
      "/tmp/ipykernel_37775/3705381019.py:14: FutureWarning: The frame.append method is deprecated and will be removed from pandas in a future version. Use pandas.concat instead.\n",
      "  concat_df = concat_df.append(temp_df_t.iloc[1], ignore_index = False)\n",
      "/tmp/ipykernel_37775/3705381019.py:14: FutureWarning: The frame.append method is deprecated and will be removed from pandas in a future version. Use pandas.concat instead.\n",
      "  concat_df = concat_df.append(temp_df_t.iloc[1], ignore_index = False)\n"
     ]
    },
    {
     "name": "stdout",
     "output_type": "stream",
     "text": [
      "/home/ege/Desktop/project/new/Resampled_Data/20220429/SSE_600141.csv\n",
      "SSE_600141.csv\n",
      "/home/ege/Desktop/project/new/Resampled_Data/20220429/SSE_600219.csv\n",
      "SSE_600219.csv\n",
      "/home/ege/Desktop/project/new/Resampled_Data/20220429/SSE_600339.csv\n",
      "SSE_600339.csv\n"
     ]
    },
    {
     "name": "stderr",
     "output_type": "stream",
     "text": [
      "/tmp/ipykernel_37775/3705381019.py:14: FutureWarning: The frame.append method is deprecated and will be removed from pandas in a future version. Use pandas.concat instead.\n",
      "  concat_df = concat_df.append(temp_df_t.iloc[1], ignore_index = False)\n",
      "/tmp/ipykernel_37775/3705381019.py:14: FutureWarning: The frame.append method is deprecated and will be removed from pandas in a future version. Use pandas.concat instead.\n",
      "  concat_df = concat_df.append(temp_df_t.iloc[1], ignore_index = False)\n",
      "/tmp/ipykernel_37775/3705381019.py:14: FutureWarning: The frame.append method is deprecated and will be removed from pandas in a future version. Use pandas.concat instead.\n",
      "  concat_df = concat_df.append(temp_df_t.iloc[1], ignore_index = False)\n"
     ]
    },
    {
     "name": "stdout",
     "output_type": "stream",
     "text": [
      "/home/ege/Desktop/project/new/Resampled_Data/20220429/SSE_600141-checkpoint.csv\n",
      "SSE_600141-checkpoint.csv CHECKPOINT\n",
      "20220421\n",
      "/home/ege/Desktop/project/new/Resampled_Data/20220421/SSE_600322.csv\n",
      "SSE_600322.csv\n",
      "/home/ege/Desktop/project/new/Resampled_Data/20220421/SSE_600354.csv\n",
      "SSE_600354.csv\n"
     ]
    },
    {
     "name": "stderr",
     "output_type": "stream",
     "text": [
      "/tmp/ipykernel_37775/3705381019.py:14: FutureWarning: The frame.append method is deprecated and will be removed from pandas in a future version. Use pandas.concat instead.\n",
      "  concat_df = concat_df.append(temp_df_t.iloc[1], ignore_index = False)\n",
      "/tmp/ipykernel_37775/3705381019.py:14: FutureWarning: The frame.append method is deprecated and will be removed from pandas in a future version. Use pandas.concat instead.\n",
      "  concat_df = concat_df.append(temp_df_t.iloc[1], ignore_index = False)\n"
     ]
    },
    {
     "name": "stdout",
     "output_type": "stream",
     "text": [
      "/home/ege/Desktop/project/new/Resampled_Data/20220421/SSE_600521.csv\n",
      "SSE_600521.csv\n",
      "/home/ege/Desktop/project/new/Resampled_Data/20220421/SSE_600606.csv\n",
      "SSE_600606.csv\n"
     ]
    },
    {
     "name": "stderr",
     "output_type": "stream",
     "text": [
      "/tmp/ipykernel_37775/3705381019.py:14: FutureWarning: The frame.append method is deprecated and will be removed from pandas in a future version. Use pandas.concat instead.\n",
      "  concat_df = concat_df.append(temp_df_t.iloc[1], ignore_index = False)\n",
      "/tmp/ipykernel_37775/3705381019.py:14: FutureWarning: The frame.append method is deprecated and will be removed from pandas in a future version. Use pandas.concat instead.\n",
      "  concat_df = concat_df.append(temp_df_t.iloc[1], ignore_index = False)\n"
     ]
    },
    {
     "name": "stdout",
     "output_type": "stream",
     "text": [
      "/home/ege/Desktop/project/new/Resampled_Data/20220421/SSE_600176.csv\n",
      "SSE_600176.csv\n",
      "/home/ege/Desktop/project/new/Resampled_Data/20220421/SSE_600502.csv\n",
      "SSE_600502.csv\n",
      "/home/ege/Desktop/project/new/Resampled_Data/20220421/SSE_600499.csv\n",
      "SSE_600499.csv\n"
     ]
    },
    {
     "name": "stderr",
     "output_type": "stream",
     "text": [
      "/tmp/ipykernel_37775/3705381019.py:14: FutureWarning: The frame.append method is deprecated and will be removed from pandas in a future version. Use pandas.concat instead.\n",
      "  concat_df = concat_df.append(temp_df_t.iloc[1], ignore_index = False)\n",
      "/tmp/ipykernel_37775/3705381019.py:14: FutureWarning: The frame.append method is deprecated and will be removed from pandas in a future version. Use pandas.concat instead.\n",
      "  concat_df = concat_df.append(temp_df_t.iloc[1], ignore_index = False)\n",
      "/tmp/ipykernel_37775/3705381019.py:14: FutureWarning: The frame.append method is deprecated and will be removed from pandas in a future version. Use pandas.concat instead.\n",
      "  concat_df = concat_df.append(temp_df_t.iloc[1], ignore_index = False)\n"
     ]
    },
    {
     "name": "stdout",
     "output_type": "stream",
     "text": [
      "/home/ege/Desktop/project/new/Resampled_Data/20220421/SSE_600512.csv\n",
      "SSE_600512.csv\n",
      "/home/ege/Desktop/project/new/Resampled_Data/20220421/SSE_600170.csv\n",
      "SSE_600170.csv\n",
      "/home/ege/Desktop/project/new/Resampled_Data/20220421/SSE_600397.csv\n",
      "SSE_600397.csv\n"
     ]
    },
    {
     "name": "stderr",
     "output_type": "stream",
     "text": [
      "/tmp/ipykernel_37775/3705381019.py:14: FutureWarning: The frame.append method is deprecated and will be removed from pandas in a future version. Use pandas.concat instead.\n",
      "  concat_df = concat_df.append(temp_df_t.iloc[1], ignore_index = False)\n",
      "/tmp/ipykernel_37775/3705381019.py:14: FutureWarning: The frame.append method is deprecated and will be removed from pandas in a future version. Use pandas.concat instead.\n",
      "  concat_df = concat_df.append(temp_df_t.iloc[1], ignore_index = False)\n",
      "/tmp/ipykernel_37775/3705381019.py:14: FutureWarning: The frame.append method is deprecated and will be removed from pandas in a future version. Use pandas.concat instead.\n",
      "  concat_df = concat_df.append(temp_df_t.iloc[1], ignore_index = False)\n"
     ]
    },
    {
     "name": "stdout",
     "output_type": "stream",
     "text": [
      "/home/ege/Desktop/project/new/Resampled_Data/20220421/SSE_600335.csv\n",
      "SSE_600335.csv\n",
      "/home/ege/Desktop/project/new/Resampled_Data/20220421/SSE_600616.csv\n",
      "SSE_600616.csv\n",
      "/home/ege/Desktop/project/new/Resampled_Data/20220421/SSE_600588.csv\n",
      "SSE_600588.csv\n"
     ]
    },
    {
     "name": "stderr",
     "output_type": "stream",
     "text": [
      "/tmp/ipykernel_37775/3705381019.py:14: FutureWarning: The frame.append method is deprecated and will be removed from pandas in a future version. Use pandas.concat instead.\n",
      "  concat_df = concat_df.append(temp_df_t.iloc[1], ignore_index = False)\n",
      "/tmp/ipykernel_37775/3705381019.py:14: FutureWarning: The frame.append method is deprecated and will be removed from pandas in a future version. Use pandas.concat instead.\n",
      "  concat_df = concat_df.append(temp_df_t.iloc[1], ignore_index = False)\n",
      "/tmp/ipykernel_37775/3705381019.py:14: FutureWarning: The frame.append method is deprecated and will be removed from pandas in a future version. Use pandas.concat instead.\n",
      "  concat_df = concat_df.append(temp_df_t.iloc[1], ignore_index = False)\n"
     ]
    },
    {
     "name": "stdout",
     "output_type": "stream",
     "text": [
      "/home/ege/Desktop/project/new/Resampled_Data/20220421/SSE_600359.csv\n",
      "SSE_600359.csv\n",
      "/home/ege/Desktop/project/new/Resampled_Data/20220421/SSE_600487.csv\n",
      "SSE_600487.csv\n"
     ]
    },
    {
     "name": "stderr",
     "output_type": "stream",
     "text": [
      "/tmp/ipykernel_37775/3705381019.py:14: FutureWarning: The frame.append method is deprecated and will be removed from pandas in a future version. Use pandas.concat instead.\n",
      "  concat_df = concat_df.append(temp_df_t.iloc[1], ignore_index = False)\n",
      "/tmp/ipykernel_37775/3705381019.py:14: FutureWarning: The frame.append method is deprecated and will be removed from pandas in a future version. Use pandas.concat instead.\n",
      "  concat_df = concat_df.append(temp_df_t.iloc[1], ignore_index = False)\n"
     ]
    },
    {
     "name": "stdout",
     "output_type": "stream",
     "text": [
      "/home/ege/Desktop/project/new/Resampled_Data/20220421/SSE_600366.csv\n",
      "SSE_600366.csv\n",
      "/home/ege/Desktop/project/new/Resampled_Data/20220421/SSE_600425.csv\n",
      "SSE_600425.csv\n"
     ]
    },
    {
     "name": "stderr",
     "output_type": "stream",
     "text": [
      "/tmp/ipykernel_37775/3705381019.py:14: FutureWarning: The frame.append method is deprecated and will be removed from pandas in a future version. Use pandas.concat instead.\n",
      "  concat_df = concat_df.append(temp_df_t.iloc[1], ignore_index = False)\n",
      "/tmp/ipykernel_37775/3705381019.py:14: FutureWarning: The frame.append method is deprecated and will be removed from pandas in a future version. Use pandas.concat instead.\n",
      "  concat_df = concat_df.append(temp_df_t.iloc[1], ignore_index = False)\n"
     ]
    },
    {
     "name": "stdout",
     "output_type": "stream",
     "text": [
      "/home/ege/Desktop/project/new/Resampled_Data/20220421/SSE_600448.csv\n",
      "SSE_600448.csv\n",
      "/home/ege/Desktop/project/new/Resampled_Data/20220421/SSE_600330.csv\n",
      "SSE_600330.csv\n",
      "/home/ege/Desktop/project/new/Resampled_Data/20220421/SSE_600704.csv\n",
      "SSE_600704.csv\n"
     ]
    },
    {
     "name": "stderr",
     "output_type": "stream",
     "text": [
      "/tmp/ipykernel_37775/3705381019.py:14: FutureWarning: The frame.append method is deprecated and will be removed from pandas in a future version. Use pandas.concat instead.\n",
      "  concat_df = concat_df.append(temp_df_t.iloc[1], ignore_index = False)\n",
      "/tmp/ipykernel_37775/3705381019.py:14: FutureWarning: The frame.append method is deprecated and will be removed from pandas in a future version. Use pandas.concat instead.\n",
      "  concat_df = concat_df.append(temp_df_t.iloc[1], ignore_index = False)\n",
      "/tmp/ipykernel_37775/3705381019.py:14: FutureWarning: The frame.append method is deprecated and will be removed from pandas in a future version. Use pandas.concat instead.\n",
      "  concat_df = concat_df.append(temp_df_t.iloc[1], ignore_index = False)\n"
     ]
    },
    {
     "name": "stdout",
     "output_type": "stream",
     "text": [
      "/home/ege/Desktop/project/new/Resampled_Data/20220421/SSE_600396.csv\n",
      "SSE_600396.csv\n",
      "/home/ege/Desktop/project/new/Resampled_Data/20220421/SSE_600533.csv\n",
      "SSE_600533.csv\n"
     ]
    },
    {
     "name": "stderr",
     "output_type": "stream",
     "text": [
      "/tmp/ipykernel_37775/3705381019.py:14: FutureWarning: The frame.append method is deprecated and will be removed from pandas in a future version. Use pandas.concat instead.\n",
      "  concat_df = concat_df.append(temp_df_t.iloc[1], ignore_index = False)\n",
      "/tmp/ipykernel_37775/3705381019.py:14: FutureWarning: The frame.append method is deprecated and will be removed from pandas in a future version. Use pandas.concat instead.\n",
      "  concat_df = concat_df.append(temp_df_t.iloc[1], ignore_index = False)\n"
     ]
    },
    {
     "name": "stdout",
     "output_type": "stream",
     "text": [
      "/home/ege/Desktop/project/new/Resampled_Data/20220421/SSE_600705.csv\n",
      "SSE_600705.csv\n",
      "/home/ege/Desktop/project/new/Resampled_Data/20220421/SSE_600428.csv\n",
      "SSE_600428.csv\n"
     ]
    },
    {
     "name": "stderr",
     "output_type": "stream",
     "text": [
      "/tmp/ipykernel_37775/3705381019.py:14: FutureWarning: The frame.append method is deprecated and will be removed from pandas in a future version. Use pandas.concat instead.\n",
      "  concat_df = concat_df.append(temp_df_t.iloc[1], ignore_index = False)\n",
      "/tmp/ipykernel_37775/3705381019.py:14: FutureWarning: The frame.append method is deprecated and will be removed from pandas in a future version. Use pandas.concat instead.\n",
      "  concat_df = concat_df.append(temp_df_t.iloc[1], ignore_index = False)\n"
     ]
    },
    {
     "name": "stdout",
     "output_type": "stream",
     "text": [
      "/home/ege/Desktop/project/new/Resampled_Data/20220421/SSE_600331.csv\n",
      "SSE_600331.csv\n",
      "/home/ege/Desktop/project/new/Resampled_Data/20220421/SSE_600699.csv\n",
      "SSE_600699.csv\n"
     ]
    },
    {
     "name": "stderr",
     "output_type": "stream",
     "text": [
      "/tmp/ipykernel_37775/3705381019.py:14: FutureWarning: The frame.append method is deprecated and will be removed from pandas in a future version. Use pandas.concat instead.\n",
      "  concat_df = concat_df.append(temp_df_t.iloc[1], ignore_index = False)\n",
      "/tmp/ipykernel_37775/3705381019.py:14: FutureWarning: The frame.append method is deprecated and will be removed from pandas in a future version. Use pandas.concat instead.\n",
      "  concat_df = concat_df.append(temp_df_t.iloc[1], ignore_index = False)\n"
     ]
    },
    {
     "name": "stdout",
     "output_type": "stream",
     "text": [
      "/home/ege/Desktop/project/new/Resampled_Data/20220421/SSE_600675.csv\n",
      "SSE_600675.csv\n",
      "/home/ege/Desktop/project/new/Resampled_Data/20220421/SSE_600395.csv\n",
      "SSE_600395.csv\n"
     ]
    },
    {
     "name": "stderr",
     "output_type": "stream",
     "text": [
      "/tmp/ipykernel_37775/3705381019.py:14: FutureWarning: The frame.append method is deprecated and will be removed from pandas in a future version. Use pandas.concat instead.\n",
      "  concat_df = concat_df.append(temp_df_t.iloc[1], ignore_index = False)\n",
      "/tmp/ipykernel_37775/3705381019.py:14: FutureWarning: The frame.append method is deprecated and will be removed from pandas in a future version. Use pandas.concat instead.\n",
      "  concat_df = concat_df.append(temp_df_t.iloc[1], ignore_index = False)\n"
     ]
    },
    {
     "name": "stdout",
     "output_type": "stream",
     "text": [
      "/home/ege/Desktop/project/new/Resampled_Data/20220421/SSE_600546.csv\n",
      "SSE_600546.csv\n",
      "/home/ege/Desktop/project/new/Resampled_Data/20220421/SSE_600312.csv\n",
      "SSE_600312.csv\n"
     ]
    },
    {
     "name": "stderr",
     "output_type": "stream",
     "text": [
      "/tmp/ipykernel_37775/3705381019.py:14: FutureWarning: The frame.append method is deprecated and will be removed from pandas in a future version. Use pandas.concat instead.\n",
      "  concat_df = concat_df.append(temp_df_t.iloc[1], ignore_index = False)\n",
      "/tmp/ipykernel_37775/3705381019.py:14: FutureWarning: The frame.append method is deprecated and will be removed from pandas in a future version. Use pandas.concat instead.\n",
      "  concat_df = concat_df.append(temp_df_t.iloc[1], ignore_index = False)\n"
     ]
    },
    {
     "name": "stdout",
     "output_type": "stream",
     "text": [
      "/home/ege/Desktop/project/new/Resampled_Data/20220421/SSE_600497.csv\n",
      "SSE_600497.csv\n",
      "/home/ege/Desktop/project/new/Resampled_Data/20220421/SSE_600684.csv\n",
      "SSE_600684.csv\n"
     ]
    },
    {
     "name": "stderr",
     "output_type": "stream",
     "text": [
      "/tmp/ipykernel_37775/3705381019.py:14: FutureWarning: The frame.append method is deprecated and will be removed from pandas in a future version. Use pandas.concat instead.\n",
      "  concat_df = concat_df.append(temp_df_t.iloc[1], ignore_index = False)\n",
      "/tmp/ipykernel_37775/3705381019.py:14: FutureWarning: The frame.append method is deprecated and will be removed from pandas in a future version. Use pandas.concat instead.\n",
      "  concat_df = concat_df.append(temp_df_t.iloc[1], ignore_index = False)\n"
     ]
    },
    {
     "name": "stdout",
     "output_type": "stream",
     "text": [
      "/home/ege/Desktop/project/new/Resampled_Data/20220421/SSE_600163.csv\n",
      "SSE_600163.csv\n",
      "/home/ege/Desktop/project/new/Resampled_Data/20220421/SSE_600491.csv\n",
      "SSE_600491.csv\n"
     ]
    },
    {
     "name": "stderr",
     "output_type": "stream",
     "text": [
      "/tmp/ipykernel_37775/3705381019.py:14: FutureWarning: The frame.append method is deprecated and will be removed from pandas in a future version. Use pandas.concat instead.\n",
      "  concat_df = concat_df.append(temp_df_t.iloc[1], ignore_index = False)\n",
      "/tmp/ipykernel_37775/3705381019.py:14: FutureWarning: The frame.append method is deprecated and will be removed from pandas in a future version. Use pandas.concat instead.\n",
      "  concat_df = concat_df.append(temp_df_t.iloc[1], ignore_index = False)\n"
     ]
    },
    {
     "name": "stdout",
     "output_type": "stream",
     "text": [
      "/home/ege/Desktop/project/new/Resampled_Data/20220421/SSE_600172.csv\n",
      "SSE_600172.csv\n",
      "/home/ege/Desktop/project/new/Resampled_Data/20220421/SSE_600489.csv\n",
      "SSE_600489.csv\n"
     ]
    },
    {
     "name": "stderr",
     "output_type": "stream",
     "text": [
      "/tmp/ipykernel_37775/3705381019.py:14: FutureWarning: The frame.append method is deprecated and will be removed from pandas in a future version. Use pandas.concat instead.\n",
      "  concat_df = concat_df.append(temp_df_t.iloc[1], ignore_index = False)\n",
      "/tmp/ipykernel_37775/3705381019.py:14: FutureWarning: The frame.append method is deprecated and will be removed from pandas in a future version. Use pandas.concat instead.\n",
      "  concat_df = concat_df.append(temp_df_t.iloc[1], ignore_index = False)\n"
     ]
    },
    {
     "name": "stdout",
     "output_type": "stream",
     "text": [
      "/home/ege/Desktop/project/new/Resampled_Data/20220421/SSE_600559.csv\n",
      "SSE_600559.csv\n",
      "/home/ege/Desktop/project/new/Resampled_Data/20220421/SSE_600683.csv\n",
      "SSE_600683.csv\n"
     ]
    },
    {
     "name": "stderr",
     "output_type": "stream",
     "text": [
      "/tmp/ipykernel_37775/3705381019.py:14: FutureWarning: The frame.append method is deprecated and will be removed from pandas in a future version. Use pandas.concat instead.\n",
      "  concat_df = concat_df.append(temp_df_t.iloc[1], ignore_index = False)\n",
      "/tmp/ipykernel_37775/3705381019.py:14: FutureWarning: The frame.append method is deprecated and will be removed from pandas in a future version. Use pandas.concat instead.\n",
      "  concat_df = concat_df.append(temp_df_t.iloc[1], ignore_index = False)\n"
     ]
    },
    {
     "name": "stdout",
     "output_type": "stream",
     "text": [
      "/home/ege/Desktop/project/new/Resampled_Data/20220421/SSE_600418.csv\n",
      "SSE_600418.csv\n",
      "/home/ege/Desktop/project/new/Resampled_Data/20220421/SSE_600649.csv\n",
      "SSE_600649.csv\n"
     ]
    },
    {
     "name": "stderr",
     "output_type": "stream",
     "text": [
      "/tmp/ipykernel_37775/3705381019.py:14: FutureWarning: The frame.append method is deprecated and will be removed from pandas in a future version. Use pandas.concat instead.\n",
      "  concat_df = concat_df.append(temp_df_t.iloc[1], ignore_index = False)\n",
      "/tmp/ipykernel_37775/3705381019.py:14: FutureWarning: The frame.append method is deprecated and will be removed from pandas in a future version. Use pandas.concat instead.\n",
      "  concat_df = concat_df.append(temp_df_t.iloc[1], ignore_index = False)\n"
     ]
    },
    {
     "name": "stdout",
     "output_type": "stream",
     "text": [
      "/home/ege/Desktop/project/new/Resampled_Data/20220421/SSE_600470.csv\n",
      "SSE_600470.csv\n",
      "/home/ege/Desktop/project/new/Resampled_Data/20220421/SSE_600572.csv\n",
      "SSE_600572.csv\n"
     ]
    },
    {
     "name": "stderr",
     "output_type": "stream",
     "text": [
      "/tmp/ipykernel_37775/3705381019.py:14: FutureWarning: The frame.append method is deprecated and will be removed from pandas in a future version. Use pandas.concat instead.\n",
      "  concat_df = concat_df.append(temp_df_t.iloc[1], ignore_index = False)\n",
      "/tmp/ipykernel_37775/3705381019.py:14: FutureWarning: The frame.append method is deprecated and will be removed from pandas in a future version. Use pandas.concat instead.\n",
      "  concat_df = concat_df.append(temp_df_t.iloc[1], ignore_index = False)\n"
     ]
    },
    {
     "name": "stdout",
     "output_type": "stream",
     "text": [
      "/home/ege/Desktop/project/new/Resampled_Data/20220421/SSE_600466.csv\n",
      "SSE_600466.csv\n",
      "/home/ege/Desktop/project/new/Resampled_Data/20220421/SSE_600336.csv\n",
      "SSE_600336.csv\n"
     ]
    },
    {
     "name": "stderr",
     "output_type": "stream",
     "text": [
      "/tmp/ipykernel_37775/3705381019.py:14: FutureWarning: The frame.append method is deprecated and will be removed from pandas in a future version. Use pandas.concat instead.\n",
      "  concat_df = concat_df.append(temp_df_t.iloc[1], ignore_index = False)\n",
      "/tmp/ipykernel_37775/3705381019.py:14: FutureWarning: The frame.append method is deprecated and will be removed from pandas in a future version. Use pandas.concat instead.\n",
      "  concat_df = concat_df.append(temp_df_t.iloc[1], ignore_index = False)\n"
     ]
    },
    {
     "name": "stdout",
     "output_type": "stream",
     "text": [
      "/home/ege/Desktop/project/new/Resampled_Data/20220421/SSE_600581.csv\n",
      "SSE_600581.csv\n",
      "/home/ege/Desktop/project/new/Resampled_Data/20220421/SSE_600690.csv\n",
      "SSE_600690.csv\n"
     ]
    },
    {
     "name": "stderr",
     "output_type": "stream",
     "text": [
      "/tmp/ipykernel_37775/3705381019.py:14: FutureWarning: The frame.append method is deprecated and will be removed from pandas in a future version. Use pandas.concat instead.\n",
      "  concat_df = concat_df.append(temp_df_t.iloc[1], ignore_index = False)\n",
      "/tmp/ipykernel_37775/3705381019.py:14: FutureWarning: The frame.append method is deprecated and will be removed from pandas in a future version. Use pandas.concat instead.\n",
      "  concat_df = concat_df.append(temp_df_t.iloc[1], ignore_index = False)\n"
     ]
    },
    {
     "name": "stdout",
     "output_type": "stream",
     "text": [
      "/home/ege/Desktop/project/new/Resampled_Data/20220421/SSE_600698.csv\n",
      "SSE_600698.csv\n",
      "/home/ege/Desktop/project/new/Resampled_Data/20220421/SSE_600467.csv\n",
      "SSE_600467.csv\n"
     ]
    },
    {
     "name": "stderr",
     "output_type": "stream",
     "text": [
      "/tmp/ipykernel_37775/3705381019.py:14: FutureWarning: The frame.append method is deprecated and will be removed from pandas in a future version. Use pandas.concat instead.\n",
      "  concat_df = concat_df.append(temp_df_t.iloc[1], ignore_index = False)\n",
      "/tmp/ipykernel_37775/3705381019.py:14: FutureWarning: The frame.append method is deprecated and will be removed from pandas in a future version. Use pandas.concat instead.\n",
      "  concat_df = concat_df.append(temp_df_t.iloc[1], ignore_index = False)\n"
     ]
    },
    {
     "name": "stdout",
     "output_type": "stream",
     "text": [
      "/home/ege/Desktop/project/new/Resampled_Data/20220421/SSE_600162.csv\n",
      "SSE_600162.csv\n",
      "/home/ege/Desktop/project/new/Resampled_Data/20220421/SSE_600653.csv\n",
      "SSE_600653.csv\n"
     ]
    },
    {
     "name": "stderr",
     "output_type": "stream",
     "text": [
      "/tmp/ipykernel_37775/3705381019.py:14: FutureWarning: The frame.append method is deprecated and will be removed from pandas in a future version. Use pandas.concat instead.\n",
      "  concat_df = concat_df.append(temp_df_t.iloc[1], ignore_index = False)\n",
      "/tmp/ipykernel_37775/3705381019.py:14: FutureWarning: The frame.append method is deprecated and will be removed from pandas in a future version. Use pandas.concat instead.\n",
      "  concat_df = concat_df.append(temp_df_t.iloc[1], ignore_index = False)\n"
     ]
    },
    {
     "name": "stdout",
     "output_type": "stream",
     "text": [
      "/home/ege/Desktop/project/new/Resampled_Data/20220421/SSE_600577.csv\n",
      "SSE_600577.csv\n",
      "/home/ege/Desktop/project/new/Resampled_Data/20220421/SSE_600370.csv\n",
      "SSE_600370.csv\n"
     ]
    },
    {
     "name": "stderr",
     "output_type": "stream",
     "text": [
      "/tmp/ipykernel_37775/3705381019.py:14: FutureWarning: The frame.append method is deprecated and will be removed from pandas in a future version. Use pandas.concat instead.\n",
      "  concat_df = concat_df.append(temp_df_t.iloc[1], ignore_index = False)\n",
      "/tmp/ipykernel_37775/3705381019.py:14: FutureWarning: The frame.append method is deprecated and will be removed from pandas in a future version. Use pandas.concat instead.\n",
      "  concat_df = concat_df.append(temp_df_t.iloc[1], ignore_index = False)\n"
     ]
    },
    {
     "name": "stdout",
     "output_type": "stream",
     "text": [
      "/home/ege/Desktop/project/new/Resampled_Data/20220421/SSE_600338.csv\n",
      "SSE_600338.csv\n",
      "/home/ege/Desktop/project/new/Resampled_Data/20220421/SSE_600582.csv\n",
      "SSE_600582.csv\n"
     ]
    },
    {
     "name": "stderr",
     "output_type": "stream",
     "text": [
      "/tmp/ipykernel_37775/3705381019.py:14: FutureWarning: The frame.append method is deprecated and will be removed from pandas in a future version. Use pandas.concat instead.\n",
      "  concat_df = concat_df.append(temp_df_t.iloc[1], ignore_index = False)\n",
      "/tmp/ipykernel_37775/3705381019.py:14: FutureWarning: The frame.append method is deprecated and will be removed from pandas in a future version. Use pandas.concat instead.\n",
      "  concat_df = concat_df.append(temp_df_t.iloc[1], ignore_index = False)\n"
     ]
    },
    {
     "name": "stdout",
     "output_type": "stream",
     "text": [
      "/home/ege/Desktop/project/new/Resampled_Data/20220421/SSE_600383.csv\n",
      "SSE_600383.csv\n",
      "/home/ege/Desktop/project/new/Resampled_Data/20220421/SSE_600516.csv\n",
      "SSE_600516.csv\n"
     ]
    },
    {
     "name": "stderr",
     "output_type": "stream",
     "text": [
      "/tmp/ipykernel_37775/3705381019.py:14: FutureWarning: The frame.append method is deprecated and will be removed from pandas in a future version. Use pandas.concat instead.\n",
      "  concat_df = concat_df.append(temp_df_t.iloc[1], ignore_index = False)\n",
      "/tmp/ipykernel_37775/3705381019.py:14: FutureWarning: The frame.append method is deprecated and will be removed from pandas in a future version. Use pandas.concat instead.\n",
      "  concat_df = concat_df.append(temp_df_t.iloc[1], ignore_index = False)\n"
     ]
    },
    {
     "name": "stdout",
     "output_type": "stream",
     "text": [
      "/home/ege/Desktop/project/new/Resampled_Data/20220421/SSE_600596.csv\n",
      "SSE_600596.csv\n",
      "/home/ege/Desktop/project/new/Resampled_Data/20220421/SSE_600409.csv\n",
      "SSE_600409.csv\n"
     ]
    },
    {
     "name": "stderr",
     "output_type": "stream",
     "text": [
      "/tmp/ipykernel_37775/3705381019.py:14: FutureWarning: The frame.append method is deprecated and will be removed from pandas in a future version. Use pandas.concat instead.\n",
      "  concat_df = concat_df.append(temp_df_t.iloc[1], ignore_index = False)\n",
      "/tmp/ipykernel_37775/3705381019.py:14: FutureWarning: The frame.append method is deprecated and will be removed from pandas in a future version. Use pandas.concat instead.\n",
      "  concat_df = concat_df.append(temp_df_t.iloc[1], ignore_index = False)\n"
     ]
    },
    {
     "name": "stdout",
     "output_type": "stream",
     "text": [
      "/home/ege/Desktop/project/new/Resampled_Data/20220421/SSE_600180.csv\n",
      "SSE_600180.csv\n",
      "/home/ege/Desktop/project/new/Resampled_Data/20220421/SSE_600325.csv\n",
      "SSE_600325.csv\n"
     ]
    },
    {
     "name": "stderr",
     "output_type": "stream",
     "text": [
      "/tmp/ipykernel_37775/3705381019.py:14: FutureWarning: The frame.append method is deprecated and will be removed from pandas in a future version. Use pandas.concat instead.\n",
      "  concat_df = concat_df.append(temp_df_t.iloc[1], ignore_index = False)\n",
      "/tmp/ipykernel_37775/3705381019.py:14: FutureWarning: The frame.append method is deprecated and will be removed from pandas in a future version. Use pandas.concat instead.\n",
      "  concat_df = concat_df.append(temp_df_t.iloc[1], ignore_index = False)\n"
     ]
    },
    {
     "name": "stdout",
     "output_type": "stream",
     "text": [
      "/home/ege/Desktop/project/new/Resampled_Data/20220421/SSE_600159.csv\n",
      "SSE_600159.csv\n",
      "/home/ege/Desktop/project/new/Resampled_Data/20220421/SSE_600703.csv\n",
      "SSE_600703.csv\n"
     ]
    },
    {
     "name": "stderr",
     "output_type": "stream",
     "text": [
      "/tmp/ipykernel_37775/3705381019.py:14: FutureWarning: The frame.append method is deprecated and will be removed from pandas in a future version. Use pandas.concat instead.\n",
      "  concat_df = concat_df.append(temp_df_t.iloc[1], ignore_index = False)\n",
      "/tmp/ipykernel_37775/3705381019.py:14: FutureWarning: The frame.append method is deprecated and will be removed from pandas in a future version. Use pandas.concat instead.\n",
      "  concat_df = concat_df.append(temp_df_t.iloc[1], ignore_index = False)\n"
     ]
    },
    {
     "name": "stdout",
     "output_type": "stream",
     "text": [
      "/home/ege/Desktop/project/new/Resampled_Data/20220421/SSE_600598.csv\n",
      "SSE_600598.csv\n",
      "/home/ege/Desktop/project/new/Resampled_Data/20220421/SSE_600657.csv\n",
      "SSE_600657.csv\n"
     ]
    },
    {
     "name": "stderr",
     "output_type": "stream",
     "text": [
      "/tmp/ipykernel_37775/3705381019.py:14: FutureWarning: The frame.append method is deprecated and will be removed from pandas in a future version. Use pandas.concat instead.\n",
      "  concat_df = concat_df.append(temp_df_t.iloc[1], ignore_index = False)\n",
      "/tmp/ipykernel_37775/3705381019.py:14: FutureWarning: The frame.append method is deprecated and will be removed from pandas in a future version. Use pandas.concat instead.\n",
      "  concat_df = concat_df.append(temp_df_t.iloc[1], ignore_index = False)\n"
     ]
    },
    {
     "name": "stdout",
     "output_type": "stream",
     "text": [
      "/home/ege/Desktop/project/new/Resampled_Data/20220421/SSE_600575.csv\n",
      "SSE_600575.csv\n",
      "/home/ege/Desktop/project/new/Resampled_Data/20220421/SSE_600438.csv\n",
      "SSE_600438.csv\n"
     ]
    },
    {
     "name": "stderr",
     "output_type": "stream",
     "text": [
      "/tmp/ipykernel_37775/3705381019.py:14: FutureWarning: The frame.append method is deprecated and will be removed from pandas in a future version. Use pandas.concat instead.\n",
      "  concat_df = concat_df.append(temp_df_t.iloc[1], ignore_index = False)\n",
      "/tmp/ipykernel_37775/3705381019.py:14: FutureWarning: The frame.append method is deprecated and will be removed from pandas in a future version. Use pandas.concat instead.\n",
      "  concat_df = concat_df.append(temp_df_t.iloc[1], ignore_index = False)\n"
     ]
    },
    {
     "name": "stdout",
     "output_type": "stream",
     "text": [
      "/home/ege/Desktop/project/new/Resampled_Data/20220421/SSE_600522.csv\n",
      "SSE_600522.csv\n",
      "/home/ege/Desktop/project/new/Resampled_Data/20220421/SSE_600367.csv\n",
      "SSE_600367.csv\n"
     ]
    },
    {
     "name": "stderr",
     "output_type": "stream",
     "text": [
      "/tmp/ipykernel_37775/3705381019.py:14: FutureWarning: The frame.append method is deprecated and will be removed from pandas in a future version. Use pandas.concat instead.\n",
      "  concat_df = concat_df.append(temp_df_t.iloc[1], ignore_index = False)\n",
      "/tmp/ipykernel_37775/3705381019.py:14: FutureWarning: The frame.append method is deprecated and will be removed from pandas in a future version. Use pandas.concat instead.\n",
      "  concat_df = concat_df.append(temp_df_t.iloc[1], ignore_index = False)\n"
     ]
    },
    {
     "name": "stdout",
     "output_type": "stream",
     "text": [
      "/home/ege/Desktop/project/new/Resampled_Data/20220421/SSE_600328.csv\n",
      "SSE_600328.csv\n",
      "/home/ege/Desktop/project/new/Resampled_Data/20220421/SSE_600628.csv\n",
      "SSE_600628.csv\n"
     ]
    },
    {
     "name": "stderr",
     "output_type": "stream",
     "text": [
      "/tmp/ipykernel_37775/3705381019.py:14: FutureWarning: The frame.append method is deprecated and will be removed from pandas in a future version. Use pandas.concat instead.\n",
      "  concat_df = concat_df.append(temp_df_t.iloc[1], ignore_index = False)\n",
      "/tmp/ipykernel_37775/3705381019.py:14: FutureWarning: The frame.append method is deprecated and will be removed from pandas in a future version. Use pandas.concat instead.\n",
      "  concat_df = concat_df.append(temp_df_t.iloc[1], ignore_index = False)\n"
     ]
    },
    {
     "name": "stdout",
     "output_type": "stream",
     "text": [
      "/home/ege/Desktop/project/new/Resampled_Data/20220421/SSE_600339.csv\n",
      "SSE_600339.csv\n",
      "/home/ege/Desktop/project/new/Resampled_Data/20220421/SSE_600686.csv\n",
      "SSE_600686.csv\n"
     ]
    },
    {
     "name": "stderr",
     "output_type": "stream",
     "text": [
      "/tmp/ipykernel_37775/3705381019.py:14: FutureWarning: The frame.append method is deprecated and will be removed from pandas in a future version. Use pandas.concat instead.\n",
      "  concat_df = concat_df.append(temp_df_t.iloc[1], ignore_index = False)\n",
      "/tmp/ipykernel_37775/3705381019.py:14: FutureWarning: The frame.append method is deprecated and will be removed from pandas in a future version. Use pandas.concat instead.\n",
      "  concat_df = concat_df.append(temp_df_t.iloc[1], ignore_index = False)\n"
     ]
    },
    {
     "name": "stdout",
     "output_type": "stream",
     "text": [
      "/home/ege/Desktop/project/new/Resampled_Data/20220421/SSE_600569.csv\n",
      "SSE_600569.csv\n",
      "/home/ege/Desktop/project/new/Resampled_Data/20220421/SSE_600163-checkpoint.csv\n",
      "SSE_600163-checkpoint.csv CHECKPOINT\n",
      "/home/ege/Desktop/project/new/Resampled_Data/20220421/SSE_600328-checkpoint.csv\n",
      "SSE_600328-checkpoint.csv CHECKPOINT\n",
      "20220426\n",
      "/home/ege/Desktop/project/new/Resampled_Data/20220426/SSE_600322.csv\n",
      "SSE_600322.csv\n"
     ]
    },
    {
     "name": "stderr",
     "output_type": "stream",
     "text": [
      "/tmp/ipykernel_37775/3705381019.py:14: FutureWarning: The frame.append method is deprecated and will be removed from pandas in a future version. Use pandas.concat instead.\n",
      "  concat_df = concat_df.append(temp_df_t.iloc[1], ignore_index = False)\n",
      "/tmp/ipykernel_37775/3705381019.py:14: FutureWarning: The frame.append method is deprecated and will be removed from pandas in a future version. Use pandas.concat instead.\n",
      "  concat_df = concat_df.append(temp_df_t.iloc[1], ignore_index = False)\n"
     ]
    },
    {
     "name": "stdout",
     "output_type": "stream",
     "text": [
      "/home/ege/Desktop/project/new/Resampled_Data/20220426/SSE_600153.csv\n",
      "SSE_600153.csv\n",
      "/home/ege/Desktop/project/new/Resampled_Data/20220426/SSE_600348.csv\n",
      "SSE_600348.csv\n"
     ]
    },
    {
     "name": "stderr",
     "output_type": "stream",
     "text": [
      "/tmp/ipykernel_37775/3705381019.py:14: FutureWarning: The frame.append method is deprecated and will be removed from pandas in a future version. Use pandas.concat instead.\n",
      "  concat_df = concat_df.append(temp_df_t.iloc[1], ignore_index = False)\n",
      "/tmp/ipykernel_37775/3705381019.py:14: FutureWarning: The frame.append method is deprecated and will be removed from pandas in a future version. Use pandas.concat instead.\n",
      "  concat_df = concat_df.append(temp_df_t.iloc[1], ignore_index = False)\n"
     ]
    },
    {
     "name": "stdout",
     "output_type": "stream",
     "text": [
      "/home/ege/Desktop/project/new/Resampled_Data/20220426/SSE_600354.csv\n",
      "SSE_600354.csv\n",
      "/home/ege/Desktop/project/new/Resampled_Data/20220426/SSE_600521.csv\n",
      "SSE_600521.csv\n"
     ]
    },
    {
     "name": "stderr",
     "output_type": "stream",
     "text": [
      "/tmp/ipykernel_37775/3705381019.py:14: FutureWarning: The frame.append method is deprecated and will be removed from pandas in a future version. Use pandas.concat instead.\n",
      "  concat_df = concat_df.append(temp_df_t.iloc[1], ignore_index = False)\n",
      "/tmp/ipykernel_37775/3705381019.py:14: FutureWarning: The frame.append method is deprecated and will be removed from pandas in a future version. Use pandas.concat instead.\n",
      "  concat_df = concat_df.append(temp_df_t.iloc[1], ignore_index = False)\n"
     ]
    },
    {
     "name": "stdout",
     "output_type": "stream",
     "text": [
      "/home/ege/Desktop/project/new/Resampled_Data/20220426/SSE_600176.csv\n",
      "SSE_600176.csv\n",
      "/home/ege/Desktop/project/new/Resampled_Data/20220426/SSE_600502.csv\n",
      "SSE_600502.csv\n"
     ]
    },
    {
     "name": "stderr",
     "output_type": "stream",
     "text": [
      "/tmp/ipykernel_37775/3705381019.py:14: FutureWarning: The frame.append method is deprecated and will be removed from pandas in a future version. Use pandas.concat instead.\n",
      "  concat_df = concat_df.append(temp_df_t.iloc[1], ignore_index = False)\n",
      "/tmp/ipykernel_37775/3705381019.py:14: FutureWarning: The frame.append method is deprecated and will be removed from pandas in a future version. Use pandas.concat instead.\n",
      "  concat_df = concat_df.append(temp_df_t.iloc[1], ignore_index = False)\n"
     ]
    },
    {
     "name": "stdout",
     "output_type": "stream",
     "text": [
      "/home/ege/Desktop/project/new/Resampled_Data/20220426/SSE_600499.csv\n",
      "SSE_600499.csv\n",
      "/home/ege/Desktop/project/new/Resampled_Data/20220426/SSE_600512.csv\n",
      "SSE_600512.csv\n"
     ]
    },
    {
     "name": "stderr",
     "output_type": "stream",
     "text": [
      "/tmp/ipykernel_37775/3705381019.py:14: FutureWarning: The frame.append method is deprecated and will be removed from pandas in a future version. Use pandas.concat instead.\n",
      "  concat_df = concat_df.append(temp_df_t.iloc[1], ignore_index = False)\n",
      "/tmp/ipykernel_37775/3705381019.py:14: FutureWarning: The frame.append method is deprecated and will be removed from pandas in a future version. Use pandas.concat instead.\n",
      "  concat_df = concat_df.append(temp_df_t.iloc[1], ignore_index = False)\n"
     ]
    },
    {
     "name": "stdout",
     "output_type": "stream",
     "text": [
      "/home/ege/Desktop/project/new/Resampled_Data/20220426/SSE_600170.csv\n",
      "SSE_600170.csv\n",
      "/home/ege/Desktop/project/new/Resampled_Data/20220426/SSE_600397.csv\n",
      "SSE_600397.csv\n"
     ]
    },
    {
     "name": "stderr",
     "output_type": "stream",
     "text": [
      "/tmp/ipykernel_37775/3705381019.py:14: FutureWarning: The frame.append method is deprecated and will be removed from pandas in a future version. Use pandas.concat instead.\n",
      "  concat_df = concat_df.append(temp_df_t.iloc[1], ignore_index = False)\n",
      "/tmp/ipykernel_37775/3705381019.py:14: FutureWarning: The frame.append method is deprecated and will be removed from pandas in a future version. Use pandas.concat instead.\n",
      "  concat_df = concat_df.append(temp_df_t.iloc[1], ignore_index = False)\n"
     ]
    },
    {
     "name": "stdout",
     "output_type": "stream",
     "text": [
      "/home/ege/Desktop/project/new/Resampled_Data/20220426/SSE_600335.csv\n",
      "SSE_600335.csv\n",
      "/home/ege/Desktop/project/new/Resampled_Data/20220426/SSE_600359.csv\n",
      "SSE_600359.csv\n"
     ]
    },
    {
     "name": "stderr",
     "output_type": "stream",
     "text": [
      "/tmp/ipykernel_37775/3705381019.py:14: FutureWarning: The frame.append method is deprecated and will be removed from pandas in a future version. Use pandas.concat instead.\n",
      "  concat_df = concat_df.append(temp_df_t.iloc[1], ignore_index = False)\n",
      "/tmp/ipykernel_37775/3705381019.py:14: FutureWarning: The frame.append method is deprecated and will be removed from pandas in a future version. Use pandas.concat instead.\n",
      "  concat_df = concat_df.append(temp_df_t.iloc[1], ignore_index = False)\n"
     ]
    },
    {
     "name": "stdout",
     "output_type": "stream",
     "text": [
      "/home/ege/Desktop/project/new/Resampled_Data/20220426/SSE_600487.csv\n",
      "SSE_600487.csv\n",
      "/home/ege/Desktop/project/new/Resampled_Data/20220426/SSE_600029.csv\n",
      "SSE_600029.csv\n"
     ]
    },
    {
     "name": "stderr",
     "output_type": "stream",
     "text": [
      "/tmp/ipykernel_37775/3705381019.py:14: FutureWarning: The frame.append method is deprecated and will be removed from pandas in a future version. Use pandas.concat instead.\n",
      "  concat_df = concat_df.append(temp_df_t.iloc[1], ignore_index = False)\n",
      "/tmp/ipykernel_37775/3705381019.py:14: FutureWarning: The frame.append method is deprecated and will be removed from pandas in a future version. Use pandas.concat instead.\n",
      "  concat_df = concat_df.append(temp_df_t.iloc[1], ignore_index = False)\n"
     ]
    },
    {
     "name": "stdout",
     "output_type": "stream",
     "text": [
      "/home/ege/Desktop/project/new/Resampled_Data/20220426/SSE_600366.csv\n",
      "SSE_600366.csv\n",
      "/home/ege/Desktop/project/new/Resampled_Data/20220426/SSE_600425.csv\n",
      "SSE_600425.csv\n"
     ]
    },
    {
     "name": "stderr",
     "output_type": "stream",
     "text": [
      "/tmp/ipykernel_37775/3705381019.py:14: FutureWarning: The frame.append method is deprecated and will be removed from pandas in a future version. Use pandas.concat instead.\n",
      "  concat_df = concat_df.append(temp_df_t.iloc[1], ignore_index = False)\n",
      "/tmp/ipykernel_37775/3705381019.py:14: FutureWarning: The frame.append method is deprecated and will be removed from pandas in a future version. Use pandas.concat instead.\n",
      "  concat_df = concat_df.append(temp_df_t.iloc[1], ignore_index = False)\n"
     ]
    },
    {
     "name": "stdout",
     "output_type": "stream",
     "text": [
      "/home/ege/Desktop/project/new/Resampled_Data/20220426/SSE_600448.csv\n",
      "SSE_600448.csv\n",
      "/home/ege/Desktop/project/new/Resampled_Data/20220426/SSE_600330.csv\n",
      "SSE_600330.csv\n"
     ]
    },
    {
     "name": "stderr",
     "output_type": "stream",
     "text": [
      "/tmp/ipykernel_37775/3705381019.py:14: FutureWarning: The frame.append method is deprecated and will be removed from pandas in a future version. Use pandas.concat instead.\n",
      "  concat_df = concat_df.append(temp_df_t.iloc[1], ignore_index = False)\n",
      "/tmp/ipykernel_37775/3705381019.py:14: FutureWarning: The frame.append method is deprecated and will be removed from pandas in a future version. Use pandas.concat instead.\n",
      "  concat_df = concat_df.append(temp_df_t.iloc[1], ignore_index = False)\n"
     ]
    },
    {
     "name": "stdout",
     "output_type": "stream",
     "text": [
      "/home/ege/Desktop/project/new/Resampled_Data/20220426/SSE_600396.csv\n",
      "SSE_600396.csv\n",
      "/home/ege/Desktop/project/new/Resampled_Data/20220426/SSE_600123.csv\n",
      "SSE_600123.csv\n"
     ]
    },
    {
     "name": "stderr",
     "output_type": "stream",
     "text": [
      "/tmp/ipykernel_37775/3705381019.py:14: FutureWarning: The frame.append method is deprecated and will be removed from pandas in a future version. Use pandas.concat instead.\n",
      "  concat_df = concat_df.append(temp_df_t.iloc[1], ignore_index = False)\n",
      "/tmp/ipykernel_37775/3705381019.py:14: FutureWarning: The frame.append method is deprecated and will be removed from pandas in a future version. Use pandas.concat instead.\n",
      "  concat_df = concat_df.append(temp_df_t.iloc[1], ignore_index = False)\n"
     ]
    },
    {
     "name": "stdout",
     "output_type": "stream",
     "text": [
      "/home/ege/Desktop/project/new/Resampled_Data/20220426/SSE_600428.csv\n",
      "SSE_600428.csv\n",
      "/home/ege/Desktop/project/new/Resampled_Data/20220426/SSE_600331.csv\n",
      "SSE_600331.csv\n"
     ]
    },
    {
     "name": "stderr",
     "output_type": "stream",
     "text": [
      "/tmp/ipykernel_37775/3705381019.py:14: FutureWarning: The frame.append method is deprecated and will be removed from pandas in a future version. Use pandas.concat instead.\n",
      "  concat_df = concat_df.append(temp_df_t.iloc[1], ignore_index = False)\n",
      "/tmp/ipykernel_37775/3705381019.py:14: FutureWarning: The frame.append method is deprecated and will be removed from pandas in a future version. Use pandas.concat instead.\n",
      "  concat_df = concat_df.append(temp_df_t.iloc[1], ignore_index = False)\n"
     ]
    },
    {
     "name": "stdout",
     "output_type": "stream",
     "text": [
      "/home/ege/Desktop/project/new/Resampled_Data/20220426/SSE_600121.csv\n",
      "SSE_600121.csv\n",
      "/home/ege/Desktop/project/new/Resampled_Data/20220426/SSE_600395.csv\n",
      "SSE_600395.csv\n"
     ]
    },
    {
     "name": "stderr",
     "output_type": "stream",
     "text": [
      "/tmp/ipykernel_37775/3705381019.py:14: FutureWarning: The frame.append method is deprecated and will be removed from pandas in a future version. Use pandas.concat instead.\n",
      "  concat_df = concat_df.append(temp_df_t.iloc[1], ignore_index = False)\n",
      "/tmp/ipykernel_37775/3705381019.py:14: FutureWarning: The frame.append method is deprecated and will be removed from pandas in a future version. Use pandas.concat instead.\n",
      "  concat_df = concat_df.append(temp_df_t.iloc[1], ignore_index = False)\n"
     ]
    },
    {
     "name": "stdout",
     "output_type": "stream",
     "text": [
      "/home/ege/Desktop/project/new/Resampled_Data/20220426/SSE_600115.csv\n",
      "SSE_600115.csv\n",
      "/home/ege/Desktop/project/new/Resampled_Data/20220426/SSE_600284.csv\n",
      "SSE_600284.csv\n"
     ]
    },
    {
     "name": "stderr",
     "output_type": "stream",
     "text": [
      "/tmp/ipykernel_37775/3705381019.py:14: FutureWarning: The frame.append method is deprecated and will be removed from pandas in a future version. Use pandas.concat instead.\n",
      "  concat_df = concat_df.append(temp_df_t.iloc[1], ignore_index = False)\n",
      "/tmp/ipykernel_37775/3705381019.py:14: FutureWarning: The frame.append method is deprecated and will be removed from pandas in a future version. Use pandas.concat instead.\n",
      "  concat_df = concat_df.append(temp_df_t.iloc[1], ignore_index = False)\n"
     ]
    },
    {
     "name": "stdout",
     "output_type": "stream",
     "text": [
      "/home/ege/Desktop/project/new/Resampled_Data/20220426/SSE_600312.csv\n",
      "SSE_600312.csv\n"
     ]
    },
    {
     "name": "stderr",
     "output_type": "stream",
     "text": [
      "/tmp/ipykernel_37775/3705381019.py:14: FutureWarning: The frame.append method is deprecated and will be removed from pandas in a future version. Use pandas.concat instead.\n",
      "  concat_df = concat_df.append(temp_df_t.iloc[1], ignore_index = False)\n",
      "/tmp/ipykernel_37775/3705381019.py:14: FutureWarning: The frame.append method is deprecated and will be removed from pandas in a future version. Use pandas.concat instead.\n",
      "  concat_df = concat_df.append(temp_df_t.iloc[1], ignore_index = False)\n"
     ]
    },
    {
     "name": "stdout",
     "output_type": "stream",
     "text": [
      "/home/ege/Desktop/project/new/Resampled_Data/20220426/SSE_600199.csv\n",
      "SSE_600199.csv\n",
      "/home/ege/Desktop/project/new/Resampled_Data/20220426/SSE_600497.csv\n",
      "SSE_600497.csv\n",
      "/home/ege/Desktop/project/new/Resampled_Data/20220426/SSE_600110.csv\n",
      "SSE_600110.csv\n"
     ]
    },
    {
     "name": "stderr",
     "output_type": "stream",
     "text": [
      "/tmp/ipykernel_37775/3705381019.py:14: FutureWarning: The frame.append method is deprecated and will be removed from pandas in a future version. Use pandas.concat instead.\n",
      "  concat_df = concat_df.append(temp_df_t.iloc[1], ignore_index = False)\n",
      "/tmp/ipykernel_37775/3705381019.py:14: FutureWarning: The frame.append method is deprecated and will be removed from pandas in a future version. Use pandas.concat instead.\n",
      "  concat_df = concat_df.append(temp_df_t.iloc[1], ignore_index = False)\n"
     ]
    },
    {
     "name": "stdout",
     "output_type": "stream",
     "text": [
      "/home/ege/Desktop/project/new/Resampled_Data/20220426/SSE_600491.csv\n",
      "SSE_600491.csv\n",
      "/home/ege/Desktop/project/new/Resampled_Data/20220426/SSE_600172.csv\n",
      "SSE_600172.csv\n"
     ]
    },
    {
     "name": "stderr",
     "output_type": "stream",
     "text": [
      "/tmp/ipykernel_37775/3705381019.py:14: FutureWarning: The frame.append method is deprecated and will be removed from pandas in a future version. Use pandas.concat instead.\n",
      "  concat_df = concat_df.append(temp_df_t.iloc[1], ignore_index = False)\n",
      "/tmp/ipykernel_37775/3705381019.py:14: FutureWarning: The frame.append method is deprecated and will be removed from pandas in a future version. Use pandas.concat instead.\n",
      "  concat_df = concat_df.append(temp_df_t.iloc[1], ignore_index = False)\n"
     ]
    },
    {
     "name": "stdout",
     "output_type": "stream",
     "text": [
      "/home/ege/Desktop/project/new/Resampled_Data/20220426/SSE_600489.csv\n",
      "SSE_600489.csv\n",
      "/home/ege/Desktop/project/new/Resampled_Data/20220426/SSE_600150.csv\n",
      "SSE_600150.csv\n"
     ]
    },
    {
     "name": "stderr",
     "output_type": "stream",
     "text": [
      "/tmp/ipykernel_37775/3705381019.py:14: FutureWarning: The frame.append method is deprecated and will be removed from pandas in a future version. Use pandas.concat instead.\n",
      "  concat_df = concat_df.append(temp_df_t.iloc[1], ignore_index = False)\n",
      "/tmp/ipykernel_37775/3705381019.py:14: FutureWarning: The frame.append method is deprecated and will be removed from pandas in a future version. Use pandas.concat instead.\n",
      "  concat_df = concat_df.append(temp_df_t.iloc[1], ignore_index = False)\n"
     ]
    },
    {
     "name": "stdout",
     "output_type": "stream",
     "text": [
      "/home/ege/Desktop/project/new/Resampled_Data/20220426/SSE_600208.csv\n",
      "SSE_600208.csv\n",
      "/home/ege/Desktop/project/new/Resampled_Data/20220426/SSE_600280.csv\n",
      "SSE_600280.csv\n"
     ]
    },
    {
     "name": "stderr",
     "output_type": "stream",
     "text": [
      "/tmp/ipykernel_37775/3705381019.py:14: FutureWarning: The frame.append method is deprecated and will be removed from pandas in a future version. Use pandas.concat instead.\n",
      "  concat_df = concat_df.append(temp_df_t.iloc[1], ignore_index = False)\n",
      "/tmp/ipykernel_37775/3705381019.py:14: FutureWarning: The frame.append method is deprecated and will be removed from pandas in a future version. Use pandas.concat instead.\n",
      "  concat_df = concat_df.append(temp_df_t.iloc[1], ignore_index = False)\n"
     ]
    },
    {
     "name": "stdout",
     "output_type": "stream",
     "text": [
      "/home/ege/Desktop/project/new/Resampled_Data/20220426/SSE_600418.csv\n",
      "SSE_600418.csv\n",
      "/home/ege/Desktop/project/new/Resampled_Data/20220426/SSE_600257.csv\n",
      "SSE_600257.csv\n"
     ]
    },
    {
     "name": "stderr",
     "output_type": "stream",
     "text": [
      "/tmp/ipykernel_37775/3705381019.py:14: FutureWarning: The frame.append method is deprecated and will be removed from pandas in a future version. Use pandas.concat instead.\n",
      "  concat_df = concat_df.append(temp_df_t.iloc[1], ignore_index = False)\n",
      "/tmp/ipykernel_37775/3705381019.py:14: FutureWarning: The frame.append method is deprecated and will be removed from pandas in a future version. Use pandas.concat instead.\n",
      "  concat_df = concat_df.append(temp_df_t.iloc[1], ignore_index = False)\n"
     ]
    },
    {
     "name": "stdout",
     "output_type": "stream",
     "text": [
      "/home/ege/Desktop/project/new/Resampled_Data/20220426/SSE_600149.csv\n",
      "SSE_600149.csv\n",
      "/home/ege/Desktop/project/new/Resampled_Data/20220426/SSE_600470.csv\n",
      "SSE_600470.csv\n"
     ]
    },
    {
     "name": "stderr",
     "output_type": "stream",
     "text": [
      "/tmp/ipykernel_37775/3705381019.py:14: FutureWarning: The frame.append method is deprecated and will be removed from pandas in a future version. Use pandas.concat instead.\n",
      "  concat_df = concat_df.append(temp_df_t.iloc[1], ignore_index = False)\n",
      "/tmp/ipykernel_37775/3705381019.py:14: FutureWarning: The frame.append method is deprecated and will be removed from pandas in a future version. Use pandas.concat instead.\n",
      "  concat_df = concat_df.append(temp_df_t.iloc[1], ignore_index = False)\n"
     ]
    },
    {
     "name": "stdout",
     "output_type": "stream",
     "text": [
      "/home/ege/Desktop/project/new/Resampled_Data/20220426/SSE_600248.csv\n",
      "SSE_600248.csv\n",
      "/home/ege/Desktop/project/new/Resampled_Data/20220426/SSE_600466.csv\n",
      "SSE_600466.csv\n"
     ]
    },
    {
     "name": "stderr",
     "output_type": "stream",
     "text": [
      "/tmp/ipykernel_37775/3705381019.py:14: FutureWarning: The frame.append method is deprecated and will be removed from pandas in a future version. Use pandas.concat instead.\n",
      "  concat_df = concat_df.append(temp_df_t.iloc[1], ignore_index = False)\n",
      "/tmp/ipykernel_37775/3705381019.py:14: FutureWarning: The frame.append method is deprecated and will be removed from pandas in a future version. Use pandas.concat instead.\n",
      "  concat_df = concat_df.append(temp_df_t.iloc[1], ignore_index = False)\n"
     ]
    },
    {
     "name": "stdout",
     "output_type": "stream",
     "text": [
      "/home/ege/Desktop/project/new/Resampled_Data/20220426/SSE_600166.csv\n",
      "SSE_600166.csv\n",
      "/home/ege/Desktop/project/new/Resampled_Data/20220426/SSE_600336.csv\n",
      "SSE_600336.csv\n"
     ]
    },
    {
     "name": "stderr",
     "output_type": "stream",
     "text": [
      "/tmp/ipykernel_37775/3705381019.py:14: FutureWarning: The frame.append method is deprecated and will be removed from pandas in a future version. Use pandas.concat instead.\n",
      "  concat_df = concat_df.append(temp_df_t.iloc[1], ignore_index = False)\n",
      "/tmp/ipykernel_37775/3705381019.py:14: FutureWarning: The frame.append method is deprecated and will be removed from pandas in a future version. Use pandas.concat instead.\n",
      "  concat_df = concat_df.append(temp_df_t.iloc[1], ignore_index = False)\n"
     ]
    },
    {
     "name": "stdout",
     "output_type": "stream",
     "text": [
      "/home/ege/Desktop/project/new/Resampled_Data/20220426/SSE_600238.csv\n",
      "SSE_600238.csv\n",
      "/home/ege/Desktop/project/new/Resampled_Data/20220426/SSE_600201.csv\n",
      "SSE_600201.csv\n"
     ]
    },
    {
     "name": "stderr",
     "output_type": "stream",
     "text": [
      "/tmp/ipykernel_37775/3705381019.py:14: FutureWarning: The frame.append method is deprecated and will be removed from pandas in a future version. Use pandas.concat instead.\n",
      "  concat_df = concat_df.append(temp_df_t.iloc[1], ignore_index = False)\n",
      "/tmp/ipykernel_37775/3705381019.py:14: FutureWarning: The frame.append method is deprecated and will be removed from pandas in a future version. Use pandas.concat instead.\n",
      "  concat_df = concat_df.append(temp_df_t.iloc[1], ignore_index = False)\n"
     ]
    },
    {
     "name": "stdout",
     "output_type": "stream",
     "text": [
      "/home/ege/Desktop/project/new/Resampled_Data/20220426/SSE_600467.csv\n",
      "SSE_600467.csv\n",
      "/home/ege/Desktop/project/new/Resampled_Data/20220426/SSE_600162.csv\n",
      "SSE_600162.csv\n"
     ]
    },
    {
     "name": "stderr",
     "output_type": "stream",
     "text": [
      "/tmp/ipykernel_37775/3705381019.py:14: FutureWarning: The frame.append method is deprecated and will be removed from pandas in a future version. Use pandas.concat instead.\n",
      "  concat_df = concat_df.append(temp_df_t.iloc[1], ignore_index = False)\n",
      "/tmp/ipykernel_37775/3705381019.py:14: FutureWarning: The frame.append method is deprecated and will be removed from pandas in a future version. Use pandas.concat instead.\n",
      "  concat_df = concat_df.append(temp_df_t.iloc[1], ignore_index = False)\n"
     ]
    },
    {
     "name": "stdout",
     "output_type": "stream",
     "text": [
      "/home/ege/Desktop/project/new/Resampled_Data/20220426/SSE_600256.csv\n",
      "SSE_600256.csv\n",
      "/home/ege/Desktop/project/new/Resampled_Data/20220426/SSE_600307.csv\n",
      "SSE_600307.csv\n"
     ]
    },
    {
     "name": "stderr",
     "output_type": "stream",
     "text": [
      "/tmp/ipykernel_37775/3705381019.py:14: FutureWarning: The frame.append method is deprecated and will be removed from pandas in a future version. Use pandas.concat instead.\n",
      "  concat_df = concat_df.append(temp_df_t.iloc[1], ignore_index = False)\n",
      "/tmp/ipykernel_37775/3705381019.py:14: FutureWarning: The frame.append method is deprecated and will be removed from pandas in a future version. Use pandas.concat instead.\n",
      "  concat_df = concat_df.append(temp_df_t.iloc[1], ignore_index = False)\n"
     ]
    },
    {
     "name": "stdout",
     "output_type": "stream",
     "text": [
      "/home/ege/Desktop/project/new/Resampled_Data/20220426/SSE_600370.csv\n",
      "SSE_600370.csv\n"
     ]
    },
    {
     "name": "stderr",
     "output_type": "stream",
     "text": [
      "/tmp/ipykernel_37775/3705381019.py:14: FutureWarning: The frame.append method is deprecated and will be removed from pandas in a future version. Use pandas.concat instead.\n",
      "  concat_df = concat_df.append(temp_df_t.iloc[1], ignore_index = False)\n",
      "/tmp/ipykernel_37775/3705381019.py:14: FutureWarning: The frame.append method is deprecated and will be removed from pandas in a future version. Use pandas.concat instead.\n",
      "  concat_df = concat_df.append(temp_df_t.iloc[1], ignore_index = False)\n"
     ]
    },
    {
     "name": "stdout",
     "output_type": "stream",
     "text": [
      "/home/ege/Desktop/project/new/Resampled_Data/20220426/SSE_600338.csv\n",
      "SSE_600338.csv\n",
      "/home/ege/Desktop/project/new/Resampled_Data/20220426/SSE_600157.csv\n",
      "SSE_600157.csv\n"
     ]
    },
    {
     "name": "stderr",
     "output_type": "stream",
     "text": [
      "/tmp/ipykernel_37775/3705381019.py:14: FutureWarning: The frame.append method is deprecated and will be removed from pandas in a future version. Use pandas.concat instead.\n",
      "  concat_df = concat_df.append(temp_df_t.iloc[1], ignore_index = False)\n",
      "/tmp/ipykernel_37775/3705381019.py:14: FutureWarning: The frame.append method is deprecated and will be removed from pandas in a future version. Use pandas.concat instead.\n",
      "  concat_df = concat_df.append(temp_df_t.iloc[1], ignore_index = False)\n"
     ]
    },
    {
     "name": "stdout",
     "output_type": "stream",
     "text": [
      "/home/ege/Desktop/project/new/Resampled_Data/20220426/SSE_600200.csv\n",
      "SSE_600200.csv\n",
      "/home/ege/Desktop/project/new/Resampled_Data/20220426/SSE_600185.csv\n",
      "SSE_600185.csv\n"
     ]
    },
    {
     "name": "stderr",
     "output_type": "stream",
     "text": [
      "/tmp/ipykernel_37775/3705381019.py:14: FutureWarning: The frame.append method is deprecated and will be removed from pandas in a future version. Use pandas.concat instead.\n",
      "  concat_df = concat_df.append(temp_df_t.iloc[1], ignore_index = False)\n",
      "/tmp/ipykernel_37775/3705381019.py:14: FutureWarning: The frame.append method is deprecated and will be removed from pandas in a future version. Use pandas.concat instead.\n",
      "  concat_df = concat_df.append(temp_df_t.iloc[1], ignore_index = False)\n"
     ]
    },
    {
     "name": "stdout",
     "output_type": "stream",
     "text": [
      "/home/ege/Desktop/project/new/Resampled_Data/20220426/SSE_600383.csv\n",
      "SSE_600383.csv\n",
      "/home/ege/Desktop/project/new/Resampled_Data/20220426/SSE_600516.csv\n",
      "SSE_600516.csv\n"
     ]
    },
    {
     "name": "stderr",
     "output_type": "stream",
     "text": [
      "/tmp/ipykernel_37775/3705381019.py:14: FutureWarning: The frame.append method is deprecated and will be removed from pandas in a future version. Use pandas.concat instead.\n",
      "  concat_df = concat_df.append(temp_df_t.iloc[1], ignore_index = False)\n",
      "/tmp/ipykernel_37775/3705381019.py:14: FutureWarning: The frame.append method is deprecated and will be removed from pandas in a future version. Use pandas.concat instead.\n",
      "  concat_df = concat_df.append(temp_df_t.iloc[1], ignore_index = False)\n"
     ]
    },
    {
     "name": "stdout",
     "output_type": "stream",
     "text": [
      "/home/ege/Desktop/project/new/Resampled_Data/20220426/SSE_600276.csv\n",
      "SSE_600276.csv\n",
      "/home/ege/Desktop/project/new/Resampled_Data/20220426/SSE_600409.csv\n",
      "SSE_600409.csv\n",
      "/home/ege/Desktop/project/new/Resampled_Data/20220426/SSE_600180.csv\n",
      "SSE_600180.csv\n"
     ]
    },
    {
     "name": "stderr",
     "output_type": "stream",
     "text": [
      "/tmp/ipykernel_37775/3705381019.py:14: FutureWarning: The frame.append method is deprecated and will be removed from pandas in a future version. Use pandas.concat instead.\n",
      "  concat_df = concat_df.append(temp_df_t.iloc[1], ignore_index = False)\n",
      "/tmp/ipykernel_37775/3705381019.py:14: FutureWarning: The frame.append method is deprecated and will be removed from pandas in a future version. Use pandas.concat instead.\n",
      "  concat_df = concat_df.append(temp_df_t.iloc[1], ignore_index = False)\n"
     ]
    },
    {
     "name": "stdout",
     "output_type": "stream",
     "text": [
      "/home/ege/Desktop/project/new/Resampled_Data/20220426/SSE_600325.csv\n",
      "SSE_600325.csv\n"
     ]
    },
    {
     "name": "stderr",
     "output_type": "stream",
     "text": [
      "/tmp/ipykernel_37775/3705381019.py:14: FutureWarning: The frame.append method is deprecated and will be removed from pandas in a future version. Use pandas.concat instead.\n",
      "  concat_df = concat_df.append(temp_df_t.iloc[1], ignore_index = False)\n"
     ]
    },
    {
     "name": "stdout",
     "output_type": "stream",
     "text": [
      "/home/ege/Desktop/project/new/Resampled_Data/20220426/SSE_600159.csv\n",
      "SSE_600159.csv\n"
     ]
    },
    {
     "name": "stderr",
     "output_type": "stream",
     "text": [
      "/tmp/ipykernel_37775/3705381019.py:14: FutureWarning: The frame.append method is deprecated and will be removed from pandas in a future version. Use pandas.concat instead.\n",
      "  concat_df = concat_df.append(temp_df_t.iloc[1], ignore_index = False)\n"
     ]
    },
    {
     "name": "stdout",
     "output_type": "stream",
     "text": [
      "/home/ege/Desktop/project/new/Resampled_Data/20220426/SSE_600277.csv\n",
      "SSE_600277.csv\n"
     ]
    },
    {
     "name": "stderr",
     "output_type": "stream",
     "text": [
      "/tmp/ipykernel_37775/3705381019.py:14: FutureWarning: The frame.append method is deprecated and will be removed from pandas in a future version. Use pandas.concat instead.\n",
      "  concat_df = concat_df.append(temp_df_t.iloc[1], ignore_index = False)\n"
     ]
    },
    {
     "name": "stdout",
     "output_type": "stream",
     "text": [
      "/home/ege/Desktop/project/new/Resampled_Data/20220426/SSE_600282.csv\n",
      "SSE_600282.csv\n"
     ]
    },
    {
     "name": "stderr",
     "output_type": "stream",
     "text": [
      "/tmp/ipykernel_37775/3705381019.py:14: FutureWarning: The frame.append method is deprecated and will be removed from pandas in a future version. Use pandas.concat instead.\n",
      "  concat_df = concat_df.append(temp_df_t.iloc[1], ignore_index = False)\n"
     ]
    },
    {
     "name": "stdout",
     "output_type": "stream",
     "text": [
      "/home/ege/Desktop/project/new/Resampled_Data/20220426/SSE_600438.csv\n",
      "SSE_600438.csv\n",
      "/home/ege/Desktop/project/new/Resampled_Data/20220426/SSE_600313.csv\n",
      "SSE_600313.csv\n"
     ]
    },
    {
     "name": "stderr",
     "output_type": "stream",
     "text": [
      "/tmp/ipykernel_37775/3705381019.py:14: FutureWarning: The frame.append method is deprecated and will be removed from pandas in a future version. Use pandas.concat instead.\n",
      "  concat_df = concat_df.append(temp_df_t.iloc[1], ignore_index = False)\n",
      "/tmp/ipykernel_37775/3705381019.py:14: FutureWarning: The frame.append method is deprecated and will be removed from pandas in a future version. Use pandas.concat instead.\n",
      "  concat_df = concat_df.append(temp_df_t.iloc[1], ignore_index = False)\n"
     ]
    },
    {
     "name": "stdout",
     "output_type": "stream",
     "text": [
      "/home/ege/Desktop/project/new/Resampled_Data/20220426/SSE_600367.csv\n",
      "SSE_600367.csv\n"
     ]
    },
    {
     "name": "stderr",
     "output_type": "stream",
     "text": [
      "/tmp/ipykernel_37775/3705381019.py:14: FutureWarning: The frame.append method is deprecated and will be removed from pandas in a future version. Use pandas.concat instead.\n",
      "  concat_df = concat_df.append(temp_df_t.iloc[1], ignore_index = False)\n"
     ]
    },
    {
     "name": "stdout",
     "output_type": "stream",
     "text": [
      "/home/ege/Desktop/project/new/Resampled_Data/20220426/SSE_600328.csv\n",
      "SSE_600328.csv\n"
     ]
    },
    {
     "name": "stderr",
     "output_type": "stream",
     "text": [
      "/tmp/ipykernel_37775/3705381019.py:14: FutureWarning: The frame.append method is deprecated and will be removed from pandas in a future version. Use pandas.concat instead.\n",
      "  concat_df = concat_df.append(temp_df_t.iloc[1], ignore_index = False)\n"
     ]
    },
    {
     "name": "stdout",
     "output_type": "stream",
     "text": [
      "/home/ege/Desktop/project/new/Resampled_Data/20220426/SSE_600141.csv\n",
      "SSE_600141.csv\n"
     ]
    },
    {
     "name": "stderr",
     "output_type": "stream",
     "text": [
      "/tmp/ipykernel_37775/3705381019.py:14: FutureWarning: The frame.append method is deprecated and will be removed from pandas in a future version. Use pandas.concat instead.\n",
      "  concat_df = concat_df.append(temp_df_t.iloc[1], ignore_index = False)\n"
     ]
    },
    {
     "name": "stdout",
     "output_type": "stream",
     "text": [
      "/home/ege/Desktop/project/new/Resampled_Data/20220426/SSE_600219.csv\n",
      "SSE_600219.csv\n"
     ]
    },
    {
     "name": "stderr",
     "output_type": "stream",
     "text": [
      "/tmp/ipykernel_37775/3705381019.py:14: FutureWarning: The frame.append method is deprecated and will be removed from pandas in a future version. Use pandas.concat instead.\n",
      "  concat_df = concat_df.append(temp_df_t.iloc[1], ignore_index = False)\n"
     ]
    },
    {
     "name": "stdout",
     "output_type": "stream",
     "text": [
      "/home/ege/Desktop/project/new/Resampled_Data/20220426/SSE_600339.csv\n",
      "SSE_600339.csv\n",
      "/home/ege/Desktop/project/new/Resampled_Data/20220426/SSE_600123-checkpoint.csv\n",
      "SSE_600123-checkpoint.csv CHECKPOINT\n",
      "20220427\n",
      "/home/ege/Desktop/project/new/Resampled_Data/20220427/SSE_600322.csv\n",
      "SSE_600322.csv\n"
     ]
    },
    {
     "name": "stderr",
     "output_type": "stream",
     "text": [
      "/tmp/ipykernel_37775/3705381019.py:14: FutureWarning: The frame.append method is deprecated and will be removed from pandas in a future version. Use pandas.concat instead.\n",
      "  concat_df = concat_df.append(temp_df_t.iloc[1], ignore_index = False)\n",
      "/tmp/ipykernel_37775/3705381019.py:14: FutureWarning: The frame.append method is deprecated and will be removed from pandas in a future version. Use pandas.concat instead.\n",
      "  concat_df = concat_df.append(temp_df_t.iloc[1], ignore_index = False)\n"
     ]
    },
    {
     "name": "stdout",
     "output_type": "stream",
     "text": [
      "/home/ege/Desktop/project/new/Resampled_Data/20220427/SSE_600153.csv\n",
      "SSE_600153.csv\n",
      "/home/ege/Desktop/project/new/Resampled_Data/20220427/SSE_600348.csv\n",
      "SSE_600348.csv\n"
     ]
    },
    {
     "name": "stderr",
     "output_type": "stream",
     "text": [
      "/tmp/ipykernel_37775/3705381019.py:14: FutureWarning: The frame.append method is deprecated and will be removed from pandas in a future version. Use pandas.concat instead.\n",
      "  concat_df = concat_df.append(temp_df_t.iloc[1], ignore_index = False)\n",
      "/tmp/ipykernel_37775/3705381019.py:14: FutureWarning: The frame.append method is deprecated and will be removed from pandas in a future version. Use pandas.concat instead.\n",
      "  concat_df = concat_df.append(temp_df_t.iloc[1], ignore_index = False)\n"
     ]
    },
    {
     "name": "stdout",
     "output_type": "stream",
     "text": [
      "/home/ege/Desktop/project/new/Resampled_Data/20220427/SSE_600354.csv\n",
      "SSE_600354.csv\n",
      "/home/ege/Desktop/project/new/Resampled_Data/20220427/SSE_600521.csv\n",
      "SSE_600521.csv\n"
     ]
    },
    {
     "name": "stderr",
     "output_type": "stream",
     "text": [
      "/tmp/ipykernel_37775/3705381019.py:14: FutureWarning: The frame.append method is deprecated and will be removed from pandas in a future version. Use pandas.concat instead.\n",
      "  concat_df = concat_df.append(temp_df_t.iloc[1], ignore_index = False)\n",
      "/tmp/ipykernel_37775/3705381019.py:14: FutureWarning: The frame.append method is deprecated and will be removed from pandas in a future version. Use pandas.concat instead.\n",
      "  concat_df = concat_df.append(temp_df_t.iloc[1], ignore_index = False)\n"
     ]
    },
    {
     "name": "stdout",
     "output_type": "stream",
     "text": [
      "/home/ege/Desktop/project/new/Resampled_Data/20220427/SSE_600176.csv\n",
      "SSE_600176.csv\n",
      "/home/ege/Desktop/project/new/Resampled_Data/20220427/SSE_600502.csv\n",
      "SSE_600502.csv\n"
     ]
    },
    {
     "name": "stderr",
     "output_type": "stream",
     "text": [
      "/tmp/ipykernel_37775/3705381019.py:14: FutureWarning: The frame.append method is deprecated and will be removed from pandas in a future version. Use pandas.concat instead.\n",
      "  concat_df = concat_df.append(temp_df_t.iloc[1], ignore_index = False)\n",
      "/tmp/ipykernel_37775/3705381019.py:14: FutureWarning: The frame.append method is deprecated and will be removed from pandas in a future version. Use pandas.concat instead.\n",
      "  concat_df = concat_df.append(temp_df_t.iloc[1], ignore_index = False)\n"
     ]
    },
    {
     "name": "stdout",
     "output_type": "stream",
     "text": [
      "/home/ege/Desktop/project/new/Resampled_Data/20220427/SSE_600499.csv\n",
      "SSE_600499.csv\n",
      "/home/ege/Desktop/project/new/Resampled_Data/20220427/SSE_600512.csv\n",
      "SSE_600512.csv\n"
     ]
    },
    {
     "name": "stderr",
     "output_type": "stream",
     "text": [
      "/tmp/ipykernel_37775/3705381019.py:14: FutureWarning: The frame.append method is deprecated and will be removed from pandas in a future version. Use pandas.concat instead.\n",
      "  concat_df = concat_df.append(temp_df_t.iloc[1], ignore_index = False)\n",
      "/tmp/ipykernel_37775/3705381019.py:14: FutureWarning: The frame.append method is deprecated and will be removed from pandas in a future version. Use pandas.concat instead.\n",
      "  concat_df = concat_df.append(temp_df_t.iloc[1], ignore_index = False)\n"
     ]
    },
    {
     "name": "stdout",
     "output_type": "stream",
     "text": [
      "/home/ege/Desktop/project/new/Resampled_Data/20220427/SSE_600104.csv\n",
      "SSE_600104.csv\n",
      "/home/ege/Desktop/project/new/Resampled_Data/20220427/SSE_600170.csv\n",
      "SSE_600170.csv\n"
     ]
    },
    {
     "name": "stderr",
     "output_type": "stream",
     "text": [
      "/tmp/ipykernel_37775/3705381019.py:14: FutureWarning: The frame.append method is deprecated and will be removed from pandas in a future version. Use pandas.concat instead.\n",
      "  concat_df = concat_df.append(temp_df_t.iloc[1], ignore_index = False)\n",
      "/tmp/ipykernel_37775/3705381019.py:14: FutureWarning: The frame.append method is deprecated and will be removed from pandas in a future version. Use pandas.concat instead.\n",
      "  concat_df = concat_df.append(temp_df_t.iloc[1], ignore_index = False)\n"
     ]
    },
    {
     "name": "stdout",
     "output_type": "stream",
     "text": [
      "/home/ege/Desktop/project/new/Resampled_Data/20220427/SSE_600397.csv\n",
      "SSE_600397.csv\n",
      "/home/ege/Desktop/project/new/Resampled_Data/20220427/SSE_600335.csv\n",
      "SSE_600335.csv\n"
     ]
    },
    {
     "name": "stderr",
     "output_type": "stream",
     "text": [
      "/tmp/ipykernel_37775/3705381019.py:14: FutureWarning: The frame.append method is deprecated and will be removed from pandas in a future version. Use pandas.concat instead.\n",
      "  concat_df = concat_df.append(temp_df_t.iloc[1], ignore_index = False)\n",
      "/tmp/ipykernel_37775/3705381019.py:14: FutureWarning: The frame.append method is deprecated and will be removed from pandas in a future version. Use pandas.concat instead.\n",
      "  concat_df = concat_df.append(temp_df_t.iloc[1], ignore_index = False)\n"
     ]
    },
    {
     "name": "stdout",
     "output_type": "stream",
     "text": [
      "/home/ege/Desktop/project/new/Resampled_Data/20220427/SSE_600359.csv\n",
      "SSE_600359.csv\n",
      "/home/ege/Desktop/project/new/Resampled_Data/20220427/SSE_600487.csv\n",
      "SSE_600487.csv\n"
     ]
    },
    {
     "name": "stderr",
     "output_type": "stream",
     "text": [
      "/tmp/ipykernel_37775/3705381019.py:14: FutureWarning: The frame.append method is deprecated and will be removed from pandas in a future version. Use pandas.concat instead.\n",
      "  concat_df = concat_df.append(temp_df_t.iloc[1], ignore_index = False)\n",
      "/tmp/ipykernel_37775/3705381019.py:14: FutureWarning: The frame.append method is deprecated and will be removed from pandas in a future version. Use pandas.concat instead.\n",
      "  concat_df = concat_df.append(temp_df_t.iloc[1], ignore_index = False)\n"
     ]
    },
    {
     "name": "stdout",
     "output_type": "stream",
     "text": [
      "/home/ege/Desktop/project/new/Resampled_Data/20220427/SSE_600366.csv\n",
      "SSE_600366.csv\n",
      "/home/ege/Desktop/project/new/Resampled_Data/20220427/SSE_600425.csv\n",
      "SSE_600425.csv\n"
     ]
    },
    {
     "name": "stderr",
     "output_type": "stream",
     "text": [
      "/tmp/ipykernel_37775/3705381019.py:14: FutureWarning: The frame.append method is deprecated and will be removed from pandas in a future version. Use pandas.concat instead.\n",
      "  concat_df = concat_df.append(temp_df_t.iloc[1], ignore_index = False)\n",
      "/tmp/ipykernel_37775/3705381019.py:14: FutureWarning: The frame.append method is deprecated and will be removed from pandas in a future version. Use pandas.concat instead.\n",
      "  concat_df = concat_df.append(temp_df_t.iloc[1], ignore_index = False)\n"
     ]
    },
    {
     "name": "stdout",
     "output_type": "stream",
     "text": [
      "/home/ege/Desktop/project/new/Resampled_Data/20220427/SSE_600448.csv\n",
      "SSE_600448.csv\n",
      "/home/ege/Desktop/project/new/Resampled_Data/20220427/SSE_600330.csv\n",
      "SSE_600330.csv\n"
     ]
    },
    {
     "name": "stderr",
     "output_type": "stream",
     "text": [
      "/tmp/ipykernel_37775/3705381019.py:14: FutureWarning: The frame.append method is deprecated and will be removed from pandas in a future version. Use pandas.concat instead.\n",
      "  concat_df = concat_df.append(temp_df_t.iloc[1], ignore_index = False)\n",
      "/tmp/ipykernel_37775/3705381019.py:14: FutureWarning: The frame.append method is deprecated and will be removed from pandas in a future version. Use pandas.concat instead.\n",
      "  concat_df = concat_df.append(temp_df_t.iloc[1], ignore_index = False)\n"
     ]
    },
    {
     "name": "stdout",
     "output_type": "stream",
     "text": [
      "/home/ege/Desktop/project/new/Resampled_Data/20220427/SSE_600396.csv\n",
      "SSE_600396.csv\n",
      "/home/ege/Desktop/project/new/Resampled_Data/20220427/SSE_600123.csv\n",
      "SSE_600123.csv\n"
     ]
    },
    {
     "name": "stderr",
     "output_type": "stream",
     "text": [
      "/tmp/ipykernel_37775/3705381019.py:14: FutureWarning: The frame.append method is deprecated and will be removed from pandas in a future version. Use pandas.concat instead.\n",
      "  concat_df = concat_df.append(temp_df_t.iloc[1], ignore_index = False)\n",
      "/tmp/ipykernel_37775/3705381019.py:14: FutureWarning: The frame.append method is deprecated and will be removed from pandas in a future version. Use pandas.concat instead.\n",
      "  concat_df = concat_df.append(temp_df_t.iloc[1], ignore_index = False)\n"
     ]
    },
    {
     "name": "stdout",
     "output_type": "stream",
     "text": [
      "/home/ege/Desktop/project/new/Resampled_Data/20220427/SSE_600428.csv\n",
      "SSE_600428.csv\n",
      "/home/ege/Desktop/project/new/Resampled_Data/20220427/SSE_600331.csv\n",
      "SSE_600331.csv\n"
     ]
    },
    {
     "name": "stderr",
     "output_type": "stream",
     "text": [
      "/tmp/ipykernel_37775/3705381019.py:14: FutureWarning: The frame.append method is deprecated and will be removed from pandas in a future version. Use pandas.concat instead.\n",
      "  concat_df = concat_df.append(temp_df_t.iloc[1], ignore_index = False)\n",
      "/tmp/ipykernel_37775/3705381019.py:14: FutureWarning: The frame.append method is deprecated and will be removed from pandas in a future version. Use pandas.concat instead.\n",
      "  concat_df = concat_df.append(temp_df_t.iloc[1], ignore_index = False)\n"
     ]
    },
    {
     "name": "stdout",
     "output_type": "stream",
     "text": [
      "/home/ege/Desktop/project/new/Resampled_Data/20220427/SSE_600395.csv\n",
      "SSE_600395.csv\n",
      "/home/ege/Desktop/project/new/Resampled_Data/20220427/SSE_600284.csv\n",
      "SSE_600284.csv\n"
     ]
    },
    {
     "name": "stderr",
     "output_type": "stream",
     "text": [
      "/tmp/ipykernel_37775/3705381019.py:14: FutureWarning: The frame.append method is deprecated and will be removed from pandas in a future version. Use pandas.concat instead.\n",
      "  concat_df = concat_df.append(temp_df_t.iloc[1], ignore_index = False)\n",
      "/tmp/ipykernel_37775/3705381019.py:14: FutureWarning: The frame.append method is deprecated and will be removed from pandas in a future version. Use pandas.concat instead.\n",
      "  concat_df = concat_df.append(temp_df_t.iloc[1], ignore_index = False)\n"
     ]
    },
    {
     "name": "stdout",
     "output_type": "stream",
     "text": [
      "/home/ege/Desktop/project/new/Resampled_Data/20220427/SSE_600312.csv\n",
      "SSE_600312.csv\n",
      "/home/ege/Desktop/project/new/Resampled_Data/20220427/SSE_600199.csv\n",
      "SSE_600199.csv\n"
     ]
    },
    {
     "name": "stderr",
     "output_type": "stream",
     "text": [
      "/tmp/ipykernel_37775/3705381019.py:14: FutureWarning: The frame.append method is deprecated and will be removed from pandas in a future version. Use pandas.concat instead.\n",
      "  concat_df = concat_df.append(temp_df_t.iloc[1], ignore_index = False)\n",
      "/tmp/ipykernel_37775/3705381019.py:14: FutureWarning: The frame.append method is deprecated and will be removed from pandas in a future version. Use pandas.concat instead.\n",
      "  concat_df = concat_df.append(temp_df_t.iloc[1], ignore_index = False)\n"
     ]
    },
    {
     "name": "stdout",
     "output_type": "stream",
     "text": [
      "/home/ege/Desktop/project/new/Resampled_Data/20220427/SSE_600497.csv\n",
      "SSE_600497.csv\n",
      "/home/ege/Desktop/project/new/Resampled_Data/20220427/SSE_600163.csv\n",
      "SSE_600163.csv\n"
     ]
    },
    {
     "name": "stderr",
     "output_type": "stream",
     "text": [
      "/tmp/ipykernel_37775/3705381019.py:14: FutureWarning: The frame.append method is deprecated and will be removed from pandas in a future version. Use pandas.concat instead.\n",
      "  concat_df = concat_df.append(temp_df_t.iloc[1], ignore_index = False)\n",
      "/tmp/ipykernel_37775/3705381019.py:14: FutureWarning: The frame.append method is deprecated and will be removed from pandas in a future version. Use pandas.concat instead.\n",
      "  concat_df = concat_df.append(temp_df_t.iloc[1], ignore_index = False)\n"
     ]
    },
    {
     "name": "stdout",
     "output_type": "stream",
     "text": [
      "/home/ege/Desktop/project/new/Resampled_Data/20220427/SSE_600491.csv\n",
      "SSE_600491.csv\n",
      "/home/ege/Desktop/project/new/Resampled_Data/20220427/SSE_600172.csv\n",
      "SSE_600172.csv\n"
     ]
    },
    {
     "name": "stderr",
     "output_type": "stream",
     "text": [
      "/tmp/ipykernel_37775/3705381019.py:14: FutureWarning: The frame.append method is deprecated and will be removed from pandas in a future version. Use pandas.concat instead.\n",
      "  concat_df = concat_df.append(temp_df_t.iloc[1], ignore_index = False)\n",
      "/tmp/ipykernel_37775/3705381019.py:14: FutureWarning: The frame.append method is deprecated and will be removed from pandas in a future version. Use pandas.concat instead.\n",
      "  concat_df = concat_df.append(temp_df_t.iloc[1], ignore_index = False)\n"
     ]
    },
    {
     "name": "stdout",
     "output_type": "stream",
     "text": [
      "/home/ege/Desktop/project/new/Resampled_Data/20220427/SSE_600489.csv\n",
      "SSE_600489.csv\n",
      "/home/ege/Desktop/project/new/Resampled_Data/20220427/SSE_600150.csv\n",
      "SSE_600150.csv\n"
     ]
    },
    {
     "name": "stderr",
     "output_type": "stream",
     "text": [
      "/tmp/ipykernel_37775/3705381019.py:14: FutureWarning: The frame.append method is deprecated and will be removed from pandas in a future version. Use pandas.concat instead.\n",
      "  concat_df = concat_df.append(temp_df_t.iloc[1], ignore_index = False)\n",
      "/tmp/ipykernel_37775/3705381019.py:14: FutureWarning: The frame.append method is deprecated and will be removed from pandas in a future version. Use pandas.concat instead.\n",
      "  concat_df = concat_df.append(temp_df_t.iloc[1], ignore_index = False)\n"
     ]
    },
    {
     "name": "stdout",
     "output_type": "stream",
     "text": [
      "/home/ege/Desktop/project/new/Resampled_Data/20220427/SSE_600208.csv\n",
      "SSE_600208.csv\n",
      "/home/ege/Desktop/project/new/Resampled_Data/20220427/SSE_600280.csv\n",
      "SSE_600280.csv\n"
     ]
    },
    {
     "name": "stderr",
     "output_type": "stream",
     "text": [
      "/tmp/ipykernel_37775/3705381019.py:14: FutureWarning: The frame.append method is deprecated and will be removed from pandas in a future version. Use pandas.concat instead.\n",
      "  concat_df = concat_df.append(temp_df_t.iloc[1], ignore_index = False)\n",
      "/tmp/ipykernel_37775/3705381019.py:14: FutureWarning: The frame.append method is deprecated and will be removed from pandas in a future version. Use pandas.concat instead.\n",
      "  concat_df = concat_df.append(temp_df_t.iloc[1], ignore_index = False)\n"
     ]
    },
    {
     "name": "stdout",
     "output_type": "stream",
     "text": [
      "/home/ege/Desktop/project/new/Resampled_Data/20220427/SSE_600418.csv\n",
      "SSE_600418.csv\n",
      "/home/ege/Desktop/project/new/Resampled_Data/20220427/SSE_600257.csv\n",
      "SSE_600257.csv\n"
     ]
    },
    {
     "name": "stderr",
     "output_type": "stream",
     "text": [
      "/tmp/ipykernel_37775/3705381019.py:14: FutureWarning: The frame.append method is deprecated and will be removed from pandas in a future version. Use pandas.concat instead.\n",
      "  concat_df = concat_df.append(temp_df_t.iloc[1], ignore_index = False)\n",
      "/tmp/ipykernel_37775/3705381019.py:14: FutureWarning: The frame.append method is deprecated and will be removed from pandas in a future version. Use pandas.concat instead.\n",
      "  concat_df = concat_df.append(temp_df_t.iloc[1], ignore_index = False)\n"
     ]
    },
    {
     "name": "stdout",
     "output_type": "stream",
     "text": [
      "/home/ege/Desktop/project/new/Resampled_Data/20220427/SSE_600149.csv\n",
      "SSE_600149.csv\n",
      "/home/ege/Desktop/project/new/Resampled_Data/20220427/SSE_600470.csv\n",
      "SSE_600470.csv\n"
     ]
    },
    {
     "name": "stderr",
     "output_type": "stream",
     "text": [
      "/tmp/ipykernel_37775/3705381019.py:14: FutureWarning: The frame.append method is deprecated and will be removed from pandas in a future version. Use pandas.concat instead.\n",
      "  concat_df = concat_df.append(temp_df_t.iloc[1], ignore_index = False)\n",
      "/tmp/ipykernel_37775/3705381019.py:14: FutureWarning: The frame.append method is deprecated and will be removed from pandas in a future version. Use pandas.concat instead.\n",
      "  concat_df = concat_df.append(temp_df_t.iloc[1], ignore_index = False)\n"
     ]
    },
    {
     "name": "stdout",
     "output_type": "stream",
     "text": [
      "/home/ege/Desktop/project/new/Resampled_Data/20220427/SSE_600248.csv\n",
      "SSE_600248.csv\n",
      "/home/ege/Desktop/project/new/Resampled_Data/20220427/SSE_600466.csv\n",
      "SSE_600466.csv\n"
     ]
    },
    {
     "name": "stderr",
     "output_type": "stream",
     "text": [
      "/tmp/ipykernel_37775/3705381019.py:14: FutureWarning: The frame.append method is deprecated and will be removed from pandas in a future version. Use pandas.concat instead.\n",
      "  concat_df = concat_df.append(temp_df_t.iloc[1], ignore_index = False)\n",
      "/tmp/ipykernel_37775/3705381019.py:14: FutureWarning: The frame.append method is deprecated and will be removed from pandas in a future version. Use pandas.concat instead.\n",
      "  concat_df = concat_df.append(temp_df_t.iloc[1], ignore_index = False)\n"
     ]
    },
    {
     "name": "stdout",
     "output_type": "stream",
     "text": [
      "/home/ege/Desktop/project/new/Resampled_Data/20220427/SSE_600166.csv\n",
      "SSE_600166.csv\n",
      "/home/ege/Desktop/project/new/Resampled_Data/20220427/SSE_600336.csv\n",
      "SSE_600336.csv\n"
     ]
    },
    {
     "name": "stderr",
     "output_type": "stream",
     "text": [
      "/tmp/ipykernel_37775/3705381019.py:14: FutureWarning: The frame.append method is deprecated and will be removed from pandas in a future version. Use pandas.concat instead.\n",
      "  concat_df = concat_df.append(temp_df_t.iloc[1], ignore_index = False)\n",
      "/tmp/ipykernel_37775/3705381019.py:14: FutureWarning: The frame.append method is deprecated and will be removed from pandas in a future version. Use pandas.concat instead.\n",
      "  concat_df = concat_df.append(temp_df_t.iloc[1], ignore_index = False)\n"
     ]
    },
    {
     "name": "stdout",
     "output_type": "stream",
     "text": [
      "/home/ege/Desktop/project/new/Resampled_Data/20220427/SSE_600238.csv\n",
      "SSE_600238.csv\n",
      "/home/ege/Desktop/project/new/Resampled_Data/20220427/SSE_600201.csv\n",
      "SSE_600201.csv\n"
     ]
    },
    {
     "name": "stderr",
     "output_type": "stream",
     "text": [
      "/tmp/ipykernel_37775/3705381019.py:14: FutureWarning: The frame.append method is deprecated and will be removed from pandas in a future version. Use pandas.concat instead.\n",
      "  concat_df = concat_df.append(temp_df_t.iloc[1], ignore_index = False)\n",
      "/tmp/ipykernel_37775/3705381019.py:14: FutureWarning: The frame.append method is deprecated and will be removed from pandas in a future version. Use pandas.concat instead.\n",
      "  concat_df = concat_df.append(temp_df_t.iloc[1], ignore_index = False)\n"
     ]
    },
    {
     "name": "stdout",
     "output_type": "stream",
     "text": [
      "/home/ege/Desktop/project/new/Resampled_Data/20220427/SSE_600027.csv\n",
      "SSE_600027.csv\n",
      "/home/ege/Desktop/project/new/Resampled_Data/20220427/SSE_600467.csv\n",
      "SSE_600467.csv\n"
     ]
    },
    {
     "name": "stderr",
     "output_type": "stream",
     "text": [
      "/tmp/ipykernel_37775/3705381019.py:14: FutureWarning: The frame.append method is deprecated and will be removed from pandas in a future version. Use pandas.concat instead.\n",
      "  concat_df = concat_df.append(temp_df_t.iloc[1], ignore_index = False)\n",
      "/tmp/ipykernel_37775/3705381019.py:14: FutureWarning: The frame.append method is deprecated and will be removed from pandas in a future version. Use pandas.concat instead.\n",
      "  concat_df = concat_df.append(temp_df_t.iloc[1], ignore_index = False)\n"
     ]
    },
    {
     "name": "stdout",
     "output_type": "stream",
     "text": [
      "/home/ege/Desktop/project/new/Resampled_Data/20220427/SSE_600162.csv\n",
      "SSE_600162.csv\n",
      "/home/ege/Desktop/project/new/Resampled_Data/20220427/SSE_600256.csv\n",
      "SSE_600256.csv\n"
     ]
    },
    {
     "name": "stderr",
     "output_type": "stream",
     "text": [
      "/tmp/ipykernel_37775/3705381019.py:14: FutureWarning: The frame.append method is deprecated and will be removed from pandas in a future version. Use pandas.concat instead.\n",
      "  concat_df = concat_df.append(temp_df_t.iloc[1], ignore_index = False)\n",
      "/tmp/ipykernel_37775/3705381019.py:14: FutureWarning: The frame.append method is deprecated and will be removed from pandas in a future version. Use pandas.concat instead.\n",
      "  concat_df = concat_df.append(temp_df_t.iloc[1], ignore_index = False)\n"
     ]
    },
    {
     "name": "stdout",
     "output_type": "stream",
     "text": [
      "/home/ege/Desktop/project/new/Resampled_Data/20220427/SSE_600307.csv\n",
      "SSE_600307.csv\n"
     ]
    },
    {
     "name": "stderr",
     "output_type": "stream",
     "text": [
      "/tmp/ipykernel_37775/3705381019.py:14: FutureWarning: The frame.append method is deprecated and will be removed from pandas in a future version. Use pandas.concat instead.\n",
      "  concat_df = concat_df.append(temp_df_t.iloc[1], ignore_index = False)\n",
      "/tmp/ipykernel_37775/3705381019.py:14: FutureWarning: The frame.append method is deprecated and will be removed from pandas in a future version. Use pandas.concat instead.\n",
      "  concat_df = concat_df.append(temp_df_t.iloc[1], ignore_index = False)\n"
     ]
    },
    {
     "name": "stdout",
     "output_type": "stream",
     "text": [
      "/home/ege/Desktop/project/new/Resampled_Data/20220427/SSE_600370.csv\n",
      "SSE_600370.csv\n",
      "/home/ege/Desktop/project/new/Resampled_Data/20220427/SSE_600338.csv\n",
      "SSE_600338.csv\n"
     ]
    },
    {
     "name": "stderr",
     "output_type": "stream",
     "text": [
      "/tmp/ipykernel_37775/3705381019.py:14: FutureWarning: The frame.append method is deprecated and will be removed from pandas in a future version. Use pandas.concat instead.\n",
      "  concat_df = concat_df.append(temp_df_t.iloc[1], ignore_index = False)\n"
     ]
    },
    {
     "name": "stdout",
     "output_type": "stream",
     "text": [
      "/home/ege/Desktop/project/new/Resampled_Data/20220427/SSE_600157.csv\n",
      "SSE_600157.csv\n"
     ]
    },
    {
     "name": "stderr",
     "output_type": "stream",
     "text": [
      "/tmp/ipykernel_37775/3705381019.py:14: FutureWarning: The frame.append method is deprecated and will be removed from pandas in a future version. Use pandas.concat instead.\n",
      "  concat_df = concat_df.append(temp_df_t.iloc[1], ignore_index = False)\n"
     ]
    },
    {
     "name": "stdout",
     "output_type": "stream",
     "text": [
      "/home/ege/Desktop/project/new/Resampled_Data/20220427/SSE_600200.csv\n",
      "SSE_600200.csv\n"
     ]
    },
    {
     "name": "stderr",
     "output_type": "stream",
     "text": [
      "/tmp/ipykernel_37775/3705381019.py:14: FutureWarning: The frame.append method is deprecated and will be removed from pandas in a future version. Use pandas.concat instead.\n",
      "  concat_df = concat_df.append(temp_df_t.iloc[1], ignore_index = False)\n"
     ]
    },
    {
     "name": "stdout",
     "output_type": "stream",
     "text": [
      "/home/ege/Desktop/project/new/Resampled_Data/20220427/SSE_600185.csv\n",
      "SSE_600185.csv\n",
      "/home/ege/Desktop/project/new/Resampled_Data/20220427/SSE_600383.csv\n",
      "SSE_600383.csv\n"
     ]
    },
    {
     "name": "stderr",
     "output_type": "stream",
     "text": [
      "/tmp/ipykernel_37775/3705381019.py:14: FutureWarning: The frame.append method is deprecated and will be removed from pandas in a future version. Use pandas.concat instead.\n",
      "  concat_df = concat_df.append(temp_df_t.iloc[1], ignore_index = False)\n",
      "/tmp/ipykernel_37775/3705381019.py:14: FutureWarning: The frame.append method is deprecated and will be removed from pandas in a future version. Use pandas.concat instead.\n",
      "  concat_df = concat_df.append(temp_df_t.iloc[1], ignore_index = False)\n"
     ]
    },
    {
     "name": "stdout",
     "output_type": "stream",
     "text": [
      "/home/ege/Desktop/project/new/Resampled_Data/20220427/SSE_600516.csv\n",
      "SSE_600516.csv\n"
     ]
    },
    {
     "name": "stderr",
     "output_type": "stream",
     "text": [
      "/tmp/ipykernel_37775/3705381019.py:14: FutureWarning: The frame.append method is deprecated and will be removed from pandas in a future version. Use pandas.concat instead.\n",
      "  concat_df = concat_df.append(temp_df_t.iloc[1], ignore_index = False)\n"
     ]
    },
    {
     "name": "stdout",
     "output_type": "stream",
     "text": [
      "/home/ege/Desktop/project/new/Resampled_Data/20220427/SSE_600276.csv\n",
      "SSE_600276.csv\n"
     ]
    },
    {
     "name": "stderr",
     "output_type": "stream",
     "text": [
      "/tmp/ipykernel_37775/3705381019.py:14: FutureWarning: The frame.append method is deprecated and will be removed from pandas in a future version. Use pandas.concat instead.\n",
      "  concat_df = concat_df.append(temp_df_t.iloc[1], ignore_index = False)\n"
     ]
    },
    {
     "name": "stdout",
     "output_type": "stream",
     "text": [
      "/home/ege/Desktop/project/new/Resampled_Data/20220427/SSE_600409.csv\n",
      "SSE_600409.csv\n"
     ]
    },
    {
     "name": "stderr",
     "output_type": "stream",
     "text": [
      "/tmp/ipykernel_37775/3705381019.py:14: FutureWarning: The frame.append method is deprecated and will be removed from pandas in a future version. Use pandas.concat instead.\n",
      "  concat_df = concat_df.append(temp_df_t.iloc[1], ignore_index = False)\n"
     ]
    },
    {
     "name": "stdout",
     "output_type": "stream",
     "text": [
      "/home/ege/Desktop/project/new/Resampled_Data/20220427/SSE_600180.csv\n",
      "SSE_600180.csv\n",
      "/home/ege/Desktop/project/new/Resampled_Data/20220427/SSE_600325.csv\n",
      "SSE_600325.csv\n"
     ]
    },
    {
     "name": "stderr",
     "output_type": "stream",
     "text": [
      "/tmp/ipykernel_37775/3705381019.py:14: FutureWarning: The frame.append method is deprecated and will be removed from pandas in a future version. Use pandas.concat instead.\n",
      "  concat_df = concat_df.append(temp_df_t.iloc[1], ignore_index = False)\n",
      "/tmp/ipykernel_37775/3705381019.py:14: FutureWarning: The frame.append method is deprecated and will be removed from pandas in a future version. Use pandas.concat instead.\n",
      "  concat_df = concat_df.append(temp_df_t.iloc[1], ignore_index = False)\n"
     ]
    },
    {
     "name": "stdout",
     "output_type": "stream",
     "text": [
      "/home/ege/Desktop/project/new/Resampled_Data/20220427/SSE_600159.csv\n",
      "SSE_600159.csv\n",
      "/home/ege/Desktop/project/new/Resampled_Data/20220427/SSE_600277.csv\n",
      "SSE_600277.csv\n"
     ]
    },
    {
     "name": "stderr",
     "output_type": "stream",
     "text": [
      "/tmp/ipykernel_37775/3705381019.py:14: FutureWarning: The frame.append method is deprecated and will be removed from pandas in a future version. Use pandas.concat instead.\n",
      "  concat_df = concat_df.append(temp_df_t.iloc[1], ignore_index = False)\n",
      "/tmp/ipykernel_37775/3705381019.py:14: FutureWarning: The frame.append method is deprecated and will be removed from pandas in a future version. Use pandas.concat instead.\n",
      "  concat_df = concat_df.append(temp_df_t.iloc[1], ignore_index = False)\n"
     ]
    },
    {
     "name": "stdout",
     "output_type": "stream",
     "text": [
      "/home/ege/Desktop/project/new/Resampled_Data/20220427/SSE_600282.csv\n",
      "SSE_600282.csv\n",
      "/home/ege/Desktop/project/new/Resampled_Data/20220427/SSE_600438.csv\n",
      "SSE_600438.csv\n"
     ]
    },
    {
     "name": "stderr",
     "output_type": "stream",
     "text": [
      "/tmp/ipykernel_37775/3705381019.py:14: FutureWarning: The frame.append method is deprecated and will be removed from pandas in a future version. Use pandas.concat instead.\n",
      "  concat_df = concat_df.append(temp_df_t.iloc[1], ignore_index = False)\n",
      "/tmp/ipykernel_37775/3705381019.py:14: FutureWarning: The frame.append method is deprecated and will be removed from pandas in a future version. Use pandas.concat instead.\n",
      "  concat_df = concat_df.append(temp_df_t.iloc[1], ignore_index = False)\n"
     ]
    },
    {
     "name": "stdout",
     "output_type": "stream",
     "text": [
      "/home/ege/Desktop/project/new/Resampled_Data/20220427/SSE_600313.csv\n",
      "SSE_600313.csv\n",
      "/home/ege/Desktop/project/new/Resampled_Data/20220427/SSE_600367.csv\n",
      "SSE_600367.csv\n"
     ]
    },
    {
     "name": "stderr",
     "output_type": "stream",
     "text": [
      "/tmp/ipykernel_37775/3705381019.py:14: FutureWarning: The frame.append method is deprecated and will be removed from pandas in a future version. Use pandas.concat instead.\n",
      "  concat_df = concat_df.append(temp_df_t.iloc[1], ignore_index = False)\n",
      "/tmp/ipykernel_37775/3705381019.py:14: FutureWarning: The frame.append method is deprecated and will be removed from pandas in a future version. Use pandas.concat instead.\n",
      "  concat_df = concat_df.append(temp_df_t.iloc[1], ignore_index = False)\n"
     ]
    },
    {
     "name": "stdout",
     "output_type": "stream",
     "text": [
      "/home/ege/Desktop/project/new/Resampled_Data/20220427/SSE_600328.csv\n",
      "SSE_600328.csv\n"
     ]
    },
    {
     "name": "stderr",
     "output_type": "stream",
     "text": [
      "/tmp/ipykernel_37775/3705381019.py:14: FutureWarning: The frame.append method is deprecated and will be removed from pandas in a future version. Use pandas.concat instead.\n",
      "  concat_df = concat_df.append(temp_df_t.iloc[1], ignore_index = False)\n",
      "/tmp/ipykernel_37775/3705381019.py:14: FutureWarning: The frame.append method is deprecated and will be removed from pandas in a future version. Use pandas.concat instead.\n",
      "  concat_df = concat_df.append(temp_df_t.iloc[1], ignore_index = False)\n"
     ]
    },
    {
     "name": "stdout",
     "output_type": "stream",
     "text": [
      "/home/ege/Desktop/project/new/Resampled_Data/20220427/SSE_600141.csv\n",
      "SSE_600141.csv\n",
      "/home/ege/Desktop/project/new/Resampled_Data/20220427/SSE_600026.csv\n",
      "SSE_600026.csv\n"
     ]
    },
    {
     "name": "stderr",
     "output_type": "stream",
     "text": [
      "/tmp/ipykernel_37775/3705381019.py:14: FutureWarning: The frame.append method is deprecated and will be removed from pandas in a future version. Use pandas.concat instead.\n",
      "  concat_df = concat_df.append(temp_df_t.iloc[1], ignore_index = False)\n",
      "/tmp/ipykernel_37775/3705381019.py:14: FutureWarning: The frame.append method is deprecated and will be removed from pandas in a future version. Use pandas.concat instead.\n",
      "  concat_df = concat_df.append(temp_df_t.iloc[1], ignore_index = False)\n"
     ]
    },
    {
     "name": "stdout",
     "output_type": "stream",
     "text": [
      "/home/ege/Desktop/project/new/Resampled_Data/20220427/SSE_600219.csv\n",
      "SSE_600219.csv\n",
      "/home/ege/Desktop/project/new/Resampled_Data/20220427/SSE_600339.csv\n",
      "SSE_600339.csv\n",
      "/home/ege/Desktop/project/new/Resampled_Data/20220427/SSE_600141-checkpoint.csv\n",
      "SSE_600141-checkpoint.csv CHECKPOINT\n",
      "/home/ege/Desktop/project/new/Resampled_Data/20220427/SSE_600150-checkpoint.csv\n",
      "SSE_600150-checkpoint.csv CHECKPOINT\n",
      "/home/ege/Desktop/project/new/Resampled_Data/20220427/SSE_600123-checkpoint.csv\n",
      "SSE_600123-checkpoint.csv CHECKPOINT\n",
      "/home/ege/Desktop/project/new/Resampled_Data/20220427/SSE_600026-checkpoint.csv\n",
      "SSE_600026-checkpoint.csv CHECKPOINT\n"
     ]
    },
    {
     "name": "stderr",
     "output_type": "stream",
     "text": [
      "/tmp/ipykernel_37775/3705381019.py:14: FutureWarning: The frame.append method is deprecated and will be removed from pandas in a future version. Use pandas.concat instead.\n",
      "  concat_df = concat_df.append(temp_df_t.iloc[1], ignore_index = False)\n"
     ]
    }
   ],
   "source": [
    "for day in day_paths: \n",
    "    print(day)\n",
    "    for root, dirs, files in walk(diffs_path.format(day)+\"/\"):\n",
    "        for file in files:\n",
    "            print(base_path.format(day)+\"/\"+file)\n",
    "            if \"checkpoint\" in file:\n",
    "                print(file + \" CHECKPOINT\")\n",
    "                pass\n",
    "            elif file.endswith('.csv'):\n",
    "                print(file)\n",
    "                temp_df = pd.read_csv(diffs_path.format(day)+\"/\"+file)\n",
    "                temp_df_t =temp_df.T\n",
    "                headers = temp_df_t.iloc[0]\n",
    "                concat_df = concat_df.append(temp_df_t.iloc[1], ignore_index = False) \n",
    "                concat_df.to_csv(day+\" CONCAT_DF.csv\")"
   ]
  },
  {
   "cell_type": "code",
   "execution_count": 3,
   "id": "780c8f4c-5925-42b2-b104-853ba2008940",
   "metadata": {},
   "outputs": [
    {
     "data": {
      "text/html": [
       "<div>\n",
       "<style scoped>\n",
       "    .dataframe tbody tr th:only-of-type {\n",
       "        vertical-align: middle;\n",
       "    }\n",
       "\n",
       "    .dataframe tbody tr th {\n",
       "        vertical-align: top;\n",
       "    }\n",
       "\n",
       "    .dataframe thead th {\n",
       "        text-align: right;\n",
       "    }\n",
       "</style>\n",
       "<table border=\"1\" class=\"dataframe\">\n",
       "  <thead>\n",
       "    <tr style=\"text-align: right;\">\n",
       "      <th></th>\n",
       "      <th>1</th>\n",
       "      <th>2</th>\n",
       "      <th>3</th>\n",
       "      <th>4</th>\n",
       "      <th>5</th>\n",
       "      <th>6</th>\n",
       "      <th>7</th>\n",
       "      <th>8</th>\n",
       "      <th>9</th>\n",
       "      <th>10</th>\n",
       "      <th>...</th>\n",
       "      <th>209</th>\n",
       "      <th>210</th>\n",
       "      <th>217</th>\n",
       "      <th>218</th>\n",
       "      <th>219</th>\n",
       "      <th>222</th>\n",
       "      <th>225</th>\n",
       "      <th>226</th>\n",
       "      <th>227</th>\n",
       "      <th>228</th>\n",
       "    </tr>\n",
       "  </thead>\n",
       "  <tbody>\n",
       "    <tr>\n",
       "      <th>1</th>\n",
       "      <td>1.000000</td>\n",
       "      <td>-0.018379</td>\n",
       "      <td>0.388239</td>\n",
       "      <td>-0.313688</td>\n",
       "      <td>-0.373711</td>\n",
       "      <td>-0.301444</td>\n",
       "      <td>0.118170</td>\n",
       "      <td>0.034058</td>\n",
       "      <td>0.033631</td>\n",
       "      <td>-0.623638</td>\n",
       "      <td>...</td>\n",
       "      <td>-0.007471</td>\n",
       "      <td>0.455650</td>\n",
       "      <td>-0.028914</td>\n",
       "      <td>-0.118624</td>\n",
       "      <td>0.099743</td>\n",
       "      <td>0.026778</td>\n",
       "      <td>-0.067039</td>\n",
       "      <td>-0.118904</td>\n",
       "      <td>-0.121479</td>\n",
       "      <td>-0.159457</td>\n",
       "    </tr>\n",
       "    <tr>\n",
       "      <th>2</th>\n",
       "      <td>-0.018379</td>\n",
       "      <td>1.000000</td>\n",
       "      <td>0.465897</td>\n",
       "      <td>-0.130489</td>\n",
       "      <td>0.133514</td>\n",
       "      <td>-0.152533</td>\n",
       "      <td>-0.016474</td>\n",
       "      <td>-0.100708</td>\n",
       "      <td>-0.087023</td>\n",
       "      <td>-0.202210</td>\n",
       "      <td>...</td>\n",
       "      <td>0.265134</td>\n",
       "      <td>-0.516404</td>\n",
       "      <td>-0.532590</td>\n",
       "      <td>-0.216629</td>\n",
       "      <td>0.071465</td>\n",
       "      <td>0.091039</td>\n",
       "      <td>-0.063892</td>\n",
       "      <td>0.047233</td>\n",
       "      <td>-0.069207</td>\n",
       "      <td>0.013673</td>\n",
       "    </tr>\n",
       "    <tr>\n",
       "      <th>3</th>\n",
       "      <td>0.388239</td>\n",
       "      <td>0.465897</td>\n",
       "      <td>1.000000</td>\n",
       "      <td>-0.265213</td>\n",
       "      <td>0.084339</td>\n",
       "      <td>-0.298291</td>\n",
       "      <td>0.055773</td>\n",
       "      <td>-0.067653</td>\n",
       "      <td>-0.049552</td>\n",
       "      <td>-0.623855</td>\n",
       "      <td>...</td>\n",
       "      <td>0.538640</td>\n",
       "      <td>-0.365168</td>\n",
       "      <td>-0.385093</td>\n",
       "      <td>-0.312756</td>\n",
       "      <td>-0.155365</td>\n",
       "      <td>-0.118403</td>\n",
       "      <td>-0.093125</td>\n",
       "      <td>-0.006448</td>\n",
       "      <td>-0.097555</td>\n",
       "      <td>-0.107282</td>\n",
       "    </tr>\n",
       "    <tr>\n",
       "      <th>4</th>\n",
       "      <td>-0.313688</td>\n",
       "      <td>-0.130489</td>\n",
       "      <td>-0.265213</td>\n",
       "      <td>1.000000</td>\n",
       "      <td>0.442372</td>\n",
       "      <td>0.315860</td>\n",
       "      <td>-0.371227</td>\n",
       "      <td>-0.080870</td>\n",
       "      <td>-0.085842</td>\n",
       "      <td>0.459866</td>\n",
       "      <td>...</td>\n",
       "      <td>-0.216993</td>\n",
       "      <td>-0.012489</td>\n",
       "      <td>0.225025</td>\n",
       "      <td>0.210590</td>\n",
       "      <td>-0.057880</td>\n",
       "      <td>-0.041230</td>\n",
       "      <td>-0.121977</td>\n",
       "      <td>0.279562</td>\n",
       "      <td>-0.123170</td>\n",
       "      <td>0.256963</td>\n",
       "    </tr>\n",
       "    <tr>\n",
       "      <th>5</th>\n",
       "      <td>-0.373711</td>\n",
       "      <td>0.133514</td>\n",
       "      <td>0.084339</td>\n",
       "      <td>0.442372</td>\n",
       "      <td>1.000000</td>\n",
       "      <td>0.348838</td>\n",
       "      <td>-0.478837</td>\n",
       "      <td>-0.018371</td>\n",
       "      <td>0.012030</td>\n",
       "      <td>0.080801</td>\n",
       "      <td>...</td>\n",
       "      <td>-0.141352</td>\n",
       "      <td>-0.536327</td>\n",
       "      <td>0.168614</td>\n",
       "      <td>0.132684</td>\n",
       "      <td>-0.007346</td>\n",
       "      <td>-0.327280</td>\n",
       "      <td>-0.052676</td>\n",
       "      <td>0.287272</td>\n",
       "      <td>-0.055099</td>\n",
       "      <td>0.498930</td>\n",
       "    </tr>\n",
       "    <tr>\n",
       "      <th>...</th>\n",
       "      <td>...</td>\n",
       "      <td>...</td>\n",
       "      <td>...</td>\n",
       "      <td>...</td>\n",
       "      <td>...</td>\n",
       "      <td>...</td>\n",
       "      <td>...</td>\n",
       "      <td>...</td>\n",
       "      <td>...</td>\n",
       "      <td>...</td>\n",
       "      <td>...</td>\n",
       "      <td>...</td>\n",
       "      <td>...</td>\n",
       "      <td>...</td>\n",
       "      <td>...</td>\n",
       "      <td>...</td>\n",
       "      <td>...</td>\n",
       "      <td>...</td>\n",
       "      <td>...</td>\n",
       "      <td>...</td>\n",
       "      <td>...</td>\n",
       "    </tr>\n",
       "    <tr>\n",
       "      <th>222</th>\n",
       "      <td>0.026778</td>\n",
       "      <td>0.091039</td>\n",
       "      <td>-0.118403</td>\n",
       "      <td>-0.041230</td>\n",
       "      <td>-0.327280</td>\n",
       "      <td>0.126322</td>\n",
       "      <td>0.308892</td>\n",
       "      <td>0.038109</td>\n",
       "      <td>0.043773</td>\n",
       "      <td>0.052451</td>\n",
       "      <td>...</td>\n",
       "      <td>-0.056766</td>\n",
       "      <td>0.262743</td>\n",
       "      <td>-0.406387</td>\n",
       "      <td>0.440813</td>\n",
       "      <td>0.435919</td>\n",
       "      <td>1.000000</td>\n",
       "      <td>-0.013857</td>\n",
       "      <td>-0.008852</td>\n",
       "      <td>-0.018828</td>\n",
       "      <td>-0.054323</td>\n",
       "    </tr>\n",
       "    <tr>\n",
       "      <th>225</th>\n",
       "      <td>-0.067039</td>\n",
       "      <td>-0.063892</td>\n",
       "      <td>-0.093125</td>\n",
       "      <td>-0.121977</td>\n",
       "      <td>-0.052676</td>\n",
       "      <td>0.022802</td>\n",
       "      <td>0.025411</td>\n",
       "      <td>0.020925</td>\n",
       "      <td>0.010955</td>\n",
       "      <td>0.059144</td>\n",
       "      <td>...</td>\n",
       "      <td>0.046398</td>\n",
       "      <td>0.012946</td>\n",
       "      <td>-0.023967</td>\n",
       "      <td>-0.046436</td>\n",
       "      <td>-0.051220</td>\n",
       "      <td>-0.013857</td>\n",
       "      <td>1.000000</td>\n",
       "      <td>-0.898274</td>\n",
       "      <td>0.976670</td>\n",
       "      <td>-0.401155</td>\n",
       "    </tr>\n",
       "    <tr>\n",
       "      <th>226</th>\n",
       "      <td>-0.118904</td>\n",
       "      <td>0.047233</td>\n",
       "      <td>-0.006448</td>\n",
       "      <td>0.279562</td>\n",
       "      <td>0.287272</td>\n",
       "      <td>0.191724</td>\n",
       "      <td>-0.260964</td>\n",
       "      <td>-0.018012</td>\n",
       "      <td>0.007209</td>\n",
       "      <td>0.088780</td>\n",
       "      <td>...</td>\n",
       "      <td>-0.162047</td>\n",
       "      <td>-0.118060</td>\n",
       "      <td>0.196711</td>\n",
       "      <td>0.260965</td>\n",
       "      <td>0.095484</td>\n",
       "      <td>-0.008852</td>\n",
       "      <td>-0.898274</td>\n",
       "      <td>1.000000</td>\n",
       "      <td>-0.867733</td>\n",
       "      <td>0.606515</td>\n",
       "    </tr>\n",
       "    <tr>\n",
       "      <th>227</th>\n",
       "      <td>-0.121479</td>\n",
       "      <td>-0.069207</td>\n",
       "      <td>-0.097555</td>\n",
       "      <td>-0.123170</td>\n",
       "      <td>-0.055099</td>\n",
       "      <td>0.054822</td>\n",
       "      <td>0.050651</td>\n",
       "      <td>0.029402</td>\n",
       "      <td>0.017972</td>\n",
       "      <td>0.114053</td>\n",
       "      <td>...</td>\n",
       "      <td>0.106595</td>\n",
       "      <td>-0.042819</td>\n",
       "      <td>-0.032511</td>\n",
       "      <td>-0.071401</td>\n",
       "      <td>-0.091768</td>\n",
       "      <td>-0.018828</td>\n",
       "      <td>0.976670</td>\n",
       "      <td>-0.867733</td>\n",
       "      <td>1.000000</td>\n",
       "      <td>-0.388457</td>\n",
       "    </tr>\n",
       "    <tr>\n",
       "      <th>228</th>\n",
       "      <td>-0.159457</td>\n",
       "      <td>0.013673</td>\n",
       "      <td>-0.107282</td>\n",
       "      <td>0.256963</td>\n",
       "      <td>0.498930</td>\n",
       "      <td>0.386151</td>\n",
       "      <td>-0.392492</td>\n",
       "      <td>0.003433</td>\n",
       "      <td>0.042714</td>\n",
       "      <td>0.102723</td>\n",
       "      <td>...</td>\n",
       "      <td>-0.372554</td>\n",
       "      <td>-0.130957</td>\n",
       "      <td>0.242225</td>\n",
       "      <td>0.341587</td>\n",
       "      <td>0.224976</td>\n",
       "      <td>-0.054323</td>\n",
       "      <td>-0.401155</td>\n",
       "      <td>0.606515</td>\n",
       "      <td>-0.388457</td>\n",
       "      <td>1.000000</td>\n",
       "    </tr>\n",
       "  </tbody>\n",
       "</table>\n",
       "<p>161 rows × 161 columns</p>\n",
       "</div>"
      ],
      "text/plain": [
       "            1         2         3         4         5         6         7  \\\n",
       "1    1.000000 -0.018379  0.388239 -0.313688 -0.373711 -0.301444  0.118170   \n",
       "2   -0.018379  1.000000  0.465897 -0.130489  0.133514 -0.152533 -0.016474   \n",
       "3    0.388239  0.465897  1.000000 -0.265213  0.084339 -0.298291  0.055773   \n",
       "4   -0.313688 -0.130489 -0.265213  1.000000  0.442372  0.315860 -0.371227   \n",
       "5   -0.373711  0.133514  0.084339  0.442372  1.000000  0.348838 -0.478837   \n",
       "..        ...       ...       ...       ...       ...       ...       ...   \n",
       "222  0.026778  0.091039 -0.118403 -0.041230 -0.327280  0.126322  0.308892   \n",
       "225 -0.067039 -0.063892 -0.093125 -0.121977 -0.052676  0.022802  0.025411   \n",
       "226 -0.118904  0.047233 -0.006448  0.279562  0.287272  0.191724 -0.260964   \n",
       "227 -0.121479 -0.069207 -0.097555 -0.123170 -0.055099  0.054822  0.050651   \n",
       "228 -0.159457  0.013673 -0.107282  0.256963  0.498930  0.386151 -0.392492   \n",
       "\n",
       "            8         9        10  ...       209       210       217  \\\n",
       "1    0.034058  0.033631 -0.623638  ... -0.007471  0.455650 -0.028914   \n",
       "2   -0.100708 -0.087023 -0.202210  ...  0.265134 -0.516404 -0.532590   \n",
       "3   -0.067653 -0.049552 -0.623855  ...  0.538640 -0.365168 -0.385093   \n",
       "4   -0.080870 -0.085842  0.459866  ... -0.216993 -0.012489  0.225025   \n",
       "5   -0.018371  0.012030  0.080801  ... -0.141352 -0.536327  0.168614   \n",
       "..        ...       ...       ...  ...       ...       ...       ...   \n",
       "222  0.038109  0.043773  0.052451  ... -0.056766  0.262743 -0.406387   \n",
       "225  0.020925  0.010955  0.059144  ...  0.046398  0.012946 -0.023967   \n",
       "226 -0.018012  0.007209  0.088780  ... -0.162047 -0.118060  0.196711   \n",
       "227  0.029402  0.017972  0.114053  ...  0.106595 -0.042819 -0.032511   \n",
       "228  0.003433  0.042714  0.102723  ... -0.372554 -0.130957  0.242225   \n",
       "\n",
       "          218       219       222       225       226       227       228  \n",
       "1   -0.118624  0.099743  0.026778 -0.067039 -0.118904 -0.121479 -0.159457  \n",
       "2   -0.216629  0.071465  0.091039 -0.063892  0.047233 -0.069207  0.013673  \n",
       "3   -0.312756 -0.155365 -0.118403 -0.093125 -0.006448 -0.097555 -0.107282  \n",
       "4    0.210590 -0.057880 -0.041230 -0.121977  0.279562 -0.123170  0.256963  \n",
       "5    0.132684 -0.007346 -0.327280 -0.052676  0.287272 -0.055099  0.498930  \n",
       "..        ...       ...       ...       ...       ...       ...       ...  \n",
       "222  0.440813  0.435919  1.000000 -0.013857 -0.008852 -0.018828 -0.054323  \n",
       "225 -0.046436 -0.051220 -0.013857  1.000000 -0.898274  0.976670 -0.401155  \n",
       "226  0.260965  0.095484 -0.008852 -0.898274  1.000000 -0.867733  0.606515  \n",
       "227 -0.071401 -0.091768 -0.018828  0.976670 -0.867733  1.000000 -0.388457  \n",
       "228  0.341587  0.224976 -0.054323 -0.401155  0.606515 -0.388457  1.000000  \n",
       "\n",
       "[161 rows x 161 columns]"
      ]
     },
     "execution_count": 3,
     "metadata": {},
     "output_type": "execute_result"
    }
   ],
   "source": [
    "corrdf = pd.read_csv('/home/ege/Desktop/project/new/Concat_DFs/20220420_CONCAT_DF.csv')\n",
    "corrdf.dropna(axis=1,inplace=True)\n",
    "corrM = corrdf.corr()\n",
    "corrM"
   ]
  },
  {
   "cell_type": "code",
   "execution_count": 5,
   "id": "9fd5e54c-46c5-4c52-b118-a2bb3e18499b",
   "metadata": {
    "collapsed": true,
    "jupyter": {
     "outputs_hidden": true
    },
    "tags": []
   },
   "outputs": [
    {
     "data": {
      "image/png": "[encoded data removed]",
      "text/plain": [
       "<Figure size 288x288 with 1 Axes>"
      ]
     },
     "metadata": {
      "needs_background": "light"
     },
     "output_type": "display_data"
    }
   ],
   "source": [
    "import matplotlib.pyplot as plt\n",
    "import seaborn as sns\n",
    "plt.matshow(corrM)\n",
    "plt.show()"
   ]
  },
  {
   "cell_type": "code",
   "execution_count": 16,
   "id": "6b61fe3c-2dec-4cc3-ad2d-16ee5e85e8c3",
   "metadata": {
    "collapsed": true,
    "jupyter": {
     "outputs_hidden": true
    },
    "tags": []
   },
   "outputs": [
    {
     "data": {
      "image/png": "[encoded data removed]",
      "text/plain": [
       "<Figure size 720x720 with 2 Axes>"
      ]
     },
     "metadata": {
      "needs_background": "light"
     },
     "output_type": "display_data"
    }
   ],
   "source": [
    "plt.figure(figsize=(10, 10))\n",
    "heatmap = sns.heatmap(corrM, annot=False)# Give a title to the heatmap. Pad defines the distance of the title from the top of the heatmap.heatmap.set_title('Correlation Heatmap', fontdict={'fontsize':12}, pad=12);"
   ]
  },
  {
   "cell_type": "markdown",
   "id": "d9793c57-175d-4f70-9b6f-fcce5d928982",
   "metadata": {},
   "source": [
    "### Time-Lag Correlation"
   ]
  },
  {
   "cell_type": "code",
   "execution_count": 4,
   "id": "f5923e6d-aec4-4315-a5ec-e09160378326",
   "metadata": {
    "collapsed": true,
    "jupyter": {
     "outputs_hidden": true
    },
    "tags": []
   },
   "outputs": [
    {
     "data": {
      "text/html": [
       "<div>\n",
       "<style scoped>\n",
       "    .dataframe tbody tr th:only-of-type {\n",
       "        vertical-align: middle;\n",
       "    }\n",
       "\n",
       "    .dataframe tbody tr th {\n",
       "        vertical-align: top;\n",
       "    }\n",
       "\n",
       "    .dataframe thead th {\n",
       "        text-align: right;\n",
       "    }\n",
       "</style>\n",
       "<table border=\"1\" class=\"dataframe\">\n",
       "  <thead>\n",
       "    <tr style=\"text-align: right;\">\n",
       "      <th></th>\n",
       "      <th>Unnamed: 0</th>\n",
       "      <th>1</th>\n",
       "      <th>2</th>\n",
       "      <th>3</th>\n",
       "      <th>4</th>\n",
       "      <th>5</th>\n",
       "      <th>6</th>\n",
       "      <th>7</th>\n",
       "      <th>8</th>\n",
       "      <th>9</th>\n",
       "      <th>...</th>\n",
       "      <th>209</th>\n",
       "      <th>210</th>\n",
       "      <th>217</th>\n",
       "      <th>218</th>\n",
       "      <th>219</th>\n",
       "      <th>222</th>\n",
       "      <th>225</th>\n",
       "      <th>226</th>\n",
       "      <th>227</th>\n",
       "      <th>228</th>\n",
       "    </tr>\n",
       "  </thead>\n",
       "  <tbody>\n",
       "    <tr>\n",
       "      <th>0</th>\n",
       "      <td>SSE_600200</td>\n",
       "      <td>-0.018381</td>\n",
       "      <td>0.002154</td>\n",
       "      <td>0.002957</td>\n",
       "      <td>-0.007755</td>\n",
       "      <td>0.004269</td>\n",
       "      <td>-0.004792</td>\n",
       "      <td>-0.009405</td>\n",
       "      <td>0.010571</td>\n",
       "      <td>-0.005333</td>\n",
       "      <td>...</td>\n",
       "      <td>-0.002157</td>\n",
       "      <td>0.006923</td>\n",
       "      <td>0.004222</td>\n",
       "      <td>-0.006929</td>\n",
       "      <td>0.002821</td>\n",
       "      <td>-0.020790</td>\n",
       "      <td>-0.006020</td>\n",
       "      <td>0.004889</td>\n",
       "      <td>0.008375</td>\n",
       "      <td>0.008199</td>\n",
       "    </tr>\n",
       "    <tr>\n",
       "      <th>1</th>\n",
       "      <td>SSE_600370</td>\n",
       "      <td>0.003545</td>\n",
       "      <td>0.010333</td>\n",
       "      <td>0.005867</td>\n",
       "      <td>-0.001138</td>\n",
       "      <td>0.005937</td>\n",
       "      <td>0.000526</td>\n",
       "      <td>-0.007356</td>\n",
       "      <td>0.000877</td>\n",
       "      <td>-0.004574</td>\n",
       "      <td>...</td>\n",
       "      <td>-0.001533</td>\n",
       "      <td>0.002811</td>\n",
       "      <td>-0.001671</td>\n",
       "      <td>0.002370</td>\n",
       "      <td>0.007238</td>\n",
       "      <td>-0.004348</td>\n",
       "      <td>-0.001010</td>\n",
       "      <td>0.002134</td>\n",
       "      <td>0.007228</td>\n",
       "      <td>-0.001923</td>\n",
       "    </tr>\n",
       "    <tr>\n",
       "      <th>2</th>\n",
       "      <td>SSE_600740</td>\n",
       "      <td>0.063349</td>\n",
       "      <td>-0.029221</td>\n",
       "      <td>0.000014</td>\n",
       "      <td>-0.015170</td>\n",
       "      <td>-0.045702</td>\n",
       "      <td>0.013973</td>\n",
       "      <td>-0.021139</td>\n",
       "      <td>-0.011130</td>\n",
       "      <td>0.030462</td>\n",
       "      <td>...</td>\n",
       "      <td>-0.013918</td>\n",
       "      <td>0.002220</td>\n",
       "      <td>0.001741</td>\n",
       "      <td>0.024471</td>\n",
       "      <td>-0.002423</td>\n",
       "      <td>-0.009140</td>\n",
       "      <td>0.001814</td>\n",
       "      <td>-0.000399</td>\n",
       "      <td>0.009778</td>\n",
       "      <td>0.008464</td>\n",
       "    </tr>\n",
       "    <tr>\n",
       "      <th>3</th>\n",
       "      <td>SSE_600733</td>\n",
       "      <td>0.000694</td>\n",
       "      <td>0.003244</td>\n",
       "      <td>-0.005348</td>\n",
       "      <td>-0.009995</td>\n",
       "      <td>0.021983</td>\n",
       "      <td>-0.003406</td>\n",
       "      <td>0.023236</td>\n",
       "      <td>0.019706</td>\n",
       "      <td>-0.004843</td>\n",
       "      <td>...</td>\n",
       "      <td>-0.004388</td>\n",
       "      <td>-0.007844</td>\n",
       "      <td>0.005055</td>\n",
       "      <td>0.001202</td>\n",
       "      <td>0.011147</td>\n",
       "      <td>-0.008552</td>\n",
       "      <td>0.002759</td>\n",
       "      <td>0.004102</td>\n",
       "      <td>0.002002</td>\n",
       "      <td>-0.003119</td>\n",
       "    </tr>\n",
       "    <tr>\n",
       "      <th>4</th>\n",
       "      <td>SSE_600725</td>\n",
       "      <td>0.043591</td>\n",
       "      <td>0.000312</td>\n",
       "      <td>0.050583</td>\n",
       "      <td>-0.011202</td>\n",
       "      <td>-0.002151</td>\n",
       "      <td>0.007085</td>\n",
       "      <td>-0.002301</td>\n",
       "      <td>0.016496</td>\n",
       "      <td>0.034354</td>\n",
       "      <td>...</td>\n",
       "      <td>0.000814</td>\n",
       "      <td>-0.003791</td>\n",
       "      <td>-0.003147</td>\n",
       "      <td>0.010508</td>\n",
       "      <td>0.014023</td>\n",
       "      <td>-0.008825</td>\n",
       "      <td>0.001101</td>\n",
       "      <td>-0.003177</td>\n",
       "      <td>-0.002870</td>\n",
       "      <td>-0.000654</td>\n",
       "    </tr>\n",
       "    <tr>\n",
       "      <th>...</th>\n",
       "      <td>...</td>\n",
       "      <td>...</td>\n",
       "      <td>...</td>\n",
       "      <td>...</td>\n",
       "      <td>...</td>\n",
       "      <td>...</td>\n",
       "      <td>...</td>\n",
       "      <td>...</td>\n",
       "      <td>...</td>\n",
       "      <td>...</td>\n",
       "      <td>...</td>\n",
       "      <td>...</td>\n",
       "      <td>...</td>\n",
       "      <td>...</td>\n",
       "      <td>...</td>\n",
       "      <td>...</td>\n",
       "      <td>...</td>\n",
       "      <td>...</td>\n",
       "      <td>...</td>\n",
       "      <td>...</td>\n",
       "      <td>...</td>\n",
       "    </tr>\n",
       "    <tr>\n",
       "      <th>72</th>\n",
       "      <td>SSE_600522</td>\n",
       "      <td>-0.004942</td>\n",
       "      <td>-0.019908</td>\n",
       "      <td>-0.028816</td>\n",
       "      <td>-0.058124</td>\n",
       "      <td>-0.004688</td>\n",
       "      <td>0.048855</td>\n",
       "      <td>0.032004</td>\n",
       "      <td>-0.010926</td>\n",
       "      <td>-0.001389</td>\n",
       "      <td>...</td>\n",
       "      <td>0.001061</td>\n",
       "      <td>-0.005058</td>\n",
       "      <td>-0.009599</td>\n",
       "      <td>-0.018527</td>\n",
       "      <td>-0.004401</td>\n",
       "      <td>-0.009556</td>\n",
       "      <td>0.001512</td>\n",
       "      <td>-0.002304</td>\n",
       "      <td>0.017175</td>\n",
       "      <td>0.038632</td>\n",
       "    </tr>\n",
       "    <tr>\n",
       "      <th>73</th>\n",
       "      <td>SSE_600628</td>\n",
       "      <td>-0.009594</td>\n",
       "      <td>0.035645</td>\n",
       "      <td>0.021788</td>\n",
       "      <td>0.007276</td>\n",
       "      <td>-0.013719</td>\n",
       "      <td>-0.017613</td>\n",
       "      <td>0.112355</td>\n",
       "      <td>-3.082825</td>\n",
       "      <td>-4.401056</td>\n",
       "      <td>...</td>\n",
       "      <td>0.000000</td>\n",
       "      <td>0.000000</td>\n",
       "      <td>0.000000</td>\n",
       "      <td>0.000000</td>\n",
       "      <td>0.000000</td>\n",
       "      <td>0.000000</td>\n",
       "      <td>0.000000</td>\n",
       "      <td>0.000000</td>\n",
       "      <td>0.000000</td>\n",
       "      <td>0.000000</td>\n",
       "    </tr>\n",
       "    <tr>\n",
       "      <th>74</th>\n",
       "      <td>SSE_600219</td>\n",
       "      <td>-0.002957</td>\n",
       "      <td>0.000769</td>\n",
       "      <td>-0.000776</td>\n",
       "      <td>-0.013042</td>\n",
       "      <td>-0.008750</td>\n",
       "      <td>0.004940</td>\n",
       "      <td>0.009022</td>\n",
       "      <td>0.004085</td>\n",
       "      <td>-0.005856</td>\n",
       "      <td>...</td>\n",
       "      <td>-0.005078</td>\n",
       "      <td>-0.002716</td>\n",
       "      <td>0.002759</td>\n",
       "      <td>0.002426</td>\n",
       "      <td>0.001651</td>\n",
       "      <td>-0.004133</td>\n",
       "      <td>-0.000231</td>\n",
       "      <td>-0.001563</td>\n",
       "      <td>0.001200</td>\n",
       "      <td>-0.001206</td>\n",
       "    </tr>\n",
       "    <tr>\n",
       "      <th>75</th>\n",
       "      <td>SSE_600686</td>\n",
       "      <td>0.018029</td>\n",
       "      <td>0.002678</td>\n",
       "      <td>0.018703</td>\n",
       "      <td>0.029298</td>\n",
       "      <td>0.024978</td>\n",
       "      <td>-0.004146</td>\n",
       "      <td>-0.006649</td>\n",
       "      <td>-0.005015</td>\n",
       "      <td>-0.011752</td>\n",
       "      <td>...</td>\n",
       "      <td>0.000526</td>\n",
       "      <td>0.008474</td>\n",
       "      <td>0.001625</td>\n",
       "      <td>0.006875</td>\n",
       "      <td>0.000000</td>\n",
       "      <td>-0.000134</td>\n",
       "      <td>0.006000</td>\n",
       "      <td>-0.002222</td>\n",
       "      <td>-0.005778</td>\n",
       "      <td>0.006571</td>\n",
       "    </tr>\n",
       "    <tr>\n",
       "      <th>76</th>\n",
       "      <td>SSE_600569</td>\n",
       "      <td>0.006027</td>\n",
       "      <td>0.008930</td>\n",
       "      <td>0.006012</td>\n",
       "      <td>-0.013285</td>\n",
       "      <td>-0.026795</td>\n",
       "      <td>-0.011239</td>\n",
       "      <td>0.004979</td>\n",
       "      <td>0.002306</td>\n",
       "      <td>-0.009295</td>\n",
       "      <td>...</td>\n",
       "      <td>-0.002238</td>\n",
       "      <td>-0.000225</td>\n",
       "      <td>0.001642</td>\n",
       "      <td>0.003705</td>\n",
       "      <td>0.003691</td>\n",
       "      <td>-0.004094</td>\n",
       "      <td>0.001922</td>\n",
       "      <td>0.007291</td>\n",
       "      <td>0.004922</td>\n",
       "      <td>0.001238</td>\n",
       "    </tr>\n",
       "  </tbody>\n",
       "</table>\n",
       "<p>77 rows × 162 columns</p>\n",
       "</div>"
      ],
      "text/plain": [
       "    Unnamed: 0         1         2         3         4         5         6  \\\n",
       "0   SSE_600200 -0.018381  0.002154  0.002957 -0.007755  0.004269 -0.004792   \n",
       "1   SSE_600370  0.003545  0.010333  0.005867 -0.001138  0.005937  0.000526   \n",
       "2   SSE_600740  0.063349 -0.029221  0.000014 -0.015170 -0.045702  0.013973   \n",
       "3   SSE_600733  0.000694  0.003244 -0.005348 -0.009995  0.021983 -0.003406   \n",
       "4   SSE_600725  0.043591  0.000312  0.050583 -0.011202 -0.002151  0.007085   \n",
       "..         ...       ...       ...       ...       ...       ...       ...   \n",
       "72  SSE_600522 -0.004942 -0.019908 -0.028816 -0.058124 -0.004688  0.048855   \n",
       "73  SSE_600628 -0.009594  0.035645  0.021788  0.007276 -0.013719 -0.017613   \n",
       "74  SSE_600219 -0.002957  0.000769 -0.000776 -0.013042 -0.008750  0.004940   \n",
       "75  SSE_600686  0.018029  0.002678  0.018703  0.029298  0.024978 -0.004146   \n",
       "76  SSE_600569  0.006027  0.008930  0.006012 -0.013285 -0.026795 -0.011239   \n",
       "\n",
       "           7         8         9  ...       209       210       217       218  \\\n",
       "0  -0.009405  0.010571 -0.005333  ... -0.002157  0.006923  0.004222 -0.006929   \n",
       "1  -0.007356  0.000877 -0.004574  ... -0.001533  0.002811 -0.001671  0.002370   \n",
       "2  -0.021139 -0.011130  0.030462  ... -0.013918  0.002220  0.001741  0.024471   \n",
       "3   0.023236  0.019706 -0.004843  ... -0.004388 -0.007844  0.005055  0.001202   \n",
       "4  -0.002301  0.016496  0.034354  ...  0.000814 -0.003791 -0.003147  0.010508   \n",
       "..       ...       ...       ...  ...       ...       ...       ...       ...   \n",
       "72  0.032004 -0.010926 -0.001389  ...  0.001061 -0.005058 -0.009599 -0.018527   \n",
       "73  0.112355 -3.082825 -4.401056  ...  0.000000  0.000000  0.000000  0.000000   \n",
       "74  0.009022  0.004085 -0.005856  ... -0.005078 -0.002716  0.002759  0.002426   \n",
       "75 -0.006649 -0.005015 -0.011752  ...  0.000526  0.008474  0.001625  0.006875   \n",
       "76  0.004979  0.002306 -0.009295  ... -0.002238 -0.000225  0.001642  0.003705   \n",
       "\n",
       "         219       222       225       226       227       228  \n",
       "0   0.002821 -0.020790 -0.006020  0.004889  0.008375  0.008199  \n",
       "1   0.007238 -0.004348 -0.001010  0.002134  0.007228 -0.001923  \n",
       "2  -0.002423 -0.009140  0.001814 -0.000399  0.009778  0.008464  \n",
       "3   0.011147 -0.008552  0.002759  0.004102  0.002002 -0.003119  \n",
       "4   0.014023 -0.008825  0.001101 -0.003177 -0.002870 -0.000654  \n",
       "..       ...       ...       ...       ...       ...       ...  \n",
       "72 -0.004401 -0.009556  0.001512 -0.002304  0.017175  0.038632  \n",
       "73  0.000000  0.000000  0.000000  0.000000  0.000000  0.000000  \n",
       "74  0.001651 -0.004133 -0.000231 -0.001563  0.001200 -0.001206  \n",
       "75  0.000000 -0.000134  0.006000 -0.002222 -0.005778  0.006571  \n",
       "76  0.003691 -0.004094  0.001922  0.007291  0.004922  0.001238  \n",
       "\n",
       "[77 rows x 162 columns]"
      ]
     },
     "execution_count": 4,
     "metadata": {},
     "output_type": "execute_result"
    }
   ],
   "source": [
    "corrdf"
   ]
  },
  {
   "cell_type": "code",
   "execution_count": 1,
   "id": "db7b8099-7d6d-47a3-ab1c-77aa03aa2b34",
   "metadata": {},
   "outputs": [],
   "source": [
    "def df_shifted(df, target=None, lag=0):\n",
    "    if not lag and not target:\n",
    "        return df       \n",
    "    new = {}\n",
    "    for c in df.columns:\n",
    "        if c == target:\n",
    "            new[c] = df[target]\n",
    "        else:\n",
    "            new[c] = df[c].shift(periods=lag)\n",
    "    return  pd.DataFrame(data=new)"
   ]
  },
  {
   "cell_type": "code",
   "execution_count": 10,
   "id": "4719ee6a-c36e-4bb0-8da8-2951bd56d81b",
   "metadata": {
    "tags": []
   },
   "outputs": [
    {
     "data": {
      "text/html": [
       "<div>\n",
       "<style scoped>\n",
       "    .dataframe tbody tr th:only-of-type {\n",
       "        vertical-align: middle;\n",
       "    }\n",
       "\n",
       "    .dataframe tbody tr th {\n",
       "        vertical-align: top;\n",
       "    }\n",
       "\n",
       "    .dataframe thead th {\n",
       "        text-align: right;\n",
       "    }\n",
       "</style>\n",
       "<table border=\"1\" class=\"dataframe\">\n",
       "  <thead>\n",
       "    <tr style=\"text-align: right;\">\n",
       "      <th></th>\n",
       "      <th>1</th>\n",
       "      <th>2</th>\n",
       "      <th>3</th>\n",
       "      <th>4</th>\n",
       "      <th>5</th>\n",
       "      <th>6</th>\n",
       "      <th>7</th>\n",
       "      <th>8</th>\n",
       "      <th>9</th>\n",
       "      <th>10</th>\n",
       "      <th>...</th>\n",
       "      <th>209</th>\n",
       "      <th>210</th>\n",
       "      <th>217</th>\n",
       "      <th>218</th>\n",
       "      <th>219</th>\n",
       "      <th>222</th>\n",
       "      <th>225</th>\n",
       "      <th>226</th>\n",
       "      <th>227</th>\n",
       "      <th>228</th>\n",
       "    </tr>\n",
       "  </thead>\n",
       "  <tbody>\n",
       "    <tr>\n",
       "      <th>1</th>\n",
       "      <td>1.000000</td>\n",
       "      <td>-0.017967</td>\n",
       "      <td>0.387820</td>\n",
       "      <td>-0.322743</td>\n",
       "      <td>-0.377825</td>\n",
       "      <td>-0.302205</td>\n",
       "      <td>0.119158</td>\n",
       "      <td>0.033809</td>\n",
       "      <td>0.033431</td>\n",
       "      <td>-0.623672</td>\n",
       "      <td>...</td>\n",
       "      <td>-0.008660</td>\n",
       "      <td>0.455832</td>\n",
       "      <td>-0.028601</td>\n",
       "      <td>-0.118435</td>\n",
       "      <td>0.101443</td>\n",
       "      <td>0.027032</td>\n",
       "      <td>-0.066801</td>\n",
       "      <td>-0.118678</td>\n",
       "      <td>-0.120781</td>\n",
       "      <td>-0.160058</td>\n",
       "    </tr>\n",
       "    <tr>\n",
       "      <th>2</th>\n",
       "      <td>-0.017967</td>\n",
       "      <td>1.000000</td>\n",
       "      <td>0.467003</td>\n",
       "      <td>-0.129079</td>\n",
       "      <td>0.135988</td>\n",
       "      <td>-0.154500</td>\n",
       "      <td>-0.017286</td>\n",
       "      <td>-0.100497</td>\n",
       "      <td>-0.086849</td>\n",
       "      <td>-0.202657</td>\n",
       "      <td>...</td>\n",
       "      <td>0.266894</td>\n",
       "      <td>-0.516995</td>\n",
       "      <td>-0.533142</td>\n",
       "      <td>-0.217138</td>\n",
       "      <td>0.070404</td>\n",
       "      <td>0.090839</td>\n",
       "      <td>-0.064170</td>\n",
       "      <td>0.046998</td>\n",
       "      <td>-0.070029</td>\n",
       "      <td>0.014075</td>\n",
       "    </tr>\n",
       "    <tr>\n",
       "      <th>3</th>\n",
       "      <td>0.387820</td>\n",
       "      <td>0.467003</td>\n",
       "      <td>1.000000</td>\n",
       "      <td>-0.276257</td>\n",
       "      <td>0.082188</td>\n",
       "      <td>-0.297806</td>\n",
       "      <td>0.057307</td>\n",
       "      <td>-0.068259</td>\n",
       "      <td>-0.050020</td>\n",
       "      <td>-0.623780</td>\n",
       "      <td>...</td>\n",
       "      <td>0.538010</td>\n",
       "      <td>-0.370470</td>\n",
       "      <td>-0.384788</td>\n",
       "      <td>-0.312449</td>\n",
       "      <td>-0.153348</td>\n",
       "      <td>-0.118004</td>\n",
       "      <td>-0.092660</td>\n",
       "      <td>-0.006114</td>\n",
       "      <td>-0.096282</td>\n",
       "      <td>-0.107963</td>\n",
       "    </tr>\n",
       "    <tr>\n",
       "      <th>4</th>\n",
       "      <td>-0.322743</td>\n",
       "      <td>-0.129079</td>\n",
       "      <td>-0.276257</td>\n",
       "      <td>1.000000</td>\n",
       "      <td>0.437068</td>\n",
       "      <td>0.332954</td>\n",
       "      <td>-0.370257</td>\n",
       "      <td>-0.084599</td>\n",
       "      <td>-0.089158</td>\n",
       "      <td>0.470691</td>\n",
       "      <td>...</td>\n",
       "      <td>-0.231357</td>\n",
       "      <td>-0.029558</td>\n",
       "      <td>0.231697</td>\n",
       "      <td>0.217142</td>\n",
       "      <td>-0.046906</td>\n",
       "      <td>-0.039710</td>\n",
       "      <td>-0.121585</td>\n",
       "      <td>0.286557</td>\n",
       "      <td>-0.118276</td>\n",
       "      <td>0.257910</td>\n",
       "    </tr>\n",
       "    <tr>\n",
       "      <th>5</th>\n",
       "      <td>-0.377825</td>\n",
       "      <td>0.135988</td>\n",
       "      <td>0.082188</td>\n",
       "      <td>0.437068</td>\n",
       "      <td>1.000000</td>\n",
       "      <td>0.351181</td>\n",
       "      <td>-0.478526</td>\n",
       "      <td>-0.018527</td>\n",
       "      <td>0.011975</td>\n",
       "      <td>0.081283</td>\n",
       "      <td>...</td>\n",
       "      <td>-0.144730</td>\n",
       "      <td>-0.548302</td>\n",
       "      <td>0.169903</td>\n",
       "      <td>0.132502</td>\n",
       "      <td>-0.004596</td>\n",
       "      <td>-0.329098</td>\n",
       "      <td>-0.052860</td>\n",
       "      <td>0.291921</td>\n",
       "      <td>-0.052528</td>\n",
       "      <td>0.498306</td>\n",
       "    </tr>\n",
       "    <tr>\n",
       "      <th>...</th>\n",
       "      <td>...</td>\n",
       "      <td>...</td>\n",
       "      <td>...</td>\n",
       "      <td>...</td>\n",
       "      <td>...</td>\n",
       "      <td>...</td>\n",
       "      <td>...</td>\n",
       "      <td>...</td>\n",
       "      <td>...</td>\n",
       "      <td>...</td>\n",
       "      <td>...</td>\n",
       "      <td>...</td>\n",
       "      <td>...</td>\n",
       "      <td>...</td>\n",
       "      <td>...</td>\n",
       "      <td>...</td>\n",
       "      <td>...</td>\n",
       "      <td>...</td>\n",
       "      <td>...</td>\n",
       "      <td>...</td>\n",
       "      <td>...</td>\n",
       "    </tr>\n",
       "    <tr>\n",
       "      <th>222</th>\n",
       "      <td>0.027032</td>\n",
       "      <td>0.090839</td>\n",
       "      <td>-0.118004</td>\n",
       "      <td>-0.039710</td>\n",
       "      <td>-0.329098</td>\n",
       "      <td>0.125212</td>\n",
       "      <td>0.308723</td>\n",
       "      <td>0.038482</td>\n",
       "      <td>0.044054</td>\n",
       "      <td>0.051993</td>\n",
       "      <td>...</td>\n",
       "      <td>-0.055742</td>\n",
       "      <td>0.265321</td>\n",
       "      <td>-0.406957</td>\n",
       "      <td>0.440563</td>\n",
       "      <td>0.435982</td>\n",
       "      <td>1.000000</td>\n",
       "      <td>-0.014206</td>\n",
       "      <td>-0.008675</td>\n",
       "      <td>-0.019367</td>\n",
       "      <td>-0.054577</td>\n",
       "    </tr>\n",
       "    <tr>\n",
       "      <th>225</th>\n",
       "      <td>-0.066801</td>\n",
       "      <td>-0.064170</td>\n",
       "      <td>-0.092660</td>\n",
       "      <td>-0.121585</td>\n",
       "      <td>-0.052860</td>\n",
       "      <td>0.020878</td>\n",
       "      <td>0.024923</td>\n",
       "      <td>0.021328</td>\n",
       "      <td>0.011253</td>\n",
       "      <td>0.058642</td>\n",
       "      <td>...</td>\n",
       "      <td>0.047792</td>\n",
       "      <td>0.014501</td>\n",
       "      <td>-0.024419</td>\n",
       "      <td>-0.047199</td>\n",
       "      <td>-0.052843</td>\n",
       "      <td>-0.014206</td>\n",
       "      <td>1.000000</td>\n",
       "      <td>-0.898622</td>\n",
       "      <td>0.977019</td>\n",
       "      <td>-0.401763</td>\n",
       "    </tr>\n",
       "    <tr>\n",
       "      <th>226</th>\n",
       "      <td>-0.118678</td>\n",
       "      <td>0.046998</td>\n",
       "      <td>-0.006114</td>\n",
       "      <td>0.286557</td>\n",
       "      <td>0.291921</td>\n",
       "      <td>0.194659</td>\n",
       "      <td>-0.261848</td>\n",
       "      <td>-0.018259</td>\n",
       "      <td>0.007060</td>\n",
       "      <td>0.089192</td>\n",
       "      <td>...</td>\n",
       "      <td>-0.162725</td>\n",
       "      <td>-0.117942</td>\n",
       "      <td>0.197055</td>\n",
       "      <td>0.261989</td>\n",
       "      <td>0.096015</td>\n",
       "      <td>-0.008675</td>\n",
       "      <td>-0.898622</td>\n",
       "      <td>1.000000</td>\n",
       "      <td>-0.869139</td>\n",
       "      <td>0.608358</td>\n",
       "    </tr>\n",
       "    <tr>\n",
       "      <th>227</th>\n",
       "      <td>-0.120781</td>\n",
       "      <td>-0.070029</td>\n",
       "      <td>-0.096282</td>\n",
       "      <td>-0.118276</td>\n",
       "      <td>-0.052528</td>\n",
       "      <td>0.052654</td>\n",
       "      <td>0.049177</td>\n",
       "      <td>0.030004</td>\n",
       "      <td>0.018439</td>\n",
       "      <td>0.113422</td>\n",
       "      <td>...</td>\n",
       "      <td>0.109270</td>\n",
       "      <td>-0.039387</td>\n",
       "      <td>-0.033237</td>\n",
       "      <td>-0.072285</td>\n",
       "      <td>-0.094857</td>\n",
       "      <td>-0.019367</td>\n",
       "      <td>0.977019</td>\n",
       "      <td>-0.869139</td>\n",
       "      <td>1.000000</td>\n",
       "      <td>-0.388452</td>\n",
       "    </tr>\n",
       "    <tr>\n",
       "      <th>228</th>\n",
       "      <td>-0.160058</td>\n",
       "      <td>0.014075</td>\n",
       "      <td>-0.107963</td>\n",
       "      <td>0.257910</td>\n",
       "      <td>0.498306</td>\n",
       "      <td>0.386609</td>\n",
       "      <td>-0.392287</td>\n",
       "      <td>0.003709</td>\n",
       "      <td>0.042923</td>\n",
       "      <td>0.102443</td>\n",
       "      <td>...</td>\n",
       "      <td>-0.373524</td>\n",
       "      <td>-0.132766</td>\n",
       "      <td>0.242239</td>\n",
       "      <td>0.341218</td>\n",
       "      <td>0.225732</td>\n",
       "      <td>-0.054577</td>\n",
       "      <td>-0.401763</td>\n",
       "      <td>0.608358</td>\n",
       "      <td>-0.388452</td>\n",
       "      <td>1.000000</td>\n",
       "    </tr>\n",
       "  </tbody>\n",
       "</table>\n",
       "<p>161 rows × 161 columns</p>\n",
       "</div>"
      ],
      "text/plain": [
       "            1         2         3         4         5         6         7  \\\n",
       "1    1.000000 -0.017967  0.387820 -0.322743 -0.377825 -0.302205  0.119158   \n",
       "2   -0.017967  1.000000  0.467003 -0.129079  0.135988 -0.154500 -0.017286   \n",
       "3    0.387820  0.467003  1.000000 -0.276257  0.082188 -0.297806  0.057307   \n",
       "4   -0.322743 -0.129079 -0.276257  1.000000  0.437068  0.332954 -0.370257   \n",
       "5   -0.377825  0.135988  0.082188  0.437068  1.000000  0.351181 -0.478526   \n",
       "..        ...       ...       ...       ...       ...       ...       ...   \n",
       "222  0.027032  0.090839 -0.118004 -0.039710 -0.329098  0.125212  0.308723   \n",
       "225 -0.066801 -0.064170 -0.092660 -0.121585 -0.052860  0.020878  0.024923   \n",
       "226 -0.118678  0.046998 -0.006114  0.286557  0.291921  0.194659 -0.261848   \n",
       "227 -0.120781 -0.070029 -0.096282 -0.118276 -0.052528  0.052654  0.049177   \n",
       "228 -0.160058  0.014075 -0.107963  0.257910  0.498306  0.386609 -0.392287   \n",
       "\n",
       "            8         9        10  ...       209       210       217  \\\n",
       "1    0.033809  0.033431 -0.623672  ... -0.008660  0.455832 -0.028601   \n",
       "2   -0.100497 -0.086849 -0.202657  ...  0.266894 -0.516995 -0.533142   \n",
       "3   -0.068259 -0.050020 -0.623780  ...  0.538010 -0.370470 -0.384788   \n",
       "4   -0.084599 -0.089158  0.470691  ... -0.231357 -0.029558  0.231697   \n",
       "5   -0.018527  0.011975  0.081283  ... -0.144730 -0.548302  0.169903   \n",
       "..        ...       ...       ...  ...       ...       ...       ...   \n",
       "222  0.038482  0.044054  0.051993  ... -0.055742  0.265321 -0.406957   \n",
       "225  0.021328  0.011253  0.058642  ...  0.047792  0.014501 -0.024419   \n",
       "226 -0.018259  0.007060  0.089192  ... -0.162725 -0.117942  0.197055   \n",
       "227  0.030004  0.018439  0.113422  ...  0.109270 -0.039387 -0.033237   \n",
       "228  0.003709  0.042923  0.102443  ... -0.373524 -0.132766  0.242239   \n",
       "\n",
       "          218       219       222       225       226       227       228  \n",
       "1   -0.118435  0.101443  0.027032 -0.066801 -0.118678 -0.120781 -0.160058  \n",
       "2   -0.217138  0.070404  0.090839 -0.064170  0.046998 -0.070029  0.014075  \n",
       "3   -0.312449 -0.153348 -0.118004 -0.092660 -0.006114 -0.096282 -0.107963  \n",
       "4    0.217142 -0.046906 -0.039710 -0.121585  0.286557 -0.118276  0.257910  \n",
       "5    0.132502 -0.004596 -0.329098 -0.052860  0.291921 -0.052528  0.498306  \n",
       "..        ...       ...       ...       ...       ...       ...       ...  \n",
       "222  0.440563  0.435982  1.000000 -0.014206 -0.008675 -0.019367 -0.054577  \n",
       "225 -0.047199 -0.052843 -0.014206  1.000000 -0.898622  0.977019 -0.401763  \n",
       "226  0.261989  0.096015 -0.008675 -0.898622  1.000000 -0.869139  0.608358  \n",
       "227 -0.072285 -0.094857 -0.019367  0.977019 -0.869139  1.000000 -0.388452  \n",
       "228  0.341218  0.225732 -0.054577 -0.401763  0.608358 -0.388452  1.000000  \n",
       "\n",
       "[161 rows x 161 columns]"
      ]
     },
     "execution_count": 10,
     "metadata": {},
     "output_type": "execute_result"
    }
   ],
   "source": [
    "df_shifted(corrdf,\"SSE_600200\",lag=2).corr()"
   ]
  },
  {
   "cell_type": "code",
   "execution_count": 9,
   "id": "247a2973-8f0f-458d-95d7-2a15342e6190",
   "metadata": {
    "collapsed": true,
    "jupyter": {
     "outputs_hidden": true
    },
    "tags": []
   },
   "outputs": [
    {
     "data": {
      "text/html": [
       "<div>\n",
       "<style scoped>\n",
       "    .dataframe tbody tr th:only-of-type {\n",
       "        vertical-align: middle;\n",
       "    }\n",
       "\n",
       "    .dataframe tbody tr th {\n",
       "        vertical-align: top;\n",
       "    }\n",
       "\n",
       "    .dataframe thead th {\n",
       "        text-align: right;\n",
       "    }\n",
       "</style>\n",
       "<table border=\"1\" class=\"dataframe\">\n",
       "  <thead>\n",
       "    <tr style=\"text-align: right;\">\n",
       "      <th></th>\n",
       "      <th>1</th>\n",
       "      <th>2</th>\n",
       "      <th>3</th>\n",
       "      <th>4</th>\n",
       "      <th>5</th>\n",
       "      <th>6</th>\n",
       "      <th>7</th>\n",
       "      <th>8</th>\n",
       "      <th>9</th>\n",
       "      <th>10</th>\n",
       "      <th>...</th>\n",
       "      <th>209</th>\n",
       "      <th>210</th>\n",
       "      <th>217</th>\n",
       "      <th>218</th>\n",
       "      <th>219</th>\n",
       "      <th>222</th>\n",
       "      <th>225</th>\n",
       "      <th>226</th>\n",
       "      <th>227</th>\n",
       "      <th>228</th>\n",
       "    </tr>\n",
       "  </thead>\n",
       "  <tbody>\n",
       "    <tr>\n",
       "      <th>1</th>\n",
       "      <td>1.000000</td>\n",
       "      <td>-0.018379</td>\n",
       "      <td>0.388239</td>\n",
       "      <td>-0.313688</td>\n",
       "      <td>-0.373711</td>\n",
       "      <td>-0.301444</td>\n",
       "      <td>0.118170</td>\n",
       "      <td>0.034058</td>\n",
       "      <td>0.033631</td>\n",
       "      <td>-0.623638</td>\n",
       "      <td>...</td>\n",
       "      <td>-0.007471</td>\n",
       "      <td>0.455650</td>\n",
       "      <td>-0.028914</td>\n",
       "      <td>-0.118624</td>\n",
       "      <td>0.099743</td>\n",
       "      <td>0.026778</td>\n",
       "      <td>-0.067039</td>\n",
       "      <td>-0.118904</td>\n",
       "      <td>-0.121479</td>\n",
       "      <td>-0.159457</td>\n",
       "    </tr>\n",
       "    <tr>\n",
       "      <th>2</th>\n",
       "      <td>-0.018379</td>\n",
       "      <td>1.000000</td>\n",
       "      <td>0.465897</td>\n",
       "      <td>-0.130489</td>\n",
       "      <td>0.133514</td>\n",
       "      <td>-0.152533</td>\n",
       "      <td>-0.016474</td>\n",
       "      <td>-0.100708</td>\n",
       "      <td>-0.087023</td>\n",
       "      <td>-0.202210</td>\n",
       "      <td>...</td>\n",
       "      <td>0.265134</td>\n",
       "      <td>-0.516404</td>\n",
       "      <td>-0.532590</td>\n",
       "      <td>-0.216629</td>\n",
       "      <td>0.071465</td>\n",
       "      <td>0.091039</td>\n",
       "      <td>-0.063892</td>\n",
       "      <td>0.047233</td>\n",
       "      <td>-0.069207</td>\n",
       "      <td>0.013673</td>\n",
       "    </tr>\n",
       "    <tr>\n",
       "      <th>3</th>\n",
       "      <td>0.388239</td>\n",
       "      <td>0.465897</td>\n",
       "      <td>1.000000</td>\n",
       "      <td>-0.265213</td>\n",
       "      <td>0.084339</td>\n",
       "      <td>-0.298291</td>\n",
       "      <td>0.055773</td>\n",
       "      <td>-0.067653</td>\n",
       "      <td>-0.049552</td>\n",
       "      <td>-0.623855</td>\n",
       "      <td>...</td>\n",
       "      <td>0.538640</td>\n",
       "      <td>-0.365168</td>\n",
       "      <td>-0.385093</td>\n",
       "      <td>-0.312756</td>\n",
       "      <td>-0.155365</td>\n",
       "      <td>-0.118403</td>\n",
       "      <td>-0.093125</td>\n",
       "      <td>-0.006448</td>\n",
       "      <td>-0.097555</td>\n",
       "      <td>-0.107282</td>\n",
       "    </tr>\n",
       "    <tr>\n",
       "      <th>4</th>\n",
       "      <td>-0.313688</td>\n",
       "      <td>-0.130489</td>\n",
       "      <td>-0.265213</td>\n",
       "      <td>1.000000</td>\n",
       "      <td>0.442372</td>\n",
       "      <td>0.315860</td>\n",
       "      <td>-0.371227</td>\n",
       "      <td>-0.080870</td>\n",
       "      <td>-0.085842</td>\n",
       "      <td>0.459866</td>\n",
       "      <td>...</td>\n",
       "      <td>-0.216993</td>\n",
       "      <td>-0.012489</td>\n",
       "      <td>0.225025</td>\n",
       "      <td>0.210590</td>\n",
       "      <td>-0.057880</td>\n",
       "      <td>-0.041230</td>\n",
       "      <td>-0.121977</td>\n",
       "      <td>0.279562</td>\n",
       "      <td>-0.123170</td>\n",
       "      <td>0.256963</td>\n",
       "    </tr>\n",
       "    <tr>\n",
       "      <th>5</th>\n",
       "      <td>-0.373711</td>\n",
       "      <td>0.133514</td>\n",
       "      <td>0.084339</td>\n",
       "      <td>0.442372</td>\n",
       "      <td>1.000000</td>\n",
       "      <td>0.348838</td>\n",
       "      <td>-0.478837</td>\n",
       "      <td>-0.018371</td>\n",
       "      <td>0.012030</td>\n",
       "      <td>0.080801</td>\n",
       "      <td>...</td>\n",
       "      <td>-0.141352</td>\n",
       "      <td>-0.536327</td>\n",
       "      <td>0.168614</td>\n",
       "      <td>0.132684</td>\n",
       "      <td>-0.007346</td>\n",
       "      <td>-0.327280</td>\n",
       "      <td>-0.052676</td>\n",
       "      <td>0.287272</td>\n",
       "      <td>-0.055099</td>\n",
       "      <td>0.498930</td>\n",
       "    </tr>\n",
       "    <tr>\n",
       "      <th>...</th>\n",
       "      <td>...</td>\n",
       "      <td>...</td>\n",
       "      <td>...</td>\n",
       "      <td>...</td>\n",
       "      <td>...</td>\n",
       "      <td>...</td>\n",
       "      <td>...</td>\n",
       "      <td>...</td>\n",
       "      <td>...</td>\n",
       "      <td>...</td>\n",
       "      <td>...</td>\n",
       "      <td>...</td>\n",
       "      <td>...</td>\n",
       "      <td>...</td>\n",
       "      <td>...</td>\n",
       "      <td>...</td>\n",
       "      <td>...</td>\n",
       "      <td>...</td>\n",
       "      <td>...</td>\n",
       "      <td>...</td>\n",
       "      <td>...</td>\n",
       "    </tr>\n",
       "    <tr>\n",
       "      <th>222</th>\n",
       "      <td>0.026778</td>\n",
       "      <td>0.091039</td>\n",
       "      <td>-0.118403</td>\n",
       "      <td>-0.041230</td>\n",
       "      <td>-0.327280</td>\n",
       "      <td>0.126322</td>\n",
       "      <td>0.308892</td>\n",
       "      <td>0.038109</td>\n",
       "      <td>0.043773</td>\n",
       "      <td>0.052451</td>\n",
       "      <td>...</td>\n",
       "      <td>-0.056766</td>\n",
       "      <td>0.262743</td>\n",
       "      <td>-0.406387</td>\n",
       "      <td>0.440813</td>\n",
       "      <td>0.435919</td>\n",
       "      <td>1.000000</td>\n",
       "      <td>-0.013857</td>\n",
       "      <td>-0.008852</td>\n",
       "      <td>-0.018828</td>\n",
       "      <td>-0.054323</td>\n",
       "    </tr>\n",
       "    <tr>\n",
       "      <th>225</th>\n",
       "      <td>-0.067039</td>\n",
       "      <td>-0.063892</td>\n",
       "      <td>-0.093125</td>\n",
       "      <td>-0.121977</td>\n",
       "      <td>-0.052676</td>\n",
       "      <td>0.022802</td>\n",
       "      <td>0.025411</td>\n",
       "      <td>0.020925</td>\n",
       "      <td>0.010955</td>\n",
       "      <td>0.059144</td>\n",
       "      <td>...</td>\n",
       "      <td>0.046398</td>\n",
       "      <td>0.012946</td>\n",
       "      <td>-0.023967</td>\n",
       "      <td>-0.046436</td>\n",
       "      <td>-0.051220</td>\n",
       "      <td>-0.013857</td>\n",
       "      <td>1.000000</td>\n",
       "      <td>-0.898274</td>\n",
       "      <td>0.976670</td>\n",
       "      <td>-0.401155</td>\n",
       "    </tr>\n",
       "    <tr>\n",
       "      <th>226</th>\n",
       "      <td>-0.118904</td>\n",
       "      <td>0.047233</td>\n",
       "      <td>-0.006448</td>\n",
       "      <td>0.279562</td>\n",
       "      <td>0.287272</td>\n",
       "      <td>0.191724</td>\n",
       "      <td>-0.260964</td>\n",
       "      <td>-0.018012</td>\n",
       "      <td>0.007209</td>\n",
       "      <td>0.088780</td>\n",
       "      <td>...</td>\n",
       "      <td>-0.162047</td>\n",
       "      <td>-0.118060</td>\n",
       "      <td>0.196711</td>\n",
       "      <td>0.260965</td>\n",
       "      <td>0.095484</td>\n",
       "      <td>-0.008852</td>\n",
       "      <td>-0.898274</td>\n",
       "      <td>1.000000</td>\n",
       "      <td>-0.867733</td>\n",
       "      <td>0.606515</td>\n",
       "    </tr>\n",
       "    <tr>\n",
       "      <th>227</th>\n",
       "      <td>-0.121479</td>\n",
       "      <td>-0.069207</td>\n",
       "      <td>-0.097555</td>\n",
       "      <td>-0.123170</td>\n",
       "      <td>-0.055099</td>\n",
       "      <td>0.054822</td>\n",
       "      <td>0.050651</td>\n",
       "      <td>0.029402</td>\n",
       "      <td>0.017972</td>\n",
       "      <td>0.114053</td>\n",
       "      <td>...</td>\n",
       "      <td>0.106595</td>\n",
       "      <td>-0.042819</td>\n",
       "      <td>-0.032511</td>\n",
       "      <td>-0.071401</td>\n",
       "      <td>-0.091768</td>\n",
       "      <td>-0.018828</td>\n",
       "      <td>0.976670</td>\n",
       "      <td>-0.867733</td>\n",
       "      <td>1.000000</td>\n",
       "      <td>-0.388457</td>\n",
       "    </tr>\n",
       "    <tr>\n",
       "      <th>228</th>\n",
       "      <td>-0.159457</td>\n",
       "      <td>0.013673</td>\n",
       "      <td>-0.107282</td>\n",
       "      <td>0.256963</td>\n",
       "      <td>0.498930</td>\n",
       "      <td>0.386151</td>\n",
       "      <td>-0.392492</td>\n",
       "      <td>0.003433</td>\n",
       "      <td>0.042714</td>\n",
       "      <td>0.102723</td>\n",
       "      <td>...</td>\n",
       "      <td>-0.372554</td>\n",
       "      <td>-0.130957</td>\n",
       "      <td>0.242225</td>\n",
       "      <td>0.341587</td>\n",
       "      <td>0.224976</td>\n",
       "      <td>-0.054323</td>\n",
       "      <td>-0.401155</td>\n",
       "      <td>0.606515</td>\n",
       "      <td>-0.388457</td>\n",
       "      <td>1.000000</td>\n",
       "    </tr>\n",
       "  </tbody>\n",
       "</table>\n",
       "<p>161 rows × 161 columns</p>\n",
       "</div>"
      ],
      "text/plain": [
       "            1         2         3         4         5         6         7  \\\n",
       "1    1.000000 -0.018379  0.388239 -0.313688 -0.373711 -0.301444  0.118170   \n",
       "2   -0.018379  1.000000  0.465897 -0.130489  0.133514 -0.152533 -0.016474   \n",
       "3    0.388239  0.465897  1.000000 -0.265213  0.084339 -0.298291  0.055773   \n",
       "4   -0.313688 -0.130489 -0.265213  1.000000  0.442372  0.315860 -0.371227   \n",
       "5   -0.373711  0.133514  0.084339  0.442372  1.000000  0.348838 -0.478837   \n",
       "..        ...       ...       ...       ...       ...       ...       ...   \n",
       "222  0.026778  0.091039 -0.118403 -0.041230 -0.327280  0.126322  0.308892   \n",
       "225 -0.067039 -0.063892 -0.093125 -0.121977 -0.052676  0.022802  0.025411   \n",
       "226 -0.118904  0.047233 -0.006448  0.279562  0.287272  0.191724 -0.260964   \n",
       "227 -0.121479 -0.069207 -0.097555 -0.123170 -0.055099  0.054822  0.050651   \n",
       "228 -0.159457  0.013673 -0.107282  0.256963  0.498930  0.386151 -0.392492   \n",
       "\n",
       "            8         9        10  ...       209       210       217  \\\n",
       "1    0.034058  0.033631 -0.623638  ... -0.007471  0.455650 -0.028914   \n",
       "2   -0.100708 -0.087023 -0.202210  ...  0.265134 -0.516404 -0.532590   \n",
       "3   -0.067653 -0.049552 -0.623855  ...  0.538640 -0.365168 -0.385093   \n",
       "4   -0.080870 -0.085842  0.459866  ... -0.216993 -0.012489  0.225025   \n",
       "5   -0.018371  0.012030  0.080801  ... -0.141352 -0.536327  0.168614   \n",
       "..        ...       ...       ...  ...       ...       ...       ...   \n",
       "222  0.038109  0.043773  0.052451  ... -0.056766  0.262743 -0.406387   \n",
       "225  0.020925  0.010955  0.059144  ...  0.046398  0.012946 -0.023967   \n",
       "226 -0.018012  0.007209  0.088780  ... -0.162047 -0.118060  0.196711   \n",
       "227  0.029402  0.017972  0.114053  ...  0.106595 -0.042819 -0.032511   \n",
       "228  0.003433  0.042714  0.102723  ... -0.372554 -0.130957  0.242225   \n",
       "\n",
       "          218       219       222       225       226       227       228  \n",
       "1   -0.118624  0.099743  0.026778 -0.067039 -0.118904 -0.121479 -0.159457  \n",
       "2   -0.216629  0.071465  0.091039 -0.063892  0.047233 -0.069207  0.013673  \n",
       "3   -0.312756 -0.155365 -0.118403 -0.093125 -0.006448 -0.097555 -0.107282  \n",
       "4    0.210590 -0.057880 -0.041230 -0.121977  0.279562 -0.123170  0.256963  \n",
       "5    0.132684 -0.007346 -0.327280 -0.052676  0.287272 -0.055099  0.498930  \n",
       "..        ...       ...       ...       ...       ...       ...       ...  \n",
       "222  0.440813  0.435919  1.000000 -0.013857 -0.008852 -0.018828 -0.054323  \n",
       "225 -0.046436 -0.051220 -0.013857  1.000000 -0.898274  0.976670 -0.401155  \n",
       "226  0.260965  0.095484 -0.008852 -0.898274  1.000000 -0.867733  0.606515  \n",
       "227 -0.071401 -0.091768 -0.018828  0.976670 -0.867733  1.000000 -0.388457  \n",
       "228  0.341587  0.224976 -0.054323 -0.401155  0.606515 -0.388457  1.000000  \n",
       "\n",
       "[161 rows x 161 columns]"
      ]
     },
     "execution_count": 9,
     "metadata": {},
     "output_type": "execute_result"
    }
   ],
   "source": [
    "corrM"
   ]
  },
  {
   "cell_type": "code",
   "execution_count": null,
   "id": "e37e7fdf-a0c9-4e3e-a5c0-164c28e9fc48",
   "metadata": {},
   "outputs": [],
   "source": []
  }
 ],
 "metadata": {
  "kernelspec": {
   "display_name": "Python 3 (ipykernel)",
   "language": "python",
   "name": "python3"
  },
  "language_info": {
   "codemirror_mode": {
    "name": "ipython",
    "version": 3
   },
   "file_extension": ".py",
   "mimetype": "text/x-python",
   "name": "python",
   "nbconvert_exporter": "python",
   "pygments_lexer": "ipython3",
   "version": "3.10.4"
  }
 },
 "nbformat": 4,
 "nbformat_minor": 5
}
